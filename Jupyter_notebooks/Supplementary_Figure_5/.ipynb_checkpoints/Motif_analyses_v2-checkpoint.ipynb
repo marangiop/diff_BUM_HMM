{
 "cells": [
  {
   "cell_type": "code",
   "execution_count": 1,
   "metadata": {},
   "outputs": [
    {
     "name": "stderr",
     "output_type": "stream",
     "text": [
      "\n",
      "Bad key \"text.kerning_factor\" on line 4 in\n",
      "/anaconda3/lib/python3.7/site-packages/matplotlib/mpl-data/stylelib/_classic_test_patch.mplstyle.\n",
      "You probably need to get an updated matplotlibrc file from\n",
      "http://github.com/matplotlib/matplotlib/blob/master/matplotlibrc.template\n",
      "or from the matplotlib source distribution\n"
     ]
    }
   ],
   "source": [
    "import os\n",
    "import math\n",
    "import sys\n",
    "import glob\n",
    "import pandas as pd\n",
    "import numpy as np\n",
    "import matplotlib.pyplot as plt\n",
    "import seaborn as sns\n",
    "from scipy.special import comb\n",
    "from more_itertools import pairwise\n",
    "from scipy.stats import hypergeom,chisquare,fisher_exact\n",
    "from matplotlib import rcParams\n",
    "from collections import defaultdict\n",
    "from pyCRAC.Methods import sortbyvalue,contigousarray2Intervals\n",
    "\n",
    "rcParams['font.family'] = 'sans-serif'\n",
    "rcParams['font.sans-serif'] = ['Arial']\n",
    "rcParams['pdf.fonttype'] = 42"
   ]
  },
  {
   "cell_type": "code",
   "execution_count": 2,
   "metadata": {},
   "outputs": [],
   "source": [
    "def normalizeIntervalLength(start,end,chromosomelength,length=20):\n",
    "    \"\"\" extends or trims the interval coordinates to a set length. Default = 20 bp. \"\"\"\n",
    "    newstart = int()\n",
    "    newend = int()\n",
    "    if start - length < 0: start = 1 # to make sure that the start is always a positive number \n",
    "    if end + length > chromosomelength: end = chromosomelength # to make sure that interval doesn't go beyond the chromosome boundaries.\n",
    "    actlength  = end - start\n",
    "    difference = length - actlength\n",
    "    if difference == 0:\n",
    "        return start,end\n",
    "    else:\n",
    "        newstart = round(float(start) - float(difference)/2.0)\n",
    "        if newstart < 0: newstart = 1\n",
    "        newend = round(float(end) + float(difference)/2.0)\n",
    "        if newend > chromosomelength: newend = chromosomelength\n",
    "        return int(newstart),int(newend) # convert back to integers"
   ]
  },
  {
   "cell_type": "code",
   "execution_count": 9,
   "metadata": {},
   "outputs": [],
   "source": [
    "def intervalsFromClosePositions(positions,mindistance=5):\n",
    "    \"\"\" Merges positions that are within a specific distance\n",
    "    to their neighbours:\n",
    "    [1,3,5,15,20,30,35,36,37,69,70,80,90,91]\n",
    "    should become:\n",
    "    [(1, 5), (15, 20), (30, 37), (69, 70), (80, 80), (90, 91)]\n",
    "\n",
    "    \"\"\"\n",
    "    start = None\n",
    "    end\t  = None\n",
    "    intervallist = list()\n",
    "    for nr,i in enumerate(sorted(list(positions))):\n",
    "        if not start:\n",
    "            start = i\n",
    "        try:\n",
    "            if positions[nr+1] - positions[nr] <= mindistance:\n",
    "                continue\n",
    "            elif positions[nr+1] - positions[nr] > mindistance:\n",
    "                end = i\n",
    "                intervallist.append((start,end))\n",
    "                start = positions[nr+1]\n",
    "        except IndexError:\n",
    "            if start:\n",
    "                end = i\n",
    "                intervallist.append((start,end))\n",
    "            break\n",
    "    return intervallist"
   ]
  },
  {
   "cell_type": "code",
   "execution_count": 10,
   "metadata": {},
   "outputs": [],
   "source": [
    "intervals = [1,3,5,15,20,30,35,36,37,69,70,80,90,91]"
   ]
  },
  {
   "cell_type": "code",
   "execution_count": 11,
   "metadata": {},
   "outputs": [
    {
     "data": {
      "text/plain": [
       "[(1, 5), (15, 20), (30, 37), (69, 70), (80, 80), (90, 91)]"
      ]
     },
     "execution_count": 11,
     "metadata": {},
     "output_type": "execute_result"
    }
   ],
   "source": [
    "intervalsFromClosePositions(intervals)"
   ]
  },
  {
   "cell_type": "code",
   "execution_count": null,
   "metadata": {},
   "outputs": [],
   "source": []
  },
  {
   "cell_type": "markdown",
   "metadata": {},
   "source": [
    "### Loading the big dataframe:"
   ]
  },
  {
   "cell_type": "code",
   "execution_count": 12,
   "metadata": {},
   "outputs": [],
   "source": [
    "data = pd.read_csv('../../../New_data_table.txt',\\\n",
    "                    sep=\"\\t\",\\\n",
    "                    header=0,\\\n",
    "                    index_col=0)"
   ]
  },
  {
   "cell_type": "markdown",
   "metadata": {},
   "source": [
    "### Masking positions not considered by deltaSHAPE:"
   ]
  },
  {
   "cell_type": "code",
   "execution_count": 13,
   "metadata": {},
   "outputs": [
    {
     "name": "stdout",
     "output_type": "stream",
     "text": [
      "2517\n"
     ]
    }
   ],
   "source": [
    "positionstomask = data[(data[\"SHAPE_reactivity_ex_vivo_1\"] < -900) | \n",
    "                       (data[\"SHAPE_reactivity_ex_vivo_2\"] < -900) |\n",
    "                       (data[\"SHAPE_reactivity_in_cell_1\"] < -900) | \n",
    "                       (data[\"SHAPE_reactivity_in_cell_2\"] < -900)].index\n",
    "print(len(positionstomask))\n",
    "data.loc[positionstomask,data.columns[11:]] = np.nan"
   ]
  },
  {
   "cell_type": "code",
   "execution_count": 14,
   "metadata": {},
   "outputs": [
    {
     "data": {
      "text/plain": [
       "Index(['nucleotide', 'CELF1', 'FUS', 'HuR', 'PTBP1', 'RBFOX2', 'TARDBP',\n",
       "       'SHAPE_reactivity_ex_vivo_1', 'SHAPE_reactivity_ex_vivo_2',\n",
       "       'SHAPE_reactivity_in_cell_1', 'SHAPE_reactivity_in_cell_2',\n",
       "       'deltaSHAPE_rep1', 'deltaSHAPE_rep2', 'dStruct', 'dStruct_scaled',\n",
       "       'unmodified', 'ex_vivo', 'in_vivo', 'both', 'scaled_unmodified',\n",
       "       'scaled_ex_vivo', 'scaled_in_vivo', 'scaled_both'],\n",
       "      dtype='object')"
      ]
     },
     "execution_count": 14,
     "metadata": {},
     "output_type": "execute_result"
    }
   ],
   "source": [
    "data.columns"
   ]
  },
  {
   "cell_type": "code",
   "execution_count": 15,
   "metadata": {},
   "outputs": [
    {
     "data": {
      "text/html": [
       "<div>\n",
       "<style scoped>\n",
       "    .dataframe tbody tr th:only-of-type {\n",
       "        vertical-align: middle;\n",
       "    }\n",
       "\n",
       "    .dataframe tbody tr th {\n",
       "        vertical-align: top;\n",
       "    }\n",
       "\n",
       "    .dataframe thead th {\n",
       "        text-align: right;\n",
       "    }\n",
       "</style>\n",
       "<table border=\"1\" class=\"dataframe\">\n",
       "  <thead>\n",
       "    <tr style=\"text-align: right;\">\n",
       "      <th></th>\n",
       "      <th>nucleotide</th>\n",
       "      <th>CELF1</th>\n",
       "      <th>FUS</th>\n",
       "      <th>HuR</th>\n",
       "      <th>PTBP1</th>\n",
       "      <th>RBFOX2</th>\n",
       "      <th>TARDBP</th>\n",
       "      <th>SHAPE_reactivity_ex_vivo_1</th>\n",
       "      <th>SHAPE_reactivity_ex_vivo_2</th>\n",
       "      <th>SHAPE_reactivity_in_cell_1</th>\n",
       "      <th>...</th>\n",
       "      <th>dStruct</th>\n",
       "      <th>dStruct_scaled</th>\n",
       "      <th>unmodified</th>\n",
       "      <th>ex_vivo</th>\n",
       "      <th>in_vivo</th>\n",
       "      <th>both</th>\n",
       "      <th>scaled_unmodified</th>\n",
       "      <th>scaled_ex_vivo</th>\n",
       "      <th>scaled_in_vivo</th>\n",
       "      <th>scaled_both</th>\n",
       "    </tr>\n",
       "  </thead>\n",
       "  <tbody>\n",
       "    <tr>\n",
       "      <td>1</td>\n",
       "      <td>C</td>\n",
       "      <td>0</td>\n",
       "      <td>0</td>\n",
       "      <td>0</td>\n",
       "      <td>0</td>\n",
       "      <td>0</td>\n",
       "      <td>0</td>\n",
       "      <td>-999.0</td>\n",
       "      <td>-999.0</td>\n",
       "      <td>-999.0</td>\n",
       "      <td>...</td>\n",
       "      <td>NaN</td>\n",
       "      <td>NaN</td>\n",
       "      <td>NaN</td>\n",
       "      <td>NaN</td>\n",
       "      <td>NaN</td>\n",
       "      <td>NaN</td>\n",
       "      <td>NaN</td>\n",
       "      <td>NaN</td>\n",
       "      <td>NaN</td>\n",
       "      <td>NaN</td>\n",
       "    </tr>\n",
       "    <tr>\n",
       "      <td>2</td>\n",
       "      <td>G</td>\n",
       "      <td>0</td>\n",
       "      <td>0</td>\n",
       "      <td>0</td>\n",
       "      <td>0</td>\n",
       "      <td>0</td>\n",
       "      <td>0</td>\n",
       "      <td>-999.0</td>\n",
       "      <td>-999.0</td>\n",
       "      <td>-999.0</td>\n",
       "      <td>...</td>\n",
       "      <td>NaN</td>\n",
       "      <td>NaN</td>\n",
       "      <td>NaN</td>\n",
       "      <td>NaN</td>\n",
       "      <td>NaN</td>\n",
       "      <td>NaN</td>\n",
       "      <td>NaN</td>\n",
       "      <td>NaN</td>\n",
       "      <td>NaN</td>\n",
       "      <td>NaN</td>\n",
       "    </tr>\n",
       "    <tr>\n",
       "      <td>3</td>\n",
       "      <td>G</td>\n",
       "      <td>0</td>\n",
       "      <td>0</td>\n",
       "      <td>0</td>\n",
       "      <td>0</td>\n",
       "      <td>0</td>\n",
       "      <td>0</td>\n",
       "      <td>-999.0</td>\n",
       "      <td>-999.0</td>\n",
       "      <td>-999.0</td>\n",
       "      <td>...</td>\n",
       "      <td>NaN</td>\n",
       "      <td>NaN</td>\n",
       "      <td>NaN</td>\n",
       "      <td>NaN</td>\n",
       "      <td>NaN</td>\n",
       "      <td>NaN</td>\n",
       "      <td>NaN</td>\n",
       "      <td>NaN</td>\n",
       "      <td>NaN</td>\n",
       "      <td>NaN</td>\n",
       "    </tr>\n",
       "    <tr>\n",
       "      <td>4</td>\n",
       "      <td>C</td>\n",
       "      <td>0</td>\n",
       "      <td>0</td>\n",
       "      <td>0</td>\n",
       "      <td>0</td>\n",
       "      <td>0</td>\n",
       "      <td>0</td>\n",
       "      <td>-999.0</td>\n",
       "      <td>-999.0</td>\n",
       "      <td>-999.0</td>\n",
       "      <td>...</td>\n",
       "      <td>NaN</td>\n",
       "      <td>NaN</td>\n",
       "      <td>NaN</td>\n",
       "      <td>NaN</td>\n",
       "      <td>NaN</td>\n",
       "      <td>NaN</td>\n",
       "      <td>NaN</td>\n",
       "      <td>NaN</td>\n",
       "      <td>NaN</td>\n",
       "      <td>NaN</td>\n",
       "    </tr>\n",
       "    <tr>\n",
       "      <td>5</td>\n",
       "      <td>T</td>\n",
       "      <td>0</td>\n",
       "      <td>0</td>\n",
       "      <td>0</td>\n",
       "      <td>0</td>\n",
       "      <td>0</td>\n",
       "      <td>0</td>\n",
       "      <td>-999.0</td>\n",
       "      <td>-999.0</td>\n",
       "      <td>-999.0</td>\n",
       "      <td>...</td>\n",
       "      <td>NaN</td>\n",
       "      <td>NaN</td>\n",
       "      <td>NaN</td>\n",
       "      <td>NaN</td>\n",
       "      <td>NaN</td>\n",
       "      <td>NaN</td>\n",
       "      <td>NaN</td>\n",
       "      <td>NaN</td>\n",
       "      <td>NaN</td>\n",
       "      <td>NaN</td>\n",
       "    </tr>\n",
       "  </tbody>\n",
       "</table>\n",
       "<p>5 rows × 23 columns</p>\n",
       "</div>"
      ],
      "text/plain": [
       "  nucleotide  CELF1  FUS  HuR  PTBP1  RBFOX2  TARDBP  \\\n",
       "1          C      0    0    0      0       0       0   \n",
       "2          G      0    0    0      0       0       0   \n",
       "3          G      0    0    0      0       0       0   \n",
       "4          C      0    0    0      0       0       0   \n",
       "5          T      0    0    0      0       0       0   \n",
       "\n",
       "   SHAPE_reactivity_ex_vivo_1  SHAPE_reactivity_ex_vivo_2  \\\n",
       "1                      -999.0                      -999.0   \n",
       "2                      -999.0                      -999.0   \n",
       "3                      -999.0                      -999.0   \n",
       "4                      -999.0                      -999.0   \n",
       "5                      -999.0                      -999.0   \n",
       "\n",
       "   SHAPE_reactivity_in_cell_1  ...  dStruct  dStruct_scaled  unmodified  \\\n",
       "1                      -999.0  ...      NaN             NaN         NaN   \n",
       "2                      -999.0  ...      NaN             NaN         NaN   \n",
       "3                      -999.0  ...      NaN             NaN         NaN   \n",
       "4                      -999.0  ...      NaN             NaN         NaN   \n",
       "5                      -999.0  ...      NaN             NaN         NaN   \n",
       "\n",
       "   ex_vivo  in_vivo  both  scaled_unmodified  scaled_ex_vivo  scaled_in_vivo  \\\n",
       "1      NaN      NaN   NaN                NaN             NaN             NaN   \n",
       "2      NaN      NaN   NaN                NaN             NaN             NaN   \n",
       "3      NaN      NaN   NaN                NaN             NaN             NaN   \n",
       "4      NaN      NaN   NaN                NaN             NaN             NaN   \n",
       "5      NaN      NaN   NaN                NaN             NaN             NaN   \n",
       "\n",
       "   scaled_both  \n",
       "1          NaN  \n",
       "2          NaN  \n",
       "3          NaN  \n",
       "4          NaN  \n",
       "5          NaN  \n",
       "\n",
       "[5 rows x 23 columns]"
      ]
     },
     "execution_count": 15,
     "metadata": {},
     "output_type": "execute_result"
    }
   ],
   "source": [
    "data.head()"
   ]
  },
  {
   "cell_type": "markdown",
   "metadata": {},
   "source": [
    "### Now doing Motif analyses:"
   ]
  },
  {
   "cell_type": "markdown",
   "metadata": {},
   "source": [
    "### First I need to make fasta files for all the protein binding sites in Xist and find their motifs:\n",
    "I will normalize the interval size to a fixed lenght so that MEME can deal better with it. I will group together those DRNs that are within 2nt distance from each other."
   ]
  },
  {
   "cell_type": "code",
   "execution_count": 16,
   "metadata": {},
   "outputs": [
    {
     "data": {
      "text/plain": [
       "Index(['nucleotide', 'CELF1', 'FUS', 'HuR', 'PTBP1', 'RBFOX2', 'TARDBP',\n",
       "       'SHAPE_reactivity_ex_vivo_1', 'SHAPE_reactivity_ex_vivo_2',\n",
       "       'SHAPE_reactivity_in_cell_1', 'SHAPE_reactivity_in_cell_2',\n",
       "       'deltaSHAPE_rep1', 'deltaSHAPE_rep2', 'dStruct', 'dStruct_scaled',\n",
       "       'unmodified', 'ex_vivo', 'in_vivo', 'both', 'scaled_unmodified',\n",
       "       'scaled_ex_vivo', 'scaled_in_vivo', 'scaled_both'],\n",
       "      dtype='object')"
      ]
     },
     "execution_count": 16,
     "metadata": {},
     "output_type": "execute_result"
    }
   ],
   "source": [
    "data.columns"
   ]
  },
  {
   "cell_type": "code",
   "execution_count": 17,
   "metadata": {},
   "outputs": [
    {
     "data": {
      "text/html": [
       "<div>\n",
       "<style scoped>\n",
       "    .dataframe tbody tr th:only-of-type {\n",
       "        vertical-align: middle;\n",
       "    }\n",
       "\n",
       "    .dataframe tbody tr th {\n",
       "        vertical-align: top;\n",
       "    }\n",
       "\n",
       "    .dataframe thead th {\n",
       "        text-align: right;\n",
       "    }\n",
       "</style>\n",
       "<table border=\"1\" class=\"dataframe\">\n",
       "  <thead>\n",
       "    <tr style=\"text-align: right;\">\n",
       "      <th></th>\n",
       "      <th>nucleotide</th>\n",
       "      <th>CELF1</th>\n",
       "      <th>FUS</th>\n",
       "      <th>HuR</th>\n",
       "      <th>PTBP1</th>\n",
       "      <th>RBFOX2</th>\n",
       "      <th>TARDBP</th>\n",
       "      <th>SHAPE_reactivity_ex_vivo_1</th>\n",
       "      <th>SHAPE_reactivity_ex_vivo_2</th>\n",
       "      <th>SHAPE_reactivity_in_cell_1</th>\n",
       "      <th>...</th>\n",
       "      <th>dStruct</th>\n",
       "      <th>dStruct_scaled</th>\n",
       "      <th>unmodified</th>\n",
       "      <th>ex_vivo</th>\n",
       "      <th>in_vivo</th>\n",
       "      <th>both</th>\n",
       "      <th>scaled_unmodified</th>\n",
       "      <th>scaled_ex_vivo</th>\n",
       "      <th>scaled_in_vivo</th>\n",
       "      <th>scaled_both</th>\n",
       "    </tr>\n",
       "  </thead>\n",
       "  <tbody>\n",
       "    <tr>\n",
       "      <td>1</td>\n",
       "      <td>C</td>\n",
       "      <td>0</td>\n",
       "      <td>0</td>\n",
       "      <td>0</td>\n",
       "      <td>0</td>\n",
       "      <td>0</td>\n",
       "      <td>0</td>\n",
       "      <td>-999.0</td>\n",
       "      <td>-999.0</td>\n",
       "      <td>-999.0</td>\n",
       "      <td>...</td>\n",
       "      <td>NaN</td>\n",
       "      <td>NaN</td>\n",
       "      <td>NaN</td>\n",
       "      <td>NaN</td>\n",
       "      <td>NaN</td>\n",
       "      <td>NaN</td>\n",
       "      <td>NaN</td>\n",
       "      <td>NaN</td>\n",
       "      <td>NaN</td>\n",
       "      <td>NaN</td>\n",
       "    </tr>\n",
       "    <tr>\n",
       "      <td>2</td>\n",
       "      <td>G</td>\n",
       "      <td>0</td>\n",
       "      <td>0</td>\n",
       "      <td>0</td>\n",
       "      <td>0</td>\n",
       "      <td>0</td>\n",
       "      <td>0</td>\n",
       "      <td>-999.0</td>\n",
       "      <td>-999.0</td>\n",
       "      <td>-999.0</td>\n",
       "      <td>...</td>\n",
       "      <td>NaN</td>\n",
       "      <td>NaN</td>\n",
       "      <td>NaN</td>\n",
       "      <td>NaN</td>\n",
       "      <td>NaN</td>\n",
       "      <td>NaN</td>\n",
       "      <td>NaN</td>\n",
       "      <td>NaN</td>\n",
       "      <td>NaN</td>\n",
       "      <td>NaN</td>\n",
       "    </tr>\n",
       "    <tr>\n",
       "      <td>3</td>\n",
       "      <td>G</td>\n",
       "      <td>0</td>\n",
       "      <td>0</td>\n",
       "      <td>0</td>\n",
       "      <td>0</td>\n",
       "      <td>0</td>\n",
       "      <td>0</td>\n",
       "      <td>-999.0</td>\n",
       "      <td>-999.0</td>\n",
       "      <td>-999.0</td>\n",
       "      <td>...</td>\n",
       "      <td>NaN</td>\n",
       "      <td>NaN</td>\n",
       "      <td>NaN</td>\n",
       "      <td>NaN</td>\n",
       "      <td>NaN</td>\n",
       "      <td>NaN</td>\n",
       "      <td>NaN</td>\n",
       "      <td>NaN</td>\n",
       "      <td>NaN</td>\n",
       "      <td>NaN</td>\n",
       "    </tr>\n",
       "    <tr>\n",
       "      <td>4</td>\n",
       "      <td>C</td>\n",
       "      <td>0</td>\n",
       "      <td>0</td>\n",
       "      <td>0</td>\n",
       "      <td>0</td>\n",
       "      <td>0</td>\n",
       "      <td>0</td>\n",
       "      <td>-999.0</td>\n",
       "      <td>-999.0</td>\n",
       "      <td>-999.0</td>\n",
       "      <td>...</td>\n",
       "      <td>NaN</td>\n",
       "      <td>NaN</td>\n",
       "      <td>NaN</td>\n",
       "      <td>NaN</td>\n",
       "      <td>NaN</td>\n",
       "      <td>NaN</td>\n",
       "      <td>NaN</td>\n",
       "      <td>NaN</td>\n",
       "      <td>NaN</td>\n",
       "      <td>NaN</td>\n",
       "    </tr>\n",
       "    <tr>\n",
       "      <td>5</td>\n",
       "      <td>T</td>\n",
       "      <td>0</td>\n",
       "      <td>0</td>\n",
       "      <td>0</td>\n",
       "      <td>0</td>\n",
       "      <td>0</td>\n",
       "      <td>0</td>\n",
       "      <td>-999.0</td>\n",
       "      <td>-999.0</td>\n",
       "      <td>-999.0</td>\n",
       "      <td>...</td>\n",
       "      <td>NaN</td>\n",
       "      <td>NaN</td>\n",
       "      <td>NaN</td>\n",
       "      <td>NaN</td>\n",
       "      <td>NaN</td>\n",
       "      <td>NaN</td>\n",
       "      <td>NaN</td>\n",
       "      <td>NaN</td>\n",
       "      <td>NaN</td>\n",
       "      <td>NaN</td>\n",
       "    </tr>\n",
       "  </tbody>\n",
       "</table>\n",
       "<p>5 rows × 23 columns</p>\n",
       "</div>"
      ],
      "text/plain": [
       "  nucleotide  CELF1  FUS  HuR  PTBP1  RBFOX2  TARDBP  \\\n",
       "1          C      0    0    0      0       0       0   \n",
       "2          G      0    0    0      0       0       0   \n",
       "3          G      0    0    0      0       0       0   \n",
       "4          C      0    0    0      0       0       0   \n",
       "5          T      0    0    0      0       0       0   \n",
       "\n",
       "   SHAPE_reactivity_ex_vivo_1  SHAPE_reactivity_ex_vivo_2  \\\n",
       "1                      -999.0                      -999.0   \n",
       "2                      -999.0                      -999.0   \n",
       "3                      -999.0                      -999.0   \n",
       "4                      -999.0                      -999.0   \n",
       "5                      -999.0                      -999.0   \n",
       "\n",
       "   SHAPE_reactivity_in_cell_1  ...  dStruct  dStruct_scaled  unmodified  \\\n",
       "1                      -999.0  ...      NaN             NaN         NaN   \n",
       "2                      -999.0  ...      NaN             NaN         NaN   \n",
       "3                      -999.0  ...      NaN             NaN         NaN   \n",
       "4                      -999.0  ...      NaN             NaN         NaN   \n",
       "5                      -999.0  ...      NaN             NaN         NaN   \n",
       "\n",
       "   ex_vivo  in_vivo  both  scaled_unmodified  scaled_ex_vivo  scaled_in_vivo  \\\n",
       "1      NaN      NaN   NaN                NaN             NaN             NaN   \n",
       "2      NaN      NaN   NaN                NaN             NaN             NaN   \n",
       "3      NaN      NaN   NaN                NaN             NaN             NaN   \n",
       "4      NaN      NaN   NaN                NaN             NaN             NaN   \n",
       "5      NaN      NaN   NaN                NaN             NaN             NaN   \n",
       "\n",
       "   scaled_both  \n",
       "1          NaN  \n",
       "2          NaN  \n",
       "3          NaN  \n",
       "4          NaN  \n",
       "5          NaN  \n",
       "\n",
       "[5 rows x 23 columns]"
      ]
     },
     "execution_count": 17,
     "metadata": {},
     "output_type": "execute_result"
    }
   ],
   "source": [
    "data.head()"
   ]
  },
  {
   "cell_type": "code",
   "execution_count": 21,
   "metadata": {},
   "outputs": [],
   "source": [
    "chromosomelength = len(data.index)"
   ]
  },
  {
   "cell_type": "code",
   "execution_count": 22,
   "metadata": {},
   "outputs": [],
   "source": [
    "fixedlength = 30"
   ]
  },
  {
   "cell_type": "code",
   "execution_count": 23,
   "metadata": {},
   "outputs": [],
   "source": [
    "proteins = [\"CELF1\",\"FUS\",\"HuR\",\"PTBP1\",\"RBFOX2\",\"TARDBP\"]"
   ]
  },
  {
   "cell_type": "code",
   "execution_count": 30,
   "metadata": {},
   "outputs": [
    {
     "name": "stdout",
     "output_type": "stream",
     "text": [
      "CELF1:\t21\n",
      "FUS:\t107\n",
      "HuR:\t12\n",
      "PTBP1:\t22\n",
      "RBFOX2:\t3\n",
      "TARDBP:\t17\n"
     ]
    }
   ],
   "source": [
    "proteinfastas = list()\n",
    "for protein in proteins:\n",
    "    outfilename = \"%s_Xist_RNA_binding_sites.fa\" % protein\n",
    "    #print(outfilename)\n",
    "    outfile = open(outfilename,\"w\")\n",
    "    proteinfastas.append(outfilename)\n",
    "    indices = data[data[protein] > 0].index\n",
    "    intervals = intervalsFromClosePositions(indices)\n",
    "    print(\"%s:\\t%s\" % (protein,len(intervals)))\n",
    "    count = 1\n",
    "    for (i,j) in intervals:\n",
    "        start,end = normalizeIntervalLength(i,j,chromosomelength,fixedlength)\n",
    "        sequence = data.loc[start:end+1,\"nucleotide\"].values\n",
    "        sequence = \"\".join(sequence)\n",
    "        outfile.write(\">%s_%s\\n%s\\n\" % (protein,count,sequence))\n",
    "        count += 1\n",
    "    outfile.close()"
   ]
  },
  {
   "cell_type": "code",
   "execution_count": 31,
   "metadata": {},
   "outputs": [],
   "source": [
    "proteinfastas = \" \".join(proteinfastas)"
   ]
  },
  {
   "cell_type": "code",
   "execution_count": 32,
   "metadata": {},
   "outputs": [
    {
     "name": "stdout",
     "output_type": "stream",
     "text": [
      "CELF1_Xist_RNA_binding_sites.fa FUS_Xist_RNA_binding_sites.fa HuR_Xist_RNA_binding_sites.fa PTBP1_Xist_RNA_binding_sites.fa RBFOX2_Xist_RNA_binding_sites.fa TARDBP_Xist_RNA_binding_sites.fa\n"
     ]
    }
   ],
   "source": [
    "print(proteinfastas)"
   ]
  },
  {
   "cell_type": "markdown",
   "metadata": {},
   "source": [
    "### Running meme on these sequences:"
   ]
  },
  {
   "cell_type": "code",
   "execution_count": 34,
   "metadata": {},
   "outputs": [
    {
     "name": "stdout",
     "output_type": "stream",
     "text": [
      "CELF1_Xist_RNA_binding_sites.fa\n",
      "FUS_Xist_RNA_binding_sites.fa\n",
      "HuR_Xist_RNA_binding_sites.fa\n",
      "PTBP1_Xist_RNA_binding_sites.fa\n",
      "RBFOX2_Xist_RNA_binding_sites.fa\n",
      "TARDBP_Xist_RNA_binding_sites.fa\n"
     ]
    }
   ],
   "source": [
    "%%bash -s \"$proteinfastas\"\n",
    "\n",
    "DIR=$HOME/meme/bin\n",
    "\n",
    "for i in $1\n",
    "do\n",
    "    echo $i\n",
    "    FILE=\"$(basename -- $i)\"\n",
    "    FILE=${FILE%.fa}\n",
    "    PREFIX=MEME_\n",
    "    OUTFILE=$PREFIX$FILE\n",
    "    $DIR/meme-chip \\\n",
    "        -meme-minw 4 \\\n",
    "        -meme-maxw 10 \\\n",
    "        -meme-nmotifs 3 \\\n",
    "        -meme-p 8 \\\n",
    "        -meme-mod anr \\\n",
    "        -norc \\\n",
    "        -rna \\\n",
    "        -noecho \\\n",
    "        -oc $OUTFILE $i &\n",
    "done"
   ]
  },
  {
   "cell_type": "markdown",
   "metadata": {},
   "source": [
    "### Now doing it for the diffBUM_HMM and deltaSHAPE sites. Fragment sizes = fixedlength:"
   ]
  },
  {
   "cell_type": "code",
   "execution_count": 119,
   "metadata": {},
   "outputs": [],
   "source": [
    " intervallengthcounter = defaultdict(lambda: defaultdict(int))"
   ]
  },
  {
   "cell_type": "markdown",
   "metadata": {},
   "source": [
    "### diffBUM_HMM:"
   ]
  },
  {
   "cell_type": "code",
   "execution_count": 120,
   "metadata": {},
   "outputs": [
    {
     "name": "stdout",
     "output_type": "stream",
     "text": [
      "572\n",
      "1164\n",
      "108\n",
      "142\n"
     ]
    }
   ],
   "source": [
    "sequence = \"\".join(data.nucleotide.values)\n",
    "\n",
    "ex_vivo_pos = data[data.ex_vivo >= threshold].index\n",
    "outfile = open(\"diffBUM_HMM_ex_vivo_%s_mers_v2.fa\" % fixedlength,\"w\")\n",
    "intervals = intervalsFromClosePositions(ex_vivo_pos)\n",
    "\n",
    "print(len(intervals))\n",
    "print(len(ex_vivo_pos))\n",
    "\n",
    "count = 0\n",
    "\n",
    "for (i,j) in intervals:\n",
    "    length = (j-i)+1\n",
    "    intervallengthcounter[\"diffBUM_HMM_ex_vivo\"][length] += 1\n",
    "    start,end = normalizeIntervalLength(i,j,chromosomelength,fixedlength)\n",
    "    sequence = data.loc[start:end+1,\"nucleotide\"].values\n",
    "    sequence = \"\".join(sequence)\n",
    "    outfile.write(\">diffBUM_HMM_ex_vivo_%s\\n%s\\n\" % (count,sequence))\n",
    "    count += 1\n",
    "outfile.close()\n",
    "        \n",
    "in_vivo_pos = data[data.in_vivo >= threshold].index\n",
    "outfile = open(\"diffBUM_HMM_in_vivo_%s_mers_v2.fa\" % fixedlength,\"w\")\n",
    "intervals = intervalsFromClosePositions(in_vivo_pos)\n",
    "\n",
    "print(len(intervals))\n",
    "print(len(in_vivo_pos))\n",
    "\n",
    "count = 0\n",
    "\n",
    "for (i,j) in intervals:\n",
    "    length = (j-i)+1\n",
    "    intervallengthcounter[\"diffBUM_HMM_in_vivo\"][length] += 1\n",
    "    start,end = normalizeIntervalLength(i,j,chromosomelength,fixedlength)\n",
    "    sequence = data.loc[start:end+1,\"nucleotide\"].values\n",
    "    sequence = \"\".join(sequence)\n",
    "    outfile.write(\">diffBUM_HMM_in_vivo_%s\\n%s\\n\" % (count,sequence))\n",
    "    count += 1\n",
    "outfile.close()"
   ]
  },
  {
   "cell_type": "markdown",
   "metadata": {},
   "source": [
    "### deltaSHAPE rep 1:"
   ]
  },
  {
   "cell_type": "code",
   "execution_count": 121,
   "metadata": {},
   "outputs": [
    {
     "data": {
      "text/plain": [
       "Int64Index([ 209,  210,  211,  243,  244,  245,  246,  247,  315,  316,  317,\n",
       "            2421, 2422, 2423, 4673, 4754, 4755, 4756, 4770, 4771, 4772],\n",
       "           dtype='int64')"
      ]
     },
     "execution_count": 121,
     "metadata": {},
     "output_type": "execute_result"
    }
   ],
   "source": [
    "data[data.deltaSHAPE_rep1 > 0].index[:21]"
   ]
  },
  {
   "cell_type": "code",
   "execution_count": 122,
   "metadata": {},
   "outputs": [
    {
     "name": "stdout",
     "output_type": "stream",
     "text": [
      "129\n",
      "460\n",
      "91\n",
      "337\n"
     ]
    }
   ],
   "source": [
    "sequence = \"\".join(data.nucleotide.values)\n",
    "\n",
    "ex_vivo_pos = data[data.deltaSHAPE_rep1 > 0].index\n",
    "outfile = open(\"deltaSHAPE_rep_1_ex_vivo_%s_mers_v2.fa\" % fixedlength,\"w\")\n",
    "intervals = intervalsFromClosePositions(ex_vivo_pos)\n",
    "\n",
    "print(len(intervals))\n",
    "print(len(ex_vivo_pos))\n",
    "\n",
    "count = 0\n",
    "\n",
    "for (i,j) in intervals:\n",
    "    length = (j-i)+1\n",
    "    intervallengthcounter[\"deltaSHAPE_rep1_ex_vivo\"][length] += 1\n",
    "    start,end = normalizeIntervalLength(i,j,chromosomelength,fixedlength)\n",
    "    sequence = data.loc[start:end+1,\"nucleotide\"].values\n",
    "    sequence = \"\".join(sequence)\n",
    "    outfile.write(\">deltaSHAPE_rep1_ex_vivo_%s\\n%s\\n\" % (count,sequence))\n",
    "    count += 1\n",
    "outfile.close()\n",
    "        \n",
    "in_vivo_pos = data[data.deltaSHAPE_rep1 < 0].index\n",
    "outfile = open(\"deltaSHAPE_rep_1_in_vivo_%s_mers_v2.fa\" % fixedlength,\"w\")\n",
    "intervals = intervalsFromClosePositions(in_vivo_pos)\n",
    "\n",
    "print(len(intervals))\n",
    "print(len(in_vivo_pos))\n",
    "\n",
    "count = 0\n",
    "\n",
    "for (i,j) in intervals:\n",
    "    length = (j-i)+1\n",
    "    intervallengthcounter[\"deltaSHAPE_rep1_in_vivo\"][length] += 1\n",
    "    start,end = normalizeIntervalLength(i,j,chromosomelength,fixedlength)\n",
    "    sequence = data.loc[start:end+1,\"nucleotide\"].values\n",
    "    sequence = \"\".join(sequence)\n",
    "    outfile.write(\">deltaSHAPE_rep1_in_vivo_%s\\n%s\\n\" % (count,sequence))\n",
    "    count += 1\n",
    "outfile.close()"
   ]
  },
  {
   "cell_type": "markdown",
   "metadata": {},
   "source": [
    "### deltaSHAPE rep 2:"
   ]
  },
  {
   "cell_type": "code",
   "execution_count": 123,
   "metadata": {},
   "outputs": [
    {
     "data": {
      "text/plain": [
       "Int64Index([ 209,  210,  211,  243,  244,  245,  246,  247,  315,  316,  317,\n",
       "            2421, 2422, 2423, 4673, 4754, 4755, 4756, 4770, 4771, 4772],\n",
       "           dtype='int64')"
      ]
     },
     "execution_count": 123,
     "metadata": {},
     "output_type": "execute_result"
    }
   ],
   "source": [
    "data[data.deltaSHAPE_rep1 > 0].index[:21]"
   ]
  },
  {
   "cell_type": "code",
   "execution_count": 125,
   "metadata": {},
   "outputs": [
    {
     "name": "stdout",
     "output_type": "stream",
     "text": [
      "152\n",
      "510\n",
      "123\n",
      "428\n"
     ]
    }
   ],
   "source": [
    "sequence = \"\".join(data.nucleotide.values)\n",
    "\n",
    "ex_vivo_pos = data[data.deltaSHAPE_rep2 > 0].index\n",
    "outfile = open(\"deltaSHAPE_rep_2_ex_vivo_%s_mers_v2.fa\" % fixedlength,\"w\")\n",
    "intervals = intervalsFromClosePositions(ex_vivo_pos)\n",
    "\n",
    "print(len(intervals))\n",
    "print(len(ex_vivo_pos))\n",
    "\n",
    "count = 0\n",
    "\n",
    "for (i,j) in intervals:\n",
    "    length = (j-i)+1\n",
    "    intervallengthcounter[\"deltaSHAPE_rep2_ex_vivo\"][length] += 1\n",
    "    start,end = normalizeIntervalLength(i,j,chromosomelength,fixedlength)\n",
    "    sequence = data.loc[start:end+1,\"nucleotide\"].values\n",
    "    sequence = \"\".join(sequence)\n",
    "    outfile.write(\">deltaSHAPE_rep2_ex_vivo_%s\\n%s\\n\" % (count,sequence))\n",
    "    count += 1\n",
    "outfile.close()\n",
    "        \n",
    "in_vivo_pos = data[data.deltaSHAPE_rep2 < 0].index\n",
    "outfile = open(\"deltaSHAPE_rep_2_in_vivo_%s_mers_v2.fa\" % fixedlength,\"w\")\n",
    "intervals = intervalsFromClosePositions(in_vivo_pos)\n",
    "\n",
    "print(len(intervals))\n",
    "print(len(in_vivo_pos))\n",
    "\n",
    "count = 0\n",
    "\n",
    "for (i,j) in intervals:\n",
    "    length = (j-i)+1\n",
    "    intervallengthcounter[\"deltaSHAPE_rep2_in_vivo\"][length] += 1\n",
    "    start,end = normalizeIntervalLength(i,j,chromosomelength,fixedlength)\n",
    "    sequence = data.loc[start:end+1,\"nucleotide\"].values\n",
    "    sequence = \"\".join(sequence)\n",
    "    outfile.write(\">deltaSHAPE_rep2_in_vivo_%s\\n%s\\n\" % (count,sequence))\n",
    "    count += 1\n",
    "outfile.close()"
   ]
  },
  {
   "cell_type": "code",
   "execution_count": 132,
   "metadata": {},
   "outputs": [],
   "source": [
    "kmerfasta = \" \".join(glob.glob(\"*%s_mers_v2.fa\" % fixedlength))"
   ]
  },
  {
   "cell_type": "code",
   "execution_count": 133,
   "metadata": {},
   "outputs": [
    {
     "name": "stdout",
     "output_type": "stream",
     "text": [
      "['deltaSHAPE_rep_2_ex_vivo_30_mers_v2.fa', 'diffBUM_HMM_in_vivo_30_mers_v2.fa', 'deltaSHAPE_rep_1_in_vivo_30_mers_v2.fa', 'deltaSHAPE_rep_2_in_vivo_30_mers_v2.fa', 'deltaSHAPE_rep_1_ex_vivo_30_mers_v2.fa', 'diffBUM_HMM_ex_vivo_30_mers_v2.fa']\n"
     ]
    }
   ],
   "source": [
    "print(kmerfasta.split())"
   ]
  },
  {
   "cell_type": "code",
   "execution_count": 134,
   "metadata": {},
   "outputs": [
    {
     "name": "stdout",
     "output_type": "stream",
     "text": [
      "deltaSHAPE_rep_2_ex_vivo_30_mers_v2.fa diffBUM_HMM_in_vivo_30_mers_v2.fa deltaSHAPE_rep_1_in_vivo_30_mers_v2.fa deltaSHAPE_rep_2_in_vivo_30_mers_v2.fa deltaSHAPE_rep_1_ex_vivo_30_mers_v2.fa diffBUM_HMM_ex_vivo_30_mers_v2.fa\n"
     ]
    }
   ],
   "source": [
    "%%bash -s \"$kmerfasta\"\n",
    "\n",
    "echo $1\n",
    "\n",
    "DIR=$HOME/meme/bin\n",
    "\n",
    "for i in $1\n",
    "do\n",
    "    FILE=\"$(basename -- $i)\"\n",
    "    FILE=${FILE%.fa}\n",
    "    PREFIX=MEME_V2\n",
    "    OUTFILE=$PREFIX$FILE\n",
    "    $DIR/meme-chip \\\n",
    "        -meme-minw 4 \\\n",
    "        -meme-maxw 10 \\\n",
    "        -meme-nmotifs 20 \\\n",
    "        -meme-p 8 \\\n",
    "        -meme-mod anr \\\n",
    "        -norc \\\n",
    "        -rna \\\n",
    "        -noecho \\\n",
    "        -o $OUTFILE $i &\n",
    "done"
   ]
  },
  {
   "cell_type": "markdown",
   "metadata": {},
   "source": [
    "### Look at the lenghts of the intervals:"
   ]
  },
  {
   "cell_type": "code",
   "execution_count": 135,
   "metadata": {},
   "outputs": [
    {
     "data": {
      "text/plain": [
       "['diffBUM_HMM_ex_vivo',\n",
       " 'diffBUM_HMM_in_vivo',\n",
       " 'deltaSHAPE_rep1_ex_vivo',\n",
       " 'deltaSHAPE_rep1_in_vivo',\n",
       " 'deltaSHAPE_rep2_ex_vivo',\n",
       " 'deltaSHAPE_rep2_in_vivo']"
      ]
     },
     "execution_count": 135,
     "metadata": {},
     "output_type": "execute_result"
    }
   ],
   "source": [
    "list(intervallengthcounter.keys())"
   ]
  },
  {
   "cell_type": "code",
   "execution_count": 136,
   "metadata": {},
   "outputs": [
    {
     "data": {
      "text/plain": [
       "defaultdict(<function __main__.<lambda>()>,\n",
       "            {'diffBUM_HMM_ex_vivo': defaultdict(int,\n",
       "                         {1: 297,\n",
       "                          6: 23,\n",
       "                          8: 20,\n",
       "                          2: 76,\n",
       "                          5: 24,\n",
       "                          9: 12,\n",
       "                          4: 38,\n",
       "                          14: 6,\n",
       "                          11: 6,\n",
       "                          3: 43,\n",
       "                          12: 4,\n",
       "                          18: 1,\n",
       "                          23: 1,\n",
       "                          25: 1,\n",
       "                          13: 1,\n",
       "                          22: 1,\n",
       "                          7: 10,\n",
       "                          21: 1,\n",
       "                          15: 1,\n",
       "                          10: 4,\n",
       "                          19: 1,\n",
       "                          30: 1}),\n",
       "             'diffBUM_HMM_in_vivo': defaultdict(int,\n",
       "                         {2: 13, 1: 80, 5: 4, 7: 2, 4: 2, 6: 5, 3: 2}),\n",
       "             'deltaSHAPE_rep1_ex_vivo': defaultdict(int,\n",
       "                         {3: 70,\n",
       "                          5: 13,\n",
       "                          1: 12,\n",
       "                          2: 9,\n",
       "                          4: 8,\n",
       "                          6: 4,\n",
       "                          8: 1,\n",
       "                          27: 1,\n",
       "                          21: 1,\n",
       "                          19: 1,\n",
       "                          11: 3,\n",
       "                          7: 3,\n",
       "                          13: 1,\n",
       "                          9: 1,\n",
       "                          15: 1}),\n",
       "             'deltaSHAPE_rep1_in_vivo': defaultdict(int,\n",
       "                         {4: 8,\n",
       "                          3: 34,\n",
       "                          2: 13,\n",
       "                          7: 4,\n",
       "                          5: 8,\n",
       "                          1: 8,\n",
       "                          8: 2,\n",
       "                          6: 5,\n",
       "                          13: 1,\n",
       "                          10: 3,\n",
       "                          20: 1,\n",
       "                          9: 1,\n",
       "                          12: 1,\n",
       "                          15: 1,\n",
       "                          11: 1}),\n",
       "             'deltaSHAPE_rep2_ex_vivo': defaultdict(int,\n",
       "                         {1: 30,\n",
       "                          3: 166,\n",
       "                          8: 6,\n",
       "                          2: 34,\n",
       "                          4: 24,\n",
       "                          6: 10,\n",
       "                          11: 2,\n",
       "                          5: 10,\n",
       "                          9: 4,\n",
       "                          33: 2,\n",
       "                          10: 4,\n",
       "                          7: 4,\n",
       "                          16: 2,\n",
       "                          17: 2,\n",
       "                          15: 2,\n",
       "                          12: 2}),\n",
       "             'deltaSHAPE_rep2_in_vivo': defaultdict(int,\n",
       "                         {7: 5,\n",
       "                          3: 56,\n",
       "                          2: 14,\n",
       "                          1: 13,\n",
       "                          4: 9,\n",
       "                          5: 8,\n",
       "                          16: 1,\n",
       "                          10: 2,\n",
       "                          6: 5,\n",
       "                          9: 5,\n",
       "                          8: 1,\n",
       "                          15: 1,\n",
       "                          23: 1,\n",
       "                          13: 1,\n",
       "                          14: 1})})"
      ]
     },
     "execution_count": 136,
     "metadata": {},
     "output_type": "execute_result"
    }
   ],
   "source": [
    "intervallengthcounter"
   ]
  },
  {
   "cell_type": "code",
   "execution_count": 137,
   "metadata": {},
   "outputs": [
    {
     "data": {
      "image/png": "[encoded data removed]",
      "text/plain": [
       "<Figure size 216x720 with 6 Axes>"
      ]
     },
     "metadata": {
      "needs_background": "light"
     },
     "output_type": "display_data"
    }
   ],
   "source": [
    "numberofplots = len(intervallengthcounter.keys())\n",
    "samples = list(intervallengthcounter.keys())\n",
    "fig,ax = plt.subplots(numberofplots,figsize=[3,10],sharex=True)\n",
    "for i in range(numberofplots):\n",
    "    sample = samples[i]\n",
    "    data = intervallengthcounter[sample]\n",
    "    x = list(data.keys())\n",
    "    y = list(data.values())\n",
    "    sns.barplot(x,y,ax=ax[i])\n",
    "    ax[i].set_title(sample)\n",
    "    ax[i].set_ylabel('Counts')\n",
    "plt.tight_layout()\n",
    "fig.savefig(\"Distribution_of_stretches_of_diff_mod_nucleotides_v2.pdf\",dpi=400)"
   ]
  },
  {
   "cell_type": "markdown",
   "metadata": {},
   "source": [
    "### Now running everything through fimo to get the coordinates for the motifs:"
   ]
  },
  {
   "cell_type": "code",
   "execution_count": null,
   "metadata": {},
   "outputs": [],
   "source": [
    "%%bash\n",
    "\n",
    "DIR=$HOME/meme/bin\n",
    "\n",
    "$DIR/fimo \\\n",
    "MEME_diffBUM_HMM_ex_vivo_30_mers/meme_out/meme.txt \\\n",
    "../../../Reference_sequences/Xist.fa \\"
   ]
  },
  {
   "cell_type": "code",
   "execution_count": null,
   "metadata": {},
   "outputs": [],
   "source": []
  }
 ],
 "metadata": {
  "kernelspec": {
   "display_name": "Python 3",
   "language": "python",
   "name": "python3"
  },
  "language_info": {
   "codemirror_mode": {
    "name": "ipython",
    "version": 3
   },
   "file_extension": ".py",
   "mimetype": "text/x-python",
   "name": "python",
   "nbconvert_exporter": "python",
   "pygments_lexer": "ipython3",
   "version": "3.7.1"
  }
 },
 "nbformat": 4,
 "nbformat_minor": 2
}
