{
 "cells": [
  {
   "cell_type": "code",
   "execution_count": 141,
   "metadata": {},
   "outputs": [],
   "source": [
    "import sys\n",
    "import numpy as np\n",
    "import pandas as pd\n",
    "from collections import defaultdict"
   ]
  },
  {
   "cell_type": "code",
   "execution_count": 142,
   "metadata": {},
   "outputs": [],
   "source": [
    "## Loading the data\n",
    "deltashaperepone = pd.read_csv('../../deltaSHAPE_confirmed_sites/deltaSHAPE_rep1.igv',sep=\"\\t\")\n",
    "deltashapereptwo = pd.read_csv('../../deltaSHAPE_confirmed_sites/deltaSHAPE_rep2.igv',sep=\"\\t\")\n",
    "alldata  = pd.read_csv('../../big_dataframe_Xist_diffBUM_HMM_scaled_dc.txt',sep=\"\\t\",header=0,index_col=0)\n",
    "previous = pd.read_csv('../../big_dataframe_Xist.txt',sep=\"\\t\",header=0,index_col=0)"
   ]
  },
  {
   "cell_type": "code",
   "execution_count": 143,
   "metadata": {},
   "outputs": [
    {
     "data": {
      "text/html": [
       "<div>\n",
       "<style scoped>\n",
       "    .dataframe tbody tr th:only-of-type {\n",
       "        vertical-align: middle;\n",
       "    }\n",
       "\n",
       "    .dataframe tbody tr th {\n",
       "        vertical-align: top;\n",
       "    }\n",
       "\n",
       "    .dataframe thead th {\n",
       "        text-align: right;\n",
       "    }\n",
       "</style>\n",
       "<table border=\"1\" class=\"dataframe\">\n",
       "  <thead>\n",
       "    <tr style=\"text-align: right;\">\n",
       "      <th></th>\n",
       "      <th>Chromosome</th>\n",
       "      <th>Start</th>\n",
       "      <th>End</th>\n",
       "      <th>Feature</th>\n",
       "      <th>deltaSHAPE</th>\n",
       "    </tr>\n",
       "  </thead>\n",
       "  <tbody>\n",
       "    <tr>\n",
       "      <td>0</td>\n",
       "      <td>mm10_XIST</td>\n",
       "      <td>209</td>\n",
       "      <td>210</td>\n",
       "      <td>deltaSHAPE</td>\n",
       "      <td>1.365817</td>\n",
       "    </tr>\n",
       "    <tr>\n",
       "      <td>1</td>\n",
       "      <td>mm10_XIST</td>\n",
       "      <td>210</td>\n",
       "      <td>211</td>\n",
       "      <td>deltaSHAPE</td>\n",
       "      <td>1.504202</td>\n",
       "    </tr>\n",
       "    <tr>\n",
       "      <td>2</td>\n",
       "      <td>mm10_XIST</td>\n",
       "      <td>211</td>\n",
       "      <td>212</td>\n",
       "      <td>deltaSHAPE</td>\n",
       "      <td>1.721811</td>\n",
       "    </tr>\n",
       "    <tr>\n",
       "      <td>3</td>\n",
       "      <td>mm10_XIST</td>\n",
       "      <td>243</td>\n",
       "      <td>244</td>\n",
       "      <td>deltaSHAPE</td>\n",
       "      <td>1.628085</td>\n",
       "    </tr>\n",
       "    <tr>\n",
       "      <td>4</td>\n",
       "      <td>mm10_XIST</td>\n",
       "      <td>244</td>\n",
       "      <td>245</td>\n",
       "      <td>deltaSHAPE</td>\n",
       "      <td>2.116178</td>\n",
       "    </tr>\n",
       "  </tbody>\n",
       "</table>\n",
       "</div>"
      ],
      "text/plain": [
       "  Chromosome  Start  End     Feature  deltaSHAPE\n",
       "0  mm10_XIST    209  210  deltaSHAPE    1.365817\n",
       "1  mm10_XIST    210  211  deltaSHAPE    1.504202\n",
       "2  mm10_XIST    211  212  deltaSHAPE    1.721811\n",
       "3  mm10_XIST    243  244  deltaSHAPE    1.628085\n",
       "4  mm10_XIST    244  245  deltaSHAPE    2.116178"
      ]
     },
     "execution_count": 143,
     "metadata": {},
     "output_type": "execute_result"
    }
   ],
   "source": [
    "deltashaperepone.head()"
   ]
  },
  {
   "cell_type": "code",
   "execution_count": 144,
   "metadata": {},
   "outputs": [
    {
     "data": {
      "text/html": [
       "<div>\n",
       "<style scoped>\n",
       "    .dataframe tbody tr th:only-of-type {\n",
       "        vertical-align: middle;\n",
       "    }\n",
       "\n",
       "    .dataframe tbody tr th {\n",
       "        vertical-align: top;\n",
       "    }\n",
       "\n",
       "    .dataframe thead th {\n",
       "        text-align: right;\n",
       "    }\n",
       "</style>\n",
       "<table border=\"1\" class=\"dataframe\">\n",
       "  <thead>\n",
       "    <tr style=\"text-align: right;\">\n",
       "      <th></th>\n",
       "      <th>Chromosome</th>\n",
       "      <th>Start</th>\n",
       "      <th>End</th>\n",
       "      <th>Feature</th>\n",
       "      <th>deltaSHAPE_rep1</th>\n",
       "    </tr>\n",
       "  </thead>\n",
       "  <tbody>\n",
       "    <tr>\n",
       "      <td>0</td>\n",
       "      <td>mm10_XIST</td>\n",
       "      <td>178</td>\n",
       "      <td>179</td>\n",
       "      <td>deltaSHAPE</td>\n",
       "      <td>-1.525417</td>\n",
       "    </tr>\n",
       "    <tr>\n",
       "      <td>1</td>\n",
       "      <td>mm10_XIST</td>\n",
       "      <td>179</td>\n",
       "      <td>180</td>\n",
       "      <td>deltaSHAPE</td>\n",
       "      <td>-1.403042</td>\n",
       "    </tr>\n",
       "    <tr>\n",
       "      <td>2</td>\n",
       "      <td>mm10_XIST</td>\n",
       "      <td>180</td>\n",
       "      <td>181</td>\n",
       "      <td>deltaSHAPE</td>\n",
       "      <td>-1.415818</td>\n",
       "    </tr>\n",
       "    <tr>\n",
       "      <td>3</td>\n",
       "      <td>mm10_XIST</td>\n",
       "      <td>181</td>\n",
       "      <td>182</td>\n",
       "      <td>deltaSHAPE</td>\n",
       "      <td>-1.232581</td>\n",
       "    </tr>\n",
       "    <tr>\n",
       "      <td>4</td>\n",
       "      <td>mm10_XIST</td>\n",
       "      <td>182</td>\n",
       "      <td>183</td>\n",
       "      <td>deltaSHAPE</td>\n",
       "      <td>-1.556549</td>\n",
       "    </tr>\n",
       "  </tbody>\n",
       "</table>\n",
       "</div>"
      ],
      "text/plain": [
       "  Chromosome  Start  End     Feature  deltaSHAPE_rep1\n",
       "0  mm10_XIST    178  179  deltaSHAPE        -1.525417\n",
       "1  mm10_XIST    179  180  deltaSHAPE        -1.403042\n",
       "2  mm10_XIST    180  181  deltaSHAPE        -1.415818\n",
       "3  mm10_XIST    181  182  deltaSHAPE        -1.232581\n",
       "4  mm10_XIST    182  183  deltaSHAPE        -1.556549"
      ]
     },
     "execution_count": 144,
     "metadata": {},
     "output_type": "execute_result"
    }
   ],
   "source": [
    "deltashapereptwo.head()"
   ]
  },
  {
   "cell_type": "code",
   "execution_count": 145,
   "metadata": {},
   "outputs": [
    {
     "data": {
      "text/html": [
       "<div>\n",
       "<style scoped>\n",
       "    .dataframe tbody tr th:only-of-type {\n",
       "        vertical-align: middle;\n",
       "    }\n",
       "\n",
       "    .dataframe tbody tr th {\n",
       "        vertical-align: top;\n",
       "    }\n",
       "\n",
       "    .dataframe thead th {\n",
       "        text-align: right;\n",
       "    }\n",
       "</style>\n",
       "<table border=\"1\" class=\"dataframe\">\n",
       "  <thead>\n",
       "    <tr style=\"text-align: right;\">\n",
       "      <th></th>\n",
       "      <th>Chromosome</th>\n",
       "      <th>Start</th>\n",
       "      <th>End</th>\n",
       "      <th>Feature</th>\n",
       "      <th>deltaSHAPE_rep1</th>\n",
       "    </tr>\n",
       "  </thead>\n",
       "  <tbody>\n",
       "    <tr>\n",
       "      <td>0</td>\n",
       "      <td>mm10_XIST</td>\n",
       "      <td>178</td>\n",
       "      <td>179</td>\n",
       "      <td>deltaSHAPE</td>\n",
       "      <td>-1.525417</td>\n",
       "    </tr>\n",
       "    <tr>\n",
       "      <td>1</td>\n",
       "      <td>mm10_XIST</td>\n",
       "      <td>179</td>\n",
       "      <td>180</td>\n",
       "      <td>deltaSHAPE</td>\n",
       "      <td>-1.403042</td>\n",
       "    </tr>\n",
       "    <tr>\n",
       "      <td>2</td>\n",
       "      <td>mm10_XIST</td>\n",
       "      <td>180</td>\n",
       "      <td>181</td>\n",
       "      <td>deltaSHAPE</td>\n",
       "      <td>-1.415818</td>\n",
       "    </tr>\n",
       "    <tr>\n",
       "      <td>3</td>\n",
       "      <td>mm10_XIST</td>\n",
       "      <td>181</td>\n",
       "      <td>182</td>\n",
       "      <td>deltaSHAPE</td>\n",
       "      <td>-1.232581</td>\n",
       "    </tr>\n",
       "    <tr>\n",
       "      <td>4</td>\n",
       "      <td>mm10_XIST</td>\n",
       "      <td>182</td>\n",
       "      <td>183</td>\n",
       "      <td>deltaSHAPE</td>\n",
       "      <td>-1.556549</td>\n",
       "    </tr>\n",
       "  </tbody>\n",
       "</table>\n",
       "</div>"
      ],
      "text/plain": [
       "  Chromosome  Start  End     Feature  deltaSHAPE_rep1\n",
       "0  mm10_XIST    178  179  deltaSHAPE        -1.525417\n",
       "1  mm10_XIST    179  180  deltaSHAPE        -1.403042\n",
       "2  mm10_XIST    180  181  deltaSHAPE        -1.415818\n",
       "3  mm10_XIST    181  182  deltaSHAPE        -1.232581\n",
       "4  mm10_XIST    182  183  deltaSHAPE        -1.556549"
      ]
     },
     "execution_count": 145,
     "metadata": {},
     "output_type": "execute_result"
    }
   ],
   "source": [
    "deltashapereptwo.head()"
   ]
  },
  {
   "cell_type": "code",
   "execution_count": null,
   "metadata": {},
   "outputs": [],
   "source": []
  },
  {
   "cell_type": "markdown",
   "metadata": {},
   "source": [
    "### The number of published deltaSHAPE sites is lower than the numbers obtained by running the .map file in SHAPEMAP."
   ]
  },
  {
   "cell_type": "code",
   "execution_count": 146,
   "metadata": {},
   "outputs": [
    {
     "name": "stdout",
     "output_type": "stream",
     "text": [
      "461\n",
      "337\n",
      "511\n",
      "430\n"
     ]
    }
   ],
   "source": [
    "print(len(deltashaperepone[deltashaperepone.deltaSHAPE > 0].index))\n",
    "print(len(deltashaperepone[deltashaperepone.deltaSHAPE < 0].index))\n",
    "print(len(deltashapereptwo[deltashapereptwo.deltaSHAPE_rep1 > 0].index))\n",
    "print(len(deltashapereptwo[deltashapereptwo.deltaSHAPE_rep1 < 0].index))"
   ]
  },
  {
   "cell_type": "code",
   "execution_count": 147,
   "metadata": {},
   "outputs": [
    {
     "data": {
      "text/html": [
       "<div>\n",
       "<style scoped>\n",
       "    .dataframe tbody tr th:only-of-type {\n",
       "        vertical-align: middle;\n",
       "    }\n",
       "\n",
       "    .dataframe tbody tr th {\n",
       "        vertical-align: top;\n",
       "    }\n",
       "\n",
       "    .dataframe thead th {\n",
       "        text-align: right;\n",
       "    }\n",
       "</style>\n",
       "<table border=\"1\" class=\"dataframe\">\n",
       "  <thead>\n",
       "    <tr style=\"text-align: right;\">\n",
       "      <th></th>\n",
       "      <th>nucleotide_number</th>\n",
       "      <th>nucleotide_identity</th>\n",
       "      <th>DeltaSHAPE_ex_vivo</th>\n",
       "      <th>DeltaSHAPE_in_cell</th>\n",
       "      <th>average_deltaSHAPE</th>\n",
       "      <th>CELF1</th>\n",
       "      <th>FUS</th>\n",
       "      <th>HuR</th>\n",
       "      <th>PTBP1</th>\n",
       "      <th>RBFOX2</th>\n",
       "      <th>TARDBP</th>\n",
       "      <th>diffBUMHMM_in_cell</th>\n",
       "      <th>diffBUMHMM_ex_vivo</th>\n",
       "      <th>dStruct_DDR</th>\n",
       "    </tr>\n",
       "  </thead>\n",
       "  <tbody>\n",
       "    <tr>\n",
       "      <td>0</td>\n",
       "      <td>1</td>\n",
       "      <td>C</td>\n",
       "      <td>0</td>\n",
       "      <td>0</td>\n",
       "      <td>0.0</td>\n",
       "      <td>0</td>\n",
       "      <td>0</td>\n",
       "      <td>0</td>\n",
       "      <td>0</td>\n",
       "      <td>0</td>\n",
       "      <td>0</td>\n",
       "      <td>1.693237e-14</td>\n",
       "      <td>1.790644e-20</td>\n",
       "      <td>0</td>\n",
       "    </tr>\n",
       "    <tr>\n",
       "      <td>1</td>\n",
       "      <td>2</td>\n",
       "      <td>G</td>\n",
       "      <td>0</td>\n",
       "      <td>0</td>\n",
       "      <td>0.0</td>\n",
       "      <td>0</td>\n",
       "      <td>0</td>\n",
       "      <td>0</td>\n",
       "      <td>0</td>\n",
       "      <td>0</td>\n",
       "      <td>0</td>\n",
       "      <td>6.789051e-03</td>\n",
       "      <td>6.823904e-03</td>\n",
       "      <td>0</td>\n",
       "    </tr>\n",
       "    <tr>\n",
       "      <td>2</td>\n",
       "      <td>3</td>\n",
       "      <td>G</td>\n",
       "      <td>0</td>\n",
       "      <td>0</td>\n",
       "      <td>0.0</td>\n",
       "      <td>0</td>\n",
       "      <td>0</td>\n",
       "      <td>0</td>\n",
       "      <td>0</td>\n",
       "      <td>0</td>\n",
       "      <td>0</td>\n",
       "      <td>9.031615e-03</td>\n",
       "      <td>9.110841e-03</td>\n",
       "      <td>0</td>\n",
       "    </tr>\n",
       "    <tr>\n",
       "      <td>3</td>\n",
       "      <td>4</td>\n",
       "      <td>C</td>\n",
       "      <td>0</td>\n",
       "      <td>0</td>\n",
       "      <td>0.0</td>\n",
       "      <td>0</td>\n",
       "      <td>0</td>\n",
       "      <td>0</td>\n",
       "      <td>0</td>\n",
       "      <td>0</td>\n",
       "      <td>0</td>\n",
       "      <td>6.793530e-03</td>\n",
       "      <td>6.927069e-03</td>\n",
       "      <td>0</td>\n",
       "    </tr>\n",
       "    <tr>\n",
       "      <td>4</td>\n",
       "      <td>5</td>\n",
       "      <td>T</td>\n",
       "      <td>0</td>\n",
       "      <td>0</td>\n",
       "      <td>0.0</td>\n",
       "      <td>0</td>\n",
       "      <td>0</td>\n",
       "      <td>0</td>\n",
       "      <td>0</td>\n",
       "      <td>0</td>\n",
       "      <td>0</td>\n",
       "      <td>1.128597e-08</td>\n",
       "      <td>5.186918e-06</td>\n",
       "      <td>0</td>\n",
       "    </tr>\n",
       "  </tbody>\n",
       "</table>\n",
       "</div>"
      ],
      "text/plain": [
       "   nucleotide_number nucleotide_identity  DeltaSHAPE_ex_vivo  \\\n",
       "0                  1                   C                   0   \n",
       "1                  2                   G                   0   \n",
       "2                  3                   G                   0   \n",
       "3                  4                   C                   0   \n",
       "4                  5                   T                   0   \n",
       "\n",
       "   DeltaSHAPE_in_cell  average_deltaSHAPE  CELF1  FUS  HuR  PTBP1  RBFOX2  \\\n",
       "0                   0                 0.0      0    0    0      0       0   \n",
       "1                   0                 0.0      0    0    0      0       0   \n",
       "2                   0                 0.0      0    0    0      0       0   \n",
       "3                   0                 0.0      0    0    0      0       0   \n",
       "4                   0                 0.0      0    0    0      0       0   \n",
       "\n",
       "   TARDBP  diffBUMHMM_in_cell  diffBUMHMM_ex_vivo  dStruct_DDR  \n",
       "0       0        1.693237e-14        1.790644e-20            0  \n",
       "1       0        6.789051e-03        6.823904e-03            0  \n",
       "2       0        9.031615e-03        9.110841e-03            0  \n",
       "3       0        6.793530e-03        6.927069e-03            0  \n",
       "4       0        1.128597e-08        5.186918e-06            0  "
      ]
     },
     "execution_count": 147,
     "metadata": {},
     "output_type": "execute_result"
    }
   ],
   "source": [
    "alldata.head()"
   ]
  },
  {
   "cell_type": "code",
   "execution_count": 148,
   "metadata": {},
   "outputs": [
    {
     "data": {
      "text/html": [
       "<div>\n",
       "<style scoped>\n",
       "    .dataframe tbody tr th:only-of-type {\n",
       "        vertical-align: middle;\n",
       "    }\n",
       "\n",
       "    .dataframe tbody tr th {\n",
       "        vertical-align: top;\n",
       "    }\n",
       "\n",
       "    .dataframe thead th {\n",
       "        text-align: right;\n",
       "    }\n",
       "</style>\n",
       "<table border=\"1\" class=\"dataframe\">\n",
       "  <thead>\n",
       "    <tr style=\"text-align: right;\">\n",
       "      <th></th>\n",
       "      <th>nucleotide_number</th>\n",
       "      <th>nucleotide_identity</th>\n",
       "      <th>DeltaSHAPE_ex_vivo</th>\n",
       "      <th>DeltaSHAPE_in_cell</th>\n",
       "      <th>average_deltaSHAPE</th>\n",
       "      <th>CELF1</th>\n",
       "      <th>FUS</th>\n",
       "      <th>HuR</th>\n",
       "      <th>PTBP1</th>\n",
       "      <th>RBFOX2</th>\n",
       "      <th>TARDBP</th>\n",
       "      <th>diffBUMHMM_in_cell</th>\n",
       "      <th>diffBUMHMM_ex_vivo</th>\n",
       "      <th>dStruct_DDR</th>\n",
       "    </tr>\n",
       "  </thead>\n",
       "  <tbody>\n",
       "    <tr>\n",
       "      <td>209</td>\n",
       "      <td>210</td>\n",
       "      <td>T</td>\n",
       "      <td>1</td>\n",
       "      <td>0</td>\n",
       "      <td>1.365817</td>\n",
       "      <td>0</td>\n",
       "      <td>0</td>\n",
       "      <td>0</td>\n",
       "      <td>0</td>\n",
       "      <td>0</td>\n",
       "      <td>0</td>\n",
       "      <td>3.341549e-04</td>\n",
       "      <td>4.392628e-01</td>\n",
       "      <td>1</td>\n",
       "    </tr>\n",
       "    <tr>\n",
       "      <td>210</td>\n",
       "      <td>211</td>\n",
       "      <td>T</td>\n",
       "      <td>1</td>\n",
       "      <td>0</td>\n",
       "      <td>1.504202</td>\n",
       "      <td>0</td>\n",
       "      <td>0</td>\n",
       "      <td>0</td>\n",
       "      <td>0</td>\n",
       "      <td>0</td>\n",
       "      <td>0</td>\n",
       "      <td>6.123091e-24</td>\n",
       "      <td>1.242867e-52</td>\n",
       "      <td>1</td>\n",
       "    </tr>\n",
       "    <tr>\n",
       "      <td>211</td>\n",
       "      <td>212</td>\n",
       "      <td>T</td>\n",
       "      <td>1</td>\n",
       "      <td>0</td>\n",
       "      <td>1.721811</td>\n",
       "      <td>0</td>\n",
       "      <td>0</td>\n",
       "      <td>0</td>\n",
       "      <td>0</td>\n",
       "      <td>0</td>\n",
       "      <td>0</td>\n",
       "      <td>1.802013e-04</td>\n",
       "      <td>2.930757e-01</td>\n",
       "      <td>1</td>\n",
       "    </tr>\n",
       "    <tr>\n",
       "      <td>243</td>\n",
       "      <td>244</td>\n",
       "      <td>A</td>\n",
       "      <td>1</td>\n",
       "      <td>0</td>\n",
       "      <td>1.628085</td>\n",
       "      <td>0</td>\n",
       "      <td>0</td>\n",
       "      <td>1</td>\n",
       "      <td>0</td>\n",
       "      <td>0</td>\n",
       "      <td>0</td>\n",
       "      <td>2.619692e-12</td>\n",
       "      <td>3.105350e-56</td>\n",
       "      <td>1</td>\n",
       "    </tr>\n",
       "    <tr>\n",
       "      <td>244</td>\n",
       "      <td>245</td>\n",
       "      <td>T</td>\n",
       "      <td>1</td>\n",
       "      <td>0</td>\n",
       "      <td>2.116178</td>\n",
       "      <td>0</td>\n",
       "      <td>0</td>\n",
       "      <td>1</td>\n",
       "      <td>0</td>\n",
       "      <td>0</td>\n",
       "      <td>0</td>\n",
       "      <td>1.021677e-03</td>\n",
       "      <td>2.388718e-01</td>\n",
       "      <td>1</td>\n",
       "    </tr>\n",
       "  </tbody>\n",
       "</table>\n",
       "</div>"
      ],
      "text/plain": [
       "     nucleotide_number nucleotide_identity  DeltaSHAPE_ex_vivo  \\\n",
       "209                210                   T                   1   \n",
       "210                211                   T                   1   \n",
       "211                212                   T                   1   \n",
       "243                244                   A                   1   \n",
       "244                245                   T                   1   \n",
       "\n",
       "     DeltaSHAPE_in_cell  average_deltaSHAPE  CELF1  FUS  HuR  PTBP1  RBFOX2  \\\n",
       "209                   0            1.365817      0    0    0      0       0   \n",
       "210                   0            1.504202      0    0    0      0       0   \n",
       "211                   0            1.721811      0    0    0      0       0   \n",
       "243                   0            1.628085      0    0    1      0       0   \n",
       "244                   0            2.116178      0    0    1      0       0   \n",
       "\n",
       "     TARDBP  diffBUMHMM_in_cell  diffBUMHMM_ex_vivo  dStruct_DDR  \n",
       "209       0        3.341549e-04        4.392628e-01            1  \n",
       "210       0        6.123091e-24        1.242867e-52            1  \n",
       "211       0        1.802013e-04        2.930757e-01            1  \n",
       "243       0        2.619692e-12        3.105350e-56            1  \n",
       "244       0        1.021677e-03        2.388718e-01            1  "
      ]
     },
     "execution_count": 148,
     "metadata": {},
     "output_type": "execute_result"
    }
   ],
   "source": [
    "alldata[alldata.average_deltaSHAPE > 0].head()"
   ]
  },
  {
   "cell_type": "code",
   "execution_count": 149,
   "metadata": {},
   "outputs": [
    {
     "data": {
      "text/plain": [
       "Index(['nucleotide_number', 'nucleotide_identity', 'DeltaSHAPE_ex_vivo',\n",
       "       'DeltaSHAPE_in_cell', 'average_deltaSHAPE', 'CELF1', 'FUS', 'HuR',\n",
       "       'PTBP1', 'RBFOX2', 'TARDBP', 'diffBUMHMM_in_cell', 'diffBUMHMM_ex_vivo',\n",
       "       'dStruct_DDR'],\n",
       "      dtype='object')"
      ]
     },
     "execution_count": 149,
     "metadata": {},
     "output_type": "execute_result"
    }
   ],
   "source": [
    "alldata.columns"
   ]
  },
  {
   "cell_type": "code",
   "execution_count": 150,
   "metadata": {},
   "outputs": [
    {
     "data": {
      "text/plain": [
       "Index(['DeltaSHAPE_ex_vivo', 'DeltaSHAPE_in_cell', 'average_deltaSHAPE'], dtype='object')"
      ]
     },
     "execution_count": 150,
     "metadata": {},
     "output_type": "execute_result"
    }
   ],
   "source": [
    "alldata.columns[2:5]"
   ]
  },
  {
   "cell_type": "markdown",
   "metadata": {},
   "source": [
    "### Merging the two datasets and only keeping those that had deltaSHAPE values in both"
   ]
  },
  {
   "cell_type": "code",
   "execution_count": 151,
   "metadata": {},
   "outputs": [],
   "source": [
    "mergeddict = defaultdict(float)\n",
    "for i,j in deltashaperepone[[\"Start\",\"deltaSHAPE\"]].values:\n",
    "    mergeddict[i] = float(j)\n",
    "firstrep = pd.DataFrame.from_dict(mergeddict,orient='index')"
   ]
  },
  {
   "cell_type": "code",
   "execution_count": 152,
   "metadata": {},
   "outputs": [],
   "source": [
    "mergeddicttwo = defaultdict(float)\n",
    "for i,j in deltashapereptwo[[\"Start\",\"deltaSHAPE_rep1\"]].values:\n",
    "    mergeddicttwo[i] = float(j)\n",
    "secondrep = pd.DataFrame.from_dict(mergeddicttwo,orient='index')"
   ]
  },
  {
   "cell_type": "code",
   "execution_count": 153,
   "metadata": {},
   "outputs": [
    {
     "data": {
      "text/plain": [
       "798"
      ]
     },
     "execution_count": 153,
     "metadata": {},
     "output_type": "execute_result"
    }
   ],
   "source": [
    "len(mergeddict.keys())"
   ]
  },
  {
   "cell_type": "code",
   "execution_count": 154,
   "metadata": {},
   "outputs": [
    {
     "data": {
      "text/plain": [
       "941"
      ]
     },
     "execution_count": 154,
     "metadata": {},
     "output_type": "execute_result"
    }
   ],
   "source": [
    "len(mergeddicttwo.keys())"
   ]
  },
  {
   "cell_type": "markdown",
   "metadata": {},
   "source": [
    "### How many positions do they have in common?"
   ]
  },
  {
   "cell_type": "code",
   "execution_count": 155,
   "metadata": {},
   "outputs": [
    {
     "name": "stdout",
     "output_type": "stream",
     "text": [
      "190\n"
     ]
    }
   ],
   "source": [
    "print(len(set(firstrep.index) & set(secondrep.index)))"
   ]
  },
  {
   "cell_type": "markdown",
   "metadata": {},
   "source": [
    "### That is VERY poor overlap! That means we can't simply average the two datasets!\n",
    "Do the rest of the analyses on both replicates individually. Add them to the big table."
   ]
  },
  {
   "cell_type": "code",
   "execution_count": 167,
   "metadata": {},
   "outputs": [
    {
     "data": {
      "text/plain": [
       "Index(['nucleotide_number', 'nucleotide_identity', 'deltaSHAPE_rep1',\n",
       "       'deltaSHAPE_rep2', 'average_deltaSHAPE', 'CELF1', 'FUS', 'HuR', 'PTBP1',\n",
       "       'RBFOX2', 'TARDBP', 'diffBUMHMM_in_cell', 'diffBUMHMM_ex_vivo',\n",
       "       'dStruct_DDR'],\n",
       "      dtype='object')"
      ]
     },
     "execution_count": 167,
     "metadata": {},
     "output_type": "execute_result"
    }
   ],
   "source": [
    "alldata.columns"
   ]
  },
  {
   "cell_type": "code",
   "execution_count": 168,
   "metadata": {},
   "outputs": [
    {
     "data": {
      "text/plain": [
       "Index(['nucleotide_number', 'nucleotide_identity', 'DeltaSHAPE_ex_vivo',\n",
       "       'DeltaSHAPE_in_cell', 'average_deltaSHAPE', 'CELF1', 'FUS', 'HuR',\n",
       "       'PTBP1', 'RBFOX2', 'TARDBP', 'diffBUMHMM_in_cell', 'diffBUMHMM_ex_vivo',\n",
       "       'dStruct_DDR'],\n",
       "      dtype='object')"
      ]
     },
     "execution_count": 168,
     "metadata": {},
     "output_type": "execute_result"
    }
   ],
   "source": [
    "previous.columns"
   ]
  },
  {
   "cell_type": "code",
   "execution_count": 157,
   "metadata": {},
   "outputs": [],
   "source": [
    "alldata.insert(4,\"deltaSHAPE_rep1\",0)\n",
    "alldata.insert(5,\"deltaSHAPE_rep2\",0)"
   ]
  },
  {
   "cell_type": "code",
   "execution_count": 169,
   "metadata": {},
   "outputs": [],
   "source": [
    "previous.insert(4,\"deltaSHAPE_rep1\",0)\n",
    "previous.insert(5,\"deltaSHAPE_rep2\",0)"
   ]
  },
  {
   "cell_type": "code",
   "execution_count": 158,
   "metadata": {},
   "outputs": [
    {
     "data": {
      "text/plain": [
       "Index(['nucleotide_number', 'nucleotide_identity', 'DeltaSHAPE_ex_vivo',\n",
       "       'DeltaSHAPE_in_cell', 'deltaSHAPE_rep1', 'deltaSHAPE_rep2',\n",
       "       'average_deltaSHAPE', 'CELF1', 'FUS', 'HuR', 'PTBP1', 'RBFOX2',\n",
       "       'TARDBP', 'diffBUMHMM_in_cell', 'diffBUMHMM_ex_vivo', 'dStruct_DDR'],\n",
       "      dtype='object')"
      ]
     },
     "execution_count": 158,
     "metadata": {},
     "output_type": "execute_result"
    }
   ],
   "source": [
    "alldata.columns"
   ]
  },
  {
   "cell_type": "code",
   "execution_count": 170,
   "metadata": {},
   "outputs": [
    {
     "data": {
      "text/plain": [
       "Index(['nucleotide_number', 'nucleotide_identity', 'DeltaSHAPE_ex_vivo',\n",
       "       'DeltaSHAPE_in_cell', 'deltaSHAPE_rep1', 'deltaSHAPE_rep2',\n",
       "       'average_deltaSHAPE', 'CELF1', 'FUS', 'HuR', 'PTBP1', 'RBFOX2',\n",
       "       'TARDBP', 'diffBUMHMM_in_cell', 'diffBUMHMM_ex_vivo', 'dStruct_DDR'],\n",
       "      dtype='object')"
      ]
     },
     "execution_count": 170,
     "metadata": {},
     "output_type": "execute_result"
    }
   ],
   "source": [
    "previous.columns"
   ]
  },
  {
   "cell_type": "code",
   "execution_count": 159,
   "metadata": {},
   "outputs": [],
   "source": [
    "alldata.drop(columns=[\"DeltaSHAPE_ex_vivo\",\"DeltaSHAPE_in_cell\"],inplace=True)"
   ]
  },
  {
   "cell_type": "code",
   "execution_count": 171,
   "metadata": {},
   "outputs": [],
   "source": [
    "previous.drop(columns=[\"DeltaSHAPE_ex_vivo\",\"DeltaSHAPE_in_cell\"],inplace=True)"
   ]
  },
  {
   "cell_type": "markdown",
   "metadata": {},
   "source": [
    "### Adding the two replicates:"
   ]
  },
  {
   "cell_type": "code",
   "execution_count": 166,
   "metadata": {},
   "outputs": [],
   "source": [
    "for pos in firstrep.index:\n",
    "    pos = int(pos)\n",
    "    value = firstrep.loc[pos].values[0]\n",
    "    alldata.loc[pos-1,\"deltaSHAPE_rep1\"] = value\n",
    "    \n",
    "for pos in secondrep.index:\n",
    "    pos = int(pos)\n",
    "    value = secondrep.loc[pos].values[0]\n",
    "    alldata.loc[pos-1,\"deltaSHAPE_rep2\"] = value"
   ]
  },
  {
   "cell_type": "code",
   "execution_count": 172,
   "metadata": {},
   "outputs": [],
   "source": [
    "for pos in firstrep.index:\n",
    "    pos = int(pos)\n",
    "    value = firstrep.loc[pos].values[0]\n",
    "    previous.loc[pos-1,\"deltaSHAPE_rep1\"] = value\n",
    "    \n",
    "for pos in secondrep.index:\n",
    "    pos = int(pos)\n",
    "    value = secondrep.loc[pos].values[0]\n",
    "    previous.loc[pos-1,\"deltaSHAPE_rep2\"] = value"
   ]
  },
  {
   "cell_type": "code",
   "execution_count": 173,
   "metadata": {},
   "outputs": [],
   "source": [
    "alldata.to_csv('../../big_dataframe_Xist_diffBUM_HMM_scaled_dc_deltaSHAPE_corrected.txt',sep=\"\\t\")\n",
    "previous.to_csv('../../big_dataframe_Xist_deltaSHAPE_corrected.txt',sep=\"\\t\")"
   ]
  },
  {
   "cell_type": "code",
   "execution_count": null,
   "metadata": {},
   "outputs": [],
   "source": []
  },
  {
   "cell_type": "code",
   "execution_count": null,
   "metadata": {},
   "outputs": [],
   "source": []
  }
 ],
 "metadata": {
  "kernelspec": {
   "display_name": "Python 3",
   "language": "python",
   "name": "python3"
  },
  "language_info": {
   "codemirror_mode": {
    "name": "ipython",
    "version": 3
   },
   "file_extension": ".py",
   "mimetype": "text/x-python",
   "name": "python",
   "nbconvert_exporter": "python",
   "pygments_lexer": "ipython3",
   "version": "3.7.1"
  }
 },
 "nbformat": 4,
 "nbformat_minor": 2
}
