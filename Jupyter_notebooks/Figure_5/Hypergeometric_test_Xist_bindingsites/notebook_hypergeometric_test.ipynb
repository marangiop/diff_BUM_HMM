{
 "cells": [
  {
   "cell_type": "markdown",
   "metadata": {},
   "source": [
    "## This notebook contains the code used for generating the panels shown in Figure 5D.\n",
    "The aim was to calculate whether DRNs were enriched in known RNA-binding sites. "
   ]
  },
  {
   "cell_type": "code",
   "execution_count": 1,
   "metadata": {},
   "outputs": [
    {
     "name": "stderr",
     "output_type": "stream",
     "text": [
      "\n",
      "Bad key \"text.kerning_factor\" on line 4 in\n",
      "/anaconda3/lib/python3.7/site-packages/matplotlib/mpl-data/stylelib/_classic_test_patch.mplstyle.\n",
      "You probably need to get an updated matplotlibrc file from\n",
      "http://github.com/matplotlib/matplotlib/blob/master/matplotlibrc.template\n",
      "or from the matplotlib source distribution\n"
     ]
    }
   ],
   "source": [
    "import os\n",
    "import sys\n",
    "import pandas as pd\n",
    "import numpy as np\n",
    "import matplotlib.pyplot as plt\n",
    "import seaborn as sns\n",
    "from scipy.special import comb\n",
    "from scipy.stats import hypergeom\n",
    "from matplotlib import rcParams\n",
    "from collections import defaultdict\n",
    "rcParams['font.family'] = 'sans-serif'\n",
    "rcParams['font.sans-serif'] = ['Arial']\n",
    "rcParams['pdf.fonttype'] = 42\n",
    "rcParams['axes.formatter.useoffset'] = False"
   ]
  },
  {
   "cell_type": "code",
   "execution_count": 2,
   "metadata": {},
   "outputs": [],
   "source": [
    "def formatAxes(ax,text_size=10,xlim=None,xlabel=None,xticks=None,xticklabels=None,ylim=None,yticks=None,ylabel=None,yticklabels=None):\n",
    "    \"\"\" to tweak the plotting of the axes as well as the fontsize \"\"\"\n",
    "    for loc,spine in list(ax.spines.items()):\n",
    "        if loc == 'left': # settings for the y-axis\n",
    "            if yticklabels and not yticks:\n",
    "                sys.stderr.write(\"Need to provide a list wiht both y-labels and y-ticks!\")\n",
    "            if yticks:\n",
    "                ax.yaxis.set_ticks_position('left')\n",
    "                ax.yaxis.set_tick_params(direction='out')\n",
    "                spine.set_visible(True)\n",
    "                spine.set_position((\"outward\",1))\n",
    "                spine.set_smart_bounds(True)\n",
    "                ax.set_yticks(yticks)\n",
    "                if ylim:\n",
    "                    ax.set_ylim(ylim)\n",
    "                if yticklabels:\n",
    "                    ax.set_yticklabels(yticklabels,fontsize=text_size)\n",
    "            else:\n",
    "                spine.set_visible(False)\n",
    "                ax.set_yticklabels([])\n",
    "                ax.tick_params(axis='y',which='both',length=0)\n",
    "                \n",
    "            if ylabel:\n",
    "                ax.set_ylabel(ylabel,fontsize=text_size,rotation=0,labelpad=160)\n",
    "                ax.get_yaxis().set_label_coords(-0.1,0.5)\n",
    "        elif loc == 'bottom': # settings for x-axis\n",
    "            if xticks:\n",
    "                spine.set_position('zero')\n",
    "                spine.set_visible(False)\n",
    "                spine.set_smart_bounds(False)\n",
    "                ax.set_xticks(xticks)\n",
    "                ax.tick_params(axis='x',which='both',length=0)\n",
    "                if xlim:\n",
    "                    ax.set_xlim(xlim)\n",
    "                if xticklabels:\n",
    "                    ax.set_xticklabels(xticklabels,fontsize=text_size)\n",
    "            else:\n",
    "                spine.set_visible(False)\n",
    "                ax.set_xticklabels([])\n",
    "                ax.tick_params(axis='x',which='both',length=0)\n",
    "                \n",
    "            if xlabel:\n",
    "                ax.tick_params(axis='x',which='both',length=0)\n",
    "                ax.set_xlabel(xlabel,fontsize=text_size+2)\n",
    "                ax.xaxis.labelpad = 10\n",
    "        else:\n",
    "            spine.set_visible(False)\n",
    "    ax.patch.set_visible(False)"
   ]
  },
  {
   "cell_type": "markdown",
   "metadata": {},
   "source": [
    "### Loading the big dataframe:"
   ]
  },
  {
   "cell_type": "code",
   "execution_count": 3,
   "metadata": {},
   "outputs": [],
   "source": [
    "alldata = pd.read_csv('../../../Data/New_data_table_Xist.txt',\\\n",
    "                      sep=\"\\t\",\\\n",
    "                      header=0,\\\n",
    "                      index_col=0)"
   ]
  },
  {
   "cell_type": "markdown",
   "metadata": {},
   "source": [
    "### Masking positions not considered by deltaSHAPE:"
   ]
  },
  {
   "cell_type": "code",
   "execution_count": 4,
   "metadata": {},
   "outputs": [
    {
     "name": "stdout",
     "output_type": "stream",
     "text": [
      "2517\n"
     ]
    }
   ],
   "source": [
    "positionstomask = alldata[(alldata[\"SHAPE_reactivity_ex_vivo_1\"] < -900) | \n",
    "                          (alldata[\"SHAPE_reactivity_ex_vivo_2\"] < -900) |\n",
    "                          (alldata[\"SHAPE_reactivity_in_cell_1\"] < -900) | \n",
    "                          (alldata[\"SHAPE_reactivity_in_cell_2\"] < -900)].index\n",
    "print(len(positionstomask))\n",
    "alldata.loc[positionstomask,alldata.columns[11:]] = np.nan"
   ]
  },
  {
   "cell_type": "markdown",
   "metadata": {},
   "source": [
    "### Setting the threshold for calling DRNs in the diffBUM-HMM data"
   ]
  },
  {
   "cell_type": "code",
   "execution_count": 5,
   "metadata": {},
   "outputs": [],
   "source": [
    "threshold = 0.95"
   ]
  },
  {
   "cell_type": "code",
   "execution_count": 6,
   "metadata": {},
   "outputs": [
    {
     "data": {
      "text/html": [
       "<div>\n",
       "<style scoped>\n",
       "    .dataframe tbody tr th:only-of-type {\n",
       "        vertical-align: middle;\n",
       "    }\n",
       "\n",
       "    .dataframe tbody tr th {\n",
       "        vertical-align: top;\n",
       "    }\n",
       "\n",
       "    .dataframe thead th {\n",
       "        text-align: right;\n",
       "    }\n",
       "</style>\n",
       "<table border=\"1\" class=\"dataframe\">\n",
       "  <thead>\n",
       "    <tr style=\"text-align: right;\">\n",
       "      <th></th>\n",
       "      <th>nucleotide</th>\n",
       "      <th>CELF1</th>\n",
       "      <th>FUS</th>\n",
       "      <th>HuR</th>\n",
       "      <th>PTBP1</th>\n",
       "      <th>RBFOX2</th>\n",
       "      <th>TARDBP</th>\n",
       "      <th>SHAPE_reactivity_ex_vivo_1</th>\n",
       "      <th>SHAPE_reactivity_ex_vivo_2</th>\n",
       "      <th>SHAPE_reactivity_in_cell_1</th>\n",
       "      <th>...</th>\n",
       "      <th>dStruct_scaled</th>\n",
       "      <th>unmodified</th>\n",
       "      <th>ex_vivo</th>\n",
       "      <th>in_vivo</th>\n",
       "      <th>both</th>\n",
       "      <th>scaled_unmodified</th>\n",
       "      <th>scaled_ex_vivo</th>\n",
       "      <th>scaled_in_vivo</th>\n",
       "      <th>scaled_both</th>\n",
       "      <th>base_paired_to</th>\n",
       "    </tr>\n",
       "  </thead>\n",
       "  <tbody>\n",
       "    <tr>\n",
       "      <td>1</td>\n",
       "      <td>C</td>\n",
       "      <td>0</td>\n",
       "      <td>0</td>\n",
       "      <td>0</td>\n",
       "      <td>0</td>\n",
       "      <td>0</td>\n",
       "      <td>0</td>\n",
       "      <td>-999.0</td>\n",
       "      <td>-999.0</td>\n",
       "      <td>-999.0</td>\n",
       "      <td>...</td>\n",
       "      <td>NaN</td>\n",
       "      <td>NaN</td>\n",
       "      <td>NaN</td>\n",
       "      <td>NaN</td>\n",
       "      <td>NaN</td>\n",
       "      <td>NaN</td>\n",
       "      <td>NaN</td>\n",
       "      <td>NaN</td>\n",
       "      <td>NaN</td>\n",
       "      <td>NaN</td>\n",
       "    </tr>\n",
       "    <tr>\n",
       "      <td>2</td>\n",
       "      <td>G</td>\n",
       "      <td>0</td>\n",
       "      <td>0</td>\n",
       "      <td>0</td>\n",
       "      <td>0</td>\n",
       "      <td>0</td>\n",
       "      <td>0</td>\n",
       "      <td>-999.0</td>\n",
       "      <td>-999.0</td>\n",
       "      <td>-999.0</td>\n",
       "      <td>...</td>\n",
       "      <td>NaN</td>\n",
       "      <td>NaN</td>\n",
       "      <td>NaN</td>\n",
       "      <td>NaN</td>\n",
       "      <td>NaN</td>\n",
       "      <td>NaN</td>\n",
       "      <td>NaN</td>\n",
       "      <td>NaN</td>\n",
       "      <td>NaN</td>\n",
       "      <td>NaN</td>\n",
       "    </tr>\n",
       "    <tr>\n",
       "      <td>3</td>\n",
       "      <td>G</td>\n",
       "      <td>0</td>\n",
       "      <td>0</td>\n",
       "      <td>0</td>\n",
       "      <td>0</td>\n",
       "      <td>0</td>\n",
       "      <td>0</td>\n",
       "      <td>-999.0</td>\n",
       "      <td>-999.0</td>\n",
       "      <td>-999.0</td>\n",
       "      <td>...</td>\n",
       "      <td>NaN</td>\n",
       "      <td>NaN</td>\n",
       "      <td>NaN</td>\n",
       "      <td>NaN</td>\n",
       "      <td>NaN</td>\n",
       "      <td>NaN</td>\n",
       "      <td>NaN</td>\n",
       "      <td>NaN</td>\n",
       "      <td>NaN</td>\n",
       "      <td>NaN</td>\n",
       "    </tr>\n",
       "    <tr>\n",
       "      <td>4</td>\n",
       "      <td>C</td>\n",
       "      <td>0</td>\n",
       "      <td>0</td>\n",
       "      <td>0</td>\n",
       "      <td>0</td>\n",
       "      <td>0</td>\n",
       "      <td>0</td>\n",
       "      <td>-999.0</td>\n",
       "      <td>-999.0</td>\n",
       "      <td>-999.0</td>\n",
       "      <td>...</td>\n",
       "      <td>NaN</td>\n",
       "      <td>NaN</td>\n",
       "      <td>NaN</td>\n",
       "      <td>NaN</td>\n",
       "      <td>NaN</td>\n",
       "      <td>NaN</td>\n",
       "      <td>NaN</td>\n",
       "      <td>NaN</td>\n",
       "      <td>NaN</td>\n",
       "      <td>NaN</td>\n",
       "    </tr>\n",
       "    <tr>\n",
       "      <td>5</td>\n",
       "      <td>T</td>\n",
       "      <td>0</td>\n",
       "      <td>0</td>\n",
       "      <td>0</td>\n",
       "      <td>0</td>\n",
       "      <td>0</td>\n",
       "      <td>0</td>\n",
       "      <td>-999.0</td>\n",
       "      <td>-999.0</td>\n",
       "      <td>-999.0</td>\n",
       "      <td>...</td>\n",
       "      <td>NaN</td>\n",
       "      <td>NaN</td>\n",
       "      <td>NaN</td>\n",
       "      <td>NaN</td>\n",
       "      <td>NaN</td>\n",
       "      <td>NaN</td>\n",
       "      <td>NaN</td>\n",
       "      <td>NaN</td>\n",
       "      <td>NaN</td>\n",
       "      <td>NaN</td>\n",
       "    </tr>\n",
       "  </tbody>\n",
       "</table>\n",
       "<p>5 rows × 24 columns</p>\n",
       "</div>"
      ],
      "text/plain": [
       "  nucleotide  CELF1  FUS  HuR  PTBP1  RBFOX2  TARDBP  \\\n",
       "1          C      0    0    0      0       0       0   \n",
       "2          G      0    0    0      0       0       0   \n",
       "3          G      0    0    0      0       0       0   \n",
       "4          C      0    0    0      0       0       0   \n",
       "5          T      0    0    0      0       0       0   \n",
       "\n",
       "   SHAPE_reactivity_ex_vivo_1  SHAPE_reactivity_ex_vivo_2  \\\n",
       "1                      -999.0                      -999.0   \n",
       "2                      -999.0                      -999.0   \n",
       "3                      -999.0                      -999.0   \n",
       "4                      -999.0                      -999.0   \n",
       "5                      -999.0                      -999.0   \n",
       "\n",
       "   SHAPE_reactivity_in_cell_1  ...  dStruct_scaled  unmodified  ex_vivo  \\\n",
       "1                      -999.0  ...             NaN         NaN      NaN   \n",
       "2                      -999.0  ...             NaN         NaN      NaN   \n",
       "3                      -999.0  ...             NaN         NaN      NaN   \n",
       "4                      -999.0  ...             NaN         NaN      NaN   \n",
       "5                      -999.0  ...             NaN         NaN      NaN   \n",
       "\n",
       "   in_vivo  both  scaled_unmodified  scaled_ex_vivo  scaled_in_vivo  \\\n",
       "1      NaN   NaN                NaN             NaN             NaN   \n",
       "2      NaN   NaN                NaN             NaN             NaN   \n",
       "3      NaN   NaN                NaN             NaN             NaN   \n",
       "4      NaN   NaN                NaN             NaN             NaN   \n",
       "5      NaN   NaN                NaN             NaN             NaN   \n",
       "\n",
       "   scaled_both  base_paired_to  \n",
       "1          NaN             NaN  \n",
       "2          NaN             NaN  \n",
       "3          NaN             NaN  \n",
       "4          NaN             NaN  \n",
       "5          NaN             NaN  \n",
       "\n",
       "[5 rows x 24 columns]"
      ]
     },
     "execution_count": 6,
     "metadata": {},
     "output_type": "execute_result"
    }
   ],
   "source": [
    "alldata.head()"
   ]
  },
  {
   "cell_type": "markdown",
   "metadata": {},
   "source": [
    "### How many nucleotides are diff modified in the diffBUM-HMM data in ex vivo and in vivo?"
   ]
  },
  {
   "cell_type": "code",
   "execution_count": 7,
   "metadata": {},
   "outputs": [
    {
     "name": "stdout",
     "output_type": "stream",
     "text": [
      "ex_vivo:\t1164\n",
      "in_vivo:\t142\n",
      "ex_vivo_norm:\t1739\n",
      "in_vivo_norm:\t188\n"
     ]
    }
   ],
   "source": [
    "ex_vivo_count = len(alldata[alldata.ex_vivo >= threshold])\n",
    "in_vivo_count = len(alldata[alldata.in_vivo >= threshold])\n",
    "ex_vivo_norm_count = len(alldata[alldata.scaled_ex_vivo >= threshold])\n",
    "in_vivo_norm_count = len(alldata[alldata.scaled_in_vivo >= threshold])\n",
    "\n",
    "print(\"ex_vivo:\\t%s\\nin_vivo:\\t%s\\nex_vivo_norm:\\t%s\\nin_vivo_norm:\\t%s\" % \\\n",
    "     (ex_vivo_count,in_vivo_count,ex_vivo_norm_count,in_vivo_norm_count))"
   ]
  },
  {
   "cell_type": "code",
   "execution_count": 8,
   "metadata": {},
   "outputs": [
    {
     "name": "stdout",
     "output_type": "stream",
     "text": [
      "8.19718309859155\n"
     ]
    }
   ],
   "source": [
    "print(ex_vivo_count/in_vivo_count)"
   ]
  },
  {
   "cell_type": "code",
   "execution_count": 9,
   "metadata": {},
   "outputs": [
    {
     "name": "stdout",
     "output_type": "stream",
     "text": [
      "9.25\n"
     ]
    }
   ],
   "source": [
    "print(ex_vivo_norm_count/in_vivo_norm_count)"
   ]
  },
  {
   "cell_type": "code",
   "execution_count": null,
   "metadata": {},
   "outputs": [],
   "source": []
  },
  {
   "cell_type": "markdown",
   "metadata": {},
   "source": [
    "### Count number of DRNs in diffBUM_HMM data:"
   ]
  },
  {
   "cell_type": "code",
   "execution_count": 10,
   "metadata": {},
   "outputs": [],
   "source": [
    "proteins = [\"CELF1\",\"FUS\",\"HuR\",\"PTBP1\",\"RBFOX2\",\"TARDBP\"]\n",
    "samples = [\"in_vivo\",\"in_vivo_scaled\",\"ex_vivo\",\"ex_vivo_scaled\",\\\n",
    "           \"dSHAPE_in_vivo_1\",\"dSHAPE_in_vivo_2\",\"dSHAPE_ex_vivo_1\",\"dSHAPE_ex_vivo_2\"]\n",
    "proteincount = pd.DataFrame(0,index=proteins,columns=samples)"
   ]
  },
  {
   "cell_type": "code",
   "execution_count": 11,
   "metadata": {},
   "outputs": [
    {
     "name": "stdout",
     "output_type": "stream",
     "text": [
      "ex_vivo\t 1164\n",
      "in_vivo\t 142\n"
     ]
    }
   ],
   "source": [
    "num_diff_nucl_ex_vivo = len(alldata[alldata.ex_vivo >= threshold].index)\n",
    "num_diff_nucl_in_vivo = len(alldata[alldata.in_vivo >= threshold].index)\n",
    "\n",
    "print(\"ex_vivo\\t\",num_diff_nucl_ex_vivo)\n",
    "print(\"in_vivo\\t\",num_diff_nucl_in_vivo)"
   ]
  },
  {
   "cell_type": "markdown",
   "metadata": {},
   "source": [
    "### Count number of DRNs in deltaSHAPE data:"
   ]
  },
  {
   "cell_type": "code",
   "execution_count": 12,
   "metadata": {},
   "outputs": [
    {
     "name": "stdout",
     "output_type": "stream",
     "text": [
      "ex_vivo\t 460\n",
      "in_vivo\t 337\n",
      "1.3649851632047478\n"
     ]
    }
   ],
   "source": [
    "num_diff_nucl_ex_vivo_deltaSHAPE_1 = len(alldata[alldata.deltaSHAPE_rep1 > 0].index)\n",
    "num_diff_nucl_in_vivo_deltaSHAPE_1 = len(alldata[alldata.deltaSHAPE_rep1 < 0].index)\n",
    "        \n",
    "print(\"ex_vivo\\t\",num_diff_nucl_ex_vivo_deltaSHAPE_1)\n",
    "print(\"in_vivo\\t\",num_diff_nucl_in_vivo_deltaSHAPE_1)\n",
    "\n",
    "print(num_diff_nucl_ex_vivo_deltaSHAPE_1/num_diff_nucl_in_vivo_deltaSHAPE_1)"
   ]
  },
  {
   "cell_type": "code",
   "execution_count": 13,
   "metadata": {},
   "outputs": [
    {
     "name": "stdout",
     "output_type": "stream",
     "text": [
      "ex_vivo\t 510\n",
      "in_vivo\t 428\n",
      "1.191588785046729\n"
     ]
    }
   ],
   "source": [
    "num_diff_nucl_ex_vivo_deltaSHAPE_2 = len(alldata[alldata.deltaSHAPE_rep2 > 0].index)\n",
    "num_diff_nucl_in_vivo_deltaSHAPE_2 = len(alldata[alldata.deltaSHAPE_rep2 < 0].index)\n",
    "        \n",
    "print(\"ex_vivo\\t\",num_diff_nucl_ex_vivo_deltaSHAPE_2)\n",
    "print(\"in_vivo\\t\",num_diff_nucl_in_vivo_deltaSHAPE_2)\n",
    "\n",
    "print(num_diff_nucl_ex_vivo_deltaSHAPE_2/num_diff_nucl_in_vivo_deltaSHAPE_2)"
   ]
  },
  {
   "cell_type": "markdown",
   "metadata": {},
   "source": [
    "### How many binding sites for each protein were found that overlapped with modified nucleotides in the ex vivo data?"
   ]
  },
  {
   "cell_type": "code",
   "execution_count": 14,
   "metadata": {},
   "outputs": [],
   "source": [
    "morereactive_ex_vivo = alldata[alldata.ex_vivo >= threshold]\n",
    "morereactive_in_vivo = alldata[alldata.in_vivo >= threshold]\n",
    "\n",
    "morereactive_ex_vivo_deltaSHAPE_1 = alldata[alldata.deltaSHAPE_rep1 > 0]\n",
    "morereactive_in_vivo_deltaSHAPE_1 = alldata[alldata.deltaSHAPE_rep1 < 0]\n",
    "\n",
    "morereactive_ex_vivo_deltaSHAPE_2 = alldata[alldata.deltaSHAPE_rep2 > 0]\n",
    "morereactive_in_vivo_deltaSHAPE_2 = alldata[alldata.deltaSHAPE_rep2 < 0]\n",
    "\n",
    "proteins = [\"CELF1\",\"FUS\",\"HuR\",\"PTBP1\",\"RBFOX2\",\"TARDBP\"]"
   ]
  },
  {
   "cell_type": "code",
   "execution_count": 15,
   "metadata": {},
   "outputs": [
    {
     "data": {
      "text/plain": [
       "['CELF1', 'FUS', 'HuR', 'PTBP1', 'RBFOX2', 'TARDBP']"
      ]
     },
     "execution_count": 15,
     "metadata": {},
     "output_type": "execute_result"
    }
   ],
   "source": [
    "proteins"
   ]
  },
  {
   "cell_type": "code",
   "execution_count": 16,
   "metadata": {},
   "outputs": [
    {
     "name": "stdout",
     "output_type": "stream",
     "text": [
      "diffBUM-HMM:\n",
      "{'CELF1': 36, 'FUS': 271, 'HuR': 61, 'PTBP1': 28, 'RBFOX2': 2, 'TARDBP': 39}\n",
      "{'CELF1': 11, 'FUS': 35, 'HuR': 15, 'PTBP1': 7, 'RBFOX2': 1, 'TARDBP': 9}\n",
      "\n",
      "deltaSHAPE replicates:\n",
      "rep1\n",
      "{'CELF1': 69, 'FUS': 70, 'HuR': 131, 'PTBP1': 74, 'RBFOX2': 0, 'TARDBP': 4}\n",
      "{'CELF1': 16, 'FUS': 98, 'HuR': 16, 'PTBP1': 11, 'RBFOX2': 0, 'TARDBP': 4}\n",
      "rep2\n",
      "{'CELF1': 54, 'FUS': 133, 'HuR': 75, 'PTBP1': 50, 'RBFOX2': 3, 'TARDBP': 6}\n",
      "{'CELF1': 10, 'FUS': 120, 'HuR': 19, 'PTBP1': 9, 'RBFOX2': 0, 'TARDBP': 13}\n"
     ]
    }
   ],
   "source": [
    "dict_total_binding_sites_differential_ex_vivo = {}\n",
    "dict_total_binding_sites_differential_in_vivo = {}\n",
    "\n",
    "dict_total_binding_sites_differential_ex_vivo_deltaSHAPE_1 = {}\n",
    "dict_total_binding_sites_differential_in_vivo_deltaSHAPE_1 = {}\n",
    "\n",
    "dict_total_binding_sites_differential_ex_vivo_deltaSHAPE_2 = {}\n",
    "dict_total_binding_sites_differential_in_vivo_deltaSHAPE_2 = {}\n",
    "\n",
    "for protein in proteins:\n",
    "    dict_total_binding_sites_differential_ex_vivo[protein] = morereactive_ex_vivo[protein].sum()\n",
    "    dict_total_binding_sites_differential_ex_vivo_deltaSHAPE_1[protein] = morereactive_ex_vivo_deltaSHAPE_1[protein].sum()\n",
    "    dict_total_binding_sites_differential_ex_vivo_deltaSHAPE_2[protein] = morereactive_ex_vivo_deltaSHAPE_2[protein].sum()\n",
    "\n",
    "    \n",
    "for protein in proteins:\n",
    "    dict_total_binding_sites_differential_in_vivo[protein] = morereactive_in_vivo[protein].sum()\n",
    "    dict_total_binding_sites_differential_in_vivo_deltaSHAPE_1[protein] = morereactive_in_vivo_deltaSHAPE_1[protein].sum()\n",
    "    dict_total_binding_sites_differential_in_vivo_deltaSHAPE_2[protein] = morereactive_in_vivo_deltaSHAPE_2[protein].sum()\n",
    "\n",
    "print(\"diffBUM-HMM:\")\n",
    "print(dict_total_binding_sites_differential_ex_vivo)\n",
    "print(dict_total_binding_sites_differential_in_vivo)\n",
    "print(\"\\ndeltaSHAPE replicates:\")\n",
    "print(\"rep1\")\n",
    "print(dict_total_binding_sites_differential_ex_vivo_deltaSHAPE_1)\n",
    "print(dict_total_binding_sites_differential_in_vivo_deltaSHAPE_1)\n",
    "print(\"rep2\")\n",
    "print(dict_total_binding_sites_differential_ex_vivo_deltaSHAPE_2)\n",
    "print(dict_total_binding_sites_differential_in_vivo_deltaSHAPE_2)"
   ]
  },
  {
   "cell_type": "code",
   "execution_count": 17,
   "metadata": {},
   "outputs": [],
   "source": [
    "##IN CELL"
   ]
  },
  {
   "cell_type": "code",
   "execution_count": 18,
   "metadata": {},
   "outputs": [],
   "source": [
    "morereactive_in_vivo = alldata[alldata.in_vivo >= threshold]"
   ]
  },
  {
   "cell_type": "code",
   "execution_count": 19,
   "metadata": {},
   "outputs": [
    {
     "name": "stdout",
     "output_type": "stream",
     "text": [
      "CELF1\ttotal_count:\t11\n",
      "FUS\ttotal_count:\t35\n",
      "HuR\ttotal_count:\t15\n",
      "PTBP1\ttotal_count:\t7\n",
      "RBFOX2\ttotal_count:\t1\n",
      "TARDBP\ttotal_count:\t9\n"
     ]
    }
   ],
   "source": [
    "for protein in proteins:\n",
    "    print(\"%s\\ttotal_count:\\t%s\" % (protein,morereactive_in_vivo[protein].sum()))"
   ]
  },
  {
   "cell_type": "code",
   "execution_count": 20,
   "metadata": {},
   "outputs": [
    {
     "name": "stdout",
     "output_type": "stream",
     "text": [
      "{'CELF1': 802, 'FUS': 3694, 'HuR': 1149, 'PTBP1': 604, 'RBFOX2': 66, 'TARDBP': 534}\n"
     ]
    }
   ],
   "source": [
    "#COUNTING UP TOTAL NUMBER OF PROTEIN BINDING SITES, EXCLUDING REGIONS NOT USED BY DIFFBUMHM\n",
    "\n",
    "dict_total_binding_sites={}\n",
    "for protein in proteins:\n",
    "    dict_total_binding_sites[protein]=alldata[protein].sum()\n",
    "    \n",
    "print(dict_total_binding_sites)"
   ]
  },
  {
   "cell_type": "markdown",
   "metadata": {},
   "source": [
    "### diffBUM_HMM individual sites:"
   ]
  },
  {
   "cell_type": "code",
   "execution_count": 21,
   "metadata": {},
   "outputs": [
    {
     "name": "stdout",
     "output_type": "stream",
     "text": [
      "         ex_vivo   in_vivo\n",
      "CELF1   0.003144  0.028364\n",
      "FUS     0.002074  0.039432\n",
      "HuR     0.011929  0.019097\n",
      "PTBP1   0.010975       NaN\n",
      "RBFOX2       NaN       NaN\n",
      "TARDBP       NaN  0.016335\n"
     ]
    },
    {
     "data": {
      "image/png": "[encoded data removed]",
      "text/plain": [
       "<Figure size 216x360 with 2 Axes>"
      ]
     },
     "metadata": {
      "needs_background": "light"
     },
     "output_type": "display_data"
    }
   ],
   "source": [
    "'''\n",
    "Written by Sander\n",
    "“M\" would be total number of Xist nucleotides.\n",
    "“n” would in your case be total number of nucleotides that are part of an RNA-binding site (i.e. FUS, etc).\n",
    "“x” would be the total number of differentially modified nucleotides in ex vivo that overlap with the RNA-binding site.\n",
    "“N” would be the total number of differentially modified nucleotides in ex vivo.\n",
    "'''\n",
    "diffbumhmmpvalues = defaultdict(lambda: defaultdict(float))\n",
    "\n",
    "#Length Xist\n",
    "M = 17918\n",
    "\n",
    "for protein in proteins:\n",
    "    n = int(dict_total_binding_sites[protein])\n",
    "    \n",
    "    #ex_vivo\n",
    "    N = num_diff_nucl_ex_vivo\n",
    "    x = dict_total_binding_sites_differential_ex_vivo[protein]\n",
    "    hpd = hypergeom(M, n, N)\n",
    "    p_value = hpd.pmf(x)\n",
    "    diffbumhmmpvalues[\"ex_vivo\"][protein] = p_value\n",
    "    \n",
    "    #in_vivo\n",
    "    N = num_diff_nucl_in_vivo\n",
    "    x = dict_total_binding_sites_differential_in_vivo[protein]\n",
    "    hpd = hypergeom(M, n, N)\n",
    "    p_value = hpd.pmf(x)\n",
    "    diffbumhmmpvalues[\"in_vivo\"][protein] = p_value\n",
    "\n",
    "output = pd.DataFrame.from_dict(diffbumhmmpvalues,orient='columns')\n",
    "output = output.mask(output > 0.05)\n",
    "print(output)\n",
    "output = output.apply(np.log10)*-1\n",
    "\n",
    "\n",
    "fig,ax = plt.subplots(figsize=[3,5])\n",
    "mask = output.isnull()\n",
    "ax = sns.heatmap(output,cmap=\"Blues\",linewidths=.5,mask=mask,cbar_kws={'label':'-log10(p-value)'})\n",
    "ax.set_facecolor(\"lightgrey\")\n",
    "ax.set_yticklabels(ax.get_yticklabels(),rotation=None,horizontalalignment='right')\n",
    "\n",
    "fig.savefig(\"Figure_5D_panel_I.pdf\",dpi=400)"
   ]
  },
  {
   "cell_type": "markdown",
   "metadata": {},
   "source": [
    "### deltaSHAPE individual sites:\n",
    "Replicate 1:"
   ]
  },
  {
   "cell_type": "code",
   "execution_count": 22,
   "metadata": {},
   "outputs": [
    {
     "name": "stdout",
     "output_type": "stream",
     "text": [
      "             ex_vivo   in_vivo\n",
      "CELF1   4.183573e-19       NaN\n",
      "FUS     5.728584e-04  0.000048\n",
      "HuR     1.100427e-50  0.043091\n",
      "PTBP1   6.436755e-30       NaN\n",
      "RBFOX2           NaN       NaN\n",
      "TARDBP  1.354683e-03  0.016989\n"
     ]
    },
    {
     "data": {
      "image/png": "[encoded data removed]",
      "text/plain": [
       "<Figure size 216x360 with 2 Axes>"
      ]
     },
     "metadata": {
      "needs_background": "light"
     },
     "output_type": "display_data"
    }
   ],
   "source": [
    "'''\n",
    "Written by Sander\n",
    "“M\" would be total number of Xist nucleotides.\n",
    "“n” would in your case be total number of nucleotides that are part of an RNA-binding site (i.e. FUS, etc).\n",
    "“x” would be the total number of differentially modified nucleotides in ex vivo that overlap with the RNA-binding site.\n",
    "“N” would be the total number of differentially modified nucleotides in ex vivo.\n",
    "'''\n",
    "deltashapepvalues = defaultdict(lambda: defaultdict(float))\n",
    "\n",
    "#Length Xist\n",
    "M = 17918\n",
    "\n",
    "for protein in proteins:\n",
    "    n = int(dict_total_binding_sites[protein])\n",
    "    \n",
    "    #ex_vivo\n",
    "    N = num_diff_nucl_ex_vivo_deltaSHAPE_1\n",
    "    x = dict_total_binding_sites_differential_ex_vivo_deltaSHAPE_1[protein]\n",
    "    hpd = hypergeom(M, n, N)\n",
    "    p_value = hpd.pmf(x)\n",
    "    deltashapepvalues[\"ex_vivo\"][protein] = p_value\n",
    "\n",
    "    #in_vivo\n",
    "    N = num_diff_nucl_in_vivo_deltaSHAPE_1\n",
    "    x = dict_total_binding_sites_differential_in_vivo_deltaSHAPE_1[protein]\n",
    "    hpd = hypergeom(M, n, N)\n",
    "    p_value = hpd.pmf(x)\n",
    "    deltashapepvalues[\"in_vivo\"][protein] = p_value\n",
    "\n",
    "output = pd.DataFrame.from_dict(deltashapepvalues,orient='columns')\n",
    "output = output.mask(output > 0.05)\n",
    "print(output)\n",
    "output = output.apply(np.log10)*-1\n",
    "\n",
    "fig,ax = plt.subplots(figsize=[3,5])\n",
    "mask = output.isnull()\n",
    "ax = sns.heatmap(output,cmap=\"Blues\",linewidths=.5,mask=mask,cbar_kws={'label':'-log10(p-value)'})\n",
    "ax.set_facecolor(\"lightgrey\")\n",
    "ax.set_yticklabels(ax.get_yticklabels(),rotation=None,horizontalalignment='right')\n",
    "\n",
    "fig.savefig(\"Figure_5D_panel_II.pdf\",dpi=400)"
   ]
  },
  {
   "cell_type": "markdown",
   "metadata": {},
   "source": [
    "### deltaSHAPE individual sites:\n",
    "Replicate 2:"
   ]
  },
  {
   "cell_type": "code",
   "execution_count": 23,
   "metadata": {},
   "outputs": [
    {
     "name": "stdout",
     "output_type": "stream",
     "text": [
      "             ex_vivo       in_vivo\n",
      "CELF1            NaN           NaN\n",
      "FUS     5.201918e-18  2.760868e-60\n",
      "HuR     4.915669e-02  1.091283e-03\n",
      "PTBP1   1.320345e-02  2.911203e-02\n",
      "RBFOX2           NaN           NaN\n",
      "TARDBP  6.351995e-10  2.412169e-04\n"
     ]
    },
    {
     "data": {
      "image/png": "[encoded data removed]",
      "text/plain": [
       "<Figure size 216x360 with 2 Axes>"
      ]
     },
     "metadata": {
      "needs_background": "light"
     },
     "output_type": "display_data"
    }
   ],
   "source": [
    "'''\n",
    "Written by Sander\n",
    "“M\" would be total number of Xist nucleotides.\n",
    "“n” would in your case be total number of nucleotides that are part of an RNA-binding site (i.e. FUS, etc).\n",
    "“x” would be the total number of differentially modified nucleotides in ex vivo that overlap with the RNA-binding site.\n",
    "“N” would be the total number of differentially modified nucleotides in ex vivo.\n",
    "'''\n",
    "deltashapepvalues = defaultdict(lambda: defaultdict(float))\n",
    "\n",
    "#Length Xist\n",
    "M = 17918\n",
    "\n",
    "for protein in proteins:\n",
    "    n = int(dict_total_binding_sites[protein])\n",
    "    \n",
    "    #ex_vivo\n",
    "    N = num_diff_nucl_ex_vivo\n",
    "    x = dict_total_binding_sites_differential_ex_vivo_deltaSHAPE_2[protein]\n",
    "    hpd = hypergeom(M, n, N)\n",
    "    p_value = hpd.pmf(x)\n",
    "    deltashapepvalues[\"ex_vivo\"][protein] = p_value\n",
    "\n",
    "    #in_vivo\n",
    "    N = num_diff_nucl_in_vivo\n",
    "    x = dict_total_binding_sites_differential_in_vivo_deltaSHAPE_2[protein]\n",
    "    hpd = hypergeom(M, n, N)\n",
    "    p_value = hpd.pmf(x)\n",
    "    deltashapepvalues[\"in_vivo\"][protein] = p_value\n",
    "\n",
    "output = pd.DataFrame.from_dict(deltashapepvalues,orient='columns')\n",
    "output = output.mask(output > 0.05)\n",
    "print(output)\n",
    "output = output.apply(np.log10)*-1\n",
    "\n",
    "\n",
    "fig,ax = plt.subplots(figsize=[3,5])\n",
    "mask = output.isnull()\n",
    "ax = sns.heatmap(output,cmap=\"Blues\",linewidths=.5,mask=mask,cbar_kws={'label':'-log10(p-value)'})\n",
    "ax.set_facecolor(\"lightgrey\")\n",
    "ax.set_yticklabels(ax.get_yticklabels(),rotation=None,horizontalalignment='right')\n",
    "\n",
    "fig.savefig(\"Figure_5D_panel_III.pdf\",dpi=400)"
   ]
  },
  {
   "cell_type": "markdown",
   "metadata": {},
   "source": [
    "### All sites diffBUM_HMM"
   ]
  },
  {
   "cell_type": "code",
   "execution_count": 24,
   "metadata": {},
   "outputs": [
    {
     "name": "stdout",
     "output_type": "stream",
     "text": [
      "ex_vivo\t0.02208146966494196\n",
      "in_vivo\t1.909091295478967e-05\n"
     ]
    }
   ],
   "source": [
    "'''\n",
    "Written by Sander\n",
    "“M\" would be total number of Xist nucleotides.\n",
    "“n” would in your case be total number of nucleotides that are part of an RNA-binding site (i.e. FUS, etc).\n",
    "“x” would be the total number of differentially modified nucleotides in ex vivo that overlap with the RNA-binding site.\n",
    "“N” would be the total number of differentially modified nucleotides in ex vivo.\n",
    "'''\n",
    "\n",
    "totals_binding_sites = 0\n",
    "totals_binding_sites_differential_ex_vivo = 0\n",
    "totals_binding_sites_differential_in_vivo = 0\n",
    "\n",
    "for protein in proteins:\n",
    "    totals_binding_sites += int(dict_total_binding_sites[protein])\n",
    "    totals_binding_sites_differential_ex_vivo += dict_total_binding_sites_differential_ex_vivo[protein]\n",
    "    totals_binding_sites_differential_in_vivo += dict_total_binding_sites_differential_in_vivo[protein]\n",
    "    \n",
    "M = 17918\n",
    "#ex_vivo\n",
    "N = num_diff_nucl_ex_vivo\n",
    "n = totals_binding_sites\n",
    "x = totals_binding_sites_differential_ex_vivo\n",
    "\n",
    "hpd = hypergeom(M, n, N)\n",
    "p_value = hpd.pmf(x)\n",
    "print('ex_vivo\\t%s' % p_value)\n",
    "\n",
    "#in_vivo\n",
    "N = num_diff_nucl_in_vivo\n",
    "n = totals_binding_sites\n",
    "x = totals_binding_sites_differential_in_vivo \n",
    "\n",
    "hpd = hypergeom(M, n, N)\n",
    "p_value = hpd.pmf(x)\n",
    "print('in_vivo\\t%s' % p_value)"
   ]
  },
  {
   "cell_type": "markdown",
   "metadata": {},
   "source": [
    "### All sites deltaSHAPE\n",
    "Replicate 1:"
   ]
  },
  {
   "cell_type": "code",
   "execution_count": 25,
   "metadata": {},
   "outputs": [
    {
     "name": "stdout",
     "output_type": "stream",
     "text": [
      "ex_vivo\t1.5473614427772841e-61\n",
      "in_vivo\t0.008471001572248626\n"
     ]
    }
   ],
   "source": [
    "totals_binding_sites = 0\n",
    "totals_binding_sites_differential_ex_vivo = 0\n",
    "totals_binding_sites_differential_in_vivo = 0\n",
    "\n",
    "for protein in proteins:\n",
    "    totals_binding_sites += int(dict_total_binding_sites[protein])\n",
    "    totals_binding_sites_differential_ex_vivo += dict_total_binding_sites_differential_ex_vivo_deltaSHAPE_1[protein]\n",
    "    totals_binding_sites_differential_in_vivo += dict_total_binding_sites_differential_in_vivo_deltaSHAPE_1[protein]\n",
    "    \n",
    "M = 17918\n",
    "#ex_vivo\n",
    "N = num_diff_nucl_ex_vivo_deltaSHAPE_1\n",
    "n = totals_binding_sites\n",
    "x = totals_binding_sites_differential_ex_vivo\n",
    "\n",
    "hpd = hypergeom(M, n, N)\n",
    "p_value = hpd.pmf(x)\n",
    "print('ex_vivo\\t%s' % p_value)\n",
    "\n",
    "#in_vivo\n",
    "N = num_diff_nucl_in_vivo_deltaSHAPE_1\n",
    "n = totals_binding_sites\n",
    "x = totals_binding_sites_differential_in_vivo \n",
    "\n",
    "hpd = hypergeom(M, n, N)\n",
    "p_value = hpd.pmf(x)\n",
    "print('in_vivo\\t%s' % p_value)"
   ]
  },
  {
   "cell_type": "markdown",
   "metadata": {},
   "source": [
    "### All sites deltaSHAPE\n",
    "Replicate 2:"
   ]
  },
  {
   "cell_type": "code",
   "execution_count": 26,
   "metadata": {},
   "outputs": [
    {
     "name": "stdout",
     "output_type": "stream",
     "text": [
      "ex_vivo\t1.399339836638539e-30\n",
      "in_vivo\t0.030222302504486653\n"
     ]
    }
   ],
   "source": [
    "totals_binding_sites = 0\n",
    "totals_binding_sites_differential_ex_vivo = 0\n",
    "totals_binding_sites_differential_in_vivo = 0\n",
    "\n",
    "for protein in proteins:\n",
    "    totals_binding_sites += int(dict_total_binding_sites[protein])\n",
    "    totals_binding_sites_differential_ex_vivo += dict_total_binding_sites_differential_ex_vivo_deltaSHAPE_2[protein]\n",
    "    totals_binding_sites_differential_in_vivo += dict_total_binding_sites_differential_in_vivo_deltaSHAPE_2[protein]\n",
    "    \n",
    "M = 17918\n",
    "#ex_vivo\n",
    "N = num_diff_nucl_ex_vivo_deltaSHAPE_2\n",
    "n = totals_binding_sites\n",
    "x = totals_binding_sites_differential_ex_vivo\n",
    "\n",
    "hpd = hypergeom(M, n, N)\n",
    "p_value = hpd.pmf(x)\n",
    "print('ex_vivo\\t%s' % p_value)\n",
    "\n",
    "#in_vivo\n",
    "N = num_diff_nucl_in_vivo_deltaSHAPE_2\n",
    "n = totals_binding_sites\n",
    "x = totals_binding_sites_differential_in_vivo \n",
    "\n",
    "hpd = hypergeom(M, n, N)\n",
    "p_value = hpd.pmf(x)\n",
    "print('in_vivo\\t%s' % p_value)"
   ]
  },
  {
   "cell_type": "code",
   "execution_count": 27,
   "metadata": {},
   "outputs": [
    {
     "name": "stdout",
     "output_type": "stream",
     "text": [
      "6849\n",
      "1164\n",
      "321\n"
     ]
    }
   ],
   "source": [
    "print(totals_binding_sites)\n",
    "print(num_diff_nucl_ex_vivo)\n",
    "print(totals_binding_sites_differential_ex_vivo)"
   ]
  },
  {
   "cell_type": "code",
   "execution_count": 28,
   "metadata": {},
   "outputs": [
    {
     "name": "stdout",
     "output_type": "stream",
     "text": [
      "6849\n",
      "460\n",
      "321\n"
     ]
    }
   ],
   "source": [
    "print(totals_binding_sites)\n",
    "print(num_diff_nucl_ex_vivo_deltaSHAPE_1)\n",
    "print(totals_binding_sites_differential_ex_vivo)"
   ]
  },
  {
   "cell_type": "code",
   "execution_count": null,
   "metadata": {},
   "outputs": [],
   "source": []
  },
  {
   "cell_type": "code",
   "execution_count": null,
   "metadata": {},
   "outputs": [],
   "source": []
  }
 ],
 "metadata": {
  "kernelspec": {
   "display_name": "Python 3",
   "language": "python",
   "name": "python3"
  },
  "language_info": {
   "codemirror_mode": {
    "name": "ipython",
    "version": 3
   },
   "file_extension": ".py",
   "mimetype": "text/x-python",
   "name": "python",
   "nbconvert_exporter": "python",
   "pygments_lexer": "ipython3",
   "version": "3.7.1"
  }
 },
 "nbformat": 4,
 "nbformat_minor": 2
}
