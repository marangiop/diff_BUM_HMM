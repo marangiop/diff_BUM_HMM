{
 "cells": [
  {
   "cell_type": "code",
   "execution_count": 1,
   "metadata": {},
   "outputs": [
    {
     "name": "stderr",
     "output_type": "stream",
     "text": [
      "\n",
      "Bad key \"text.kerning_factor\" on line 4 in\n",
      "/anaconda3/lib/python3.7/site-packages/matplotlib/mpl-data/stylelib/_classic_test_patch.mplstyle.\n",
      "You probably need to get an updated matplotlibrc file from\n",
      "http://github.com/matplotlib/matplotlib/blob/master/matplotlibrc.template\n",
      "or from the matplotlib source distribution\n"
     ]
    }
   ],
   "source": [
    "import os\n",
    "import sys\n",
    "import pandas as pd\n",
    "import numpy as np\n",
    "import matplotlib.pyplot as plt\n",
    "import seaborn as sns\n",
    "sns.set()\n",
    "import itertools\n",
    "from matplotlib import rcParams\n",
    "from collections import defaultdict\n",
    "rcParams['font.family'] = 'sans-serif'\n",
    "rcParams['font.sans-serif'] = ['Arial']\n",
    "rcParams['pdf.fonttype'] = 42\n",
    "rcParams['axes.formatter.useoffset'] = False"
   ]
  },
  {
   "cell_type": "code",
   "execution_count": 2,
   "metadata": {},
   "outputs": [
    {
     "data": {
      "image/png": "[encoded data removed]",
      "text/plain": [
       "<Figure size 288x360 with 1 Axes>"
      ]
     },
     "metadata": {
      "needs_background": "light"
     },
     "output_type": "display_data"
    }
   ],
   "source": [
    "#35s MOLECULE\n",
    "counter=0\n",
    "list_output_values=[]\n",
    "with open('output_35S_150_permutations') as topo_file:\n",
    "    for index, line  in enumerate(topo_file):\n",
    "        \n",
    "        if index > 3304:\n",
    "            split=line.split('.')\n",
    "            if split[0] == '0':\n",
    "                #print('ciaone')\n",
    "                new_list =[]\n",
    "                new_list.append('35S')\n",
    "                new_list.append(float(line))\n",
    "                counter=counter+1\n",
    "                list_output_values.append(new_list)\n",
    "                del new_list\n",
    "\n",
    "\n",
    "df = pd.DataFrame(list_output_values, columns = ['Molecule', 'Prediction mismatch rate']) \n",
    "\n",
    "#----------------------------------------------------\n",
    "\n",
    "counter=0\n",
    "list_output_values=[]\n",
    "with open('output_Xist_150_permutations') as topo_file:\n",
    "    for index, line  in enumerate(topo_file):\n",
    "        \n",
    "        if index > 3276:\n",
    "            split=line.split('.')\n",
    "            if split[0] == '0':\n",
    "                #print('ciaone')\n",
    "                new_list =[]\n",
    "                new_list.append('Xist')\n",
    "                new_list.append(float(line))\n",
    "                counter=counter+1\n",
    "                list_output_values.append(new_list)\n",
    "                del new_list\n",
    "\n",
    "df_2 = pd.DataFrame(list_output_values, columns = ['Molecule', 'Prediction mismatch rate']) \n",
    "\n",
    "df_final=pd.concat([df,df_2], axis=0)\n",
    "\n",
    "fig,ax = plt.subplots(figsize=[4,5])\n",
    "sns.boxplot(x=\"Molecule\", y=\"Prediction mismatch rate\",data=df_final,ax=ax)\n",
    "fig.savefig(\"boxplot_xist_35S_perturbations.pdf\",dpi=300)\n",
    "\n",
    "\n"
   ]
  },
  {
   "cell_type": "code",
   "execution_count": null,
   "metadata": {},
   "outputs": [],
   "source": []
  },
  {
   "cell_type": "code",
   "execution_count": null,
   "metadata": {},
   "outputs": [],
   "source": []
  }
 ],
 "metadata": {
  "kernelspec": {
   "display_name": "Python 3",
   "language": "python",
   "name": "python3"
  },
  "language_info": {
   "codemirror_mode": {
    "name": "ipython",
    "version": 3
   },
   "file_extension": ".py",
   "mimetype": "text/x-python",
   "name": "python",
   "nbconvert_exporter": "python",
   "pygments_lexer": "ipython3",
   "version": "3.7.1"
  }
 },
 "nbformat": 4,
 "nbformat_minor": 2
}
