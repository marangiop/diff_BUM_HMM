{
 "cells": [
  {
   "cell_type": "markdown",
   "metadata": {},
   "source": [
    "## Motif analyses on CLIP/RIP binding sites and DRNs in diffBUM-HMM and deltaSHAPE data.\n",
    "For this to work you need to have the pyCRAC package and MEME tool suite installed."
   ]
  },
  {
   "cell_type": "code",
   "execution_count": 2,
   "metadata": {},
   "outputs": [
    {
     "name": "stderr",
     "output_type": "stream",
     "text": [
      "\n",
      "Bad key \"text.kerning_factor\" on line 4 in\n",
      "/anaconda3/lib/python3.7/site-packages/matplotlib/mpl-data/stylelib/_classic_test_patch.mplstyle.\n",
      "You probably need to get an updated matplotlibrc file from\n",
      "http://github.com/matplotlib/matplotlib/blob/master/matplotlibrc.template\n",
      "or from the matplotlib source distribution\n"
     ]
    }
   ],
   "source": [
    "import os\n",
    "import math\n",
    "import sys\n",
    "import glob\n",
    "import pandas as pd\n",
    "import numpy as np\n",
    "import matplotlib.pyplot as plt\n",
    "import seaborn as sns\n",
    "from scipy.special import comb\n",
    "from more_itertools import pairwise\n",
    "from scipy.stats import hypergeom,chisquare,fisher_exact\n",
    "from matplotlib import rcParams\n",
    "from collections import defaultdict\n",
    "from pyCRAC.Methods import sortbyvalue,contigousarray2Intervals\n",
    "\n",
    "rcParams['font.family'] = 'sans-serif'\n",
    "rcParams['font.sans-serif'] = ['Arial']\n",
    "rcParams['pdf.fonttype'] = 42"
   ]
  },
  {
   "cell_type": "code",
   "execution_count": 22,
   "metadata": {},
   "outputs": [],
   "source": [
    "def normalizeIntervalLength(start,end,chromosomelength,length=20):\n",
    "    \"\"\" Extends or trims the interval coordinates to a set length. Default = 20 bp. \"\"\"\n",
    "    newstart = int()\n",
    "    newend = int()\n",
    "    if start - length < 0: start = 1 # to make sure that the start is always a positive number \n",
    "    if end + length > chromosomelength: end = chromosomelength # to make sure that interval doesn't go beyond the chromosome boundaries.\n",
    "    actlength  = end - start\n",
    "    difference = length - actlength\n",
    "    if difference == 0:\n",
    "        return start,end\n",
    "    else:\n",
    "        newstart = round(float(start) - float(difference)/2.0)\n",
    "        if newstart < 0: newstart = 1\n",
    "        newend = round(float(end) + float(difference)/2.0)\n",
    "        if newend > chromosomelength: newend = chromosomelength\n",
    "        return int(newstart),int(newend) # convert back to integers"
   ]
  },
  {
   "cell_type": "code",
   "execution_count": 23,
   "metadata": {},
   "outputs": [],
   "source": [
    "def intervalsFromClosePositions(positions,mindistance=5):\n",
    "    \"\"\" Merges positions that are within a specific distance\n",
    "    to their neighbours:\n",
    "    [1,3,5,15,20,30,35,36,37,69,70,80,90,91]\n",
    "    should become:\n",
    "    [(1, 5), (15, 20), (30, 37), (69, 70), (80, 80), (90, 91)]\n",
    "\n",
    "    \"\"\"\n",
    "    start = None\n",
    "    end\t  = None\n",
    "    intervallist = list()\n",
    "    for nr,i in enumerate(sorted(list(positions))):\n",
    "        if not start:\n",
    "            start = i\n",
    "        try:\n",
    "            if positions[nr+1] - positions[nr] <= mindistance:\n",
    "                continue\n",
    "            elif positions[nr+1] - positions[nr] > mindistance:\n",
    "                end = i\n",
    "                intervallist.append((start,end))\n",
    "                start = positions[nr+1]\n",
    "        except IndexError:\n",
    "            if start:\n",
    "                end = i\n",
    "                intervallist.append((start,end))\n",
    "            break\n",
    "    return intervallist"
   ]
  },
  {
   "cell_type": "markdown",
   "metadata": {},
   "source": [
    "### Loading the big dataframe:"
   ]
  },
  {
   "cell_type": "code",
   "execution_count": 24,
   "metadata": {},
   "outputs": [],
   "source": [
    "data = pd.read_csv('../../New_data_table.txt',\\\n",
    "                    sep=\"\\t\",\\\n",
    "                    header=0,\\\n",
    "                    index_col=0)"
   ]
  },
  {
   "cell_type": "markdown",
   "metadata": {},
   "source": [
    "### Masking positions not considered by deltaSHAPE:\n",
    "Any positions that have -999 values should not be further considered as these were positions where there was insufficient coverage."
   ]
  },
  {
   "cell_type": "code",
   "execution_count": 25,
   "metadata": {},
   "outputs": [
    {
     "name": "stdout",
     "output_type": "stream",
     "text": [
      "2517\n"
     ]
    }
   ],
   "source": [
    "positionstomask = data[(data[\"SHAPE_reactivity_ex_vivo_1\"] < -900) | \n",
    "                       (data[\"SHAPE_reactivity_ex_vivo_2\"] < -900) |\n",
    "                       (data[\"SHAPE_reactivity_in_cell_1\"] < -900) | \n",
    "                       (data[\"SHAPE_reactivity_in_cell_2\"] < -900)].index\n",
    "print(len(positionstomask))\n",
    "data.loc[positionstomask,data.columns[11:]] = np.nan"
   ]
  },
  {
   "cell_type": "code",
   "execution_count": 26,
   "metadata": {},
   "outputs": [
    {
     "data": {
      "text/plain": [
       "Index(['nucleotide', 'CELF1', 'FUS', 'HuR', 'PTBP1', 'RBFOX2', 'TARDBP',\n",
       "       'SHAPE_reactivity_ex_vivo_1', 'SHAPE_reactivity_ex_vivo_2',\n",
       "       'SHAPE_reactivity_in_cell_1', 'SHAPE_reactivity_in_cell_2',\n",
       "       'deltaSHAPE_rep1', 'deltaSHAPE_rep2', 'dStruct', 'dStruct_scaled',\n",
       "       'unmodified', 'ex_vivo', 'in_vivo', 'both', 'scaled_unmodified',\n",
       "       'scaled_ex_vivo', 'scaled_in_vivo', 'scaled_both', 'base_paired_to'],\n",
       "      dtype='object')"
      ]
     },
     "execution_count": 26,
     "metadata": {},
     "output_type": "execute_result"
    }
   ],
   "source": [
    "data.columns"
   ]
  },
  {
   "cell_type": "code",
   "execution_count": 27,
   "metadata": {},
   "outputs": [
    {
     "data": {
      "text/html": [
       "<div>\n",
       "<style scoped>\n",
       "    .dataframe tbody tr th:only-of-type {\n",
       "        vertical-align: middle;\n",
       "    }\n",
       "\n",
       "    .dataframe tbody tr th {\n",
       "        vertical-align: top;\n",
       "    }\n",
       "\n",
       "    .dataframe thead th {\n",
       "        text-align: right;\n",
       "    }\n",
       "</style>\n",
       "<table border=\"1\" class=\"dataframe\">\n",
       "  <thead>\n",
       "    <tr style=\"text-align: right;\">\n",
       "      <th></th>\n",
       "      <th>nucleotide</th>\n",
       "      <th>CELF1</th>\n",
       "      <th>FUS</th>\n",
       "      <th>HuR</th>\n",
       "      <th>PTBP1</th>\n",
       "      <th>RBFOX2</th>\n",
       "      <th>TARDBP</th>\n",
       "      <th>SHAPE_reactivity_ex_vivo_1</th>\n",
       "      <th>SHAPE_reactivity_ex_vivo_2</th>\n",
       "      <th>SHAPE_reactivity_in_cell_1</th>\n",
       "      <th>...</th>\n",
       "      <th>dStruct_scaled</th>\n",
       "      <th>unmodified</th>\n",
       "      <th>ex_vivo</th>\n",
       "      <th>in_vivo</th>\n",
       "      <th>both</th>\n",
       "      <th>scaled_unmodified</th>\n",
       "      <th>scaled_ex_vivo</th>\n",
       "      <th>scaled_in_vivo</th>\n",
       "      <th>scaled_both</th>\n",
       "      <th>base_paired_to</th>\n",
       "    </tr>\n",
       "  </thead>\n",
       "  <tbody>\n",
       "    <tr>\n",
       "      <td>1</td>\n",
       "      <td>C</td>\n",
       "      <td>0</td>\n",
       "      <td>0</td>\n",
       "      <td>0</td>\n",
       "      <td>0</td>\n",
       "      <td>0</td>\n",
       "      <td>0</td>\n",
       "      <td>-999.0</td>\n",
       "      <td>-999.0</td>\n",
       "      <td>-999.0</td>\n",
       "      <td>...</td>\n",
       "      <td>NaN</td>\n",
       "      <td>NaN</td>\n",
       "      <td>NaN</td>\n",
       "      <td>NaN</td>\n",
       "      <td>NaN</td>\n",
       "      <td>NaN</td>\n",
       "      <td>NaN</td>\n",
       "      <td>NaN</td>\n",
       "      <td>NaN</td>\n",
       "      <td>NaN</td>\n",
       "    </tr>\n",
       "    <tr>\n",
       "      <td>2</td>\n",
       "      <td>G</td>\n",
       "      <td>0</td>\n",
       "      <td>0</td>\n",
       "      <td>0</td>\n",
       "      <td>0</td>\n",
       "      <td>0</td>\n",
       "      <td>0</td>\n",
       "      <td>-999.0</td>\n",
       "      <td>-999.0</td>\n",
       "      <td>-999.0</td>\n",
       "      <td>...</td>\n",
       "      <td>NaN</td>\n",
       "      <td>NaN</td>\n",
       "      <td>NaN</td>\n",
       "      <td>NaN</td>\n",
       "      <td>NaN</td>\n",
       "      <td>NaN</td>\n",
       "      <td>NaN</td>\n",
       "      <td>NaN</td>\n",
       "      <td>NaN</td>\n",
       "      <td>NaN</td>\n",
       "    </tr>\n",
       "    <tr>\n",
       "      <td>3</td>\n",
       "      <td>G</td>\n",
       "      <td>0</td>\n",
       "      <td>0</td>\n",
       "      <td>0</td>\n",
       "      <td>0</td>\n",
       "      <td>0</td>\n",
       "      <td>0</td>\n",
       "      <td>-999.0</td>\n",
       "      <td>-999.0</td>\n",
       "      <td>-999.0</td>\n",
       "      <td>...</td>\n",
       "      <td>NaN</td>\n",
       "      <td>NaN</td>\n",
       "      <td>NaN</td>\n",
       "      <td>NaN</td>\n",
       "      <td>NaN</td>\n",
       "      <td>NaN</td>\n",
       "      <td>NaN</td>\n",
       "      <td>NaN</td>\n",
       "      <td>NaN</td>\n",
       "      <td>NaN</td>\n",
       "    </tr>\n",
       "    <tr>\n",
       "      <td>4</td>\n",
       "      <td>C</td>\n",
       "      <td>0</td>\n",
       "      <td>0</td>\n",
       "      <td>0</td>\n",
       "      <td>0</td>\n",
       "      <td>0</td>\n",
       "      <td>0</td>\n",
       "      <td>-999.0</td>\n",
       "      <td>-999.0</td>\n",
       "      <td>-999.0</td>\n",
       "      <td>...</td>\n",
       "      <td>NaN</td>\n",
       "      <td>NaN</td>\n",
       "      <td>NaN</td>\n",
       "      <td>NaN</td>\n",
       "      <td>NaN</td>\n",
       "      <td>NaN</td>\n",
       "      <td>NaN</td>\n",
       "      <td>NaN</td>\n",
       "      <td>NaN</td>\n",
       "      <td>NaN</td>\n",
       "    </tr>\n",
       "    <tr>\n",
       "      <td>5</td>\n",
       "      <td>T</td>\n",
       "      <td>0</td>\n",
       "      <td>0</td>\n",
       "      <td>0</td>\n",
       "      <td>0</td>\n",
       "      <td>0</td>\n",
       "      <td>0</td>\n",
       "      <td>-999.0</td>\n",
       "      <td>-999.0</td>\n",
       "      <td>-999.0</td>\n",
       "      <td>...</td>\n",
       "      <td>NaN</td>\n",
       "      <td>NaN</td>\n",
       "      <td>NaN</td>\n",
       "      <td>NaN</td>\n",
       "      <td>NaN</td>\n",
       "      <td>NaN</td>\n",
       "      <td>NaN</td>\n",
       "      <td>NaN</td>\n",
       "      <td>NaN</td>\n",
       "      <td>NaN</td>\n",
       "    </tr>\n",
       "  </tbody>\n",
       "</table>\n",
       "<p>5 rows × 24 columns</p>\n",
       "</div>"
      ],
      "text/plain": [
       "  nucleotide  CELF1  FUS  HuR  PTBP1  RBFOX2  TARDBP  \\\n",
       "1          C      0    0    0      0       0       0   \n",
       "2          G      0    0    0      0       0       0   \n",
       "3          G      0    0    0      0       0       0   \n",
       "4          C      0    0    0      0       0       0   \n",
       "5          T      0    0    0      0       0       0   \n",
       "\n",
       "   SHAPE_reactivity_ex_vivo_1  SHAPE_reactivity_ex_vivo_2  \\\n",
       "1                      -999.0                      -999.0   \n",
       "2                      -999.0                      -999.0   \n",
       "3                      -999.0                      -999.0   \n",
       "4                      -999.0                      -999.0   \n",
       "5                      -999.0                      -999.0   \n",
       "\n",
       "   SHAPE_reactivity_in_cell_1  ...  dStruct_scaled  unmodified  ex_vivo  \\\n",
       "1                      -999.0  ...             NaN         NaN      NaN   \n",
       "2                      -999.0  ...             NaN         NaN      NaN   \n",
       "3                      -999.0  ...             NaN         NaN      NaN   \n",
       "4                      -999.0  ...             NaN         NaN      NaN   \n",
       "5                      -999.0  ...             NaN         NaN      NaN   \n",
       "\n",
       "   in_vivo  both  scaled_unmodified  scaled_ex_vivo  scaled_in_vivo  \\\n",
       "1      NaN   NaN                NaN             NaN             NaN   \n",
       "2      NaN   NaN                NaN             NaN             NaN   \n",
       "3      NaN   NaN                NaN             NaN             NaN   \n",
       "4      NaN   NaN                NaN             NaN             NaN   \n",
       "5      NaN   NaN                NaN             NaN             NaN   \n",
       "\n",
       "   scaled_both  base_paired_to  \n",
       "1          NaN             NaN  \n",
       "2          NaN             NaN  \n",
       "3          NaN             NaN  \n",
       "4          NaN             NaN  \n",
       "5          NaN             NaN  \n",
       "\n",
       "[5 rows x 24 columns]"
      ]
     },
     "execution_count": 27,
     "metadata": {},
     "output_type": "execute_result"
    }
   ],
   "source": [
    "data.head()"
   ]
  },
  {
   "cell_type": "markdown",
   "metadata": {},
   "source": [
    "### Now doing Motif analyses:"
   ]
  },
  {
   "cell_type": "markdown",
   "metadata": {},
   "source": [
    "### First I need to make fasta files for all the protein binding sites in Xist and find their motifs:\n",
    "I will normalize the interval size to a fixed lenght so that MEME can deal better with it. I will group together those DRNs that are within 2nt distance from each other."
   ]
  },
  {
   "cell_type": "code",
   "execution_count": 28,
   "metadata": {},
   "outputs": [
    {
     "data": {
      "text/plain": [
       "Index(['nucleotide', 'CELF1', 'FUS', 'HuR', 'PTBP1', 'RBFOX2', 'TARDBP',\n",
       "       'SHAPE_reactivity_ex_vivo_1', 'SHAPE_reactivity_ex_vivo_2',\n",
       "       'SHAPE_reactivity_in_cell_1', 'SHAPE_reactivity_in_cell_2',\n",
       "       'deltaSHAPE_rep1', 'deltaSHAPE_rep2', 'dStruct', 'dStruct_scaled',\n",
       "       'unmodified', 'ex_vivo', 'in_vivo', 'both', 'scaled_unmodified',\n",
       "       'scaled_ex_vivo', 'scaled_in_vivo', 'scaled_both', 'base_paired_to'],\n",
       "      dtype='object')"
      ]
     },
     "execution_count": 28,
     "metadata": {},
     "output_type": "execute_result"
    }
   ],
   "source": [
    "data.columns"
   ]
  },
  {
   "cell_type": "code",
   "execution_count": 29,
   "metadata": {},
   "outputs": [
    {
     "data": {
      "text/html": [
       "<div>\n",
       "<style scoped>\n",
       "    .dataframe tbody tr th:only-of-type {\n",
       "        vertical-align: middle;\n",
       "    }\n",
       "\n",
       "    .dataframe tbody tr th {\n",
       "        vertical-align: top;\n",
       "    }\n",
       "\n",
       "    .dataframe thead th {\n",
       "        text-align: right;\n",
       "    }\n",
       "</style>\n",
       "<table border=\"1\" class=\"dataframe\">\n",
       "  <thead>\n",
       "    <tr style=\"text-align: right;\">\n",
       "      <th></th>\n",
       "      <th>nucleotide</th>\n",
       "      <th>CELF1</th>\n",
       "      <th>FUS</th>\n",
       "      <th>HuR</th>\n",
       "      <th>PTBP1</th>\n",
       "      <th>RBFOX2</th>\n",
       "      <th>TARDBP</th>\n",
       "      <th>SHAPE_reactivity_ex_vivo_1</th>\n",
       "      <th>SHAPE_reactivity_ex_vivo_2</th>\n",
       "      <th>SHAPE_reactivity_in_cell_1</th>\n",
       "      <th>...</th>\n",
       "      <th>dStruct_scaled</th>\n",
       "      <th>unmodified</th>\n",
       "      <th>ex_vivo</th>\n",
       "      <th>in_vivo</th>\n",
       "      <th>both</th>\n",
       "      <th>scaled_unmodified</th>\n",
       "      <th>scaled_ex_vivo</th>\n",
       "      <th>scaled_in_vivo</th>\n",
       "      <th>scaled_both</th>\n",
       "      <th>base_paired_to</th>\n",
       "    </tr>\n",
       "  </thead>\n",
       "  <tbody>\n",
       "    <tr>\n",
       "      <td>1</td>\n",
       "      <td>C</td>\n",
       "      <td>0</td>\n",
       "      <td>0</td>\n",
       "      <td>0</td>\n",
       "      <td>0</td>\n",
       "      <td>0</td>\n",
       "      <td>0</td>\n",
       "      <td>-999.0</td>\n",
       "      <td>-999.0</td>\n",
       "      <td>-999.0</td>\n",
       "      <td>...</td>\n",
       "      <td>NaN</td>\n",
       "      <td>NaN</td>\n",
       "      <td>NaN</td>\n",
       "      <td>NaN</td>\n",
       "      <td>NaN</td>\n",
       "      <td>NaN</td>\n",
       "      <td>NaN</td>\n",
       "      <td>NaN</td>\n",
       "      <td>NaN</td>\n",
       "      <td>NaN</td>\n",
       "    </tr>\n",
       "    <tr>\n",
       "      <td>2</td>\n",
       "      <td>G</td>\n",
       "      <td>0</td>\n",
       "      <td>0</td>\n",
       "      <td>0</td>\n",
       "      <td>0</td>\n",
       "      <td>0</td>\n",
       "      <td>0</td>\n",
       "      <td>-999.0</td>\n",
       "      <td>-999.0</td>\n",
       "      <td>-999.0</td>\n",
       "      <td>...</td>\n",
       "      <td>NaN</td>\n",
       "      <td>NaN</td>\n",
       "      <td>NaN</td>\n",
       "      <td>NaN</td>\n",
       "      <td>NaN</td>\n",
       "      <td>NaN</td>\n",
       "      <td>NaN</td>\n",
       "      <td>NaN</td>\n",
       "      <td>NaN</td>\n",
       "      <td>NaN</td>\n",
       "    </tr>\n",
       "    <tr>\n",
       "      <td>3</td>\n",
       "      <td>G</td>\n",
       "      <td>0</td>\n",
       "      <td>0</td>\n",
       "      <td>0</td>\n",
       "      <td>0</td>\n",
       "      <td>0</td>\n",
       "      <td>0</td>\n",
       "      <td>-999.0</td>\n",
       "      <td>-999.0</td>\n",
       "      <td>-999.0</td>\n",
       "      <td>...</td>\n",
       "      <td>NaN</td>\n",
       "      <td>NaN</td>\n",
       "      <td>NaN</td>\n",
       "      <td>NaN</td>\n",
       "      <td>NaN</td>\n",
       "      <td>NaN</td>\n",
       "      <td>NaN</td>\n",
       "      <td>NaN</td>\n",
       "      <td>NaN</td>\n",
       "      <td>NaN</td>\n",
       "    </tr>\n",
       "    <tr>\n",
       "      <td>4</td>\n",
       "      <td>C</td>\n",
       "      <td>0</td>\n",
       "      <td>0</td>\n",
       "      <td>0</td>\n",
       "      <td>0</td>\n",
       "      <td>0</td>\n",
       "      <td>0</td>\n",
       "      <td>-999.0</td>\n",
       "      <td>-999.0</td>\n",
       "      <td>-999.0</td>\n",
       "      <td>...</td>\n",
       "      <td>NaN</td>\n",
       "      <td>NaN</td>\n",
       "      <td>NaN</td>\n",
       "      <td>NaN</td>\n",
       "      <td>NaN</td>\n",
       "      <td>NaN</td>\n",
       "      <td>NaN</td>\n",
       "      <td>NaN</td>\n",
       "      <td>NaN</td>\n",
       "      <td>NaN</td>\n",
       "    </tr>\n",
       "    <tr>\n",
       "      <td>5</td>\n",
       "      <td>T</td>\n",
       "      <td>0</td>\n",
       "      <td>0</td>\n",
       "      <td>0</td>\n",
       "      <td>0</td>\n",
       "      <td>0</td>\n",
       "      <td>0</td>\n",
       "      <td>-999.0</td>\n",
       "      <td>-999.0</td>\n",
       "      <td>-999.0</td>\n",
       "      <td>...</td>\n",
       "      <td>NaN</td>\n",
       "      <td>NaN</td>\n",
       "      <td>NaN</td>\n",
       "      <td>NaN</td>\n",
       "      <td>NaN</td>\n",
       "      <td>NaN</td>\n",
       "      <td>NaN</td>\n",
       "      <td>NaN</td>\n",
       "      <td>NaN</td>\n",
       "      <td>NaN</td>\n",
       "    </tr>\n",
       "  </tbody>\n",
       "</table>\n",
       "<p>5 rows × 24 columns</p>\n",
       "</div>"
      ],
      "text/plain": [
       "  nucleotide  CELF1  FUS  HuR  PTBP1  RBFOX2  TARDBP  \\\n",
       "1          C      0    0    0      0       0       0   \n",
       "2          G      0    0    0      0       0       0   \n",
       "3          G      0    0    0      0       0       0   \n",
       "4          C      0    0    0      0       0       0   \n",
       "5          T      0    0    0      0       0       0   \n",
       "\n",
       "   SHAPE_reactivity_ex_vivo_1  SHAPE_reactivity_ex_vivo_2  \\\n",
       "1                      -999.0                      -999.0   \n",
       "2                      -999.0                      -999.0   \n",
       "3                      -999.0                      -999.0   \n",
       "4                      -999.0                      -999.0   \n",
       "5                      -999.0                      -999.0   \n",
       "\n",
       "   SHAPE_reactivity_in_cell_1  ...  dStruct_scaled  unmodified  ex_vivo  \\\n",
       "1                      -999.0  ...             NaN         NaN      NaN   \n",
       "2                      -999.0  ...             NaN         NaN      NaN   \n",
       "3                      -999.0  ...             NaN         NaN      NaN   \n",
       "4                      -999.0  ...             NaN         NaN      NaN   \n",
       "5                      -999.0  ...             NaN         NaN      NaN   \n",
       "\n",
       "   in_vivo  both  scaled_unmodified  scaled_ex_vivo  scaled_in_vivo  \\\n",
       "1      NaN   NaN                NaN             NaN             NaN   \n",
       "2      NaN   NaN                NaN             NaN             NaN   \n",
       "3      NaN   NaN                NaN             NaN             NaN   \n",
       "4      NaN   NaN                NaN             NaN             NaN   \n",
       "5      NaN   NaN                NaN             NaN             NaN   \n",
       "\n",
       "   scaled_both  base_paired_to  \n",
       "1          NaN             NaN  \n",
       "2          NaN             NaN  \n",
       "3          NaN             NaN  \n",
       "4          NaN             NaN  \n",
       "5          NaN             NaN  \n",
       "\n",
       "[5 rows x 24 columns]"
      ]
     },
     "execution_count": 29,
     "metadata": {},
     "output_type": "execute_result"
    }
   ],
   "source": [
    "data.head()"
   ]
  },
  {
   "cell_type": "code",
   "execution_count": 30,
   "metadata": {},
   "outputs": [],
   "source": [
    "chromosomelength = len(data.index)"
   ]
  },
  {
   "cell_type": "markdown",
   "metadata": {},
   "source": [
    "### Setting the length of each interval for motif analyses:"
   ]
  },
  {
   "cell_type": "code",
   "execution_count": 13,
   "metadata": {},
   "outputs": [],
   "source": [
    "fixedlength = 30"
   ]
  },
  {
   "cell_type": "markdown",
   "metadata": {},
   "source": [
    "### Setting the threshold for selecting DRNs in the diffBUM-HMM data:"
   ]
  },
  {
   "cell_type": "code",
   "execution_count": 31,
   "metadata": {},
   "outputs": [],
   "source": [
    "threshold = 0.95"
   ]
  },
  {
   "cell_type": "code",
   "execution_count": 32,
   "metadata": {},
   "outputs": [],
   "source": [
    "proteins = [\"CELF1\",\"FUS\",\"HuR\",\"PTBP1\",\"RBFOX2\",\"TARDBP\"]"
   ]
  },
  {
   "cell_type": "code",
   "execution_count": 33,
   "metadata": {},
   "outputs": [
    {
     "name": "stdout",
     "output_type": "stream",
     "text": [
      "CELF1:\t21\n",
      "FUS:\t107\n",
      "HuR:\t12\n",
      "PTBP1:\t22\n",
      "RBFOX2:\t3\n",
      "TARDBP:\t17\n"
     ]
    }
   ],
   "source": [
    "proteinfastas = list()\n",
    "for protein in proteins:\n",
    "    outfilename = \"%s_Xist_RNA_binding_sites.fa\" % protein\n",
    "    #print(outfilename)\n",
    "    outfile = open(outfilename,\"w\")\n",
    "    proteinfastas.append(outfilename)\n",
    "    indices = data[data[protein] > 0].index\n",
    "    intervals = intervalsFromClosePositions(indices)\n",
    "    print(\"%s:\\t%s\" % (protein,len(intervals)))\n",
    "    count = 1\n",
    "    for (i,j) in intervals:\n",
    "        start,end = normalizeIntervalLength(i,j,chromosomelength,fixedlength)\n",
    "        sequence = data.loc[start:end+1,\"nucleotide\"].values\n",
    "        sequence = \"\".join(sequence)\n",
    "        outfile.write(\">%s_%s\\n%s\\n\" % (protein,count,sequence))\n",
    "        count += 1\n",
    "    outfile.close()"
   ]
  },
  {
   "cell_type": "code",
   "execution_count": 34,
   "metadata": {},
   "outputs": [],
   "source": [
    "proteinfastas = \" \".join(proteinfastas)"
   ]
  },
  {
   "cell_type": "code",
   "execution_count": 35,
   "metadata": {},
   "outputs": [
    {
     "name": "stdout",
     "output_type": "stream",
     "text": [
      "CELF1_Xist_RNA_binding_sites.fa FUS_Xist_RNA_binding_sites.fa HuR_Xist_RNA_binding_sites.fa PTBP1_Xist_RNA_binding_sites.fa RBFOX2_Xist_RNA_binding_sites.fa TARDBP_Xist_RNA_binding_sites.fa\n"
     ]
    }
   ],
   "source": [
    "print(proteinfastas)"
   ]
  },
  {
   "cell_type": "markdown",
   "metadata": {},
   "source": [
    "### Running meme on these sequences:"
   ]
  },
  {
   "cell_type": "code",
   "execution_count": 18,
   "metadata": {},
   "outputs": [
    {
     "name": "stdout",
     "output_type": "stream",
     "text": [
      "CELF1_Xist_RNA_binding_sites.fa\n",
      "FUS_Xist_RNA_binding_sites.fa\n",
      "HuR_Xist_RNA_binding_sites.fa\n",
      "PTBP1_Xist_RNA_binding_sites.fa\n",
      "RBFOX2_Xist_RNA_binding_sites.fa\n",
      "TARDBP_Xist_RNA_binding_sites.fa\n"
     ]
    }
   ],
   "source": [
    "%%bash -s \"$proteinfastas\"\n",
    "\n",
    "DIR=$HOME/meme/bin\n",
    "\n",
    "for i in $1\n",
    "do\n",
    "    echo $i\n",
    "    FILE=\"$(basename -- $i)\"\n",
    "    FILE=${FILE%.fa}\n",
    "    PREFIX=MEME_\n",
    "    OUTFILE=$PREFIX$FILE\n",
    "    $DIR/meme-chip \\\n",
    "        -meme-minw 4 \\\n",
    "        -meme-maxw 10 \\\n",
    "        -meme-nmotifs 3 \\\n",
    "        -meme-p 8 \\\n",
    "        -meme-mod anr \\\n",
    "        -norc \\\n",
    "        -rna \\\n",
    "        -noecho \\\n",
    "        -oc $OUTFILE $i &\n",
    "done"
   ]
  },
  {
   "cell_type": "markdown",
   "metadata": {},
   "source": [
    "### Now doing it for the diffBUM_HMM and deltaSHAPE sites. Fragment sizes = fixedlength:\n",
    "All the DRNs that were located within a 5 nucleotide window from each other were grouped into a single interval and length of this interval was normalized (so either extended or trimmed) to the fixed length (30 bp for these analyses). The reason for doing this is because otherwise the analyes would generate for each DRN a sequence containing the DRN in the middle and many of these sequences could overlap if the DRNs are in quite close proximity. This would result in a much higher enrichment of motifs from regions that have a high concentration of DRNs. So this is why they were first grouped together. "
   ]
  },
  {
   "cell_type": "code",
   "execution_count": 36,
   "metadata": {},
   "outputs": [],
   "source": [
    " intervallengthcounter = defaultdict(lambda: defaultdict(int))"
   ]
  },
  {
   "cell_type": "markdown",
   "metadata": {},
   "source": [
    "### diffBUM_HMM:"
   ]
  },
  {
   "cell_type": "code",
   "execution_count": 40,
   "metadata": {},
   "outputs": [
    {
     "name": "stdout",
     "output_type": "stream",
     "text": [
      "572\n",
      "1164\n",
      "108\n",
      "142\n"
     ]
    }
   ],
   "source": [
    "sequence = \"\".join(data.nucleotide.values)\n",
    "\n",
    "outfile = open(\"diffBUM_HMM_ex_vivo_%s_mers.fa\" % fixedlength,\"w\")\n",
    "\n",
    "### How many DRNs are there in the data?:\n",
    "ex_vivo_pos = data[data.ex_vivo >= threshold].index\n",
    "\n",
    "### intervalsFromClosePositions groups the DRNs together in intervals.\n",
    "intervals = intervalsFromClosePositions(ex_vivo_pos,)\n",
    "\n",
    "### This prints the number of intervals that were detected and how many DRNs there were in the data.\n",
    "print(len(intervals))\n",
    "print(len(ex_vivo_pos))\n",
    "\n",
    "count = 0\n",
    "\n",
    "for (i,j) in intervals:\n",
    "    length = (j-i)+1\n",
    "    intervallengthcounter[\"diffBUM_HMM_ex_vivo\"][length] += 1\n",
    "    ### These intervals are then set to a fixed length here:\n",
    "    start,end = normalizeIntervalLength(i,j,chromosomelength,fixedlength)\n",
    "    sequence = data.loc[start:end+1,\"nucleotide\"].values\n",
    "    sequence = \"\".join(sequence)\n",
    "    outfile.write(\">diffBUM_HMM_ex_vivo_%s\\n%s\\n\" % (count,sequence))\n",
    "    count += 1\n",
    "outfile.close()\n",
    "        \n",
    "in_vivo_pos = data[data.in_vivo >= threshold].index\n",
    "outfile = open(\"diffBUM_HMM_in_vivo_%s_mers.fa\" % fixedlength,\"w\")\n",
    "intervals = intervalsFromClosePositions(in_vivo_pos)\n",
    "\n",
    "print(len(intervals))\n",
    "print(len(in_vivo_pos))\n",
    "\n",
    "count = 0\n",
    "\n",
    "for (i,j) in intervals:\n",
    "    length = (j-i)+1\n",
    "    intervallengthcounter[\"diffBUM_HMM_in_vivo\"][length] += 1\n",
    "    start,end = normalizeIntervalLength(i,j,chromosomelength,fixedlength)\n",
    "    sequence = data.loc[start:end+1,\"nucleotide\"].values\n",
    "    sequence = \"\".join(sequence)\n",
    "    outfile.write(\">diffBUM_HMM_in_vivo_%s\\n%s\\n\" % (count,sequence))\n",
    "    count += 1\n",
    "outfile.close()"
   ]
  },
  {
   "cell_type": "markdown",
   "metadata": {},
   "source": [
    "### deltaSHAPE rep 1:"
   ]
  },
  {
   "cell_type": "code",
   "execution_count": 42,
   "metadata": {},
   "outputs": [
    {
     "name": "stdout",
     "output_type": "stream",
     "text": [
      "129\n",
      "460\n",
      "91\n",
      "337\n"
     ]
    }
   ],
   "source": [
    "sequence = \"\".join(data.nucleotide.values)\n",
    "\n",
    "ex_vivo_pos = data[data.deltaSHAPE_rep1 > 0].index\n",
    "outfile = open(\"deltaSHAPE_rep_1_ex_vivo_%s_mers.fa\" % fixedlength,\"w\")\n",
    "intervals = intervalsFromClosePositions(ex_vivo_pos)\n",
    "\n",
    "print(len(intervals))\n",
    "print(len(ex_vivo_pos))\n",
    "\n",
    "count = 0\n",
    "\n",
    "for (i,j) in intervals:\n",
    "    length = (j-i)+1\n",
    "    intervallengthcounter[\"deltaSHAPE_rep1_ex_vivo\"][length] += 1\n",
    "    start,end = normalizeIntervalLength(i,j,chromosomelength,fixedlength)\n",
    "    sequence = data.loc[start:end+1,\"nucleotide\"].values\n",
    "    sequence = \"\".join(sequence)\n",
    "    outfile.write(\">deltaSHAPE_rep1_ex_vivo_%s\\n%s\\n\" % (count,sequence))\n",
    "    count += 1\n",
    "outfile.close()\n",
    "        \n",
    "in_vivo_pos = data[data.deltaSHAPE_rep1 < 0].index\n",
    "outfile = open(\"deltaSHAPE_rep_1_in_vivo_%s_mers.fa\" % fixedlength,\"w\")\n",
    "intervals = intervalsFromClosePositions(in_vivo_pos)\n",
    "\n",
    "print(len(intervals))\n",
    "print(len(in_vivo_pos))\n",
    "\n",
    "count = 0\n",
    "\n",
    "for (i,j) in intervals:\n",
    "    length = (j-i)+1\n",
    "    intervallengthcounter[\"deltaSHAPE_rep1_in_vivo\"][length] += 1\n",
    "    start,end = normalizeIntervalLength(i,j,chromosomelength,fixedlength)\n",
    "    sequence = data.loc[start:end+1,\"nucleotide\"].values\n",
    "    sequence = \"\".join(sequence)\n",
    "    outfile.write(\">deltaSHAPE_rep1_in_vivo_%s\\n%s\\n\" % (count,sequence))\n",
    "    count += 1\n",
    "outfile.close()"
   ]
  },
  {
   "cell_type": "markdown",
   "metadata": {},
   "source": [
    "### deltaSHAPE rep 2:"
   ]
  },
  {
   "cell_type": "code",
   "execution_count": 44,
   "metadata": {},
   "outputs": [
    {
     "name": "stdout",
     "output_type": "stream",
     "text": [
      "152\n",
      "510\n",
      "123\n",
      "428\n"
     ]
    }
   ],
   "source": [
    "sequence = \"\".join(data.nucleotide.values)\n",
    "\n",
    "ex_vivo_pos = data[data.deltaSHAPE_rep2 > 0].index\n",
    "outfile = open(\"deltaSHAPE_rep_2_ex_vivo_%s_mers.fa\" % fixedlength,\"w\")\n",
    "intervals = intervalsFromClosePositions(ex_vivo_pos)\n",
    "\n",
    "print(len(intervals))\n",
    "print(len(ex_vivo_pos))\n",
    "\n",
    "count = 0\n",
    "\n",
    "for (i,j) in intervals:\n",
    "    length = (j-i)+1\n",
    "    intervallengthcounter[\"deltaSHAPE_rep2_ex_vivo\"][length] += 1\n",
    "    start,end = normalizeIntervalLength(i,j,chromosomelength,fixedlength)\n",
    "    sequence = data.loc[start:end+1,\"nucleotide\"].values\n",
    "    sequence = \"\".join(sequence)\n",
    "    outfile.write(\">deltaSHAPE_rep2_ex_vivo_%s\\n%s\\n\" % (count,sequence))\n",
    "    count += 1\n",
    "outfile.close()\n",
    "        \n",
    "in_vivo_pos = data[data.deltaSHAPE_rep2 < 0].index\n",
    "outfile = open(\"deltaSHAPE_rep_2_in_vivo_%s_mers.fa\" % fixedlength,\"w\")\n",
    "intervals = intervalsFromClosePositions(in_vivo_pos)\n",
    "\n",
    "print(len(intervals))\n",
    "print(len(in_vivo_pos))\n",
    "\n",
    "count = 0\n",
    "\n",
    "for (i,j) in intervals:\n",
    "    length = (j-i)+1\n",
    "    intervallengthcounter[\"deltaSHAPE_rep2_in_vivo\"][length] += 1\n",
    "    start,end = normalizeIntervalLength(i,j,chromosomelength,fixedlength)\n",
    "    sequence = data.loc[start:end+1,\"nucleotide\"].values\n",
    "    sequence = \"\".join(sequence)\n",
    "    outfile.write(\">deltaSHAPE_rep2_in_vivo_%s\\n%s\\n\" % (count,sequence))\n",
    "    count += 1\n",
    "outfile.close()"
   ]
  },
  {
   "cell_type": "code",
   "execution_count": 45,
   "metadata": {},
   "outputs": [],
   "source": [
    "kmerfasta = \" \".join(glob.glob(\"*%s_mers.fa\" % fixedlength))"
   ]
  },
  {
   "cell_type": "code",
   "execution_count": 46,
   "metadata": {},
   "outputs": [
    {
     "name": "stdout",
     "output_type": "stream",
     "text": [
      "['diffBUM_HMM_ex_vivo_30_mers.fa', 'deltaSHAPE_rep_1_in_vivo_30_mers.fa', 'deltaSHAPE_rep_2_in_vivo_30_mers.fa', 'deltaSHAPE_rep_1_ex_vivo_30_mers.fa', 'diffBUM_HMM_in_vivo_30_mers.fa', 'deltaSHAPE_rep_2_ex_vivo_30_mers.fa']\n"
     ]
    }
   ],
   "source": [
    "print(kmerfasta.split())"
   ]
  },
  {
   "cell_type": "code",
   "execution_count": 47,
   "metadata": {},
   "outputs": [
    {
     "name": "stdout",
     "output_type": "stream",
     "text": [
      "diffBUM_HMM_ex_vivo_30_mers.fa deltaSHAPE_rep_1_in_vivo_30_mers.fa deltaSHAPE_rep_2_in_vivo_30_mers.fa deltaSHAPE_rep_1_ex_vivo_30_mers.fa diffBUM_HMM_in_vivo_30_mers.fa deltaSHAPE_rep_2_ex_vivo_30_mers.fa\n"
     ]
    }
   ],
   "source": [
    "%%bash -s \"$kmerfasta\"\n",
    "\n",
    "echo $1\n",
    "\n",
    "DIR=$HOME/meme/bin\n",
    "\n",
    "for i in $1\n",
    "do\n",
    "    FILE=\"$(basename -- $i)\"\n",
    "    FILE=${FILE%.fa}\n",
    "    PREFIX=MEME_V2\n",
    "    OUTFILE=$PREFIX$FILE\n",
    "    $DIR/meme-chip \\\n",
    "        -meme-minw 4 \\\n",
    "        -meme-maxw 10 \\\n",
    "        -meme-nmotifs 20 \\\n",
    "        -meme-p 8 \\\n",
    "        -meme-mod anr \\\n",
    "        -norc \\\n",
    "        -rna \\\n",
    "        -noecho \\\n",
    "        -o $OUTFILE $i &\n",
    "done"
   ]
  },
  {
   "cell_type": "markdown",
   "metadata": {},
   "source": [
    "### Look at the lenghts of the intervals:"
   ]
  },
  {
   "cell_type": "code",
   "execution_count": 48,
   "metadata": {},
   "outputs": [
    {
     "data": {
      "text/plain": [
       "['diffBUM_HMM_ex_vivo',\n",
       " 'diffBUM_HMM_in_vivo',\n",
       " 'deltaSHAPE_rep1_ex_vivo',\n",
       " 'deltaSHAPE_rep1_in_vivo',\n",
       " 'deltaSHAPE_rep2_ex_vivo',\n",
       " 'deltaSHAPE_rep2_in_vivo']"
      ]
     },
     "execution_count": 48,
     "metadata": {},
     "output_type": "execute_result"
    }
   ],
   "source": [
    "list(intervallengthcounter.keys())"
   ]
  },
  {
   "cell_type": "code",
   "execution_count": 49,
   "metadata": {},
   "outputs": [
    {
     "data": {
      "text/plain": [
       "defaultdict(<function __main__.<lambda>()>,\n",
       "            {'diffBUM_HMM_ex_vivo': defaultdict(int,\n",
       "                         {1: 594,\n",
       "                          6: 46,\n",
       "                          8: 40,\n",
       "                          2: 152,\n",
       "                          5: 48,\n",
       "                          9: 24,\n",
       "                          4: 76,\n",
       "                          14: 12,\n",
       "                          11: 12,\n",
       "                          3: 86,\n",
       "                          12: 8,\n",
       "                          18: 2,\n",
       "                          23: 2,\n",
       "                          25: 2,\n",
       "                          13: 2,\n",
       "                          22: 2,\n",
       "                          7: 20,\n",
       "                          21: 2,\n",
       "                          15: 2,\n",
       "                          10: 8,\n",
       "                          19: 2,\n",
       "                          30: 2}),\n",
       "             'diffBUM_HMM_in_vivo': defaultdict(int,\n",
       "                         {2: 26, 1: 160, 5: 8, 7: 4, 4: 4, 6: 10, 3: 4}),\n",
       "             'deltaSHAPE_rep1_ex_vivo': defaultdict(int,\n",
       "                         {3: 210,\n",
       "                          5: 39,\n",
       "                          1: 36,\n",
       "                          2: 27,\n",
       "                          4: 24,\n",
       "                          6: 12,\n",
       "                          8: 3,\n",
       "                          27: 3,\n",
       "                          21: 3,\n",
       "                          19: 3,\n",
       "                          11: 9,\n",
       "                          7: 9,\n",
       "                          13: 3,\n",
       "                          9: 3,\n",
       "                          15: 3}),\n",
       "             'deltaSHAPE_rep1_in_vivo': defaultdict(int,\n",
       "                         {4: 24,\n",
       "                          3: 102,\n",
       "                          2: 39,\n",
       "                          7: 12,\n",
       "                          5: 24,\n",
       "                          1: 24,\n",
       "                          8: 6,\n",
       "                          6: 15,\n",
       "                          13: 3,\n",
       "                          10: 9,\n",
       "                          20: 3,\n",
       "                          9: 3,\n",
       "                          12: 3,\n",
       "                          15: 3,\n",
       "                          11: 3}),\n",
       "             'deltaSHAPE_rep2_ex_vivo': defaultdict(int,\n",
       "                         {1: 15,\n",
       "                          3: 83,\n",
       "                          8: 3,\n",
       "                          2: 17,\n",
       "                          4: 12,\n",
       "                          6: 5,\n",
       "                          11: 1,\n",
       "                          5: 5,\n",
       "                          9: 2,\n",
       "                          33: 1,\n",
       "                          10: 2,\n",
       "                          7: 2,\n",
       "                          16: 1,\n",
       "                          17: 1,\n",
       "                          15: 1,\n",
       "                          12: 1}),\n",
       "             'deltaSHAPE_rep2_in_vivo': defaultdict(int,\n",
       "                         {7: 5,\n",
       "                          3: 56,\n",
       "                          2: 14,\n",
       "                          1: 13,\n",
       "                          4: 9,\n",
       "                          5: 8,\n",
       "                          16: 1,\n",
       "                          10: 2,\n",
       "                          6: 5,\n",
       "                          9: 5,\n",
       "                          8: 1,\n",
       "                          15: 1,\n",
       "                          23: 1,\n",
       "                          13: 1,\n",
       "                          14: 1})})"
      ]
     },
     "execution_count": 49,
     "metadata": {},
     "output_type": "execute_result"
    }
   ],
   "source": [
    "intervallengthcounter"
   ]
  },
  {
   "cell_type": "markdown",
   "metadata": {},
   "source": [
    "### This plot was generated to check on average how many DRNs were found in the 30bp sequences used for MEME analyses. \n",
    "As you can see, the majority of the DRN intervals still consist of single-nucleotide DRNs, which means that most DRNs are actually quite far apart in the data. This is not the case for deltaSHAPE that consitenly picks up stretches of 3 DRNs."
   ]
  },
  {
   "cell_type": "code",
   "execution_count": 51,
   "metadata": {},
   "outputs": [
    {
     "data": {
      "image/png": "[encoded data removed]",
      "text/plain": [
       "<Figure size 216x720 with 6 Axes>"
      ]
     },
     "metadata": {
      "needs_background": "light"
     },
     "output_type": "display_data"
    }
   ],
   "source": [
    "numberofplots = len(intervallengthcounter.keys())\n",
    "samples = list(intervallengthcounter.keys())\n",
    "fig,ax = plt.subplots(numberofplots,figsize=[3,10],sharex=True)\n",
    "for i in range(numberofplots):\n",
    "    sample = samples[i]\n",
    "    data = intervallengthcounter[sample]\n",
    "    x = list(data.keys())\n",
    "    y = list(data.values())\n",
    "    sns.barplot(x,y,ax=ax[i],color=\"blue\")\n",
    "    ax[i].set_title(sample)\n",
    "    ax[i].set_ylabel('Counts')\n",
    "plt.tight_layout()\n",
    "fig.savefig(\"Distribution_of_stretches_of_diff_mod_nucleotides_v2.pdf\",dpi=400)"
   ]
  },
  {
   "cell_type": "markdown",
   "metadata": {},
   "source": [
    "### Now running everything through fimo to get the coordinates for the motifs identified by deltaSHAPE and diffBUM-HMM. \n",
    "This would be a useful resource for people studying Xist and Xist RBPs."
   ]
  },
  {
   "cell_type": "code",
   "execution_count": 3,
   "metadata": {},
   "outputs": [],
   "source": [
    "directories = glob.glob(\"MEME_V2*\")"
   ]
  },
  {
   "cell_type": "code",
   "execution_count": 5,
   "metadata": {},
   "outputs": [
    {
     "data": {
      "text/plain": [
       "['MEME_V2deltaSHAPE_rep_1_in_vivo_30_mers',\n",
       " 'MEME_V2deltaSHAPE_rep_1_ex_vivo_30_mers',\n",
       " 'MEME_V2diffBUM_HMM_ex_vivo_30_mers',\n",
       " 'MEME_V2diffBUM_HMM_in_vivo_30_mers',\n",
       " 'MEME_V2deltaSHAPE_rep_2_ex_vivo_30_mers',\n",
       " 'MEME_V2deltaSHAPE_rep_2_in_vivo_30_mers']"
      ]
     },
     "execution_count": 5,
     "metadata": {},
     "output_type": "execute_result"
    }
   ],
   "source": [
    "directories"
   ]
  },
  {
   "cell_type": "code",
   "execution_count": 7,
   "metadata": {},
   "outputs": [],
   "source": [
    "directories = \" \".join(directories)"
   ]
  },
  {
   "cell_type": "code",
   "execution_count": 11,
   "metadata": {},
   "outputs": [],
   "source": [
    "%%bash -s \"$directories\"\n",
    "\n",
    "DIR=$HOME/meme/bin\n",
    "\n",
    "for i in $1\n",
    "do\n",
    "    $DIR/fimo \\\n",
    "    --oc $i \\\n",
    "    --verbosity 1 \\\n",
    "    $i/meme_out/meme.txt \\\n",
    "    ../../Reference_sequences/Xist.fa &\n",
    "done"
   ]
  },
  {
   "cell_type": "code",
   "execution_count": null,
   "metadata": {},
   "outputs": [],
   "source": []
  }
 ],
 "metadata": {
  "kernelspec": {
   "display_name": "Python 3",
   "language": "python",
   "name": "python3"
  },
  "language_info": {
   "codemirror_mode": {
    "name": "ipython",
    "version": 3
   },
   "file_extension": ".py",
   "mimetype": "text/x-python",
   "name": "python",
   "nbconvert_exporter": "python",
   "pygments_lexer": "ipython3",
   "version": "3.7.1"
  }
 },
 "nbformat": 4,
 "nbformat_minor": 2
}
