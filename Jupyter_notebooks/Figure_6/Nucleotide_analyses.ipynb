{
 "cells": [
  {
   "cell_type": "code",
   "execution_count": null,
   "metadata": {},
   "outputs": [],
   "source": [
    "#INSTALL PACKAGES\n",
    "! pip install numpy\n",
    "! pip install pandas\n",
    "! pip install matplotlib\n",
    "! pip install seaborn\n",
    "! pip install scipy\n",
    "! pip install pyCRAC"
   ]
  },
  {
   "cell_type": "code",
   "execution_count": null,
   "metadata": {},
   "outputs": [],
   "source": [
    "import os\n",
    "import math\n",
    "import sys\n",
    "import glob\n",
    "import pandas as pd\n",
    "import numpy as np\n",
    "import matplotlib.pyplot as plt\n",
    "import seaborn as sns\n",
    "from scipy.special import comb\n",
    "from scipy.stats import hypergeom,chisquare,fisher_exact\n",
    "from matplotlib import rcParams\n",
    "from collections import defaultdict\n",
    "from pyCRAC.Methods import sortbyvalue,contigousarray2Intervals\n",
    "\n",
    "rcParams['font.family'] = 'sans-serif'\n",
    "rcParams['font.sans-serif'] = ['Arial']\n",
    "rcParams['pdf.fonttype'] = 42\n",
    "rcParams['axes.formatter.useoffset'] = False"
   ]
  },
  {
   "cell_type": "markdown",
   "metadata": {},
   "source": [
    "### Loading the big dataframe:"
   ]
  },
  {
   "cell_type": "code",
   "execution_count": 13,
   "metadata": {},
   "outputs": [],
   "source": [
    "data = pd.read_csv('../../Data/New_data_table_Xist.txt',\\\n",
    "                    sep=\"\\t\",\\\n",
    "                    header=0,\\\n",
    "                    index_col=0)"
   ]
  },
  {
   "cell_type": "markdown",
   "metadata": {},
   "source": [
    "### Removing data with no coverage:"
   ]
  },
  {
   "cell_type": "code",
   "execution_count": 5,
   "metadata": {},
   "outputs": [
    {
     "name": "stdout",
     "output_type": "stream",
     "text": [
      "2517\n"
     ]
    }
   ],
   "source": [
    "positionstomask = data[(data[\"SHAPE_reactivity_ex_vivo_1\"] < -900) | \n",
    "                       (data[\"SHAPE_reactivity_ex_vivo_2\"] < -900) |\n",
    "                       (data[\"SHAPE_reactivity_in_cell_1\"] < -900) | \n",
    "                       (data[\"SHAPE_reactivity_in_cell_2\"] < -900)].index\n",
    "print(len(positionstomask))\n",
    "data.loc[positionstomask,data.columns[11:]] = np.nan"
   ]
  },
  {
   "cell_type": "markdown",
   "metadata": {},
   "source": [
    "### Checking what nucleotides were found to be modified in the ex_vivo and in_vivo data:"
   ]
  },
  {
   "cell_type": "code",
   "execution_count": 4,
   "metadata": {},
   "outputs": [],
   "source": [
    "samples  = ['Xist_sequence','diffBUM_HMM_ex_vivo_norm','diffBUM_HMM_ex_vivo','diffBUM_HMM_in_vivo_norm','diffBUM_HMM_in_vivo',\n",
    "            'diffBUM_HMM_ex_vivo_norm_unique','diffBUM_HMM_ex_vivo_unique',\n",
    "            'diffBUM_HMM_in_vivo_norm_unique','diffBUM_HMM_in_vivo_unique',\n",
    "            'deltaSHAPE_ex_vivo_1','deltaSHAPE_ex_vivo_2','deltaSHAPE_in_vivo_1','deltaSHAPE_in_vivo_2']\n",
    "nucleotides = [\"A\",\"T\",\"C\",\"G\"]"
   ]
  },
  {
   "cell_type": "code",
   "execution_count": 5,
   "metadata": {},
   "outputs": [],
   "source": [
    "modinfo = pd.DataFrame(0,index=nucleotides,columns=samples)"
   ]
  },
  {
   "cell_type": "code",
   "execution_count": 6,
   "metadata": {},
   "outputs": [
    {
     "data": {
      "text/plain": [
       "Index(['Xist_sequence', 'diffBUM_HMM_ex_vivo_norm', 'diffBUM_HMM_ex_vivo',\n",
       "       'diffBUM_HMM_in_vivo_norm', 'diffBUM_HMM_in_vivo',\n",
       "       'diffBUM_HMM_ex_vivo_norm_unique', 'diffBUM_HMM_ex_vivo_unique',\n",
       "       'diffBUM_HMM_in_vivo_norm_unique', 'diffBUM_HMM_in_vivo_unique',\n",
       "       'deltaSHAPE_ex_vivo_1', 'deltaSHAPE_ex_vivo_2', 'deltaSHAPE_in_vivo_1',\n",
       "       'deltaSHAPE_in_vivo_2'],\n",
       "      dtype='object')"
      ]
     },
     "execution_count": 6,
     "metadata": {},
     "output_type": "execute_result"
    }
   ],
   "source": [
    "modinfo.columns"
   ]
  },
  {
   "cell_type": "markdown",
   "metadata": {},
   "source": [
    "### Xist sequence:"
   ]
  },
  {
   "cell_type": "code",
   "execution_count": 7,
   "metadata": {},
   "outputs": [],
   "source": [
    "for i in data.nucleotide:\n",
    "    modinfo.loc[i,'Xist_sequence'] += 1 "
   ]
  },
  {
   "cell_type": "markdown",
   "metadata": {},
   "source": [
    "### Setting a threshold for calling DRNs in the diffBUM-HMM data:"
   ]
  },
  {
   "cell_type": "code",
   "execution_count": 8,
   "metadata": {},
   "outputs": [],
   "source": [
    "threshold = 0.95"
   ]
  },
  {
   "cell_type": "markdown",
   "metadata": {},
   "source": [
    "### First I need to figure out how long the stretches of DRNs are in the diffBUM-HMM and deltaSHAPE data:\n",
    "This will produce the data for Figure 6A."
   ]
  },
  {
   "cell_type": "code",
   "execution_count": 9,
   "metadata": {},
   "outputs": [],
   "source": [
    " intervallengthcounter = defaultdict(lambda: defaultdict(int))"
   ]
  },
  {
   "cell_type": "markdown",
   "metadata": {},
   "source": [
    "### diffBUM-HMM:"
   ]
  },
  {
   "cell_type": "code",
   "execution_count": 10,
   "metadata": {},
   "outputs": [
    {
     "name": "stdout",
     "output_type": "stream",
     "text": [
      "849\n",
      "1164\n",
      "127\n",
      "142\n"
     ]
    }
   ],
   "source": [
    "### How many DRNs are there in the data?:\n",
    "ex_vivo_pos = data[data.ex_vivo >= threshold].index\n",
    "\n",
    "### contigousarray2Intervals groups the DRNs that are next to each other in intervals.\n",
    "intervals = contigousarray2Intervals(ex_vivo_pos)\n",
    "\n",
    "### This prints the number of intervals that were detected and how many DRNs there were in the data.\n",
    "print(len(intervals))\n",
    "print(len(ex_vivo_pos))\n",
    "\n",
    "for (i,j) in intervals:\n",
    "    length = (j-i)+1\n",
    "    intervallengthcounter[\"diffBUM_HMM_ex_vivo\"][length] += 1\n",
    "        \n",
    "in_vivo_pos = data[data.in_vivo >= threshold].index\n",
    "intervals = contigousarray2Intervals(in_vivo_pos)\n",
    "\n",
    "print(len(intervals))\n",
    "print(len(in_vivo_pos))\n",
    "\n",
    "for (i,j) in intervals:\n",
    "    length = (j-i)+1\n",
    "    intervallengthcounter[\"diffBUM_HMM_in_vivo\"][length] += 1"
   ]
  },
  {
   "cell_type": "markdown",
   "metadata": {},
   "source": [
    "### deltaSHAPE rep 1:"
   ]
  },
  {
   "cell_type": "code",
   "execution_count": 11,
   "metadata": {},
   "outputs": [
    {
     "name": "stdout",
     "output_type": "stream",
     "text": [
      "162\n",
      "460\n",
      "120\n",
      "337\n"
     ]
    }
   ],
   "source": [
    "ex_vivo_pos = data[data.deltaSHAPE_rep1 > 0].index\n",
    "intervals = contigousarray2Intervals(ex_vivo_pos)\n",
    "\n",
    "print(len(intervals))\n",
    "print(len(ex_vivo_pos))\n",
    "\n",
    "\n",
    "for (i,j) in intervals:\n",
    "    length = (j-i)+1\n",
    "    intervallengthcounter[\"deltaSHAPE_rep1_ex_vivo\"][length] += 1\n",
    "    \n",
    "in_vivo_pos = data[data.deltaSHAPE_rep1 < 0].index\n",
    "intervals = contigousarray2Intervals(in_vivo_pos)\n",
    "\n",
    "print(len(intervals))\n",
    "print(len(in_vivo_pos))\n",
    "\n",
    "count = 0\n",
    "\n",
    "for (i,j) in intervals:\n",
    "    length = (j-i)+1\n",
    "    intervallengthcounter[\"deltaSHAPE_rep1_in_vivo\"][length] += 1"
   ]
  },
  {
   "cell_type": "markdown",
   "metadata": {},
   "source": [
    "### deltaSHAPE rep 2:"
   ]
  },
  {
   "cell_type": "code",
   "execution_count": 12,
   "metadata": {},
   "outputs": [
    {
     "name": "stdout",
     "output_type": "stream",
     "text": [
      "186\n",
      "510\n",
      "166\n",
      "428\n"
     ]
    }
   ],
   "source": [
    "ex_vivo_pos = data[data.deltaSHAPE_rep2 > 0].index\n",
    "intervals = contigousarray2Intervals(ex_vivo_pos)\n",
    "\n",
    "print(len(intervals))\n",
    "print(len(ex_vivo_pos))\n",
    "\n",
    "\n",
    "for (i,j) in intervals:\n",
    "    length = (j-i)+1\n",
    "    intervallengthcounter[\"deltaSHAPE_rep2_ex_vivo\"][length] += 1\n",
    "        \n",
    "in_vivo_pos = data[data.deltaSHAPE_rep2 < 0].index\n",
    "intervals = contigousarray2Intervals(in_vivo_pos)\n",
    "\n",
    "print(len(intervals))\n",
    "print(len(in_vivo_pos))\n",
    "\n",
    "count = 0\n",
    "\n",
    "for (i,j) in intervals:\n",
    "    length = (j-i)+1\n",
    "    intervallengthcounter[\"deltaSHAPE_rep2_in_vivo\"][length] += 1"
   ]
  },
  {
   "cell_type": "markdown",
   "metadata": {},
   "source": [
    "### Now making the plots for Figure 6A:"
   ]
  },
  {
   "cell_type": "code",
   "execution_count": 13,
   "metadata": {},
   "outputs": [
    {
     "data": {
      "image/png": "[encoded data removed]",
      "text/plain": [
       "<Figure size 216x720 with 6 Axes>"
      ]
     },
     "metadata": {
      "needs_background": "light"
     },
     "output_type": "display_data"
    }
   ],
   "source": [
    "numberofplots = len(intervallengthcounter.keys())\n",
    "samples = list(intervallengthcounter.keys())\n",
    "fig,ax = plt.subplots(numberofplots,figsize=[3,10],sharex=True)\n",
    "for i in range(numberofplots):\n",
    "    sample = samples[i]\n",
    "    counts = intervallengthcounter[sample]\n",
    "    x = list(counts.keys())\n",
    "    y = list(counts.values())\n",
    "    sns.barplot(x,y,ax=ax[i],color=\"blue\")\n",
    "    ax[i].set_title(sample)\n",
    "    ax[i].set_ylabel('Counts')\n",
    "plt.tight_layout()\n",
    "fig.savefig(\"Figure_6A.pdf\",dpi=400)"
   ]
  },
  {
   "cell_type": "markdown",
   "metadata": {},
   "source": [
    "### Now calculating the nucleotide composition of the DRNs and how frequently they are located in single-stranded regions:"
   ]
  },
  {
   "cell_type": "markdown",
   "metadata": {},
   "source": [
    "### diffBUM_HMM:"
   ]
  },
  {
   "cell_type": "code",
   "execution_count": 14,
   "metadata": {},
   "outputs": [],
   "source": [
    "in_vivo = data[data.in_vivo >= threshold][\"nucleotide\"].values\n",
    "ex_vivo = data[data.ex_vivo >= threshold][\"nucleotide\"].values\n",
    "in_vivo_scaled = data[data.scaled_in_vivo >= threshold][\"nucleotide\"].values\n",
    "ex_vivo_scaled = data[data.scaled_ex_vivo >= threshold][\"nucleotide\"].values"
   ]
  },
  {
   "cell_type": "code",
   "execution_count": 15,
   "metadata": {},
   "outputs": [],
   "source": [
    "for nuc in in_vivo:\n",
    "    modinfo.loc[nuc,\"diffBUM_HMM_in_vivo\"] += 1\n",
    "for nuc in in_vivo_scaled:\n",
    "    modinfo.loc[nuc,\"diffBUM_HMM_in_vivo_norm\"] += 1\n",
    "for nuc in ex_vivo:\n",
    "    modinfo.loc[nuc,\"diffBUM_HMM_ex_vivo\"] += 1\n",
    "for nuc in ex_vivo_scaled:\n",
    "    modinfo.loc[nuc,\"diffBUM_HMM_ex_vivo_norm\"] += 1"
   ]
  },
  {
   "cell_type": "markdown",
   "metadata": {},
   "source": [
    "### diffBUM_HMM unique"
   ]
  },
  {
   "cell_type": "code",
   "execution_count": 16,
   "metadata": {},
   "outputs": [],
   "source": [
    "in_vivo_unique = data[(data.deltaSHAPE_rep1 == 0) & (data.deltaSHAPE_rep2 == 0) & \\\n",
    "                      (data.in_vivo >= threshold)][\"nucleotide\"].values\n",
    "ex_vivo_unique = data[(data.deltaSHAPE_rep1 == 0) & (data.deltaSHAPE_rep2 == 0) & \\\n",
    "                      (data.ex_vivo >= threshold)][\"nucleotide\"].values\n",
    "in_vivo_scaled_unique = data[(data.deltaSHAPE_rep1 == 0) & (data.deltaSHAPE_rep2 == 0) & \\\n",
    "                             (data.scaled_in_vivo >= threshold)][\"nucleotide\"].values\n",
    "ex_vivo_scaled_unique = data[(data.deltaSHAPE_rep1 == 0) & (data.deltaSHAPE_rep2 == 0) & \\\n",
    "                             (data.scaled_ex_vivo >= threshold)][\"nucleotide\"].values"
   ]
  },
  {
   "cell_type": "code",
   "execution_count": 17,
   "metadata": {},
   "outputs": [],
   "source": [
    "for nuc in in_vivo_unique:\n",
    "    modinfo.loc[nuc,\"diffBUM_HMM_in_vivo_unique\"] += 1\n",
    "for nuc in in_vivo_scaled_unique:\n",
    "    modinfo.loc[nuc,\"diffBUM_HMM_in_vivo_norm_unique\"] += 1\n",
    "for nuc in ex_vivo_unique:\n",
    "    modinfo.loc[nuc,\"diffBUM_HMM_ex_vivo_unique\"] += 1\n",
    "for nuc in ex_vivo_scaled_unique:\n",
    "    modinfo.loc[nuc,\"diffBUM_HMM_ex_vivo_norm_unique\"] += 1"
   ]
  },
  {
   "cell_type": "markdown",
   "metadata": {},
   "source": [
    "### Now deltaSHAPE data:"
   ]
  },
  {
   "cell_type": "code",
   "execution_count": 18,
   "metadata": {},
   "outputs": [],
   "source": [
    "in_vivo_1 = data[data.deltaSHAPE_rep1 > 0][\"nucleotide\"].values\n",
    "ex_vivo_1 = data[data.deltaSHAPE_rep1 < 0][\"nucleotide\"].values\n",
    "in_vivo_2 = data[data.deltaSHAPE_rep2 > 0][\"nucleotide\"].values\n",
    "ex_vivo_2 = data[data.deltaSHAPE_rep2 < 0][\"nucleotide\"].values"
   ]
  },
  {
   "cell_type": "code",
   "execution_count": 19,
   "metadata": {},
   "outputs": [],
   "source": [
    "for nuc in in_vivo_1:\n",
    "    modinfo.loc[nuc,\"deltaSHAPE_in_vivo_1\"] += 1\n",
    "for nuc in in_vivo_2:\n",
    "    modinfo.loc[nuc,\"deltaSHAPE_in_vivo_2\"] += 1\n",
    "for nuc in ex_vivo_1:\n",
    "    modinfo.loc[nuc,\"deltaSHAPE_ex_vivo_1\"] += 1\n",
    "for nuc in ex_vivo_2:\n",
    "    modinfo.loc[nuc,\"deltaSHAPE_ex_vivo_2\"] += 1"
   ]
  },
  {
   "cell_type": "code",
   "execution_count": 20,
   "metadata": {},
   "outputs": [
    {
     "data": {
      "text/html": [
       "<div>\n",
       "<style scoped>\n",
       "    .dataframe tbody tr th:only-of-type {\n",
       "        vertical-align: middle;\n",
       "    }\n",
       "\n",
       "    .dataframe tbody tr th {\n",
       "        vertical-align: top;\n",
       "    }\n",
       "\n",
       "    .dataframe thead th {\n",
       "        text-align: right;\n",
       "    }\n",
       "</style>\n",
       "<table border=\"1\" class=\"dataframe\">\n",
       "  <thead>\n",
       "    <tr style=\"text-align: right;\">\n",
       "      <th></th>\n",
       "      <th>Xist_sequence</th>\n",
       "      <th>diffBUM_HMM_ex_vivo_norm</th>\n",
       "      <th>diffBUM_HMM_ex_vivo</th>\n",
       "      <th>diffBUM_HMM_in_vivo_norm</th>\n",
       "      <th>diffBUM_HMM_in_vivo</th>\n",
       "      <th>diffBUM_HMM_ex_vivo_norm_unique</th>\n",
       "      <th>diffBUM_HMM_ex_vivo_unique</th>\n",
       "      <th>diffBUM_HMM_in_vivo_norm_unique</th>\n",
       "      <th>diffBUM_HMM_in_vivo_unique</th>\n",
       "      <th>deltaSHAPE_ex_vivo_1</th>\n",
       "      <th>deltaSHAPE_ex_vivo_2</th>\n",
       "      <th>deltaSHAPE_in_vivo_1</th>\n",
       "      <th>deltaSHAPE_in_vivo_2</th>\n",
       "    </tr>\n",
       "  </thead>\n",
       "  <tbody>\n",
       "    <tr>\n",
       "      <td>A</td>\n",
       "      <td>4748</td>\n",
       "      <td>576</td>\n",
       "      <td>420</td>\n",
       "      <td>117</td>\n",
       "      <td>91</td>\n",
       "      <td>501</td>\n",
       "      <td>370</td>\n",
       "      <td>94</td>\n",
       "      <td>72</td>\n",
       "      <td>117</td>\n",
       "      <td>184</td>\n",
       "      <td>95</td>\n",
       "      <td>122</td>\n",
       "    </tr>\n",
       "    <tr>\n",
       "      <td>T</td>\n",
       "      <td>5746</td>\n",
       "      <td>709</td>\n",
       "      <td>478</td>\n",
       "      <td>42</td>\n",
       "      <td>33</td>\n",
       "      <td>597</td>\n",
       "      <td>400</td>\n",
       "      <td>32</td>\n",
       "      <td>26</td>\n",
       "      <td>112</td>\n",
       "      <td>123</td>\n",
       "      <td>214</td>\n",
       "      <td>208</td>\n",
       "    </tr>\n",
       "    <tr>\n",
       "      <td>C</td>\n",
       "      <td>3875</td>\n",
       "      <td>244</td>\n",
       "      <td>137</td>\n",
       "      <td>10</td>\n",
       "      <td>6</td>\n",
       "      <td>200</td>\n",
       "      <td>110</td>\n",
       "      <td>7</td>\n",
       "      <td>4</td>\n",
       "      <td>59</td>\n",
       "      <td>65</td>\n",
       "      <td>94</td>\n",
       "      <td>128</td>\n",
       "    </tr>\n",
       "    <tr>\n",
       "      <td>G</td>\n",
       "      <td>3549</td>\n",
       "      <td>210</td>\n",
       "      <td>129</td>\n",
       "      <td>19</td>\n",
       "      <td>12</td>\n",
       "      <td>180</td>\n",
       "      <td>118</td>\n",
       "      <td>17</td>\n",
       "      <td>10</td>\n",
       "      <td>49</td>\n",
       "      <td>56</td>\n",
       "      <td>57</td>\n",
       "      <td>52</td>\n",
       "    </tr>\n",
       "  </tbody>\n",
       "</table>\n",
       "</div>"
      ],
      "text/plain": [
       "   Xist_sequence  diffBUM_HMM_ex_vivo_norm  diffBUM_HMM_ex_vivo  \\\n",
       "A           4748                       576                  420   \n",
       "T           5746                       709                  478   \n",
       "C           3875                       244                  137   \n",
       "G           3549                       210                  129   \n",
       "\n",
       "   diffBUM_HMM_in_vivo_norm  diffBUM_HMM_in_vivo  \\\n",
       "A                       117                   91   \n",
       "T                        42                   33   \n",
       "C                        10                    6   \n",
       "G                        19                   12   \n",
       "\n",
       "   diffBUM_HMM_ex_vivo_norm_unique  diffBUM_HMM_ex_vivo_unique  \\\n",
       "A                              501                         370   \n",
       "T                              597                         400   \n",
       "C                              200                         110   \n",
       "G                              180                         118   \n",
       "\n",
       "   diffBUM_HMM_in_vivo_norm_unique  diffBUM_HMM_in_vivo_unique  \\\n",
       "A                               94                          72   \n",
       "T                               32                          26   \n",
       "C                                7                           4   \n",
       "G                               17                          10   \n",
       "\n",
       "   deltaSHAPE_ex_vivo_1  deltaSHAPE_ex_vivo_2  deltaSHAPE_in_vivo_1  \\\n",
       "A                   117                   184                    95   \n",
       "T                   112                   123                   214   \n",
       "C                    59                    65                    94   \n",
       "G                    49                    56                    57   \n",
       "\n",
       "   deltaSHAPE_in_vivo_2  \n",
       "A                   122  \n",
       "T                   208  \n",
       "C                   128  \n",
       "G                    52  "
      ]
     },
     "execution_count": 20,
     "metadata": {},
     "output_type": "execute_result"
    }
   ],
   "source": [
    "modinfo"
   ]
  },
  {
   "cell_type": "markdown",
   "metadata": {},
   "source": [
    "### Now correct for total number of modifications:"
   ]
  },
  {
   "cell_type": "code",
   "execution_count": 21,
   "metadata": {},
   "outputs": [],
   "source": [
    "modinfonorm = modinfo.div(modinfo.sum(axis=0), axis=1)"
   ]
  },
  {
   "cell_type": "markdown",
   "metadata": {},
   "source": [
    "### Now check if there is a statistical significant difference between the nucleotide frequencies in each dataset using a chi-square test:"
   ]
  },
  {
   "cell_type": "code",
   "execution_count": 22,
   "metadata": {},
   "outputs": [
    {
     "data": {
      "text/html": [
       "<div>\n",
       "<style scoped>\n",
       "    .dataframe tbody tr th:only-of-type {\n",
       "        vertical-align: middle;\n",
       "    }\n",
       "\n",
       "    .dataframe tbody tr th {\n",
       "        vertical-align: top;\n",
       "    }\n",
       "\n",
       "    .dataframe thead th {\n",
       "        text-align: right;\n",
       "    }\n",
       "</style>\n",
       "<table border=\"1\" class=\"dataframe\">\n",
       "  <thead>\n",
       "    <tr style=\"text-align: right;\">\n",
       "      <th></th>\n",
       "      <th>Xist_sequence</th>\n",
       "      <th>diffBUM_HMM_ex_vivo_norm</th>\n",
       "      <th>diffBUM_HMM_ex_vivo</th>\n",
       "      <th>diffBUM_HMM_in_vivo_norm</th>\n",
       "      <th>diffBUM_HMM_in_vivo</th>\n",
       "      <th>diffBUM_HMM_ex_vivo_norm_unique</th>\n",
       "      <th>diffBUM_HMM_ex_vivo_unique</th>\n",
       "      <th>diffBUM_HMM_in_vivo_norm_unique</th>\n",
       "      <th>diffBUM_HMM_in_vivo_unique</th>\n",
       "      <th>deltaSHAPE_ex_vivo_1</th>\n",
       "      <th>deltaSHAPE_ex_vivo_2</th>\n",
       "      <th>deltaSHAPE_in_vivo_1</th>\n",
       "      <th>deltaSHAPE_in_vivo_2</th>\n",
       "    </tr>\n",
       "  </thead>\n",
       "  <tbody>\n",
       "    <tr>\n",
       "      <td>A</td>\n",
       "      <td>0.264985</td>\n",
       "      <td>0.331225</td>\n",
       "      <td>0.360825</td>\n",
       "      <td>0.622340</td>\n",
       "      <td>0.640845</td>\n",
       "      <td>0.338972</td>\n",
       "      <td>0.370741</td>\n",
       "      <td>0.626667</td>\n",
       "      <td>0.642857</td>\n",
       "      <td>0.347181</td>\n",
       "      <td>0.429907</td>\n",
       "      <td>0.206522</td>\n",
       "      <td>0.239216</td>\n",
       "    </tr>\n",
       "    <tr>\n",
       "      <td>T</td>\n",
       "      <td>0.320683</td>\n",
       "      <td>0.407706</td>\n",
       "      <td>0.410653</td>\n",
       "      <td>0.223404</td>\n",
       "      <td>0.232394</td>\n",
       "      <td>0.403924</td>\n",
       "      <td>0.400802</td>\n",
       "      <td>0.213333</td>\n",
       "      <td>0.232143</td>\n",
       "      <td>0.332344</td>\n",
       "      <td>0.287383</td>\n",
       "      <td>0.465217</td>\n",
       "      <td>0.407843</td>\n",
       "    </tr>\n",
       "    <tr>\n",
       "      <td>C</td>\n",
       "      <td>0.216263</td>\n",
       "      <td>0.140311</td>\n",
       "      <td>0.117698</td>\n",
       "      <td>0.053191</td>\n",
       "      <td>0.042254</td>\n",
       "      <td>0.135318</td>\n",
       "      <td>0.110220</td>\n",
       "      <td>0.046667</td>\n",
       "      <td>0.035714</td>\n",
       "      <td>0.175074</td>\n",
       "      <td>0.151869</td>\n",
       "      <td>0.204348</td>\n",
       "      <td>0.250980</td>\n",
       "    </tr>\n",
       "    <tr>\n",
       "      <td>G</td>\n",
       "      <td>0.198069</td>\n",
       "      <td>0.120759</td>\n",
       "      <td>0.110825</td>\n",
       "      <td>0.101064</td>\n",
       "      <td>0.084507</td>\n",
       "      <td>0.121786</td>\n",
       "      <td>0.118236</td>\n",
       "      <td>0.113333</td>\n",
       "      <td>0.089286</td>\n",
       "      <td>0.145401</td>\n",
       "      <td>0.130841</td>\n",
       "      <td>0.123913</td>\n",
       "      <td>0.101961</td>\n",
       "    </tr>\n",
       "  </tbody>\n",
       "</table>\n",
       "</div>"
      ],
      "text/plain": [
       "   Xist_sequence  diffBUM_HMM_ex_vivo_norm  diffBUM_HMM_ex_vivo  \\\n",
       "A       0.264985                  0.331225             0.360825   \n",
       "T       0.320683                  0.407706             0.410653   \n",
       "C       0.216263                  0.140311             0.117698   \n",
       "G       0.198069                  0.120759             0.110825   \n",
       "\n",
       "   diffBUM_HMM_in_vivo_norm  diffBUM_HMM_in_vivo  \\\n",
       "A                  0.622340             0.640845   \n",
       "T                  0.223404             0.232394   \n",
       "C                  0.053191             0.042254   \n",
       "G                  0.101064             0.084507   \n",
       "\n",
       "   diffBUM_HMM_ex_vivo_norm_unique  diffBUM_HMM_ex_vivo_unique  \\\n",
       "A                         0.338972                    0.370741   \n",
       "T                         0.403924                    0.400802   \n",
       "C                         0.135318                    0.110220   \n",
       "G                         0.121786                    0.118236   \n",
       "\n",
       "   diffBUM_HMM_in_vivo_norm_unique  diffBUM_HMM_in_vivo_unique  \\\n",
       "A                         0.626667                    0.642857   \n",
       "T                         0.213333                    0.232143   \n",
       "C                         0.046667                    0.035714   \n",
       "G                         0.113333                    0.089286   \n",
       "\n",
       "   deltaSHAPE_ex_vivo_1  deltaSHAPE_ex_vivo_2  deltaSHAPE_in_vivo_1  \\\n",
       "A              0.347181              0.429907              0.206522   \n",
       "T              0.332344              0.287383              0.465217   \n",
       "C              0.175074              0.151869              0.204348   \n",
       "G              0.145401              0.130841              0.123913   \n",
       "\n",
       "   deltaSHAPE_in_vivo_2  \n",
       "A              0.239216  \n",
       "T              0.407843  \n",
       "C              0.250980  \n",
       "G              0.101961  "
      ]
     },
     "execution_count": 22,
     "metadata": {},
     "output_type": "execute_result"
    }
   ],
   "source": [
    "modinfonorm.head()"
   ]
  },
  {
   "cell_type": "code",
   "execution_count": 23,
   "metadata": {},
   "outputs": [
    {
     "name": "stdout",
     "output_type": "stream",
     "text": [
      "diffBUM_HMM_ex_vivo_norm:\t0.9921921939576517\n",
      "diffBUM_HMM_ex_vivo:\t0.9861833528301358\n",
      "diffBUM_HMM_in_vivo_norm:\t0.8774512930475329\n",
      "diffBUM_HMM_in_vivo:\t0.8584003893945844\n",
      "diffBUM_HMM_ex_vivo_norm_unique:\t0.9916034877939462\n",
      "diffBUM_HMM_ex_vivo_unique:\t0.9857397075770127\n",
      "diffBUM_HMM_in_vivo_norm_unique:\t0.8734742568696059\n",
      "diffBUM_HMM_in_vivo_unique:\t0.8557288380621534\n",
      "deltaSHAPE_ex_vivo_1:\t0.99726258943411\n",
      "deltaSHAPE_ex_vivo_2:\t0.9854985448954785\n",
      "deltaSHAPE_in_vivo_1:\t0.9910509186704817\n",
      "deltaSHAPE_in_vivo_2:\t0.9942966910237633\n"
     ]
    }
   ],
   "source": [
    "for i in modinfonorm.columns[1:]:\n",
    "    f_exp = modinfonorm['Xist_sequence'].values\n",
    "    f_obs = modinfonorm[i].values\n",
    "    #print(f_exp,f_obs)\n",
    "    p_value = chisquare(f_obs,f_exp)[1]\n",
    "    print(\"%s:\\t%s\" % (i,p_value))"
   ]
  },
  {
   "cell_type": "markdown",
   "metadata": {},
   "source": [
    "### So the difference is not statistically significant but the sample size for this test is too small. Should be at least 5. There must be a better approach."
   ]
  },
  {
   "cell_type": "markdown",
   "metadata": {},
   "source": [
    "### Now making the heatmap:"
   ]
  },
  {
   "cell_type": "code",
   "execution_count": 24,
   "metadata": {},
   "outputs": [
    {
     "data": {
      "text/html": [
       "<div>\n",
       "<style scoped>\n",
       "    .dataframe tbody tr th:only-of-type {\n",
       "        vertical-align: middle;\n",
       "    }\n",
       "\n",
       "    .dataframe tbody tr th {\n",
       "        vertical-align: top;\n",
       "    }\n",
       "\n",
       "    .dataframe thead th {\n",
       "        text-align: right;\n",
       "    }\n",
       "</style>\n",
       "<table border=\"1\" class=\"dataframe\">\n",
       "  <thead>\n",
       "    <tr style=\"text-align: right;\">\n",
       "      <th></th>\n",
       "      <th>Xist_sequence</th>\n",
       "      <th>diffBUM_HMM_ex_vivo_norm</th>\n",
       "      <th>diffBUM_HMM_ex_vivo</th>\n",
       "      <th>diffBUM_HMM_in_vivo_norm</th>\n",
       "      <th>diffBUM_HMM_in_vivo</th>\n",
       "      <th>diffBUM_HMM_ex_vivo_norm_unique</th>\n",
       "      <th>diffBUM_HMM_ex_vivo_unique</th>\n",
       "      <th>diffBUM_HMM_in_vivo_norm_unique</th>\n",
       "      <th>diffBUM_HMM_in_vivo_unique</th>\n",
       "      <th>deltaSHAPE_ex_vivo_1</th>\n",
       "      <th>deltaSHAPE_ex_vivo_2</th>\n",
       "      <th>deltaSHAPE_in_vivo_1</th>\n",
       "      <th>deltaSHAPE_in_vivo_2</th>\n",
       "    </tr>\n",
       "  </thead>\n",
       "  <tbody>\n",
       "    <tr>\n",
       "      <td>A</td>\n",
       "      <td>0.264985</td>\n",
       "      <td>0.331225</td>\n",
       "      <td>0.360825</td>\n",
       "      <td>0.622340</td>\n",
       "      <td>0.640845</td>\n",
       "      <td>0.338972</td>\n",
       "      <td>0.370741</td>\n",
       "      <td>0.626667</td>\n",
       "      <td>0.642857</td>\n",
       "      <td>0.347181</td>\n",
       "      <td>0.429907</td>\n",
       "      <td>0.206522</td>\n",
       "      <td>0.239216</td>\n",
       "    </tr>\n",
       "    <tr>\n",
       "      <td>T</td>\n",
       "      <td>0.320683</td>\n",
       "      <td>0.407706</td>\n",
       "      <td>0.410653</td>\n",
       "      <td>0.223404</td>\n",
       "      <td>0.232394</td>\n",
       "      <td>0.403924</td>\n",
       "      <td>0.400802</td>\n",
       "      <td>0.213333</td>\n",
       "      <td>0.232143</td>\n",
       "      <td>0.332344</td>\n",
       "      <td>0.287383</td>\n",
       "      <td>0.465217</td>\n",
       "      <td>0.407843</td>\n",
       "    </tr>\n",
       "    <tr>\n",
       "      <td>C</td>\n",
       "      <td>0.216263</td>\n",
       "      <td>0.140311</td>\n",
       "      <td>0.117698</td>\n",
       "      <td>0.053191</td>\n",
       "      <td>0.042254</td>\n",
       "      <td>0.135318</td>\n",
       "      <td>0.110220</td>\n",
       "      <td>0.046667</td>\n",
       "      <td>0.035714</td>\n",
       "      <td>0.175074</td>\n",
       "      <td>0.151869</td>\n",
       "      <td>0.204348</td>\n",
       "      <td>0.250980</td>\n",
       "    </tr>\n",
       "    <tr>\n",
       "      <td>G</td>\n",
       "      <td>0.198069</td>\n",
       "      <td>0.120759</td>\n",
       "      <td>0.110825</td>\n",
       "      <td>0.101064</td>\n",
       "      <td>0.084507</td>\n",
       "      <td>0.121786</td>\n",
       "      <td>0.118236</td>\n",
       "      <td>0.113333</td>\n",
       "      <td>0.089286</td>\n",
       "      <td>0.145401</td>\n",
       "      <td>0.130841</td>\n",
       "      <td>0.123913</td>\n",
       "      <td>0.101961</td>\n",
       "    </tr>\n",
       "  </tbody>\n",
       "</table>\n",
       "</div>"
      ],
      "text/plain": [
       "   Xist_sequence  diffBUM_HMM_ex_vivo_norm  diffBUM_HMM_ex_vivo  \\\n",
       "A       0.264985                  0.331225             0.360825   \n",
       "T       0.320683                  0.407706             0.410653   \n",
       "C       0.216263                  0.140311             0.117698   \n",
       "G       0.198069                  0.120759             0.110825   \n",
       "\n",
       "   diffBUM_HMM_in_vivo_norm  diffBUM_HMM_in_vivo  \\\n",
       "A                  0.622340             0.640845   \n",
       "T                  0.223404             0.232394   \n",
       "C                  0.053191             0.042254   \n",
       "G                  0.101064             0.084507   \n",
       "\n",
       "   diffBUM_HMM_ex_vivo_norm_unique  diffBUM_HMM_ex_vivo_unique  \\\n",
       "A                         0.338972                    0.370741   \n",
       "T                         0.403924                    0.400802   \n",
       "C                         0.135318                    0.110220   \n",
       "G                         0.121786                    0.118236   \n",
       "\n",
       "   diffBUM_HMM_in_vivo_norm_unique  diffBUM_HMM_in_vivo_unique  \\\n",
       "A                         0.626667                    0.642857   \n",
       "T                         0.213333                    0.232143   \n",
       "C                         0.046667                    0.035714   \n",
       "G                         0.113333                    0.089286   \n",
       "\n",
       "   deltaSHAPE_ex_vivo_1  deltaSHAPE_ex_vivo_2  deltaSHAPE_in_vivo_1  \\\n",
       "A              0.347181              0.429907              0.206522   \n",
       "T              0.332344              0.287383              0.465217   \n",
       "C              0.175074              0.151869              0.204348   \n",
       "G              0.145401              0.130841              0.123913   \n",
       "\n",
       "   deltaSHAPE_in_vivo_2  \n",
       "A              0.239216  \n",
       "T              0.407843  \n",
       "C              0.250980  \n",
       "G              0.101961  "
      ]
     },
     "execution_count": 24,
     "metadata": {},
     "output_type": "execute_result"
    }
   ],
   "source": [
    "modinfonorm.head()"
   ]
  },
  {
   "cell_type": "markdown",
   "metadata": {},
   "source": [
    "### Now adding data for how many of the DRNs are located in regions predicted to be single-stranded in Xist:"
   ]
  },
  {
   "cell_type": "code",
   "execution_count": 25,
   "metadata": {},
   "outputs": [],
   "source": [
    "totalss = len(data[data.base_paired_to == 0].index)"
   ]
  },
  {
   "cell_type": "code",
   "execution_count": 26,
   "metadata": {},
   "outputs": [],
   "source": [
    "deltaSHAPE_ex_vivo_rep1_total = len(data[data.deltaSHAPE_rep1 > 0].index)\n",
    "deltaSHAPE_ex_vivo_rep2_total = len(data[data.deltaSHAPE_rep2 > 0].index)\n",
    "deltaSHAPE_in_vivo_rep1_total = len(data[data.deltaSHAPE_rep1 < 0].index)\n",
    "deltaSHAPE_in_vivo_rep2_total = len(data[data.deltaSHAPE_rep2 < 0].index)\n",
    "in_vivo_total = len(data[(data.in_vivo >= threshold)].index)\n",
    "ex_vivo_total = len(data[(data.ex_vivo >= threshold)].index)\n",
    "in_vivo_unique_total = len(data[(data.deltaSHAPE_rep1 == 0) & (data.deltaSHAPE_rep2 == 0) & \\\n",
    "                      (data.in_vivo >= threshold)].index)\n",
    "ex_vivo_unique_total = len(data[(data.deltaSHAPE_rep1 == 0) & (data.deltaSHAPE_rep2 == 0) & \\\n",
    "                      (data.ex_vivo >= threshold)].index)\n",
    "in_vivo_scaled_total = len(data[(data.scaled_in_vivo >= threshold)].index)\n",
    "ex_vivo_scaled_total = len(data[(data.scaled_ex_vivo >= threshold)].index)\n",
    "in_vivo_scaled_unique_total = len(data[(data.deltaSHAPE_rep1 == 0) & (data.deltaSHAPE_rep2 == 0) & \\\n",
    "                             (data.scaled_in_vivo >= threshold)].index)\n",
    "ex_vivo_scaled_unique_total = len(data[(data.deltaSHAPE_rep1 == 0) & (data.deltaSHAPE_rep2 == 0) & \\\n",
    "                             (data.scaled_ex_vivo >= threshold)].index)"
   ]
  },
  {
   "cell_type": "code",
   "execution_count": 27,
   "metadata": {},
   "outputs": [],
   "source": [
    "deltaSHAPE_ex_vivo_rep1 = len(data[(data.deltaSHAPE_rep1 > 0) & (data.base_paired_to == 0)].index)\n",
    "deltaSHAPE_ex_vivo_rep2 = len(data[(data.deltaSHAPE_rep2 > 0) & (data.base_paired_to == 0)].index)\n",
    "deltaSHAPE_in_vivo_rep1 = len(data[(data.deltaSHAPE_rep1 < 0) & (data.base_paired_to == 0)].index)\n",
    "deltaSHAPE_in_vivo_rep2 = len(data[(data.deltaSHAPE_rep2 < 0) & (data.base_paired_to == 0)].index)\n",
    "in_vivo = len(data[(data.in_vivo >= threshold) & (data.base_paired_to == 0)].index)\n",
    "ex_vivo = len(data[(data.ex_vivo >= threshold) & (data.base_paired_to == 0)].index)\n",
    "in_vivo_unique = len(data[(data.deltaSHAPE_rep1 == 0) & (data.deltaSHAPE_rep2 == 0) & \\\n",
    "                      (data.in_vivo >= threshold) & (data.base_paired_to == 0)].index)\n",
    "ex_vivo_unique = len(data[(data.deltaSHAPE_rep1 == 0) & (data.deltaSHAPE_rep2 == 0) & \\\n",
    "                      (data.ex_vivo >= threshold) & (data.base_paired_to == 0)].index)\n",
    "in_vivo_scaled = len(data[(data.scaled_in_vivo >= threshold) & (data.base_paired_to == 0)].index)\n",
    "ex_vivo_scaled = len(data[(data.scaled_ex_vivo >= threshold) & (data.base_paired_to == 0)].index)\n",
    "in_vivo_scaled_unique = len(data[(data.deltaSHAPE_rep1 == 0) & (data.deltaSHAPE_rep2 == 0) & \\\n",
    "                                 (data.scaled_in_vivo >= threshold) & (data.base_paired_to == 0)].index)\n",
    "ex_vivo_scaled_unique = len(data[(data.deltaSHAPE_rep1 == 0) & (data.deltaSHAPE_rep2 == 0) & \\\n",
    "                                 (data.scaled_ex_vivo >= threshold) & (data.base_paired_to == 0)].index)"
   ]
  },
  {
   "cell_type": "code",
   "execution_count": 28,
   "metadata": {},
   "outputs": [],
   "source": [
    "samples = modinfonorm.columns"
   ]
  },
  {
   "cell_type": "code",
   "execution_count": 29,
   "metadata": {},
   "outputs": [
    {
     "data": {
      "text/plain": [
       "Index(['Xist_sequence', 'diffBUM_HMM_ex_vivo_norm', 'diffBUM_HMM_ex_vivo',\n",
       "       'diffBUM_HMM_in_vivo_norm', 'diffBUM_HMM_in_vivo',\n",
       "       'diffBUM_HMM_ex_vivo_norm_unique', 'diffBUM_HMM_ex_vivo_unique',\n",
       "       'diffBUM_HMM_in_vivo_norm_unique', 'diffBUM_HMM_in_vivo_unique',\n",
       "       'deltaSHAPE_ex_vivo_1', 'deltaSHAPE_ex_vivo_2', 'deltaSHAPE_in_vivo_1',\n",
       "       'deltaSHAPE_in_vivo_2'],\n",
       "      dtype='object')"
      ]
     },
     "execution_count": 29,
     "metadata": {},
     "output_type": "execute_result"
    }
   ],
   "source": [
    "samples"
   ]
  },
  {
   "cell_type": "code",
   "execution_count": 30,
   "metadata": {},
   "outputs": [],
   "source": [
    "frequencies = [ totalss/len(data.index),\n",
    "                ex_vivo_scaled/ex_vivo_scaled_total,\n",
    "                ex_vivo/ex_vivo_total,\n",
    "                in_vivo_scaled/in_vivo_scaled_total,\n",
    "                in_vivo/in_vivo_total,\n",
    "                ex_vivo_scaled_unique/ex_vivo_scaled_unique_total,\n",
    "                ex_vivo_unique/ex_vivo_unique_total,\n",
    "                in_vivo_scaled_unique/in_vivo_scaled_unique_total,\n",
    "                in_vivo_unique/in_vivo_unique_total,\n",
    "                deltaSHAPE_ex_vivo_rep1/deltaSHAPE_ex_vivo_rep1_total,\n",
    "                deltaSHAPE_ex_vivo_rep2/deltaSHAPE_ex_vivo_rep2_total,\n",
    "                deltaSHAPE_in_vivo_rep1/deltaSHAPE_in_vivo_rep1_total,\n",
    "                deltaSHAPE_in_vivo_rep2/deltaSHAPE_in_vivo_rep2_total]"
   ]
  },
  {
   "cell_type": "code",
   "execution_count": 31,
   "metadata": {},
   "outputs": [
    {
     "data": {
      "text/plain": [
       "[0.47120214309632774,\n",
       " 0.8418631397354802,\n",
       " 0.8737113402061856,\n",
       " 0.5319148936170213,\n",
       " 0.5985915492957746,\n",
       " 0.8281461434370772,\n",
       " 0.8627254509018036,\n",
       " 0.5,\n",
       " 0.5803571428571429,\n",
       " 0.7956521739130434,\n",
       " 0.7764705882352941,\n",
       " 0.6053412462908012,\n",
       " 0.5817757009345794]"
      ]
     },
     "execution_count": 31,
     "metadata": {},
     "output_type": "execute_result"
    }
   ],
   "source": [
    "frequencies"
   ]
  },
  {
   "cell_type": "code",
   "execution_count": 32,
   "metadata": {},
   "outputs": [
    {
     "data": {
      "text/plain": [
       "13"
      ]
     },
     "execution_count": 32,
     "metadata": {},
     "output_type": "execute_result"
    }
   ],
   "source": [
    "len(samples)"
   ]
  },
  {
   "cell_type": "code",
   "execution_count": 33,
   "metadata": {},
   "outputs": [],
   "source": [
    "df = pd.DataFrame(frequencies,columns=[\"frequencies\"],index=samples)"
   ]
  },
  {
   "cell_type": "code",
   "execution_count": 34,
   "metadata": {},
   "outputs": [
    {
     "data": {
      "text/html": [
       "<div>\n",
       "<style scoped>\n",
       "    .dataframe tbody tr th:only-of-type {\n",
       "        vertical-align: middle;\n",
       "    }\n",
       "\n",
       "    .dataframe tbody tr th {\n",
       "        vertical-align: top;\n",
       "    }\n",
       "\n",
       "    .dataframe thead th {\n",
       "        text-align: right;\n",
       "    }\n",
       "</style>\n",
       "<table border=\"1\" class=\"dataframe\">\n",
       "  <thead>\n",
       "    <tr style=\"text-align: right;\">\n",
       "      <th></th>\n",
       "      <th>frequencies</th>\n",
       "    </tr>\n",
       "  </thead>\n",
       "  <tbody>\n",
       "    <tr>\n",
       "      <td>Xist_sequence</td>\n",
       "      <td>0.471202</td>\n",
       "    </tr>\n",
       "    <tr>\n",
       "      <td>diffBUM_HMM_ex_vivo_norm</td>\n",
       "      <td>0.841863</td>\n",
       "    </tr>\n",
       "    <tr>\n",
       "      <td>diffBUM_HMM_ex_vivo</td>\n",
       "      <td>0.873711</td>\n",
       "    </tr>\n",
       "    <tr>\n",
       "      <td>diffBUM_HMM_in_vivo_norm</td>\n",
       "      <td>0.531915</td>\n",
       "    </tr>\n",
       "    <tr>\n",
       "      <td>diffBUM_HMM_in_vivo</td>\n",
       "      <td>0.598592</td>\n",
       "    </tr>\n",
       "    <tr>\n",
       "      <td>diffBUM_HMM_ex_vivo_norm_unique</td>\n",
       "      <td>0.828146</td>\n",
       "    </tr>\n",
       "    <tr>\n",
       "      <td>diffBUM_HMM_ex_vivo_unique</td>\n",
       "      <td>0.862725</td>\n",
       "    </tr>\n",
       "    <tr>\n",
       "      <td>diffBUM_HMM_in_vivo_norm_unique</td>\n",
       "      <td>0.500000</td>\n",
       "    </tr>\n",
       "    <tr>\n",
       "      <td>diffBUM_HMM_in_vivo_unique</td>\n",
       "      <td>0.580357</td>\n",
       "    </tr>\n",
       "    <tr>\n",
       "      <td>deltaSHAPE_ex_vivo_1</td>\n",
       "      <td>0.795652</td>\n",
       "    </tr>\n",
       "    <tr>\n",
       "      <td>deltaSHAPE_ex_vivo_2</td>\n",
       "      <td>0.776471</td>\n",
       "    </tr>\n",
       "    <tr>\n",
       "      <td>deltaSHAPE_in_vivo_1</td>\n",
       "      <td>0.605341</td>\n",
       "    </tr>\n",
       "    <tr>\n",
       "      <td>deltaSHAPE_in_vivo_2</td>\n",
       "      <td>0.581776</td>\n",
       "    </tr>\n",
       "  </tbody>\n",
       "</table>\n",
       "</div>"
      ],
      "text/plain": [
       "                                 frequencies\n",
       "Xist_sequence                       0.471202\n",
       "diffBUM_HMM_ex_vivo_norm            0.841863\n",
       "diffBUM_HMM_ex_vivo                 0.873711\n",
       "diffBUM_HMM_in_vivo_norm            0.531915\n",
       "diffBUM_HMM_in_vivo                 0.598592\n",
       "diffBUM_HMM_ex_vivo_norm_unique     0.828146\n",
       "diffBUM_HMM_ex_vivo_unique          0.862725\n",
       "diffBUM_HMM_in_vivo_norm_unique     0.500000\n",
       "diffBUM_HMM_in_vivo_unique          0.580357\n",
       "deltaSHAPE_ex_vivo_1                0.795652\n",
       "deltaSHAPE_ex_vivo_2                0.776471\n",
       "deltaSHAPE_in_vivo_1                0.605341\n",
       "deltaSHAPE_in_vivo_2                0.581776"
      ]
     },
     "execution_count": 34,
     "metadata": {},
     "output_type": "execute_result"
    }
   ],
   "source": [
    "df"
   ]
  },
  {
   "cell_type": "code",
   "execution_count": 35,
   "metadata": {},
   "outputs": [
    {
     "data": {
      "image/png": "[encoded data removed]",
      "text/plain": [
       "<Figure size 648x252 with 1 Axes>"
      ]
     },
     "metadata": {
      "needs_background": "light"
     },
     "output_type": "display_data"
    }
   ],
   "source": [
    "fig,ax = plt.subplots(figsize=[9,3.5])\n",
    "ax = sns.barplot(df.index,df.frequencies,color=\"blue\")\n",
    "ax.set_yticks(np.arange(0,1.2,0.2))\n",
    "ax.set_yticklabels(np.arange(0,1.2,0.2))\n",
    "ax.set_xticklabels(df.index,rotation=45,ha='right')\n",
    "fig.savefig(\"Nucleotide_ssOverlap_counts.pdf\",dpi=400)"
   ]
  },
  {
   "cell_type": "code",
   "execution_count": 36,
   "metadata": {},
   "outputs": [],
   "source": [
    "modinfonorm = modinfonorm.append(df.T)"
   ]
  },
  {
   "cell_type": "code",
   "execution_count": 37,
   "metadata": {},
   "outputs": [
    {
     "data": {
      "image/png": "[encoded data removed]",
      "text/plain": [
       "<Figure size 648x252 with 2 Axes>"
      ]
     },
     "metadata": {
      "needs_background": "light"
     },
     "output_type": "display_data"
    }
   ],
   "source": [
    "fig,ax = plt.subplots(figsize=[9,3.5])\n",
    "ax = sns.heatmap(modinfonorm,\\\n",
    "            cmap='Blues',\\\n",
    "            linewidths=.5,\\\n",
    "            annot=True)\n",
    "ax.set_yticklabels(modinfonorm.index,rotation=0,fontsize=14)\n",
    "\n",
    "fig.savefig(\"Figure_6B.pdf\",dpi=400)"
   ]
  },
  {
   "cell_type": "markdown",
   "metadata": {},
   "source": [
    "### There seem to be a lot of nucleotides in the diffBUM-HMM in vivo data that are A-rich but according to the secondary structure data do not seem to be part of single-stranded regions? Could this have biological significance?"
   ]
  },
  {
   "cell_type": "code",
   "execution_count": 38,
   "metadata": {},
   "outputs": [],
   "source": [
    "A_and_double_stranded = data[(data.nucleotide == \"A\") & \\\n",
    "                             (data.in_vivo >= threshold) & \\\n",
    "                             (data.base_paired_to > 0)]"
   ]
  },
  {
   "cell_type": "code",
   "execution_count": 39,
   "metadata": {},
   "outputs": [
    {
     "name": "stdout",
     "output_type": "stream",
     "text": [
      "36\n"
     ]
    }
   ],
   "source": [
    "print(len(A_and_double_stranded.index))"
   ]
  },
  {
   "cell_type": "markdown",
   "metadata": {},
   "source": [
    "### How many DRNs were in the in vivo data?"
   ]
  },
  {
   "cell_type": "code",
   "execution_count": 40,
   "metadata": {},
   "outputs": [],
   "source": [
    "totaldrnsinvivo = data[data.in_vivo >= threshold]"
   ]
  },
  {
   "cell_type": "code",
   "execution_count": 41,
   "metadata": {},
   "outputs": [
    {
     "name": "stdout",
     "output_type": "stream",
     "text": [
      "142\n"
     ]
    }
   ],
   "source": [
    "print(len(totaldrnsinvivo.index))"
   ]
  },
  {
   "cell_type": "code",
   "execution_count": 42,
   "metadata": {},
   "outputs": [],
   "source": [
    "totaldrnsinvivo.to_csv(\"diffBUM-HMM_DRNs_in_vivo_locations.txt\",sep=\"\\t\")"
   ]
  },
  {
   "cell_type": "markdown",
   "metadata": {},
   "source": [
    "### That is quite a reasonable fraction.\n",
    "Where are they located?"
   ]
  },
  {
   "cell_type": "code",
   "execution_count": 43,
   "metadata": {},
   "outputs": [
    {
     "data": {
      "text/plain": [
       "Int64Index([  179,   180,   236,   773,   777,  7272,  7461,  7471,  7547,\n",
       "             8346,  8462,  8525,  8744,  8862,  8917,  8959,  9014,  9150,\n",
       "             9219,  9325, 11181, 11265, 11281, 11434, 11578, 11592, 11617,\n",
       "            12145, 12263, 12280, 12282, 12316, 12414, 12577, 12849, 15165],\n",
       "           dtype='int64')"
      ]
     },
     "execution_count": 43,
     "metadata": {},
     "output_type": "execute_result"
    }
   ],
   "source": [
    "A_and_double_stranded.index"
   ]
  },
  {
   "cell_type": "markdown",
   "metadata": {},
   "source": [
    "### They don't seem to cluster very well...\n",
    "Perhaps add something about this to the discussion."
   ]
  },
  {
   "cell_type": "code",
   "execution_count": 44,
   "metadata": {},
   "outputs": [],
   "source": [
    "A_and_double_stranded.to_csv(\"diffBUM-HMM_DRNs_in_As_in_vivo_locations.txt\",sep=\"\\t\")"
   ]
  },
  {
   "cell_type": "code",
   "execution_count": null,
   "metadata": {},
   "outputs": [],
   "source": []
  }
 ],
 "metadata": {
  "kernelspec": {
   "display_name": "Python 3",
   "language": "python",
   "name": "python3"
  },
  "language_info": {
   "codemirror_mode": {
    "name": "ipython",
    "version": 3
   },
   "file_extension": ".py",
   "mimetype": "text/x-python",
   "name": "python",
   "nbconvert_exporter": "python",
   "pygments_lexer": "ipython3",
   "version": "3.7.1"
  }
 },
 "nbformat": 4,
 "nbformat_minor": 2
}
