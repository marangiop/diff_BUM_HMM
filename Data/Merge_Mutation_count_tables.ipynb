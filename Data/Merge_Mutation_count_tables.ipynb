{
 "cells": [
  {
   "cell_type": "code",
   "execution_count": 1,
   "metadata": {},
   "outputs": [
    {
     "name": "stderr",
     "output_type": "stream",
     "text": [
      "\n",
      "Bad key \"text.kerning_factor\" on line 4 in\n",
      "/anaconda3/lib/python3.7/site-packages/matplotlib/mpl-data/stylelib/_classic_test_patch.mplstyle.\n",
      "You probably need to get an updated matplotlibrc file from\n",
      "http://github.com/matplotlib/matplotlib/blob/master/matplotlibrc.template\n",
      "or from the matplotlib source distribution\n"
     ]
    }
   ],
   "source": [
    "import sys\n",
    "import pandas as pd\n",
    "import numpy as np\n",
    "import seaborn as sns\n",
    "import matplotlib.pyplot as plt\n",
    "sns.set(color_codes=True)\n"
   ]
  },
  {
   "cell_type": "markdown",
   "metadata": {},
   "source": [
    "### Loading files:"
   ]
  },
  {
   "cell_type": "markdown",
   "metadata": {},
   "source": [
    "### Loading the deltaSHAPE files:"
   ]
  },
  {
   "cell_type": "code",
   "execution_count": 2,
   "metadata": {},
   "outputs": [],
   "source": [
    "ex_vivo_1 = pd.read_csv(\"XIST_1M7_ex-vivo_rep1.txt\",sep=\"\\t\",header=0,index_col=0)\n",
    "ex_vivo_2 = pd.read_csv(\"XIST_1M7_ex-vivo_rep2.txt\",sep=\"\\t\",header=0,index_col=0)\n",
    "in_cell_1 = pd.read_csv(\"XIST_1M7_in-cell_rep1.txt\",sep=\"\\t\",header=0,index_col=0)\n",
    "in_cell_2 = pd.read_csv(\"XIST_1M7_in-cell_rep2.txt\",sep=\"\\t\",header=0,index_col=0)"
   ]
  },
  {
   "cell_type": "code",
   "execution_count": 3,
   "metadata": {},
   "outputs": [],
   "source": [
    "files = [ex_vivo_1,ex_vivo_2,in_cell_1,in_cell_2]"
   ]
  },
  {
   "cell_type": "code",
   "execution_count": 4,
   "metadata": {},
   "outputs": [
    {
     "data": {
      "text/html": [
       "<div>\n",
       "<style scoped>\n",
       "    .dataframe tbody tr th:only-of-type {\n",
       "        vertical-align: middle;\n",
       "    }\n",
       "\n",
       "    .dataframe tbody tr th {\n",
       "        vertical-align: top;\n",
       "    }\n",
       "\n",
       "    .dataframe thead th {\n",
       "        text-align: right;\n",
       "    }\n",
       "</style>\n",
       "<table border=\"1\" class=\"dataframe\">\n",
       "  <thead>\n",
       "    <tr style=\"text-align: right;\">\n",
       "      <th></th>\n",
       "      <th>Sequence</th>\n",
       "      <th>DMSO_read_count</th>\n",
       "      <th>DMSO_mutation_rate</th>\n",
       "      <th>1M7_read_count</th>\n",
       "      <th>1M7_mutation_rate</th>\n",
       "    </tr>\n",
       "    <tr>\n",
       "      <th>Nucleotide</th>\n",
       "      <th></th>\n",
       "      <th></th>\n",
       "      <th></th>\n",
       "      <th></th>\n",
       "      <th></th>\n",
       "    </tr>\n",
       "  </thead>\n",
       "  <tbody>\n",
       "    <tr>\n",
       "      <td>1</td>\n",
       "      <td>C</td>\n",
       "      <td>2</td>\n",
       "      <td>0.0</td>\n",
       "      <td>0</td>\n",
       "      <td>0.0</td>\n",
       "    </tr>\n",
       "    <tr>\n",
       "      <td>2</td>\n",
       "      <td>G</td>\n",
       "      <td>2</td>\n",
       "      <td>0.0</td>\n",
       "      <td>0</td>\n",
       "      <td>0.0</td>\n",
       "    </tr>\n",
       "    <tr>\n",
       "      <td>3</td>\n",
       "      <td>G</td>\n",
       "      <td>2</td>\n",
       "      <td>0.0</td>\n",
       "      <td>0</td>\n",
       "      <td>0.0</td>\n",
       "    </tr>\n",
       "    <tr>\n",
       "      <td>4</td>\n",
       "      <td>C</td>\n",
       "      <td>2</td>\n",
       "      <td>0.0</td>\n",
       "      <td>0</td>\n",
       "      <td>0.0</td>\n",
       "    </tr>\n",
       "    <tr>\n",
       "      <td>5</td>\n",
       "      <td>T</td>\n",
       "      <td>2</td>\n",
       "      <td>0.0</td>\n",
       "      <td>0</td>\n",
       "      <td>0.0</td>\n",
       "    </tr>\n",
       "  </tbody>\n",
       "</table>\n",
       "</div>"
      ],
      "text/plain": [
       "           Sequence  DMSO_read_count  DMSO_mutation_rate  1M7_read_count  \\\n",
       "Nucleotide                                                                 \n",
       "1                 C                2                 0.0               0   \n",
       "2                 G                2                 0.0               0   \n",
       "3                 G                2                 0.0               0   \n",
       "4                 C                2                 0.0               0   \n",
       "5                 T                2                 0.0               0   \n",
       "\n",
       "            1M7_mutation_rate  \n",
       "Nucleotide                     \n",
       "1                         0.0  \n",
       "2                         0.0  \n",
       "3                         0.0  \n",
       "4                         0.0  \n",
       "5                         0.0  "
      ]
     },
     "execution_count": 4,
     "metadata": {},
     "output_type": "execute_result"
    }
   ],
   "source": [
    "ex_vivo_1.head()"
   ]
  },
  {
   "cell_type": "markdown",
   "metadata": {},
   "source": [
    "### Inserting mutation counts:"
   ]
  },
  {
   "cell_type": "code",
   "execution_count": 6,
   "metadata": {},
   "outputs": [],
   "source": [
    "for file in files:\n",
    "    file['DMSO_mutation_count'] = round(file['DMSO_read_count'] * file['DMSO_mutation_rate'])\n",
    "    file['1M7_mutation_count'] = round(file['1M7_read_count'] * file['1M7_mutation_rate'])"
   ]
  },
  {
   "cell_type": "code",
   "execution_count": 7,
   "metadata": {},
   "outputs": [
    {
     "data": {
      "text/html": [
       "<div>\n",
       "<style scoped>\n",
       "    .dataframe tbody tr th:only-of-type {\n",
       "        vertical-align: middle;\n",
       "    }\n",
       "\n",
       "    .dataframe tbody tr th {\n",
       "        vertical-align: top;\n",
       "    }\n",
       "\n",
       "    .dataframe thead th {\n",
       "        text-align: right;\n",
       "    }\n",
       "</style>\n",
       "<table border=\"1\" class=\"dataframe\">\n",
       "  <thead>\n",
       "    <tr style=\"text-align: right;\">\n",
       "      <th></th>\n",
       "      <th>Sequence</th>\n",
       "      <th>DMSO_read_count</th>\n",
       "      <th>DMSO_mutation_rate</th>\n",
       "      <th>1M7_read_count</th>\n",
       "      <th>1M7_mutation_rate</th>\n",
       "      <th>DMSO_mutation_count</th>\n",
       "      <th>1M7_mutation_count</th>\n",
       "    </tr>\n",
       "    <tr>\n",
       "      <th>Nucleotide</th>\n",
       "      <th></th>\n",
       "      <th></th>\n",
       "      <th></th>\n",
       "      <th></th>\n",
       "      <th></th>\n",
       "      <th></th>\n",
       "      <th></th>\n",
       "    </tr>\n",
       "  </thead>\n",
       "  <tbody>\n",
       "    <tr>\n",
       "      <td>75</td>\n",
       "      <td>C</td>\n",
       "      <td>3221</td>\n",
       "      <td>0.000000</td>\n",
       "      <td>2596</td>\n",
       "      <td>0.000770</td>\n",
       "      <td>0.0</td>\n",
       "      <td>2.0</td>\n",
       "    </tr>\n",
       "    <tr>\n",
       "      <td>78</td>\n",
       "      <td>T</td>\n",
       "      <td>3332</td>\n",
       "      <td>0.000300</td>\n",
       "      <td>2658</td>\n",
       "      <td>0.000752</td>\n",
       "      <td>1.0</td>\n",
       "      <td>2.0</td>\n",
       "    </tr>\n",
       "    <tr>\n",
       "      <td>82</td>\n",
       "      <td>G</td>\n",
       "      <td>3590</td>\n",
       "      <td>0.001114</td>\n",
       "      <td>2816</td>\n",
       "      <td>0.000710</td>\n",
       "      <td>4.0</td>\n",
       "      <td>2.0</td>\n",
       "    </tr>\n",
       "    <tr>\n",
       "      <td>83</td>\n",
       "      <td>G</td>\n",
       "      <td>3752</td>\n",
       "      <td>0.003465</td>\n",
       "      <td>2894</td>\n",
       "      <td>0.002764</td>\n",
       "      <td>13.0</td>\n",
       "      <td>8.0</td>\n",
       "    </tr>\n",
       "    <tr>\n",
       "      <td>85</td>\n",
       "      <td>A</td>\n",
       "      <td>4049</td>\n",
       "      <td>0.000494</td>\n",
       "      <td>3092</td>\n",
       "      <td>0.000647</td>\n",
       "      <td>2.0</td>\n",
       "      <td>2.0</td>\n",
       "    </tr>\n",
       "    <tr>\n",
       "      <td>...</td>\n",
       "      <td>...</td>\n",
       "      <td>...</td>\n",
       "      <td>...</td>\n",
       "      <td>...</td>\n",
       "      <td>...</td>\n",
       "      <td>...</td>\n",
       "      <td>...</td>\n",
       "    </tr>\n",
       "    <tr>\n",
       "      <td>17816</td>\n",
       "      <td>A</td>\n",
       "      <td>44328</td>\n",
       "      <td>0.001038</td>\n",
       "      <td>70329</td>\n",
       "      <td>0.001450</td>\n",
       "      <td>46.0</td>\n",
       "      <td>102.0</td>\n",
       "    </tr>\n",
       "    <tr>\n",
       "      <td>17817</td>\n",
       "      <td>C</td>\n",
       "      <td>35156</td>\n",
       "      <td>0.000228</td>\n",
       "      <td>56700</td>\n",
       "      <td>0.000247</td>\n",
       "      <td>8.0</td>\n",
       "      <td>14.0</td>\n",
       "    </tr>\n",
       "    <tr>\n",
       "      <td>17818</td>\n",
       "      <td>A</td>\n",
       "      <td>35274</td>\n",
       "      <td>0.000283</td>\n",
       "      <td>56898</td>\n",
       "      <td>0.000105</td>\n",
       "      <td>10.0</td>\n",
       "      <td>6.0</td>\n",
       "    </tr>\n",
       "    <tr>\n",
       "      <td>17821</td>\n",
       "      <td>G</td>\n",
       "      <td>116</td>\n",
       "      <td>0.000000</td>\n",
       "      <td>160</td>\n",
       "      <td>0.037500</td>\n",
       "      <td>0.0</td>\n",
       "      <td>6.0</td>\n",
       "    </tr>\n",
       "    <tr>\n",
       "      <td>17831</td>\n",
       "      <td>G</td>\n",
       "      <td>0</td>\n",
       "      <td>0.000000</td>\n",
       "      <td>2</td>\n",
       "      <td>1.000000</td>\n",
       "      <td>0.0</td>\n",
       "      <td>2.0</td>\n",
       "    </tr>\n",
       "  </tbody>\n",
       "</table>\n",
       "<p>15876 rows × 7 columns</p>\n",
       "</div>"
      ],
      "text/plain": [
       "           Sequence  DMSO_read_count  DMSO_mutation_rate  1M7_read_count  \\\n",
       "Nucleotide                                                                 \n",
       "75                C             3221            0.000000            2596   \n",
       "78                T             3332            0.000300            2658   \n",
       "82                G             3590            0.001114            2816   \n",
       "83                G             3752            0.003465            2894   \n",
       "85                A             4049            0.000494            3092   \n",
       "...             ...              ...                 ...             ...   \n",
       "17816             A            44328            0.001038           70329   \n",
       "17817             C            35156            0.000228           56700   \n",
       "17818             A            35274            0.000283           56898   \n",
       "17821             G              116            0.000000             160   \n",
       "17831             G                0            0.000000               2   \n",
       "\n",
       "            1M7_mutation_rate  DMSO_mutation_count  1M7_mutation_count  \n",
       "Nucleotide                                                              \n",
       "75                   0.000770                  0.0                 2.0  \n",
       "78                   0.000752                  1.0                 2.0  \n",
       "82                   0.000710                  4.0                 2.0  \n",
       "83                   0.002764                 13.0                 8.0  \n",
       "85                   0.000647                  2.0                 2.0  \n",
       "...                       ...                  ...                 ...  \n",
       "17816                0.001450                 46.0               102.0  \n",
       "17817                0.000247                  8.0                14.0  \n",
       "17818                0.000105                 10.0                 6.0  \n",
       "17821                0.037500                  0.0                 6.0  \n",
       "17831                1.000000                  0.0                 2.0  \n",
       "\n",
       "[15876 rows x 7 columns]"
      ]
     },
     "execution_count": 7,
     "metadata": {},
     "output_type": "execute_result"
    }
   ],
   "source": [
    "ex_vivo_2[ex_vivo_2['1M7_mutation_count'] > 0]"
   ]
  },
  {
   "cell_type": "code",
   "execution_count": 10,
   "metadata": {},
   "outputs": [
    {
     "data": {
      "image/png": "[encoded data removed]",
      "text/plain": [
       "<Figure size 360x720 with 4 Axes>"
      ]
     },
     "metadata": {
      "needs_background": "light"
     },
     "output_type": "display_data"
    }
   ],
   "source": [
    "numberofplots = len(files)\n",
    "numberofbins = 40\n",
    "fig,ax = plt.subplots(numberofplots,sharex=True,sharey=True,figsize=[5,10])\n",
    "samples = [\"DMSO_rep_1\",\"1M7_rep_1\",\"DMSO_rep_2\",\"1M7_rep_2\"]\n",
    "for i in range(len(files)):\n",
    "    data = files[i].DMSO_mutation_count\n",
    "    data += 1\n",
    "    data = data.apply(np.log10)\n",
    "    ax[i].hist(data,bins=numberofbins,color='blue',edgecolor='black')\n",
    "    ax[i].set_title(samples[i])\n",
    "    ax[i].set_ylabel(\"number of positions\")\n",
    "ax[-1].set_xlabel(\"log10(mutation_counts)\",fontsize=14)\n",
    "plt.tight_layout()\n",
    "fig.savefig(\"Mutation_count_distributions.pdf\",dpi=400)"
   ]
  },
  {
   "cell_type": "code",
   "execution_count": null,
   "metadata": {},
   "outputs": [],
   "source": []
  },
  {
   "cell_type": "code",
   "execution_count": null,
   "metadata": {},
   "outputs": [],
   "source": []
  },
  {
   "cell_type": "code",
   "execution_count": null,
   "metadata": {},
   "outputs": [],
   "source": []
  },
  {
   "cell_type": "code",
   "execution_count": null,
   "metadata": {},
   "outputs": [],
   "source": []
  },
  {
   "cell_type": "code",
   "execution_count": null,
   "metadata": {},
   "outputs": [],
   "source": []
  }
 ],
 "metadata": {
  "kernelspec": {
   "display_name": "Python 3",
   "language": "python",
   "name": "python3"
  },
  "language_info": {
   "codemirror_mode": {
    "name": "ipython",
    "version": 3
   },
   "file_extension": ".py",
   "mimetype": "text/x-python",
   "name": "python",
   "nbconvert_exporter": "python",
   "pygments_lexer": "ipython3",
   "version": "3.7.1"
  }
 },
 "nbformat": 4,
 "nbformat_minor": 2
}
