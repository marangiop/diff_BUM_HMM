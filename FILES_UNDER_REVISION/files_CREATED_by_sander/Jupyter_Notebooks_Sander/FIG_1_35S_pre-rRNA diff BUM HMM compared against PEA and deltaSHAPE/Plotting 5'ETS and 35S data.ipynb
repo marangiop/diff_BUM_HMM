{
 "cells": [
  {
   "cell_type": "code",
   "execution_count": 1,
   "metadata": {},
   "outputs": [],
   "source": [
    "import sys\n",
    "import pandas as pd\n",
    "import numpy as np\n",
    "import matplotlib.pyplot as plt\n",
    "import matplotlib\n",
    "matplotlib.rcParams['pdf.fonttype'] = 42\n",
    "matplotlib.rcParams['font.sans-serif'] = ['Arial']"
   ]
  },
  {
   "cell_type": "code",
   "execution_count": 2,
   "metadata": {},
   "outputs": [],
   "source": [
    "def formatAxes(ax,text_size=10,xlim=None,xlabel=None,xticks=None,xticklabels=None,ylim=None,yticks=None,ylabel=None,yticklabels=None):\n",
    "    \"\"\" to tweak the plotting of the axes as well as the fontsize \"\"\"\n",
    "    for loc,spine in list(ax.spines.items()):\n",
    "        if loc == 'left': # settings for the y-axis\n",
    "            if yticklabels and not yticks:\n",
    "                sys.stderr.write(\"Need to provide a list wiht both y-labels and y-ticks!\")\n",
    "            if yticks:\n",
    "                ax.yaxis.set_ticks_position('left')\n",
    "                ax.yaxis.set_tick_params(direction='out')\n",
    "                spine.set_visible(True)\n",
    "                spine.set_position((\"outward\",1))\n",
    "                spine.set_smart_bounds(True)\n",
    "                ax.set_yticks(yticks)\n",
    "                if ylim:\n",
    "                    ax.set_ylim(ylim)\n",
    "                if yticklabels:\n",
    "                    ax.set_yticklabels(yticklabels,fontsize=text_size)\n",
    "            else:\n",
    "                spine.set_visible(False)\n",
    "                ax.set_yticklabels([])\n",
    "                ax.tick_params(axis='y',which='both',length=0)\n",
    "                \n",
    "            if ylabel:\n",
    "                ax.set_ylabel(ylabel,fontsize=text_size,rotation=0,labelpad=160)\n",
    "                ax.get_yaxis().set_label_coords(-0.1,0.5)\n",
    "        elif loc == 'bottom': # settings for x-axis\n",
    "            if xticks:\n",
    "                spine.set_position('zero')\n",
    "                spine.set_visible(False)\n",
    "                spine.set_smart_bounds(False)\n",
    "                ax.set_xticks(xticks)\n",
    "                ax.tick_params(axis='x',which='both',length=0)\n",
    "                if xlim:\n",
    "                    ax.set_xlim(xlim)\n",
    "                if xticklabels:\n",
    "                    ax.set_xticklabels(xticklabels,fontsize=text_size)\n",
    "            else:\n",
    "                spine.set_visible(False)\n",
    "                ax.set_xticklabels([])\n",
    "                ax.tick_params(axis='x',which='both',length=0)\n",
    "                \n",
    "            if xlabel:\n",
    "                ax.tick_params(axis='x',which='both',length=0)\n",
    "                ax.set_xlabel(xlabel,fontsize=text_size+2)\n",
    "                ax.xaxis.labelpad = 10\n",
    "        else:\n",
    "            spine.set_visible(False)\n",
    "    ax.patch.set_visible(False)"
   ]
  },
  {
   "cell_type": "markdown",
   "metadata": {},
   "source": [
    "### Loading the SHAPE-reactivities:"
   ]
  },
  {
   "cell_type": "code",
   "execution_count": 3,
   "metadata": {},
   "outputs": [],
   "source": [
    "deltafive = pd.read_csv('../../Data/SHAPE_35S/35S_SHAPE_reactivities.txt',\\\n",
    "                 sep=\"\\t\",header=None,index_col=0,names=[\"position\",\"reactivity\",\"error\"])\n",
    "erb = pd.read_csv('../../Data/SHAPE_35S/35S_Erb1_dep_SHAPE_reactivities.txt',\\\n",
    "                  sep=\"\\t\",header=None,index_col=0,names=[\"position\",\"reactivity\",\"error\"])"
   ]
  },
  {
   "cell_type": "markdown",
   "metadata": {},
   "source": [
    "### Removing negative values"
   ]
  },
  {
   "cell_type": "code",
   "execution_count": 4,
   "metadata": {},
   "outputs": [],
   "source": [
    "deltafive[deltafive.reactivity < 0] = 0"
   ]
  },
  {
   "cell_type": "code",
   "execution_count": 5,
   "metadata": {},
   "outputs": [
    {
     "data": {
      "text/html": [
       "<div>\n",
       "<style scoped>\n",
       "    .dataframe tbody tr th:only-of-type {\n",
       "        vertical-align: middle;\n",
       "    }\n",
       "\n",
       "    .dataframe tbody tr th {\n",
       "        vertical-align: top;\n",
       "    }\n",
       "\n",
       "    .dataframe thead th {\n",
       "        text-align: right;\n",
       "    }\n",
       "</style>\n",
       "<table border=\"1\" class=\"dataframe\">\n",
       "  <thead>\n",
       "    <tr style=\"text-align: right;\">\n",
       "      <th></th>\n",
       "      <th>reactivity</th>\n",
       "      <th>error</th>\n",
       "    </tr>\n",
       "    <tr>\n",
       "      <th>position</th>\n",
       "      <th></th>\n",
       "      <th></th>\n",
       "    </tr>\n",
       "  </thead>\n",
       "  <tbody>\n",
       "    <tr>\n",
       "      <th>1</th>\n",
       "      <td>0.010793</td>\n",
       "      <td>0.013891</td>\n",
       "    </tr>\n",
       "    <tr>\n",
       "      <th>2</th>\n",
       "      <td>0.000000</td>\n",
       "      <td>0.000000</td>\n",
       "    </tr>\n",
       "    <tr>\n",
       "      <th>3</th>\n",
       "      <td>0.000000</td>\n",
       "      <td>0.000000</td>\n",
       "    </tr>\n",
       "    <tr>\n",
       "      <th>4</th>\n",
       "      <td>0.000000</td>\n",
       "      <td>0.000000</td>\n",
       "    </tr>\n",
       "    <tr>\n",
       "      <th>5</th>\n",
       "      <td>0.022429</td>\n",
       "      <td>0.003348</td>\n",
       "    </tr>\n",
       "  </tbody>\n",
       "</table>\n",
       "</div>"
      ],
      "text/plain": [
       "          reactivity     error\n",
       "position                      \n",
       "1           0.010793  0.013891\n",
       "2           0.000000  0.000000\n",
       "3           0.000000  0.000000\n",
       "4           0.000000  0.000000\n",
       "5           0.022429  0.003348"
      ]
     },
     "execution_count": 5,
     "metadata": {},
     "output_type": "execute_result"
    }
   ],
   "source": [
    "deltafive.head()"
   ]
  },
  {
   "cell_type": "code",
   "execution_count": 6,
   "metadata": {},
   "outputs": [],
   "source": [
    "erb[erb.reactivity < 0] = 0"
   ]
  },
  {
   "cell_type": "code",
   "execution_count": 7,
   "metadata": {},
   "outputs": [
    {
     "data": {
      "text/html": [
       "<div>\n",
       "<style scoped>\n",
       "    .dataframe tbody tr th:only-of-type {\n",
       "        vertical-align: middle;\n",
       "    }\n",
       "\n",
       "    .dataframe tbody tr th {\n",
       "        vertical-align: top;\n",
       "    }\n",
       "\n",
       "    .dataframe thead th {\n",
       "        text-align: right;\n",
       "    }\n",
       "</style>\n",
       "<table border=\"1\" class=\"dataframe\">\n",
       "  <thead>\n",
       "    <tr style=\"text-align: right;\">\n",
       "      <th></th>\n",
       "      <th>reactivity</th>\n",
       "      <th>error</th>\n",
       "    </tr>\n",
       "    <tr>\n",
       "      <th>position</th>\n",
       "      <th></th>\n",
       "      <th></th>\n",
       "    </tr>\n",
       "  </thead>\n",
       "  <tbody>\n",
       "    <tr>\n",
       "      <th>1</th>\n",
       "      <td>0.0</td>\n",
       "      <td>0.0</td>\n",
       "    </tr>\n",
       "    <tr>\n",
       "      <th>2</th>\n",
       "      <td>0.0</td>\n",
       "      <td>0.0</td>\n",
       "    </tr>\n",
       "    <tr>\n",
       "      <th>3</th>\n",
       "      <td>0.0</td>\n",
       "      <td>0.0</td>\n",
       "    </tr>\n",
       "    <tr>\n",
       "      <th>4</th>\n",
       "      <td>0.0</td>\n",
       "      <td>0.0</td>\n",
       "    </tr>\n",
       "    <tr>\n",
       "      <th>5</th>\n",
       "      <td>0.0</td>\n",
       "      <td>0.0</td>\n",
       "    </tr>\n",
       "  </tbody>\n",
       "</table>\n",
       "</div>"
      ],
      "text/plain": [
       "          reactivity  error\n",
       "position                   \n",
       "1                0.0    0.0\n",
       "2                0.0    0.0\n",
       "3                0.0    0.0\n",
       "4                0.0    0.0\n",
       "5                0.0    0.0"
      ]
     },
     "execution_count": 7,
     "metadata": {},
     "output_type": "execute_result"
    }
   ],
   "source": [
    "erb.head()"
   ]
  },
  {
   "cell_type": "markdown",
   "metadata": {},
   "source": [
    "### Loading the difBUM_HMM output for the entire 35S:"
   ]
  },
  {
   "cell_type": "code",
   "execution_count": 8,
   "metadata": {},
   "outputs": [],
   "source": [
    "diff_bumhmm = pd.read_csv('../../Analysis/diffBUM-HMM/35S_diffBUM_HMM_WT_vs_Erb1_diff_BUM_HMM_analysed.txt',\\\n",
    "                                    sep=\"\\t\", header=0)"
   ]
  },
  {
   "cell_type": "markdown",
   "metadata": {},
   "source": [
    "### So UM is more flexible in Erb1 and MU is more flexible in Delta 5"
   ]
  },
  {
   "cell_type": "code",
   "execution_count": 9,
   "metadata": {},
   "outputs": [
    {
     "data": {
      "text/html": [
       "<div>\n",
       "<style scoped>\n",
       "    .dataframe tbody tr th:only-of-type {\n",
       "        vertical-align: middle;\n",
       "    }\n",
       "\n",
       "    .dataframe tbody tr th {\n",
       "        vertical-align: top;\n",
       "    }\n",
       "\n",
       "    .dataframe thead th {\n",
       "        text-align: right;\n",
       "    }\n",
       "</style>\n",
       "<table border=\"1\" class=\"dataframe\">\n",
       "  <thead>\n",
       "    <tr style=\"text-align: right;\">\n",
       "      <th></th>\n",
       "      <th>UU</th>\n",
       "      <th>UM</th>\n",
       "      <th>MU</th>\n",
       "      <th>MM</th>\n",
       "    </tr>\n",
       "  </thead>\n",
       "  <tbody>\n",
       "    <tr>\n",
       "      <th>1</th>\n",
       "      <td>1.0</td>\n",
       "      <td>4.266924e-21</td>\n",
       "      <td>3.750536e-25</td>\n",
       "      <td>1.600325e-45</td>\n",
       "    </tr>\n",
       "    <tr>\n",
       "      <th>2</th>\n",
       "      <td>1.0</td>\n",
       "      <td>4.503509e-28</td>\n",
       "      <td>5.135967e-30</td>\n",
       "      <td>2.312988e-57</td>\n",
       "    </tr>\n",
       "    <tr>\n",
       "      <th>3</th>\n",
       "      <td>1.0</td>\n",
       "      <td>6.985186e-25</td>\n",
       "      <td>2.027740e-27</td>\n",
       "      <td>1.416414e-51</td>\n",
       "    </tr>\n",
       "    <tr>\n",
       "      <th>4</th>\n",
       "      <td>1.0</td>\n",
       "      <td>1.859237e-41</td>\n",
       "      <td>2.117164e-50</td>\n",
       "      <td>3.936309e-91</td>\n",
       "    </tr>\n",
       "    <tr>\n",
       "      <th>5</th>\n",
       "      <td>1.0</td>\n",
       "      <td>4.163330e-13</td>\n",
       "      <td>1.314801e-19</td>\n",
       "      <td>5.473952e-32</td>\n",
       "    </tr>\n",
       "  </tbody>\n",
       "</table>\n",
       "</div>"
      ],
      "text/plain": [
       "    UU            UM            MU            MM\n",
       "1  1.0  4.266924e-21  3.750536e-25  1.600325e-45\n",
       "2  1.0  4.503509e-28  5.135967e-30  2.312988e-57\n",
       "3  1.0  6.985186e-25  2.027740e-27  1.416414e-51\n",
       "4  1.0  1.859237e-41  2.117164e-50  3.936309e-91\n",
       "5  1.0  4.163330e-13  1.314801e-19  5.473952e-32"
      ]
     },
     "execution_count": 9,
     "metadata": {},
     "output_type": "execute_result"
    }
   ],
   "source": [
    "diff_bumhmm.head()"
   ]
  },
  {
   "cell_type": "markdown",
   "metadata": {},
   "source": [
    "### Same for deltaSHAPE:"
   ]
  },
  {
   "cell_type": "code",
   "execution_count": 10,
   "metadata": {},
   "outputs": [],
   "source": [
    "deltashapeone = pd.read_csv('../../Analysis/deltaSHAPE/35S_deltaerb1_Vs_delta5_reps1.txt',\\\n",
    "                            sep=\"\\t\",header=0,index_col=0)\n",
    "deltashapetwo = pd.read_csv('../../Analysis/deltaSHAPE/35S_deltaerb1_Vs_delta5_reps2.txt',\\\n",
    "                            sep=\"\\t\",header=0,index_col=0)"
   ]
  },
  {
   "cell_type": "code",
   "execution_count": 11,
   "metadata": {},
   "outputs": [
    {
     "data": {
      "text/html": [
       "<div>\n",
       "<style scoped>\n",
       "    .dataframe tbody tr th:only-of-type {\n",
       "        vertical-align: middle;\n",
       "    }\n",
       "\n",
       "    .dataframe tbody tr th {\n",
       "        vertical-align: top;\n",
       "    }\n",
       "\n",
       "    .dataframe thead th {\n",
       "        text-align: right;\n",
       "    }\n",
       "</style>\n",
       "<table border=\"1\" class=\"dataframe\">\n",
       "  <thead>\n",
       "    <tr style=\"text-align: right;\">\n",
       "      <th></th>\n",
       "      <th>Seq</th>\n",
       "      <th>DeltaSHAPE</th>\n",
       "      <th>Z-factor</th>\n",
       "      <th>Std_Score</th>\n",
       "      <th>Smoothed_Data1</th>\n",
       "      <th>Smoothed_Data2</th>\n",
       "      <th>Unsmoothed_Diff</th>\n",
       "      <th>Data1</th>\n",
       "      <th>Data2</th>\n",
       "    </tr>\n",
       "    <tr>\n",
       "      <th>Nuc</th>\n",
       "      <th></th>\n",
       "      <th></th>\n",
       "      <th></th>\n",
       "      <th></th>\n",
       "      <th></th>\n",
       "      <th></th>\n",
       "      <th></th>\n",
       "      <th></th>\n",
       "      <th></th>\n",
       "    </tr>\n",
       "  </thead>\n",
       "  <tbody>\n",
       "    <tr>\n",
       "      <th>19</th>\n",
       "      <td>A</td>\n",
       "      <td>-0.098252</td>\n",
       "      <td>1.0</td>\n",
       "      <td>-1.513988</td>\n",
       "      <td>-0.271531</td>\n",
       "      <td>-0.173279</td>\n",
       "      <td>-0.077171</td>\n",
       "      <td>-0.221898</td>\n",
       "      <td>-0.144726</td>\n",
       "    </tr>\n",
       "    <tr>\n",
       "      <th>20</th>\n",
       "      <td>C</td>\n",
       "      <td>-0.116317</td>\n",
       "      <td>1.0</td>\n",
       "      <td>-1.792208</td>\n",
       "      <td>-0.238339</td>\n",
       "      <td>-0.122022</td>\n",
       "      <td>-0.167267</td>\n",
       "      <td>-0.390108</td>\n",
       "      <td>-0.222841</td>\n",
       "    </tr>\n",
       "    <tr>\n",
       "      <th>21</th>\n",
       "      <td>A</td>\n",
       "      <td>-0.110858</td>\n",
       "      <td>1.0</td>\n",
       "      <td>-1.708128</td>\n",
       "      <td>-0.222391</td>\n",
       "      <td>-0.111533</td>\n",
       "      <td>-0.104513</td>\n",
       "      <td>-0.103012</td>\n",
       "      <td>0.001501</td>\n",
       "    </tr>\n",
       "    <tr>\n",
       "      <th>22</th>\n",
       "      <td>A</td>\n",
       "      <td>-0.100193</td>\n",
       "      <td>1.0</td>\n",
       "      <td>-1.543879</td>\n",
       "      <td>-0.186205</td>\n",
       "      <td>-0.086012</td>\n",
       "      <td>-0.060793</td>\n",
       "      <td>-0.174053</td>\n",
       "      <td>-0.113261</td>\n",
       "    </tr>\n",
       "    <tr>\n",
       "      <th>23</th>\n",
       "      <td>G</td>\n",
       "      <td>-0.080918</td>\n",
       "      <td>1.0</td>\n",
       "      <td>-1.247043</td>\n",
       "      <td>-0.218313</td>\n",
       "      <td>-0.137395</td>\n",
       "      <td>-0.135272</td>\n",
       "      <td>-0.281549</td>\n",
       "      <td>-0.146277</td>\n",
       "    </tr>\n",
       "  </tbody>\n",
       "</table>\n",
       "</div>"
      ],
      "text/plain": [
       "    Seq  DeltaSHAPE  Z-factor  Std_Score  Smoothed_Data1  Smoothed_Data2  \\\n",
       "Nuc                                                                        \n",
       "19    A   -0.098252       1.0  -1.513988       -0.271531       -0.173279   \n",
       "20    C   -0.116317       1.0  -1.792208       -0.238339       -0.122022   \n",
       "21    A   -0.110858       1.0  -1.708128       -0.222391       -0.111533   \n",
       "22    A   -0.100193       1.0  -1.543879       -0.186205       -0.086012   \n",
       "23    G   -0.080918       1.0  -1.247043       -0.218313       -0.137395   \n",
       "\n",
       "     Unsmoothed_Diff     Data1     Data2  \n",
       "Nuc                                       \n",
       "19         -0.077171 -0.221898 -0.144726  \n",
       "20         -0.167267 -0.390108 -0.222841  \n",
       "21         -0.104513 -0.103012  0.001501  \n",
       "22         -0.060793 -0.174053 -0.113261  \n",
       "23         -0.135272 -0.281549 -0.146277  "
      ]
     },
     "execution_count": 11,
     "metadata": {},
     "output_type": "execute_result"
    }
   ],
   "source": [
    "deltashapeone.head()"
   ]
  },
  {
   "cell_type": "markdown",
   "metadata": {},
   "source": [
    "### Loading the dStruct analyses:"
   ]
  },
  {
   "cell_type": "code",
   "execution_count": 12,
   "metadata": {},
   "outputs": [],
   "source": [
    "datafile = open(\"../../Analysis/dStruct/res_table_dStruct_35S_search_length_11nt.txt\",\"r\").readlines()    "
   ]
  },
  {
   "cell_type": "markdown",
   "metadata": {},
   "source": [
    "### Plotting the data for the entire 35S:"
   ]
  },
  {
   "cell_type": "code",
   "execution_count": 13,
   "metadata": {},
   "outputs": [
    {
     "data": {
      "image/png": "[encoded data removed]",
      "text/plain": [
       "<Figure size 2160x1080 with 4 Axes>"
      ]
     },
     "metadata": {
      "needs_background": "light"
     },
     "output_type": "display_data"
    }
   ],
   "source": [
    "count = 0\n",
    "numberofplots = 4\n",
    "\n",
    "fig,ax = plt.subplots(numberofplots,figsize=[30,15],sharex=True)\n",
    "\n",
    "### Plotting the raw SHAPE values:\n",
    "\n",
    "plusvalues = erb\n",
    "x = plusvalues.index\n",
    "y = plusvalues.reactivity.values\n",
    "wild_type = ax[count].bar(x,y,color='blue')\n",
    "minusvalues = -deltafive\n",
    "x = minusvalues.index\n",
    "y = minusvalues.reactivity.values\n",
    "ymin = -1\n",
    "ymax = 1\n",
    "mutant = ax[count].bar(x,y,color='red')\n",
    "xticks = list(np.arange(1,len(x),200))\n",
    "formatAxes(ax[count],\\\n",
    "           text_size = 18,\\\n",
    "           ylabel = 'SHAPE reactivities',\\\n",
    "           ylim = [ymin,ymax],\\\n",
    "           yticklabels = [ymin,0,ymax],\\\n",
    "           yticks = [ymin,0,ymax],\\\n",
    "           xticks = xticks)\n",
    "\n",
    "ax[count].set_title('Erb1 vs Delta5',fontsize=18)\n",
    "ax[count].legend((wild_type,mutant), ('Erb1', 'Delta5'), loc=[1,1], fontsize = 16)\n",
    "ax[count].tick_params(axis='x',which='major',pad=150)\n",
    "\n",
    "count += 1\n",
    "\n",
    "### Plotting the deltaSHAPE results:\n",
    "\n",
    "selection = deltashapeone\n",
    "plusvalues  = selection.DeltaSHAPE[selection.DeltaSHAPE > 0]\n",
    "minusvalues = selection.DeltaSHAPE[selection.DeltaSHAPE < 0]\n",
    "\n",
    "x = plusvalues.index\n",
    "y = plusvalues.values\n",
    "wild_type = ax[count].bar(x,y,color='blue')\n",
    "x = minusvalues.index\n",
    "y = minusvalues.values\n",
    "ymin = -0.5\n",
    "ymax = 0.5\n",
    "mutant = ax[count].bar(x,y,color='red')\n",
    "formatAxes(ax[count],\\\n",
    "           text_size = 18,\\\n",
    "           ylabel = 'deltaSHAPE',\\\n",
    "           ylim = [ymin,ymax],\\\n",
    "           yticklabels = [ymin,0,ymax],\\\n",
    "           yticks = [ymin,0,ymax],\\\n",
    "           xticks = xticks)\n",
    "\n",
    "ax[count].set_title('Erb1 vs Delta5',fontsize=18)\n",
    "ax[count].legend((wild_type,mutant), ('more flexible in Erb1', 'more flexible in Delta 5'), loc=[1,1], fontsize = 16)\n",
    "ax[count].tick_params(axis='x',which='major',pad=150)\n",
    "\n",
    "count += 1\n",
    "\n",
    "### Plotting the diffBUM_HMM results:\n",
    "\n",
    "selection = diff_bumhmm\n",
    "x = selection.index\n",
    "y = selection.UM.values\n",
    "wild_type = ax[count].bar(x,y,color='blue')\n",
    "x = selection.index\n",
    "y = -selection.MU.values\n",
    "ymin = -1\n",
    "ymax = 1\n",
    "mutant = ax[count].bar(x,y,color='red')\n",
    "formatAxes(ax[count],\\\n",
    "           text_size = 18,\\\n",
    "           ylabel = 'diffBUM_HMM',\\\n",
    "           ylim = [ymin,ymax],\\\n",
    "           yticklabels = [ymin,0,ymax],\\\n",
    "           yticks = [ymin,0,ymax],\\\n",
    "           xticks = xticks)\n",
    "\n",
    "ax[count].set_title('Erb1 vs Delta5',fontsize=18)\n",
    "ax[count].legend((wild_type,mutant), ('more flexible in Erb1', 'more flexible in Delta 5'), loc=[1,1], fontsize = 16)\n",
    "ax[count].tick_params(axis='x',which='major',pad=150)\n",
    "\n",
    "count += 1\n",
    "\n",
    "### Plotting the dStruct results:\n",
    "\n",
    "### The only region in the 5'ETS that was called was the 462 to 496 region.\n",
    "### Plot the SHAPE reactivities for this region.\n",
    "\n",
    "dstructfirst = range(462,497)\n",
    "dstructsecond = range(2443,2466)\n",
    "dstructthird = range(5229,5289)\n",
    "\n",
    "allcoords = list()\n",
    "allcoords.extend(dstructfirst)\n",
    "allcoords.extend(dstructsecond)\n",
    "allcoords.extend(dstructthird)\n",
    "\n",
    "plusvalues = erb.loc[allcoords]\n",
    "x = plusvalues.index\n",
    "y = plusvalues.reactivity.values\n",
    "wild_type = ax[count].bar(x,y,color='blue')\n",
    "minusvalues = -deltafive.loc[allcoords]\n",
    "x = minusvalues.index\n",
    "y = minusvalues.reactivity.values\n",
    "ymin = -1\n",
    "ymax = 1\n",
    "mutant = ax[count].bar(x,y,color='red')\n",
    "formatAxes(ax[count],\\\n",
    "           text_size = 18,\\\n",
    "           ylabel = 'dStruct restuls 11 nt window',\\\n",
    "           ylim = [ymin,ymax],\\\n",
    "           yticklabels = [ymin,0,ymax],\\\n",
    "           yticks = [ymin,0,ymax],\\\n",
    "           xticks = xticks)\n",
    "\n",
    "ax[count].set_title('Erb1 vs Delta5',fontsize=18)\n",
    "ax[count].legend((wild_type,mutant), ('Erb1', 'Delta 5'), loc=[1,1], fontsize = 16)\n",
    "ax[count].tick_params(axis='x',which='major',pad=150)\n",
    "\n",
    "fig.savefig(\"deltaSHAPE_diffBUM_HMM_dStruct_comparision_35S.pdf\",dpi=400)"
   ]
  },
  {
   "cell_type": "markdown",
   "metadata": {},
   "source": [
    "### How many nucleotides do deltaSHAPE and diffBUM_HMM call differentially modified?"
   ]
  },
  {
   "cell_type": "code",
   "execution_count": 14,
   "metadata": {},
   "outputs": [
    {
     "name": "stdout",
     "output_type": "stream",
     "text": [
      "1142.0\n"
     ]
    }
   ],
   "source": [
    "deltashapeaverage = np.mean([len(deltashapeone.index),len(deltashapetwo.index)])\n",
    "print(deltashapeaverage)"
   ]
  },
  {
   "cell_type": "code",
   "execution_count": 15,
   "metadata": {},
   "outputs": [],
   "source": [
    "diff_bumhmmaverage = np.mean([len(diff_bumhmm[diff_bumhmm.UM > 0.90]),len(diff_bumhmm[diff_bumhmm.MU > 0.95])])"
   ]
  },
  {
   "cell_type": "code",
   "execution_count": 16,
   "metadata": {},
   "outputs": [
    {
     "data": {
      "text/plain": [
       "240.5"
      ]
     },
     "execution_count": 16,
     "metadata": {},
     "output_type": "execute_result"
    }
   ],
   "source": [
    "diff_bumhmmaverage"
   ]
  },
  {
   "cell_type": "code",
   "execution_count": 17,
   "metadata": {},
   "outputs": [],
   "source": [
    "diff_allbumhmmaverage = np.mean([len(diff_bumhmm[diff_bumhmm.UM > 0.05]),len(diff_bumhmm[diff_bumhmm.MU > 0.05])])"
   ]
  },
  {
   "cell_type": "code",
   "execution_count": 18,
   "metadata": {},
   "outputs": [
    {
     "data": {
      "text/plain": [
       "443.5"
      ]
     },
     "execution_count": 18,
     "metadata": {},
     "output_type": "execute_result"
    }
   ],
   "source": [
    "diff_allbumhmmaverage"
   ]
  },
  {
   "cell_type": "code",
   "execution_count": 19,
   "metadata": {},
   "outputs": [
    {
     "data": {
      "text/plain": [
       "6597"
      ]
     },
     "execution_count": 19,
     "metadata": {},
     "output_type": "execute_result"
    }
   ],
   "source": [
    "len(diff_bumhmm.index)"
   ]
  },
  {
   "cell_type": "markdown",
   "metadata": {},
   "source": [
    "### Data for the 5'ETS"
   ]
  },
  {
   "cell_type": "markdown",
   "metadata": {},
   "source": [
    "### Loading PE data"
   ]
  },
  {
   "cell_type": "code",
   "execution_count": 20,
   "metadata": {},
   "outputs": [],
   "source": [
    "pedata = pd.read_csv(\"../../Data/35S_pre_rRNA_PEA_data_with_5end_18S.txt\",sep=\"\\t\",index_col=0,header=0)\n",
    "pedata[pedata <= 0.25] = 0"
   ]
  },
  {
   "cell_type": "code",
   "execution_count": 21,
   "metadata": {},
   "outputs": [
    {
     "data": {
      "text/html": [
       "<div>\n",
       "<style scoped>\n",
       "    .dataframe tbody tr th:only-of-type {\n",
       "        vertical-align: middle;\n",
       "    }\n",
       "\n",
       "    .dataframe tbody tr th {\n",
       "        vertical-align: top;\n",
       "    }\n",
       "\n",
       "    .dataframe thead th {\n",
       "        text-align: right;\n",
       "    }\n",
       "</style>\n",
       "<table border=\"1\" class=\"dataframe\">\n",
       "  <thead>\n",
       "    <tr style=\"text-align: right;\">\n",
       "      <th></th>\n",
       "      <th>deltaErb</th>\n",
       "      <th>delta5</th>\n",
       "    </tr>\n",
       "    <tr>\n",
       "      <th>positions</th>\n",
       "      <th></th>\n",
       "      <th></th>\n",
       "    </tr>\n",
       "  </thead>\n",
       "  <tbody>\n",
       "    <tr>\n",
       "      <th>795</th>\n",
       "      <td>0.849447</td>\n",
       "      <td>0.892464</td>\n",
       "    </tr>\n",
       "    <tr>\n",
       "      <th>796</th>\n",
       "      <td>0.361656</td>\n",
       "      <td>0.331547</td>\n",
       "    </tr>\n",
       "    <tr>\n",
       "      <th>797</th>\n",
       "      <td>0.412652</td>\n",
       "      <td>0.353761</td>\n",
       "    </tr>\n",
       "    <tr>\n",
       "      <th>798</th>\n",
       "      <td>0.000000</td>\n",
       "      <td>0.000000</td>\n",
       "    </tr>\n",
       "    <tr>\n",
       "      <th>799</th>\n",
       "      <td>0.000000</td>\n",
       "      <td>0.000000</td>\n",
       "    </tr>\n",
       "  </tbody>\n",
       "</table>\n",
       "</div>"
      ],
      "text/plain": [
       "           deltaErb    delta5\n",
       "positions                    \n",
       "795        0.849447  0.892464\n",
       "796        0.361656  0.331547\n",
       "797        0.412652  0.353761\n",
       "798        0.000000  0.000000\n",
       "799        0.000000  0.000000"
      ]
     },
     "execution_count": 21,
     "metadata": {},
     "output_type": "execute_result"
    }
   ],
   "source": [
    "pedata.tail()"
   ]
  },
  {
   "cell_type": "markdown",
   "metadata": {},
   "source": [
    "### Regions that were verified by primer extension:"
   ]
  },
  {
   "cell_type": "code",
   "execution_count": 22,
   "metadata": {},
   "outputs": [],
   "source": [
    "first = [268,352]\n",
    "second = [405,502]\n",
    "third = [701,797]"
   ]
  },
  {
   "cell_type": "code",
   "execution_count": 23,
   "metadata": {},
   "outputs": [
    {
     "data": {
      "image/png": "[encoded data removed]",
      "text/plain": [
       "<Figure size 2160x1080 with 5 Axes>"
      ]
     },
     "metadata": {
      "needs_background": "light"
     },
     "output_type": "display_data"
    }
   ],
   "source": [
    "count = 0\n",
    "numberofplots = 5\n",
    "\n",
    "start = 1\n",
    "end = 800\n",
    "\n",
    "fig,ax = plt.subplots(numberofplots,figsize=[30,15],sharex=True)\n",
    "\n",
    "### Plotting the raw SHAPE values:\n",
    "\n",
    "plusvalues = erb.loc[start:end+1]\n",
    "x = plusvalues.index\n",
    "y = plusvalues.reactivity.values\n",
    "wild_type = ax[count].bar(x,y,color='blue')\n",
    "minusvalues = -deltafive.loc[start:end]\n",
    "x = minusvalues.index\n",
    "y = minusvalues.reactivity.values\n",
    "ymin = -1\n",
    "ymax = 1\n",
    "mutant = ax[count].bar(x,y,color='red')\n",
    "xticks = list(np.arange(start,end,50))\n",
    "formatAxes(ax[count],\\\n",
    "           text_size = 18,\\\n",
    "           ylabel = 'SHAPE reactivities',\\\n",
    "           ylim = [ymin,ymax],\\\n",
    "           yticklabels = [ymin,0,ymax],\\\n",
    "           yticks = [ymin,0,ymax],\\\n",
    "           xticks = xticks)\n",
    "\n",
    "ax[count].set_title('Erb1 vs Delta5',fontsize=18)\n",
    "ax[count].legend((wild_type,mutant), ('Erb1', 'Delta5'), loc=[1,1], fontsize = 16)\n",
    "ax[count].tick_params(axis='x',which='major',pad=150)\n",
    "ax[count].axvspan(first[0],first[1],color='red',alpha=0.5)\n",
    "ax[count].axvspan(second[0],second[1],color='red',alpha=0.5)\n",
    "ax[count].axvspan(third[0],third[1],color='red',alpha=0.5)\n",
    "\n",
    "count += 1\n",
    "\n",
    "### Plotting the primer extension data\n",
    "\n",
    "plusvalues = pedata.deltaErb.loc[start:end+1]\n",
    "minusvalues = pedata.delta5.loc[start:end+1]\n",
    "\n",
    "x = plusvalues.index\n",
    "y = plusvalues.values\n",
    "wild_type = ax[count].bar(x,y,color='blue')\n",
    "\n",
    "x = minusvalues.index\n",
    "y = -minusvalues.values\n",
    "\n",
    "ymin = -2\n",
    "ymax = 2\n",
    "\n",
    "mutant = ax[count].bar(x,y,color='red')\n",
    "formatAxes(ax[count],\\\n",
    "           text_size = 18,\\\n",
    "           ylabel = 'Primer extension results',\\\n",
    "           ylim = [ymin,ymax],\\\n",
    "           yticklabels = [ymin,0,ymax],\\\n",
    "           yticks = [ymin,0,ymax],\\\n",
    "           xticks = xticks)\n",
    "\n",
    "ax[count].legend((wild_type,mutant), ('Erb1', 'Delta 5'), loc=[1,1], fontsize = 16)\n",
    "\n",
    "count += 1\n",
    "\n",
    "### Plotting the deltaSHAPE results:\n",
    "\n",
    "selection = deltashapeone.loc[start:end+1]\n",
    "plusvalues  = selection.DeltaSHAPE[selection.DeltaSHAPE > 0]\n",
    "minusvalues = selection.DeltaSHAPE[selection.DeltaSHAPE < 0]\n",
    "\n",
    "x = plusvalues.index\n",
    "y = plusvalues.values\n",
    "wild_type = ax[count].bar(x,y,color='blue')\n",
    "x = minusvalues.index\n",
    "y = minusvalues.values\n",
    "ymin = -0.5\n",
    "ymax = 0.5\n",
    "mutant = ax[count].bar(x,y,color='red')\n",
    "#xticks = list(np.arange(start,end,50))\n",
    "formatAxes(ax[count],\\\n",
    "           text_size = 18,\\\n",
    "           ylabel = 'deltaSHAPE',\\\n",
    "           ylim = [ymin,ymax],\\\n",
    "           yticklabels = [ymin,0,ymax],\\\n",
    "           yticks = [ymin,0,ymax],\\\n",
    "           xticks = xticks)\n",
    "\n",
    "ax[count].set_title('Erb1 vs Delta5',fontsize=18)\n",
    "ax[count].legend((wild_type,mutant), ('more flexible in Erb1', 'more flexible in Delta 5'), loc=[1,1], fontsize = 16)\n",
    "\n",
    "count += 1\n",
    "\n",
    "### Plotting the diffBUM_HMM results:\n",
    "\n",
    "selection = diff_bumhmm.iloc[start:end+1]\n",
    "x = selection.index\n",
    "y = selection.UM.values\n",
    "wild_type = ax[count].bar(x,y,color='blue')\n",
    "x = selection.index\n",
    "y = -selection.MU.values\n",
    "ymin = -1\n",
    "ymax = 1\n",
    "mutant = ax[count].bar(x,y,color='red')\n",
    "xticks = list(np.arange(start,end,50))\n",
    "formatAxes(ax[count],\\\n",
    "           text_size = 18,\\\n",
    "           ylabel = 'diffBUM_HMM',\\\n",
    "           ylim = [ymin,ymax],\\\n",
    "           yticklabels = [ymin,0,ymax],\\\n",
    "           yticks = [ymin,0,ymax],\\\n",
    "           xticks = xticks)\n",
    "\n",
    "ax[count].set_title('Erb1 vs Delta5',fontsize=18)\n",
    "ax[count].legend((wild_type,mutant), ('more flexible in Erb1', 'more flexible in Delta 5'), loc=[1,1], fontsize = 16)\n",
    "\n",
    "count += 1\n",
    "\n",
    "### Plotting the dStruct results:\n",
    "\n",
    "### The only region in the 5'ETS that was called was the 462 to 496 region.\n",
    "### Plot the SHAPE reactivities for this region.\n",
    "\n",
    "start = 462\n",
    "end = 496\n",
    "\n",
    "plusvalues = erb.loc[start:end+1]\n",
    "x = plusvalues.index\n",
    "y = plusvalues.reactivity.values\n",
    "wild_type = ax[count].bar(x,y,color='blue')\n",
    "minusvalues = -deltafive.loc[start:end]\n",
    "x = minusvalues.index\n",
    "y = minusvalues.reactivity.values\n",
    "ymin = -1\n",
    "ymax = 1\n",
    "mutant = ax[count].bar(x,y,color='red')\n",
    "formatAxes(ax[count],\\\n",
    "           text_size = 18,\\\n",
    "           ylabel = 'dStruct restults 11 nt window',\\\n",
    "           ylim = [ymin,ymax],\\\n",
    "           yticklabels = [ymin,0,ymax],\\\n",
    "           yticks = [ymin,0,ymax],\\\n",
    "           xticks = xticks)\n",
    "\n",
    "ax[count].set_title('Erb1 vs Delta5',fontsize=18)\n",
    "ax[count].legend((wild_type,mutant), ('Erb1', 'Delta 5'), loc=[1,1], fontsize = 16)\n",
    "ax[count].tick_params(axis='x',which='major',pad=150)\n",
    "\n",
    "fig.savefig(\"deltaSHAPE_diffBUM_HMM_dStruct_comparision_5ETS.pdf\",dpi=400)"
   ]
  },
  {
   "cell_type": "markdown",
   "metadata": {},
   "source": [
    "### Calculating deltaPE for the primer extension data:"
   ]
  },
  {
   "cell_type": "code",
   "execution_count": 24,
   "metadata": {},
   "outputs": [
    {
     "data": {
      "text/html": [
       "<div>\n",
       "<style scoped>\n",
       "    .dataframe tbody tr th:only-of-type {\n",
       "        vertical-align: middle;\n",
       "    }\n",
       "\n",
       "    .dataframe tbody tr th {\n",
       "        vertical-align: top;\n",
       "    }\n",
       "\n",
       "    .dataframe thead th {\n",
       "        text-align: right;\n",
       "    }\n",
       "</style>\n",
       "<table border=\"1\" class=\"dataframe\">\n",
       "  <thead>\n",
       "    <tr style=\"text-align: right;\">\n",
       "      <th></th>\n",
       "      <th>deltaErb</th>\n",
       "      <th>delta5</th>\n",
       "    </tr>\n",
       "    <tr>\n",
       "      <th>positions</th>\n",
       "      <th></th>\n",
       "      <th></th>\n",
       "    </tr>\n",
       "  </thead>\n",
       "  <tbody>\n",
       "    <tr>\n",
       "      <th>1</th>\n",
       "      <td>NaN</td>\n",
       "      <td>NaN</td>\n",
       "    </tr>\n",
       "    <tr>\n",
       "      <th>2</th>\n",
       "      <td>NaN</td>\n",
       "      <td>NaN</td>\n",
       "    </tr>\n",
       "    <tr>\n",
       "      <th>3</th>\n",
       "      <td>NaN</td>\n",
       "      <td>NaN</td>\n",
       "    </tr>\n",
       "    <tr>\n",
       "      <th>4</th>\n",
       "      <td>NaN</td>\n",
       "      <td>NaN</td>\n",
       "    </tr>\n",
       "    <tr>\n",
       "      <th>5</th>\n",
       "      <td>NaN</td>\n",
       "      <td>NaN</td>\n",
       "    </tr>\n",
       "  </tbody>\n",
       "</table>\n",
       "</div>"
      ],
      "text/plain": [
       "           deltaErb  delta5\n",
       "positions                  \n",
       "1               NaN     NaN\n",
       "2               NaN     NaN\n",
       "3               NaN     NaN\n",
       "4               NaN     NaN\n",
       "5               NaN     NaN"
      ]
     },
     "execution_count": 24,
     "metadata": {},
     "output_type": "execute_result"
    }
   ],
   "source": [
    "pedata.head()"
   ]
  },
  {
   "cell_type": "code",
   "execution_count": 25,
   "metadata": {},
   "outputs": [],
   "source": [
    "pedata = pedata.replace(np.nan,0)"
   ]
  },
  {
   "cell_type": "code",
   "execution_count": 26,
   "metadata": {},
   "outputs": [
    {
     "data": {
      "text/html": [
       "<div>\n",
       "<style scoped>\n",
       "    .dataframe tbody tr th:only-of-type {\n",
       "        vertical-align: middle;\n",
       "    }\n",
       "\n",
       "    .dataframe tbody tr th {\n",
       "        vertical-align: top;\n",
       "    }\n",
       "\n",
       "    .dataframe thead th {\n",
       "        text-align: right;\n",
       "    }\n",
       "</style>\n",
       "<table border=\"1\" class=\"dataframe\">\n",
       "  <thead>\n",
       "    <tr style=\"text-align: right;\">\n",
       "      <th></th>\n",
       "      <th>deltaErb</th>\n",
       "      <th>delta5</th>\n",
       "    </tr>\n",
       "    <tr>\n",
       "      <th>positions</th>\n",
       "      <th></th>\n",
       "      <th></th>\n",
       "    </tr>\n",
       "  </thead>\n",
       "  <tbody>\n",
       "    <tr>\n",
       "      <th>1</th>\n",
       "      <td>0.0</td>\n",
       "      <td>0.0</td>\n",
       "    </tr>\n",
       "    <tr>\n",
       "      <th>2</th>\n",
       "      <td>0.0</td>\n",
       "      <td>0.0</td>\n",
       "    </tr>\n",
       "    <tr>\n",
       "      <th>3</th>\n",
       "      <td>0.0</td>\n",
       "      <td>0.0</td>\n",
       "    </tr>\n",
       "    <tr>\n",
       "      <th>4</th>\n",
       "      <td>0.0</td>\n",
       "      <td>0.0</td>\n",
       "    </tr>\n",
       "    <tr>\n",
       "      <th>5</th>\n",
       "      <td>0.0</td>\n",
       "      <td>0.0</td>\n",
       "    </tr>\n",
       "  </tbody>\n",
       "</table>\n",
       "</div>"
      ],
      "text/plain": [
       "           deltaErb  delta5\n",
       "positions                  \n",
       "1               0.0     0.0\n",
       "2               0.0     0.0\n",
       "3               0.0     0.0\n",
       "4               0.0     0.0\n",
       "5               0.0     0.0"
      ]
     },
     "execution_count": 26,
     "metadata": {},
     "output_type": "execute_result"
    }
   ],
   "source": [
    "pedata.head()"
   ]
  },
  {
   "cell_type": "code",
   "execution_count": 27,
   "metadata": {},
   "outputs": [],
   "source": [
    "diffPE = pedata.deltaErb - pedata.delta5"
   ]
  },
  {
   "cell_type": "code",
   "execution_count": 28,
   "metadata": {},
   "outputs": [
    {
     "data": {
      "text/plain": [
       "positions\n",
       "1    0.0\n",
       "2    0.0\n",
       "3    0.0\n",
       "4    0.0\n",
       "5    0.0\n",
       "dtype: float64"
      ]
     },
     "execution_count": 28,
     "metadata": {},
     "output_type": "execute_result"
    }
   ],
   "source": [
    "diffPE.head()"
   ]
  },
  {
   "cell_type": "markdown",
   "metadata": {},
   "source": [
    "### Now making plots for the individual regions:"
   ]
  },
  {
   "cell_type": "code",
   "execution_count": 29,
   "metadata": {},
   "outputs": [],
   "source": [
    "first = [268,352]\n",
    "second = [405,502]\n",
    "third = [701,797]"
   ]
  },
  {
   "cell_type": "code",
   "execution_count": 30,
   "metadata": {},
   "outputs": [],
   "source": [
    "sequence = open(\"../../Reference_sequences/35S_pre-rRNA_refseq.seq\",\"r\").readlines()"
   ]
  },
  {
   "cell_type": "code",
   "execution_count": 31,
   "metadata": {},
   "outputs": [],
   "source": [
    "sequence = sequence[0].strip()"
   ]
  },
  {
   "cell_type": "code",
   "execution_count": 32,
   "metadata": {},
   "outputs": [
    {
     "name": "stdout",
     "output_type": "stream",
     "text": [
      "ATGCGAAAGC\n"
     ]
    }
   ],
   "source": [
    "print(sequence[:10])"
   ]
  },
  {
   "cell_type": "code",
   "execution_count": 43,
   "metadata": {},
   "outputs": [
    {
     "data": {
      "image/png": "[encoded data removed]",
      "text/plain": [
       "<Figure size 2160x1080 with 4 Axes>"
      ]
     },
     "metadata": {
      "needs_background": "light"
     },
     "output_type": "display_data"
    }
   ],
   "source": [
    "count = 0\n",
    "numberofplots = 4\n",
    "fig,ax = plt.subplots(numberofplots,figsize=[30,15],sharex=True)\n",
    "\n",
    "start,end = first\n",
    "\n",
    "### Plotting the raw SHAPE values:\n",
    "\n",
    "plusvalues = erb.loc[start:end+1]\n",
    "x = plusvalues.index\n",
    "y = plusvalues.reactivity.values\n",
    "wild_type = ax[count].bar(x,y,color='blue')\n",
    "minusvalues = -deltafive.loc[start:end+1]\n",
    "x = minusvalues.index\n",
    "y = minusvalues.reactivity.values\n",
    "ymin = -1\n",
    "ymax = 1\n",
    "mutant = ax[count].bar(x,y,color='red')\n",
    "\n",
    "fragment = list(sequence[start-1:end].replace(\"T\",\"U\"))\n",
    "#print(list(fragment))\n",
    "\n",
    "xticks = list(np.arange(start,end+1))\n",
    "xticklabels = fragment\n",
    "                   \n",
    "formatAxes(ax[count],\\\n",
    "           text_size = 18,\\\n",
    "           ylabel = 'SHAPE reactivities',\\\n",
    "           ylim = [ymin,ymax],\\\n",
    "           yticklabels = [ymin,0,ymax],\\\n",
    "           yticks = [ymin,0,ymax],\\\n",
    "           xticks = xticks,\\\n",
    "           xticklabels = xticklabels)\n",
    "\n",
    "ax[count].legend((wild_type,mutant), ('Erb1', 'Delta5'), loc=[1,1], fontsize = 16)\n",
    "\n",
    "count += 1\n",
    "\n",
    "### Plotting the primer extension data\n",
    "\n",
    "plusvalues = pedata.deltaErb.loc[start:end+1]\n",
    "minusvalues = pedata.delta5.loc[start:end+1]\n",
    "\n",
    "x = plusvalues.index\n",
    "y = plusvalues.values\n",
    "\n",
    "wild_type = ax[count].bar(x,y,color='blue')\n",
    "\n",
    "x = minusvalues.index\n",
    "y = -minusvalues.values\n",
    "\n",
    "ymin = -2\n",
    "ymax = 2\n",
    "\n",
    "mutant = ax[count].bar(x,y,color='red')\n",
    "formatAxes(ax[count],\\\n",
    "           text_size = 18,\\\n",
    "           ylabel = 'PE wildtype - Delta 5 data',\\\n",
    "           ylim = [ymin,ymax],\\\n",
    "           yticklabels = [ymin,0,ymax],\\\n",
    "           yticks = [ymin,0,ymax],\\\n",
    "           xticks = xticks,\\\n",
    "           xticklabels = xticklabels)\n",
    "\n",
    "ax[count].legend((wild_type,mutant), ('Erb1', 'Delta 5'), loc=[1,1], fontsize = 16)\n",
    "\n",
    "count += 1\n",
    "\n",
    "### Plotting the deltaSHAPE results:\n",
    "\n",
    "selection = deltashapeone.loc[start:end+1]\n",
    "plusvalues  = selection.DeltaSHAPE[selection.DeltaSHAPE > 0]\n",
    "minusvalues = selection.DeltaSHAPE[selection.DeltaSHAPE < 0]\n",
    "\n",
    "x = plusvalues.index\n",
    "y = plusvalues.values\n",
    "\n",
    "wild_type = ax[count].bar(x,y,color='blue')\n",
    "\n",
    "x = minusvalues.index\n",
    "y = minusvalues.values\n",
    "ymin = -0.5\n",
    "ymax = 0.5\n",
    "mutant = ax[count].bar(x,y,color='red')\n",
    "formatAxes(ax[count],\\\n",
    "           text_size = 18,\\\n",
    "           ylabel = 'deltaSHAPE',\\\n",
    "           ylim = [ymin,ymax],\\\n",
    "           yticklabels = [ymin,0,ymax],\\\n",
    "           yticks = [ymin,0,ymax],\\\n",
    "           xticks = xticks,\\\n",
    "           xticklabels = xticklabels)\n",
    "\n",
    "ax[count].legend((wild_type,mutant), ('more flexible in Erb1', 'more flexible in Delta 5'), loc=[1,1], fontsize = 16)\n",
    "\n",
    "count += 1\n",
    "\n",
    "### Plotting the diffBUM_HMM results:\n",
    "\n",
    "selection = diff_bumhmm.iloc[start:end+1]\n",
    "x = selection.index\n",
    "y = selection.UM.values\n",
    "wild_type = ax[count].bar(x,y,color='blue')\n",
    "x = selection.index\n",
    "y = -selection.MU.values\n",
    "ymin = -1\n",
    "ymax = 1\n",
    "mutant = ax[count].bar(x,y,color='red')\n",
    "formatAxes(ax[count],\\\n",
    "           text_size = 18,\\\n",
    "           ylabel = 'diffBUM_HMM',\\\n",
    "           ylim = [ymin,ymax],\\\n",
    "           yticklabels = [ymin,0,ymax],\\\n",
    "           yticks = [ymin,0,ymax],\\\n",
    "           xticks = xticks,\\\n",
    "           xticklabels = xticklabels)\n",
    "\n",
    "ax[count].legend((wild_type,mutant), ('more flexible in Erb1', 'more flexible in Delta 5'), loc=[1,1], fontsize = 16)\n",
    "\n",
    "count += 1\n",
    "\n",
    "### No dStruct data for this region\n",
    "\n",
    "fig.savefig(\"deltaSHAPE_diffBUM_HMM_dStruct_comparision_%s_%s.pdf\" % (start,end),dpi=400)"
   ]
  },
  {
   "cell_type": "code",
   "execution_count": 46,
   "metadata": {},
   "outputs": [
    {
     "name": "stdout",
     "output_type": "stream",
     "text": [
      "405 502\n"
     ]
    },
    {
     "data": {
      "image/png": "[encoded data removed]",
      "text/plain": [
       "<Figure size 2160x1080 with 5 Axes>"
      ]
     },
     "metadata": {
      "needs_background": "light"
     },
     "output_type": "display_data"
    }
   ],
   "source": [
    "count = 0\n",
    "numberofplots = 5\n",
    "fig,ax = plt.subplots(numberofplots,figsize=[30,15],sharex=True)\n",
    "\n",
    "start,end = second\n",
    "print(start,end)\n",
    "\n",
    "### Plotting the raw SHAPE values:\n",
    "\n",
    "plusvalues = erb.loc[start:end+1]\n",
    "x = plusvalues.index\n",
    "y = plusvalues.reactivity.values\n",
    "wild_type = ax[count].bar(x,y,color='blue')\n",
    "minusvalues = -deltafive.loc[start:end+1]\n",
    "x = minusvalues.index\n",
    "y = minusvalues.reactivity.values\n",
    "ymin = -1\n",
    "ymax = 1\n",
    "mutant = ax[count].bar(x,y,color='red')\n",
    "\n",
    "fragment = list(sequence[start-1:end].replace(\"T\",\"U\"))\n",
    "#print(list(fragment))\n",
    "\n",
    "xticks = list(np.arange(start,end+1))\n",
    "xticklabels = fragment\n",
    "                   \n",
    "formatAxes(ax[count],\\\n",
    "           text_size = 18,\\\n",
    "           ylabel = 'SHAPE reactivities',\\\n",
    "           ylim = [ymin,ymax],\\\n",
    "           yticklabels = [ymin,0,ymax],\\\n",
    "           yticks = [ymin,0,ymax],\\\n",
    "           xticks = xticks,\\\n",
    "           xticklabels = xticklabels)\n",
    "\n",
    "ax[count].legend((wild_type,mutant), ('Erb1', 'Delta5'), loc=[1,1], fontsize = 16)\n",
    "\n",
    "count += 1\n",
    "\n",
    "### Plotting the primer extension data\n",
    "\n",
    "plusvalues = pedata.deltaErb.loc[start:end+1]\n",
    "minusvalues = pedata.delta5.loc[start:end+1]\n",
    "\n",
    "x = plusvalues.index\n",
    "y = plusvalues.values\n",
    "\n",
    "wild_type = ax[count].bar(x,y,color='blue')\n",
    "\n",
    "x = minusvalues.index\n",
    "y = -minusvalues.values\n",
    "\n",
    "ymin = -2\n",
    "ymax = 2\n",
    "\n",
    "mutant = ax[count].bar(x,y,color='red')\n",
    "formatAxes(ax[count],\\\n",
    "           text_size = 18,\\\n",
    "           ylabel = 'PE wildtype - Delta 5 data',\\\n",
    "           ylim = [ymin,ymax],\\\n",
    "           yticklabels = [ymin,0,ymax],\\\n",
    "           yticks = [ymin,0,ymax],\\\n",
    "           xticks = xticks,\\\n",
    "           xticklabels = xticklabels)\n",
    "\n",
    "ax[count].legend((wild_type,mutant), ('Erb1', 'Delta 5'), loc=[1,1], fontsize = 16)\n",
    "\n",
    "count += 1\n",
    "\n",
    "### Plotting the deltaSHAPE results:\n",
    "\n",
    "selection = deltashapeone.loc[start:end+1]\n",
    "plusvalues  = selection.DeltaSHAPE[selection.DeltaSHAPE > 0]\n",
    "minusvalues = selection.DeltaSHAPE[selection.DeltaSHAPE < 0]\n",
    "\n",
    "x = plusvalues.index\n",
    "y = plusvalues.values\n",
    "\n",
    "wild_type = ax[count].bar(x,y,color='blue')\n",
    "\n",
    "x = minusvalues.index\n",
    "y = minusvalues.values\n",
    "ymin = -0.5\n",
    "ymax = 0.5\n",
    "\n",
    "mutant = ax[count].bar(x,y,color='red')\n",
    "\n",
    "formatAxes(ax[count],\\\n",
    "           text_size = 18,\\\n",
    "           ylabel = 'deltaSHAPE',\\\n",
    "           ylim = [ymin,ymax],\\\n",
    "           yticklabels = [ymin,0,ymax],\\\n",
    "           yticks = [ymin,0,ymax],\\\n",
    "           xticks = xticks,\\\n",
    "           xticklabels = xticklabels)\n",
    "\n",
    "#ax[count].legend((wild_type,mutant), ('more flexible in Erb1', 'more flexible in Delta 5'), loc=[1,1], fontsize = 16)\n",
    "\n",
    "count += 1\n",
    "\n",
    "### Plotting the diffBUM_HMM results:\n",
    "\n",
    "selection = diff_bumhmm.iloc[start:end+1]\n",
    "x = selection.index\n",
    "y = selection.UM.values\n",
    "\n",
    "wild_type = ax[count].bar(x,y,color='blue')\n",
    "\n",
    "x = selection.index\n",
    "y = -selection.MU.values\n",
    "ymin = -1\n",
    "ymax = 1\n",
    "\n",
    "mutant = ax[count].bar(x,y,color='red')\n",
    "\n",
    "formatAxes(ax[count],\\\n",
    "           text_size = 18,\\\n",
    "           ylabel = 'diffBUM_HMM',\\\n",
    "           ylim = [ymin,ymax],\\\n",
    "           yticklabels = [ymin,0,ymax],\\\n",
    "           yticks = [ymin,0,ymax],\\\n",
    "           xticks = xticks,\\\n",
    "           xticklabels = xticklabels)\n",
    "\n",
    "ax[count].legend((wild_type,mutant), ('more flexible in Erb1', 'more flexible in Delta 5'), loc=[1,1], fontsize = 16)\n",
    "ax[count].tick_params(axis='x',which='major',pad=150)\n",
    "\n",
    "count += 1\n",
    "\n",
    "### Plotting the dStruct results:\n",
    "\n",
    "### The only region in the 5'ETS that was called was the 462 to 496 region.\n",
    "### Plot the SHAPE reactivities for this region.\n",
    "\n",
    "start = 462\n",
    "end = 496\n",
    "\n",
    "plusvalues = erb.loc[start:end+1]\n",
    "x = plusvalues.index\n",
    "y = plusvalues.reactivity.values\n",
    "wild_type = ax[count].bar(x,y,color='blue')\n",
    "minusvalues = -deltafive.loc[start:end]\n",
    "x = minusvalues.index\n",
    "y = minusvalues.reactivity.values\n",
    "ymin = -1\n",
    "ymax = 1\n",
    "mutant = ax[count].bar(x,y,color='red')\n",
    "formatAxes(ax[count],\\\n",
    "           text_size = 18,\\\n",
    "           ylabel = 'dStruct restults 11 nt window',\\\n",
    "           ylim = [ymin,ymax],\\\n",
    "           yticklabels = [ymin,0,ymax],\\\n",
    "           yticks = [ymin,0,ymax],\\\n",
    "           xticks = xticks)\n",
    "\n",
    "ax[count].set_title('Erb1 vs Delta5',fontsize=18)\n",
    "ax[count].legend((wild_type,mutant), ('Erb1', 'Delta 5'), loc=[1,1], fontsize = 16)\n",
    "ax[count].tick_params(axis='x',which='major',pad=150)\n",
    "\n",
    "fig.savefig(\"deltaSHAPE_diffBUM_HMM_dStruct_comparision_%s_%s.pdf\" % (start,end),dpi=400)"
   ]
  },
  {
   "cell_type": "code",
   "execution_count": null,
   "metadata": {},
   "outputs": [],
   "source": []
  },
  {
   "cell_type": "code",
   "execution_count": null,
   "metadata": {},
   "outputs": [],
   "source": []
  }
 ],
 "metadata": {
  "kernelspec": {
   "display_name": "Python 3",
   "language": "python",
   "name": "python3"
  },
  "language_info": {
   "codemirror_mode": {
    "name": "ipython",
    "version": 3
   },
   "file_extension": ".py",
   "mimetype": "text/x-python",
   "name": "python",
   "nbconvert_exporter": "python",
   "pygments_lexer": "ipython3",
   "version": "3.6.8"
  }
 },
 "nbformat": 4,
 "nbformat_minor": 2
}
