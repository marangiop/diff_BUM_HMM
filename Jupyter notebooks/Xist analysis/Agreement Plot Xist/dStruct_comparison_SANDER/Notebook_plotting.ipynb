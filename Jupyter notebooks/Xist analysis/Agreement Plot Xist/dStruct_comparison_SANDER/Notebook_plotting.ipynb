{
 "cells": [
  {
   "cell_type": "code",
   "execution_count": 308,
   "metadata": {},
   "outputs": [],
   "source": [
    "import sys\n",
    "import pandas as pd\n",
    "import numpy as np\n",
    "import matplotlib.pyplot as plt\n",
    "from matplotlib import rcParams\n",
    "rcParams['font.family'] = 'sans-serif'\n",
    "rcParams['font.sans-serif'] = ['Arial']\n",
    "rcParams['axes.formatter.useoffset'] = False"
   ]
  },
  {
   "cell_type": "code",
   "execution_count": 295,
   "metadata": {},
   "outputs": [],
   "source": [
    "def formatAxes(ax,text_size=10,xlim=None,xlabel=None,xticks=None,xticklabels=None,ylim=None,yticks=None,ylabel=None,yticklabels=None):\n",
    "    \"\"\" to tweak the plotting of the axes as well as the fontsize \"\"\"\n",
    "    for loc,spine in list(ax.spines.items()):\n",
    "        if loc == 'left': # settings for the y-axis\n",
    "            spine.set_visible(True)\n",
    "            #spine.set_position((\"outward\",1))\n",
    "            spine.set_smart_bounds(True)\n",
    "            if ylim:\n",
    "                ax.set_ylim(ylim)\n",
    "            if yticks:\n",
    "                ax.set_yticks(yticks) \n",
    "            if yticklabels:\n",
    "                ax.set_yticklabels(yticklabels,fontsize=text_size)\n",
    "            if ylabel:\n",
    "                ax.set_ylabel(ylabel,fontsize=text_size,rotation=0,labelpad=160)\n",
    "                ax.get_yaxis().set_label_coords(-0.1,0.5)\n",
    "            ax.yaxis.set_ticks_position('left')\n",
    "            ax.yaxis.set_tick_params(direction='out')\n",
    "        elif loc == 'bottom': # settings for x-axis\n",
    "            spine.set_position('zero')\n",
    "            spine.set_visible(False)\n",
    "            spine.set_smart_bounds(False)\n",
    "            if xlim:\n",
    "                ax.set_xlim(xlim)\n",
    "            if xlabel:\n",
    "                ax.set_xlabel(xlabel,fontsize=text_size+2)\n",
    "                ax.xaxis.labelpad = 10\n",
    "            if xticks:\n",
    "                ax.set_xticks(xticks)\n",
    "                ax.tick_params(axis='x',which='both',length=0)\n",
    "            else:\n",
    "                ax.tick_params(axis='x',which='both',length=0)\n",
    "            if xticklabels:\n",
    "                ax.set_xticklabels(xticklabels,fontsize=text_size)\n",
    "        else:\n",
    "            spine.set_visible(False)\n",
    "    ax.patch.set_visible(False)"
   ]
  },
  {
   "cell_type": "code",
   "execution_count": 3,
   "metadata": {},
   "outputs": [],
   "source": [
    "#REGIONS OF INTEREST BASED ON dStruct\n",
    "#Start\tStop\tpval\tFDR\n",
    "#1113\t1132\t0.000604629516601562\t0.381496031628333\n",
    "#9889\t9902\t0.0008544921875\t0.381496031628333\n",
    "#10051\t10061\t0.0009765625\t0.381496031628333\n",
    "#16082\t16098\t0.00014495849609375\t0.317024230957031\n",
    "#17031\t17047\t0.00104662834465935\t0.381496031628333\n",
    "#17741\t17751\t0.0009765625\t0.381496031628333"
   ]
  },
  {
   "cell_type": "code",
   "execution_count": 32,
   "metadata": {},
   "outputs": [],
   "source": [
    "#Getting region 16082\t16098 for DIFF BUM HMM OUTPUT \n",
    "df_diff_bumhmm_output = pd.read_csv('../../Xist_in vivo_vs_ex vivo_new_data_october_diff_BUM_HMM_analysed.txt', sep=\"\\t\", header=0)"
   ]
  },
  {
   "cell_type": "code",
   "execution_count": 33,
   "metadata": {},
   "outputs": [
    {
     "data": {
      "text/html": [
       "<div>\n",
       "<style scoped>\n",
       "    .dataframe tbody tr th:only-of-type {\n",
       "        vertical-align: middle;\n",
       "    }\n",
       "\n",
       "    .dataframe tbody tr th {\n",
       "        vertical-align: top;\n",
       "    }\n",
       "\n",
       "    .dataframe thead th {\n",
       "        text-align: right;\n",
       "    }\n",
       "</style>\n",
       "<table border=\"1\" class=\"dataframe\">\n",
       "  <thead>\n",
       "    <tr style=\"text-align: right;\">\n",
       "      <th></th>\n",
       "      <th>UU</th>\n",
       "      <th>UM</th>\n",
       "      <th>MU</th>\n",
       "      <th>MM</th>\n",
       "    </tr>\n",
       "  </thead>\n",
       "  <tbody>\n",
       "    <tr>\n",
       "      <th>1</th>\n",
       "      <td>1.000000</td>\n",
       "      <td>5.310265e-14</td>\n",
       "      <td>5.125995e-10</td>\n",
       "      <td>2.722039e-23</td>\n",
       "    </tr>\n",
       "    <tr>\n",
       "      <th>2</th>\n",
       "      <td>0.994480</td>\n",
       "      <td>2.754820e-03</td>\n",
       "      <td>2.757526e-03</td>\n",
       "      <td>7.638654e-06</td>\n",
       "    </tr>\n",
       "    <tr>\n",
       "      <th>3</th>\n",
       "      <td>1.000000</td>\n",
       "      <td>7.423341e-30</td>\n",
       "      <td>1.852539e-23</td>\n",
       "      <td>1.375203e-52</td>\n",
       "    </tr>\n",
       "    <tr>\n",
       "      <th>4</th>\n",
       "      <td>0.981319</td>\n",
       "      <td>9.296475e-03</td>\n",
       "      <td>9.296468e-03</td>\n",
       "      <td>8.806961e-05</td>\n",
       "    </tr>\n",
       "    <tr>\n",
       "      <th>5</th>\n",
       "      <td>0.970306</td>\n",
       "      <td>1.473533e-02</td>\n",
       "      <td>1.473532e-02</td>\n",
       "      <td>2.237746e-04</td>\n",
       "    </tr>\n",
       "  </tbody>\n",
       "</table>\n",
       "</div>"
      ],
      "text/plain": [
       "         UU            UM            MU            MM\n",
       "1  1.000000  5.310265e-14  5.125995e-10  2.722039e-23\n",
       "2  0.994480  2.754820e-03  2.757526e-03  7.638654e-06\n",
       "3  1.000000  7.423341e-30  1.852539e-23  1.375203e-52\n",
       "4  0.981319  9.296475e-03  9.296468e-03  8.806961e-05\n",
       "5  0.970306  1.473533e-02  1.473532e-02  2.237746e-04"
      ]
     },
     "execution_count": 33,
     "metadata": {},
     "output_type": "execute_result"
    }
   ],
   "source": [
    "df_diff_bumhmm_output.head()"
   ]
  },
  {
   "cell_type": "code",
   "execution_count": 35,
   "metadata": {},
   "outputs": [],
   "source": [
    "df_diff_bumhmm_output = df_diff_bumhmm_output.loc[16082:16099][[\"UM\",\"MU\"]]"
   ]
  },
  {
   "cell_type": "code",
   "execution_count": 36,
   "metadata": {},
   "outputs": [
    {
     "data": {
      "text/html": [
       "<div>\n",
       "<style scoped>\n",
       "    .dataframe tbody tr th:only-of-type {\n",
       "        vertical-align: middle;\n",
       "    }\n",
       "\n",
       "    .dataframe tbody tr th {\n",
       "        vertical-align: top;\n",
       "    }\n",
       "\n",
       "    .dataframe thead th {\n",
       "        text-align: right;\n",
       "    }\n",
       "</style>\n",
       "<table border=\"1\" class=\"dataframe\">\n",
       "  <thead>\n",
       "    <tr style=\"text-align: right;\">\n",
       "      <th></th>\n",
       "      <th>UM</th>\n",
       "      <th>MU</th>\n",
       "    </tr>\n",
       "  </thead>\n",
       "  <tbody>\n",
       "    <tr>\n",
       "      <th>16082</th>\n",
       "      <td>2.015341e-11</td>\n",
       "      <td>2.778370e-22</td>\n",
       "    </tr>\n",
       "    <tr>\n",
       "      <th>16083</th>\n",
       "      <td>1.809466e-30</td>\n",
       "      <td>7.090855e-35</td>\n",
       "    </tr>\n",
       "    <tr>\n",
       "      <th>16084</th>\n",
       "      <td>9.309652e-14</td>\n",
       "      <td>1.503866e-16</td>\n",
       "    </tr>\n",
       "    <tr>\n",
       "      <th>16085</th>\n",
       "      <td>9.144186e-40</td>\n",
       "      <td>6.062040e-28</td>\n",
       "    </tr>\n",
       "    <tr>\n",
       "      <th>16086</th>\n",
       "      <td>8.960614e-28</td>\n",
       "      <td>9.753335e-29</td>\n",
       "    </tr>\n",
       "  </tbody>\n",
       "</table>\n",
       "</div>"
      ],
      "text/plain": [
       "                 UM            MU\n",
       "16082  2.015341e-11  2.778370e-22\n",
       "16083  1.809466e-30  7.090855e-35\n",
       "16084  9.309652e-14  1.503866e-16\n",
       "16085  9.144186e-40  6.062040e-28\n",
       "16086  8.960614e-28  9.753335e-29"
      ]
     },
     "execution_count": 36,
     "metadata": {},
     "output_type": "execute_result"
    }
   ],
   "source": [
    "df_diff_bumhmm_output.head()"
   ]
  },
  {
   "cell_type": "code",
   "execution_count": 37,
   "metadata": {},
   "outputs": [],
   "source": [
    "#Getting region 16082\t16098 FOR dStruct analysis\n",
    "\n",
    "df_pea_output = pd.read_csv('../../output_dStruct_Xist_new_data_reac_table.txt', sep=\"\\t\", header=0, index_col=0)"
   ]
  },
  {
   "cell_type": "code",
   "execution_count": 27,
   "metadata": {},
   "outputs": [
    {
     "data": {
      "text/html": [
       "<div>\n",
       "<style scoped>\n",
       "    .dataframe tbody tr th:only-of-type {\n",
       "        vertical-align: middle;\n",
       "    }\n",
       "\n",
       "    .dataframe tbody tr th {\n",
       "        vertical-align: top;\n",
       "    }\n",
       "\n",
       "    .dataframe thead th {\n",
       "        text-align: right;\n",
       "    }\n",
       "</style>\n",
       "<table border=\"1\" class=\"dataframe\">\n",
       "  <thead>\n",
       "    <tr style=\"text-align: right;\">\n",
       "      <th></th>\n",
       "      <th>A1</th>\n",
       "      <th>A2</th>\n",
       "      <th>B1</th>\n",
       "      <th>B2</th>\n",
       "    </tr>\n",
       "  </thead>\n",
       "  <tbody>\n",
       "    <tr>\n",
       "      <th>1</th>\n",
       "      <td>0.0</td>\n",
       "      <td>0.0</td>\n",
       "      <td>0.0</td>\n",
       "      <td>0.0</td>\n",
       "    </tr>\n",
       "    <tr>\n",
       "      <th>2</th>\n",
       "      <td>0.0</td>\n",
       "      <td>0.0</td>\n",
       "      <td>0.0</td>\n",
       "      <td>0.0</td>\n",
       "    </tr>\n",
       "    <tr>\n",
       "      <th>3</th>\n",
       "      <td>0.0</td>\n",
       "      <td>0.0</td>\n",
       "      <td>0.0</td>\n",
       "      <td>0.0</td>\n",
       "    </tr>\n",
       "    <tr>\n",
       "      <th>4</th>\n",
       "      <td>0.0</td>\n",
       "      <td>0.0</td>\n",
       "      <td>0.0</td>\n",
       "      <td>0.0</td>\n",
       "    </tr>\n",
       "    <tr>\n",
       "      <th>5</th>\n",
       "      <td>0.0</td>\n",
       "      <td>0.0</td>\n",
       "      <td>0.0</td>\n",
       "      <td>0.0</td>\n",
       "    </tr>\n",
       "  </tbody>\n",
       "</table>\n",
       "</div>"
      ],
      "text/plain": [
       "    A1   A2   B1   B2\n",
       "1  0.0  0.0  0.0  0.0\n",
       "2  0.0  0.0  0.0  0.0\n",
       "3  0.0  0.0  0.0  0.0\n",
       "4  0.0  0.0  0.0  0.0\n",
       "5  0.0  0.0  0.0  0.0"
      ]
     },
     "execution_count": 27,
     "metadata": {},
     "output_type": "execute_result"
    }
   ],
   "source": [
    "df_pea_output.head()"
   ]
  },
  {
   "cell_type": "code",
   "execution_count": 38,
   "metadata": {},
   "outputs": [],
   "source": [
    "df_pea_output = df_pea_output.loc[16082:16099][[\"A2\",\"B1\"]]"
   ]
  },
  {
   "cell_type": "markdown",
   "metadata": {},
   "source": [
    "### Merging the data:"
   ]
  },
  {
   "cell_type": "code",
   "execution_count": 134,
   "metadata": {},
   "outputs": [],
   "source": [
    "new_df = df_diff_bumhmm_output.join(df_pea_output)"
   ]
  },
  {
   "cell_type": "code",
   "execution_count": 135,
   "metadata": {},
   "outputs": [
    {
     "data": {
      "text/html": [
       "<div>\n",
       "<style scoped>\n",
       "    .dataframe tbody tr th:only-of-type {\n",
       "        vertical-align: middle;\n",
       "    }\n",
       "\n",
       "    .dataframe tbody tr th {\n",
       "        vertical-align: top;\n",
       "    }\n",
       "\n",
       "    .dataframe thead th {\n",
       "        text-align: right;\n",
       "    }\n",
       "</style>\n",
       "<table border=\"1\" class=\"dataframe\">\n",
       "  <thead>\n",
       "    <tr style=\"text-align: right;\">\n",
       "      <th></th>\n",
       "      <th>UM</th>\n",
       "      <th>MU</th>\n",
       "      <th>A2</th>\n",
       "      <th>B1</th>\n",
       "    </tr>\n",
       "  </thead>\n",
       "  <tbody>\n",
       "    <tr>\n",
       "      <th>16082</th>\n",
       "      <td>2.015341e-11</td>\n",
       "      <td>2.778370e-22</td>\n",
       "      <td>0.000000</td>\n",
       "      <td>0.104781</td>\n",
       "    </tr>\n",
       "    <tr>\n",
       "      <th>16083</th>\n",
       "      <td>1.809466e-30</td>\n",
       "      <td>7.090855e-35</td>\n",
       "      <td>1.333134</td>\n",
       "      <td>0.866639</td>\n",
       "    </tr>\n",
       "    <tr>\n",
       "      <th>16084</th>\n",
       "      <td>9.309652e-14</td>\n",
       "      <td>1.503866e-16</td>\n",
       "      <td>0.524476</td>\n",
       "      <td>0.289116</td>\n",
       "    </tr>\n",
       "    <tr>\n",
       "      <th>16085</th>\n",
       "      <td>9.144186e-40</td>\n",
       "      <td>6.062040e-28</td>\n",
       "      <td>0.000000</td>\n",
       "      <td>0.072807</td>\n",
       "    </tr>\n",
       "    <tr>\n",
       "      <th>16086</th>\n",
       "      <td>8.960614e-28</td>\n",
       "      <td>9.753335e-29</td>\n",
       "      <td>0.000000</td>\n",
       "      <td>0.181925</td>\n",
       "    </tr>\n",
       "  </tbody>\n",
       "</table>\n",
       "</div>"
      ],
      "text/plain": [
       "                 UM            MU        A2        B1\n",
       "16082  2.015341e-11  2.778370e-22  0.000000  0.104781\n",
       "16083  1.809466e-30  7.090855e-35  1.333134  0.866639\n",
       "16084  9.309652e-14  1.503866e-16  0.524476  0.289116\n",
       "16085  9.144186e-40  6.062040e-28  0.000000  0.072807\n",
       "16086  8.960614e-28  9.753335e-29  0.000000  0.181925"
      ]
     },
     "execution_count": 135,
     "metadata": {},
     "output_type": "execute_result"
    }
   ],
   "source": [
    "new_df.head()"
   ]
  },
  {
   "cell_type": "code",
   "execution_count": 136,
   "metadata": {},
   "outputs": [],
   "source": [
    "#THRESHOLDING DIFF BUM HMM OUTPUT\n",
    "#new_df['UM'] = [0 if x<0.05 else x for x in new_df['UM']]\n",
    "#new_df['MU'] = [0 if x<0.05 else x for x in new_df['MU']]"
   ]
  },
  {
   "cell_type": "code",
   "execution_count": 137,
   "metadata": {},
   "outputs": [
    {
     "data": {
      "text/html": [
       "<div>\n",
       "<style scoped>\n",
       "    .dataframe tbody tr th:only-of-type {\n",
       "        vertical-align: middle;\n",
       "    }\n",
       "\n",
       "    .dataframe tbody tr th {\n",
       "        vertical-align: top;\n",
       "    }\n",
       "\n",
       "    .dataframe thead th {\n",
       "        text-align: right;\n",
       "    }\n",
       "</style>\n",
       "<table border=\"1\" class=\"dataframe\">\n",
       "  <thead>\n",
       "    <tr style=\"text-align: right;\">\n",
       "      <th></th>\n",
       "      <th>UM</th>\n",
       "      <th>MU</th>\n",
       "      <th>A2</th>\n",
       "      <th>B1</th>\n",
       "    </tr>\n",
       "  </thead>\n",
       "  <tbody>\n",
       "    <tr>\n",
       "      <th>16082</th>\n",
       "      <td>2.015341e-11</td>\n",
       "      <td>2.778370e-22</td>\n",
       "      <td>0.000000</td>\n",
       "      <td>0.104781</td>\n",
       "    </tr>\n",
       "    <tr>\n",
       "      <th>16083</th>\n",
       "      <td>1.809466e-30</td>\n",
       "      <td>7.090855e-35</td>\n",
       "      <td>1.333134</td>\n",
       "      <td>0.866639</td>\n",
       "    </tr>\n",
       "    <tr>\n",
       "      <th>16084</th>\n",
       "      <td>9.309652e-14</td>\n",
       "      <td>1.503866e-16</td>\n",
       "      <td>0.524476</td>\n",
       "      <td>0.289116</td>\n",
       "    </tr>\n",
       "    <tr>\n",
       "      <th>16085</th>\n",
       "      <td>9.144186e-40</td>\n",
       "      <td>6.062040e-28</td>\n",
       "      <td>0.000000</td>\n",
       "      <td>0.072807</td>\n",
       "    </tr>\n",
       "    <tr>\n",
       "      <th>16086</th>\n",
       "      <td>8.960614e-28</td>\n",
       "      <td>9.753335e-29</td>\n",
       "      <td>0.000000</td>\n",
       "      <td>0.181925</td>\n",
       "    </tr>\n",
       "  </tbody>\n",
       "</table>\n",
       "</div>"
      ],
      "text/plain": [
       "                 UM            MU        A2        B1\n",
       "16082  2.015341e-11  2.778370e-22  0.000000  0.104781\n",
       "16083  1.809466e-30  7.090855e-35  1.333134  0.866639\n",
       "16084  9.309652e-14  1.503866e-16  0.524476  0.289116\n",
       "16085  9.144186e-40  6.062040e-28  0.000000  0.072807\n",
       "16086  8.960614e-28  9.753335e-29  0.000000  0.181925"
      ]
     },
     "execution_count": 137,
     "metadata": {},
     "output_type": "execute_result"
    }
   ],
   "source": [
    "new_df.head()"
   ]
  },
  {
   "cell_type": "code",
   "execution_count": 138,
   "metadata": {},
   "outputs": [],
   "source": [
    "#print(new_df.columns)\n",
    "new_df = new_df[['MU', 'UM','A2','B1']]\n",
    "#print(new_df.columns)\n",
    "\n",
    "new_df.columns = ['in cell - DIFF BUM HMM', 'ex vivo - DIFF BUM HMM','in cell - dStruct', 'ex vivo - dStruct'  ]\n",
    "#print(new_df.columns)"
   ]
  },
  {
   "cell_type": "code",
   "execution_count": 139,
   "metadata": {},
   "outputs": [
    {
     "data": {
      "text/html": [
       "<div>\n",
       "<style scoped>\n",
       "    .dataframe tbody tr th:only-of-type {\n",
       "        vertical-align: middle;\n",
       "    }\n",
       "\n",
       "    .dataframe tbody tr th {\n",
       "        vertical-align: top;\n",
       "    }\n",
       "\n",
       "    .dataframe thead th {\n",
       "        text-align: right;\n",
       "    }\n",
       "</style>\n",
       "<table border=\"1\" class=\"dataframe\">\n",
       "  <thead>\n",
       "    <tr style=\"text-align: right;\">\n",
       "      <th></th>\n",
       "      <th>in cell - DIFF BUM HMM</th>\n",
       "      <th>ex vivo - DIFF BUM HMM</th>\n",
       "      <th>in cell - dStruct</th>\n",
       "      <th>ex vivo - dStruct</th>\n",
       "    </tr>\n",
       "  </thead>\n",
       "  <tbody>\n",
       "    <tr>\n",
       "      <th>16082</th>\n",
       "      <td>2.778370e-22</td>\n",
       "      <td>2.015341e-11</td>\n",
       "      <td>0.000000</td>\n",
       "      <td>0.104781</td>\n",
       "    </tr>\n",
       "    <tr>\n",
       "      <th>16083</th>\n",
       "      <td>7.090855e-35</td>\n",
       "      <td>1.809466e-30</td>\n",
       "      <td>1.333134</td>\n",
       "      <td>0.866639</td>\n",
       "    </tr>\n",
       "    <tr>\n",
       "      <th>16084</th>\n",
       "      <td>1.503866e-16</td>\n",
       "      <td>9.309652e-14</td>\n",
       "      <td>0.524476</td>\n",
       "      <td>0.289116</td>\n",
       "    </tr>\n",
       "    <tr>\n",
       "      <th>16085</th>\n",
       "      <td>6.062040e-28</td>\n",
       "      <td>9.144186e-40</td>\n",
       "      <td>0.000000</td>\n",
       "      <td>0.072807</td>\n",
       "    </tr>\n",
       "    <tr>\n",
       "      <th>16086</th>\n",
       "      <td>9.753335e-29</td>\n",
       "      <td>8.960614e-28</td>\n",
       "      <td>0.000000</td>\n",
       "      <td>0.181925</td>\n",
       "    </tr>\n",
       "  </tbody>\n",
       "</table>\n",
       "</div>"
      ],
      "text/plain": [
       "       in cell - DIFF BUM HMM  ex vivo - DIFF BUM HMM  in cell - dStruct  \\\n",
       "16082            2.778370e-22            2.015341e-11           0.000000   \n",
       "16083            7.090855e-35            1.809466e-30           1.333134   \n",
       "16084            1.503866e-16            9.309652e-14           0.524476   \n",
       "16085            6.062040e-28            9.144186e-40           0.000000   \n",
       "16086            9.753335e-29            8.960614e-28           0.000000   \n",
       "\n",
       "       ex vivo - dStruct  \n",
       "16082           0.104781  \n",
       "16083           0.866639  \n",
       "16084           0.289116  \n",
       "16085           0.072807  \n",
       "16086           0.181925  "
      ]
     },
     "execution_count": 139,
     "metadata": {},
     "output_type": "execute_result"
    }
   ],
   "source": [
    "new_df.head()"
   ]
  },
  {
   "cell_type": "markdown",
   "metadata": {},
   "source": [
    "### Adding nucleotide sequence for each position:"
   ]
  },
  {
   "cell_type": "code",
   "execution_count": 140,
   "metadata": {},
   "outputs": [
    {
     "name": "stdout",
     "output_type": "stream",
     "text": [
      "18\n",
      "18\n"
     ]
    }
   ],
   "source": [
    "with open('../../Reference sequences/Xist.seq', 'r') as infile:\n",
    "    ref_sequence = infile.read().replace('\\n', '')\n",
    "\n",
    "subsequence = list(ref_sequence[16081:16099])\n",
    "\n",
    "print(len(subsequence))\n",
    "print(len(new_df.index))\n",
    "new_df.insert(loc=4, column='nucleotide', value=subsequence)"
   ]
  },
  {
   "cell_type": "code",
   "execution_count": 141,
   "metadata": {},
   "outputs": [],
   "source": [
    "#ref_sequence"
   ]
  },
  {
   "cell_type": "code",
   "execution_count": 142,
   "metadata": {},
   "outputs": [
    {
     "data": {
      "text/html": [
       "<div>\n",
       "<style scoped>\n",
       "    .dataframe tbody tr th:only-of-type {\n",
       "        vertical-align: middle;\n",
       "    }\n",
       "\n",
       "    .dataframe tbody tr th {\n",
       "        vertical-align: top;\n",
       "    }\n",
       "\n",
       "    .dataframe thead th {\n",
       "        text-align: right;\n",
       "    }\n",
       "</style>\n",
       "<table border=\"1\" class=\"dataframe\">\n",
       "  <thead>\n",
       "    <tr style=\"text-align: right;\">\n",
       "      <th></th>\n",
       "      <th>in cell - DIFF BUM HMM</th>\n",
       "      <th>ex vivo - DIFF BUM HMM</th>\n",
       "      <th>in cell - dStruct</th>\n",
       "      <th>ex vivo - dStruct</th>\n",
       "      <th>nucleotide</th>\n",
       "    </tr>\n",
       "  </thead>\n",
       "  <tbody>\n",
       "    <tr>\n",
       "      <th>16082</th>\n",
       "      <td>2.778370e-22</td>\n",
       "      <td>2.015341e-11</td>\n",
       "      <td>0.000000</td>\n",
       "      <td>0.104781</td>\n",
       "      <td>A</td>\n",
       "    </tr>\n",
       "    <tr>\n",
       "      <th>16083</th>\n",
       "      <td>7.090855e-35</td>\n",
       "      <td>1.809466e-30</td>\n",
       "      <td>1.333134</td>\n",
       "      <td>0.866639</td>\n",
       "      <td>A</td>\n",
       "    </tr>\n",
       "    <tr>\n",
       "      <th>16084</th>\n",
       "      <td>1.503866e-16</td>\n",
       "      <td>9.309652e-14</td>\n",
       "      <td>0.524476</td>\n",
       "      <td>0.289116</td>\n",
       "      <td>A</td>\n",
       "    </tr>\n",
       "    <tr>\n",
       "      <th>16085</th>\n",
       "      <td>6.062040e-28</td>\n",
       "      <td>9.144186e-40</td>\n",
       "      <td>0.000000</td>\n",
       "      <td>0.072807</td>\n",
       "      <td>A</td>\n",
       "    </tr>\n",
       "    <tr>\n",
       "      <th>16086</th>\n",
       "      <td>9.753335e-29</td>\n",
       "      <td>8.960614e-28</td>\n",
       "      <td>0.000000</td>\n",
       "      <td>0.181925</td>\n",
       "      <td>G</td>\n",
       "    </tr>\n",
       "  </tbody>\n",
       "</table>\n",
       "</div>"
      ],
      "text/plain": [
       "       in cell - DIFF BUM HMM  ex vivo - DIFF BUM HMM  in cell - dStruct  \\\n",
       "16082            2.778370e-22            2.015341e-11           0.000000   \n",
       "16083            7.090855e-35            1.809466e-30           1.333134   \n",
       "16084            1.503866e-16            9.309652e-14           0.524476   \n",
       "16085            6.062040e-28            9.144186e-40           0.000000   \n",
       "16086            9.753335e-29            8.960614e-28           0.000000   \n",
       "\n",
       "       ex vivo - dStruct nucleotide  \n",
       "16082           0.104781          A  \n",
       "16083           0.866639          A  \n",
       "16084           0.289116          A  \n",
       "16085           0.072807          A  \n",
       "16086           0.181925          G  "
      ]
     },
     "execution_count": 142,
     "metadata": {},
     "output_type": "execute_result"
    }
   ],
   "source": [
    "new_df.head()"
   ]
  },
  {
   "cell_type": "code",
   "execution_count": 319,
   "metadata": {},
   "outputs": [
    {
     "data": {
      "image/png": "[encoded data removed]",
      "text/plain": [
       "<Figure size 1440x720 with 2 Axes>"
      ]
     },
     "metadata": {
      "needs_background": "light"
     },
     "output_type": "display_data"
    }
   ],
   "source": [
    "fig,ax = plt.subplots(2,sharex=True,figsize=[20,10])\n",
    "nucleotides = list(new_df['nucleotide'].values)\n",
    "positions = list(new_df.index)\n",
    "\n",
    "y = list(new_df[new_df.columns[0]].values)\n",
    "z = list(-new_df[new_df.columns[1]].values)\n",
    "ax[0].bar(positions,y)\n",
    "ax[0].bar(positions,z)\n",
    "ax[0].text(max(positions)-4,0.8,\"diffBUM_HMM - more flexible in cell\",fontsize=16)\n",
    "ax[0].text(max(positions)-4,-0.8,\"diffBUM_HMM - more flexible ex vivo\",fontsize=16)\n",
    "ax[0].text(np.mean(positions)-3,1.5,'dStruct Differentially modified region',fontsize=22)\n",
    "ax[0].axhline(y=0,xmin=0.045,xmax=0.955,color='black')\n",
    "formatAxes(ax[0],\\\n",
    "           text_size=16,\\\n",
    "           yticks=list(np.arange(-1,2)),\\\n",
    "           yticklabels=list(np.arange(-1,2)),\\\n",
    "           ylabel='posterior probability')\n",
    "\n",
    "y = list(new_df[new_df.columns[2]])\n",
    "z = list(-new_df[new_df.columns[3]])\n",
    "ax[1].bar(positions,y,color='skyblue',edgecolor='black')\n",
    "ax[1].bar(positions,z,color='skyblue',edgecolor='black')\n",
    "ax[1].text(max(positions)-4,3.8,\"in cell SHAPE reactivity\",fontsize=16)\n",
    "ax[1].text(max(positions)-4,-3.8,\"ex vivo SHAPE reactivity\",fontsize=16)\n",
    "ax[1].axhline(y=0,xmin=0.045,xmax=0.955,color='black')\n",
    "formatAxes(ax[1],\\\n",
    "           text_size=16,\\\n",
    "           xticks=positions,\\\n",
    "           xticklabels=nucleotides,\\\n",
    "           yticks=list(np.arange(-5,6)),\\\n",
    "           yticklabels=list(np.arange(-5,6)),\n",
    "           ylabel='SHAPE reactivity')\n",
    "\n",
    "ax[1].tick_params(axis='x',which='major',pad=120)\n",
    "\n",
    "fig.savefig(\"diff_BUM_HMM_vs_dStruct_plot_Xist_16082_16098_threshold_0_05.pdf\",dpi=400)   "
   ]
  },
  {
   "cell_type": "code",
   "execution_count": null,
   "metadata": {},
   "outputs": [],
   "source": []
  },
  {
   "cell_type": "code",
   "execution_count": null,
   "metadata": {},
   "outputs": [],
   "source": []
  }
 ],
 "metadata": {
  "kernelspec": {
   "display_name": "Python 3",
   "language": "python",
   "name": "python3"
  },
  "language_info": {
   "codemirror_mode": {
    "name": "ipython",
    "version": 3
   },
   "file_extension": ".py",
   "mimetype": "text/x-python",
   "name": "python",
   "nbconvert_exporter": "python",
   "pygments_lexer": "ipython3",
   "version": "3.6.8"
  }
 },
 "nbformat": 4,
 "nbformat_minor": 2
}
