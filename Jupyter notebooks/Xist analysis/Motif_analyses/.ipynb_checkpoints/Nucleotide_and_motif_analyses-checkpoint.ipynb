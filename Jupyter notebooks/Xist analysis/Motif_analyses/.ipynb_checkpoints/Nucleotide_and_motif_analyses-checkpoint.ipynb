{
 "cells": [
  {
   "cell_type": "code",
   "execution_count": 1,
   "metadata": {},
   "outputs": [
    {
     "name": "stderr",
     "output_type": "stream",
     "text": [
      "\n",
      "Bad key \"text.kerning_factor\" on line 4 in\n",
      "/anaconda3/lib/python3.7/site-packages/matplotlib/mpl-data/stylelib/_classic_test_patch.mplstyle.\n",
      "You probably need to get an updated matplotlibrc file from\n",
      "http://github.com/matplotlib/matplotlib/blob/master/matplotlibrc.template\n",
      "or from the matplotlib source distribution\n"
     ]
    }
   ],
   "source": [
    "import os\n",
    "import math\n",
    "import sys\n",
    "import glob\n",
    "import pandas as pd\n",
    "import numpy as np\n",
    "import matplotlib.pyplot as plt\n",
    "import seaborn as sns\n",
    "from scipy.special import comb\n",
    "from scipy.stats import hypergeom,chisquare,fisher_exact\n",
    "from matplotlib import rcParams\n",
    "from collections import defaultdict\n",
    "from pyCRAC.Methods import sortbyvalue,contigousarray2Intervals\n",
    "\n",
    "rcParams['font.family'] = 'sans-serif'\n",
    "rcParams['font.sans-serif'] = ['Arial']\n",
    "rcParams['pdf.fonttype'] = 42\n",
    "rcParams['axes.formatter.useoffset'] = False"
   ]
  },
  {
   "cell_type": "code",
   "execution_count": 2,
   "metadata": {},
   "outputs": [],
   "source": [
    "def normalizeIntervalLength(start,end,chromosomelength,length=20):\n",
    "    \"\"\" extends or trims the interval coordinates to a set length. Default = 20 bp. \"\"\"\n",
    "    newstart = int()\n",
    "    newend = int()\n",
    "    if start - length < 0: start = 1 # to make sure that the start is always a positive number \n",
    "    if end + length > chromosomelength: end = chromosomelength # to make sure that interval doesn't go beyond the chromosome boundaries.\n",
    "    actlength  = end - start\n",
    "    difference = length - actlength\n",
    "    if difference == 0:\n",
    "        return start,end\n",
    "    else:\n",
    "        newstart = round(float(start) - float(difference)/2.0)\n",
    "        if newstart < 0: newstart = 1\n",
    "        newend = round(float(end) + float(difference)/2.0)\n",
    "        if newend > chromosomelength: newend = chromosomelength\n",
    "        return int(newstart),int(newend) # convert back to integers"
   ]
  },
  {
   "cell_type": "code",
   "execution_count": 3,
   "metadata": {},
   "outputs": [],
   "source": [
    "def calcMotifZscores(actual,random):\n",
    "    \"\"\"Calculates the Z-scores for each k-mer sequence\"\"\"\n",
    "    motif_list = list()\n",
    "    z_scores = defaultdict(float)\n",
    "    totalmotifs = len(actual)\n",
    "    actualcount = defaultdict(int)\n",
    "    for i in actual:\n",
    "        actualcount[i] += 1\n",
    "    randomcount = defaultdict(int)\n",
    "    for i in random:\n",
    "        randomcount[i] += 1\n",
    "    a = set(actual)\n",
    "    b = set(random)\n",
    "    motif_list = a | b\n",
    "    for motifs in motif_list:\n",
    "        p1 = float(actualcount[motifs]) / totalmotifs\n",
    "        p2 = float(randomcount[motifs]) / totalmotifs\n",
    "        try:\n",
    "            if p1 or p2:\n",
    "                score = math.sqrt(totalmotifs) * (p1-p2) / math.sqrt(p1*(1-p1) + p2*(1-p2))\n",
    "                z_scores[motifs] = score\n",
    "        except ValueError:\n",
    "            sys.stderr.write(\"\\nValueError! Can not calculate a Z-score for the %s motif. The number of motifs (%s) is higher than the total number of sequences (%s)\\n\" % (motifs,self.__motif_count[motifs],self.total_motif_count))\n",
    "            pass\n",
    "    return z_scores"
   ]
  },
  {
   "cell_type": "code",
   "execution_count": 4,
   "metadata": {},
   "outputs": [],
   "source": [
    "def getKmers(positions,sequence,length=4):\n",
    "    assert length % 2 == 0, \"can only process k-mers with even numbers!\"\n",
    "    k_mers = list()\n",
    "    for i in positions:\n",
    "        start = int(i-(length/2))\n",
    "        end = int(i+(length/2))\n",
    "        if start < 0:\n",
    "            start = 0 ### in case the start position is a negative value\n",
    "            end = length+1\n",
    "        k_mers.append(sequence[start:end])\n",
    "    return k_mers"
   ]
  },
  {
   "cell_type": "markdown",
   "metadata": {},
   "source": [
    "### Loading the big dataframe:"
   ]
  },
  {
   "cell_type": "code",
   "execution_count": 5,
   "metadata": {},
   "outputs": [],
   "source": [
    "data = pd.read_csv('../../../New_data_table.txt',\\\n",
    "                    sep=\"\\t\",\\\n",
    "                    header=0,\\\n",
    "                    index_col=0)"
   ]
  },
  {
   "cell_type": "markdown",
   "metadata": {},
   "source": [
    "### Masking positions not considered by deltaSHAPE:"
   ]
  },
  {
   "cell_type": "code",
   "execution_count": 6,
   "metadata": {},
   "outputs": [
    {
     "name": "stdout",
     "output_type": "stream",
     "text": [
      "2517\n"
     ]
    }
   ],
   "source": [
    "positionstomask = data[(data[\"SHAPE_reactivity_ex_vivo_1\"] < -900) | \n",
    "                       (data[\"SHAPE_reactivity_ex_vivo_2\"] < -900) |\n",
    "                       (data[\"SHAPE_reactivity_in_cell_1\"] < -900) | \n",
    "                       (data[\"SHAPE_reactivity_in_cell_2\"] < -900)].index\n",
    "print(len(positionstomask))\n",
    "data.loc[positionstomask,data.columns[11:]] = np.nan"
   ]
  },
  {
   "cell_type": "code",
   "execution_count": 7,
   "metadata": {},
   "outputs": [
    {
     "data": {
      "text/plain": [
       "Index(['nucleotide', 'CELF1', 'FUS', 'HuR', 'PTBP1', 'RBFOX2', 'TARDBP',\n",
       "       'SHAPE_reactivity_ex_vivo_1', 'SHAPE_reactivity_ex_vivo_2',\n",
       "       'SHAPE_reactivity_in_cell_1', 'SHAPE_reactivity_in_cell_2',\n",
       "       'deltaSHAPE_rep1', 'deltaSHAPE_rep2', 'dStruct', 'dStruct_scaled',\n",
       "       'unmodified', 'ex_vivo', 'in_vivo', 'both', 'scaled_unmodified',\n",
       "       'scaled_ex_vivo', 'scaled_in_vivo', 'scaled_both'],\n",
       "      dtype='object')"
      ]
     },
     "execution_count": 7,
     "metadata": {},
     "output_type": "execute_result"
    }
   ],
   "source": [
    "data.columns"
   ]
  },
  {
   "cell_type": "code",
   "execution_count": 8,
   "metadata": {},
   "outputs": [
    {
     "data": {
      "text/html": [
       "<div>\n",
       "<style scoped>\n",
       "    .dataframe tbody tr th:only-of-type {\n",
       "        vertical-align: middle;\n",
       "    }\n",
       "\n",
       "    .dataframe tbody tr th {\n",
       "        vertical-align: top;\n",
       "    }\n",
       "\n",
       "    .dataframe thead th {\n",
       "        text-align: right;\n",
       "    }\n",
       "</style>\n",
       "<table border=\"1\" class=\"dataframe\">\n",
       "  <thead>\n",
       "    <tr style=\"text-align: right;\">\n",
       "      <th></th>\n",
       "      <th>nucleotide</th>\n",
       "      <th>CELF1</th>\n",
       "      <th>FUS</th>\n",
       "      <th>HuR</th>\n",
       "      <th>PTBP1</th>\n",
       "      <th>RBFOX2</th>\n",
       "      <th>TARDBP</th>\n",
       "      <th>SHAPE_reactivity_ex_vivo_1</th>\n",
       "      <th>SHAPE_reactivity_ex_vivo_2</th>\n",
       "      <th>SHAPE_reactivity_in_cell_1</th>\n",
       "      <th>...</th>\n",
       "      <th>dStruct</th>\n",
       "      <th>dStruct_scaled</th>\n",
       "      <th>unmodified</th>\n",
       "      <th>ex_vivo</th>\n",
       "      <th>in_vivo</th>\n",
       "      <th>both</th>\n",
       "      <th>scaled_unmodified</th>\n",
       "      <th>scaled_ex_vivo</th>\n",
       "      <th>scaled_in_vivo</th>\n",
       "      <th>scaled_both</th>\n",
       "    </tr>\n",
       "  </thead>\n",
       "  <tbody>\n",
       "    <tr>\n",
       "      <td>1</td>\n",
       "      <td>C</td>\n",
       "      <td>0</td>\n",
       "      <td>0</td>\n",
       "      <td>0</td>\n",
       "      <td>0</td>\n",
       "      <td>0</td>\n",
       "      <td>0</td>\n",
       "      <td>-999.0</td>\n",
       "      <td>-999.0</td>\n",
       "      <td>-999.0</td>\n",
       "      <td>...</td>\n",
       "      <td>NaN</td>\n",
       "      <td>NaN</td>\n",
       "      <td>NaN</td>\n",
       "      <td>NaN</td>\n",
       "      <td>NaN</td>\n",
       "      <td>NaN</td>\n",
       "      <td>NaN</td>\n",
       "      <td>NaN</td>\n",
       "      <td>NaN</td>\n",
       "      <td>NaN</td>\n",
       "    </tr>\n",
       "    <tr>\n",
       "      <td>2</td>\n",
       "      <td>G</td>\n",
       "      <td>0</td>\n",
       "      <td>0</td>\n",
       "      <td>0</td>\n",
       "      <td>0</td>\n",
       "      <td>0</td>\n",
       "      <td>0</td>\n",
       "      <td>-999.0</td>\n",
       "      <td>-999.0</td>\n",
       "      <td>-999.0</td>\n",
       "      <td>...</td>\n",
       "      <td>NaN</td>\n",
       "      <td>NaN</td>\n",
       "      <td>NaN</td>\n",
       "      <td>NaN</td>\n",
       "      <td>NaN</td>\n",
       "      <td>NaN</td>\n",
       "      <td>NaN</td>\n",
       "      <td>NaN</td>\n",
       "      <td>NaN</td>\n",
       "      <td>NaN</td>\n",
       "    </tr>\n",
       "    <tr>\n",
       "      <td>3</td>\n",
       "      <td>G</td>\n",
       "      <td>0</td>\n",
       "      <td>0</td>\n",
       "      <td>0</td>\n",
       "      <td>0</td>\n",
       "      <td>0</td>\n",
       "      <td>0</td>\n",
       "      <td>-999.0</td>\n",
       "      <td>-999.0</td>\n",
       "      <td>-999.0</td>\n",
       "      <td>...</td>\n",
       "      <td>NaN</td>\n",
       "      <td>NaN</td>\n",
       "      <td>NaN</td>\n",
       "      <td>NaN</td>\n",
       "      <td>NaN</td>\n",
       "      <td>NaN</td>\n",
       "      <td>NaN</td>\n",
       "      <td>NaN</td>\n",
       "      <td>NaN</td>\n",
       "      <td>NaN</td>\n",
       "    </tr>\n",
       "    <tr>\n",
       "      <td>4</td>\n",
       "      <td>C</td>\n",
       "      <td>0</td>\n",
       "      <td>0</td>\n",
       "      <td>0</td>\n",
       "      <td>0</td>\n",
       "      <td>0</td>\n",
       "      <td>0</td>\n",
       "      <td>-999.0</td>\n",
       "      <td>-999.0</td>\n",
       "      <td>-999.0</td>\n",
       "      <td>...</td>\n",
       "      <td>NaN</td>\n",
       "      <td>NaN</td>\n",
       "      <td>NaN</td>\n",
       "      <td>NaN</td>\n",
       "      <td>NaN</td>\n",
       "      <td>NaN</td>\n",
       "      <td>NaN</td>\n",
       "      <td>NaN</td>\n",
       "      <td>NaN</td>\n",
       "      <td>NaN</td>\n",
       "    </tr>\n",
       "    <tr>\n",
       "      <td>5</td>\n",
       "      <td>T</td>\n",
       "      <td>0</td>\n",
       "      <td>0</td>\n",
       "      <td>0</td>\n",
       "      <td>0</td>\n",
       "      <td>0</td>\n",
       "      <td>0</td>\n",
       "      <td>-999.0</td>\n",
       "      <td>-999.0</td>\n",
       "      <td>-999.0</td>\n",
       "      <td>...</td>\n",
       "      <td>NaN</td>\n",
       "      <td>NaN</td>\n",
       "      <td>NaN</td>\n",
       "      <td>NaN</td>\n",
       "      <td>NaN</td>\n",
       "      <td>NaN</td>\n",
       "      <td>NaN</td>\n",
       "      <td>NaN</td>\n",
       "      <td>NaN</td>\n",
       "      <td>NaN</td>\n",
       "    </tr>\n",
       "  </tbody>\n",
       "</table>\n",
       "<p>5 rows × 23 columns</p>\n",
       "</div>"
      ],
      "text/plain": [
       "  nucleotide  CELF1  FUS  HuR  PTBP1  RBFOX2  TARDBP  \\\n",
       "1          C      0    0    0      0       0       0   \n",
       "2          G      0    0    0      0       0       0   \n",
       "3          G      0    0    0      0       0       0   \n",
       "4          C      0    0    0      0       0       0   \n",
       "5          T      0    0    0      0       0       0   \n",
       "\n",
       "   SHAPE_reactivity_ex_vivo_1  SHAPE_reactivity_ex_vivo_2  \\\n",
       "1                      -999.0                      -999.0   \n",
       "2                      -999.0                      -999.0   \n",
       "3                      -999.0                      -999.0   \n",
       "4                      -999.0                      -999.0   \n",
       "5                      -999.0                      -999.0   \n",
       "\n",
       "   SHAPE_reactivity_in_cell_1  ...  dStruct  dStruct_scaled  unmodified  \\\n",
       "1                      -999.0  ...      NaN             NaN         NaN   \n",
       "2                      -999.0  ...      NaN             NaN         NaN   \n",
       "3                      -999.0  ...      NaN             NaN         NaN   \n",
       "4                      -999.0  ...      NaN             NaN         NaN   \n",
       "5                      -999.0  ...      NaN             NaN         NaN   \n",
       "\n",
       "   ex_vivo  in_vivo  both  scaled_unmodified  scaled_ex_vivo  scaled_in_vivo  \\\n",
       "1      NaN      NaN   NaN                NaN             NaN             NaN   \n",
       "2      NaN      NaN   NaN                NaN             NaN             NaN   \n",
       "3      NaN      NaN   NaN                NaN             NaN             NaN   \n",
       "4      NaN      NaN   NaN                NaN             NaN             NaN   \n",
       "5      NaN      NaN   NaN                NaN             NaN             NaN   \n",
       "\n",
       "   scaled_both  \n",
       "1          NaN  \n",
       "2          NaN  \n",
       "3          NaN  \n",
       "4          NaN  \n",
       "5          NaN  \n",
       "\n",
       "[5 rows x 23 columns]"
      ]
     },
     "execution_count": 8,
     "metadata": {},
     "output_type": "execute_result"
    }
   ],
   "source": [
    "data.head()"
   ]
  },
  {
   "cell_type": "markdown",
   "metadata": {},
   "source": [
    "### Checking what nucleotides were found to be modified in the ex_vivo and in_vivo data:"
   ]
  },
  {
   "cell_type": "code",
   "execution_count": 9,
   "metadata": {},
   "outputs": [],
   "source": [
    "samples  = ['Xist_sequence','diffBUM_HMM_ex_vivo_norm','diffBUM_HMM_ex_vivo','diffBUM_HMM_in_vivo_norm','diffBUM_HMM_in_vivo',\n",
    "            'diffBUM_HMM_ex_vivo_norm_unique','diffBUM_HMM_ex_vivo_unique',\n",
    "            'diffBUM_HMM_in_vivo_norm_unique','diffBUM_HMM_in_vivo_unique',\n",
    "            'deltaSHAPE_ex_vivo_1','deltaSHAPE_ex_vivo_2','deltaSHAPE_in_vivo_1','deltaSHAPE_in_vivo_2']\n",
    "nucleotides = [\"A\",\"T\",\"C\",\"G\"]"
   ]
  },
  {
   "cell_type": "code",
   "execution_count": 10,
   "metadata": {},
   "outputs": [],
   "source": [
    "modinfo = pd.DataFrame(0,index=nucleotides,columns=samples)"
   ]
  },
  {
   "cell_type": "code",
   "execution_count": 11,
   "metadata": {},
   "outputs": [
    {
     "data": {
      "text/plain": [
       "Index(['Xist_sequence', 'diffBUM_HMM_ex_vivo_norm', 'diffBUM_HMM_ex_vivo',\n",
       "       'diffBUM_HMM_in_vivo_norm', 'diffBUM_HMM_in_vivo',\n",
       "       'diffBUM_HMM_ex_vivo_norm_unique', 'diffBUM_HMM_ex_vivo_unique',\n",
       "       'diffBUM_HMM_in_vivo_norm_unique', 'diffBUM_HMM_in_vivo_unique',\n",
       "       'deltaSHAPE_ex_vivo_1', 'deltaSHAPE_ex_vivo_2', 'deltaSHAPE_in_vivo_1',\n",
       "       'deltaSHAPE_in_vivo_2'],\n",
       "      dtype='object')"
      ]
     },
     "execution_count": 11,
     "metadata": {},
     "output_type": "execute_result"
    }
   ],
   "source": [
    "modinfo.columns"
   ]
  },
  {
   "cell_type": "markdown",
   "metadata": {},
   "source": [
    "### Xist sequence:"
   ]
  },
  {
   "cell_type": "code",
   "execution_count": 12,
   "metadata": {},
   "outputs": [],
   "source": [
    "for i in data.nucleotide:\n",
    "    modinfo.loc[i,'Xist_sequence'] += 1 "
   ]
  },
  {
   "cell_type": "markdown",
   "metadata": {},
   "source": [
    "### diffBUM_HMM:"
   ]
  },
  {
   "cell_type": "code",
   "execution_count": 13,
   "metadata": {},
   "outputs": [],
   "source": [
    "threshold = 0.95"
   ]
  },
  {
   "cell_type": "code",
   "execution_count": 14,
   "metadata": {},
   "outputs": [],
   "source": [
    "in_vivo = data[data.in_vivo >= threshold][\"nucleotide\"].values\n",
    "ex_vivo = data[data.ex_vivo >= threshold][\"nucleotide\"].values\n",
    "in_vivo_scaled = data[data.scaled_in_vivo >= threshold][\"nucleotide\"].values\n",
    "ex_vivo_scaled = data[data.scaled_ex_vivo >= threshold][\"nucleotide\"].values"
   ]
  },
  {
   "cell_type": "code",
   "execution_count": 15,
   "metadata": {},
   "outputs": [],
   "source": [
    "for nuc in in_vivo:\n",
    "    modinfo.loc[nuc,\"diffBUM_HMM_in_vivo\"] += 1\n",
    "for nuc in in_vivo_scaled:\n",
    "    modinfo.loc[nuc,\"diffBUM_HMM_in_vivo_norm\"] += 1\n",
    "for nuc in ex_vivo:\n",
    "    modinfo.loc[nuc,\"diffBUM_HMM_ex_vivo\"] += 1\n",
    "for nuc in ex_vivo_scaled:\n",
    "    modinfo.loc[nuc,\"diffBUM_HMM_ex_vivo_norm\"] += 1"
   ]
  },
  {
   "cell_type": "markdown",
   "metadata": {},
   "source": [
    "### diffBUM_HMM unique:"
   ]
  },
  {
   "cell_type": "code",
   "execution_count": 16,
   "metadata": {},
   "outputs": [],
   "source": [
    "in_vivo_unique = data[(data.deltaSHAPE_rep1 == 0) & (data.deltaSHAPE_rep2 == 0) & \\\n",
    "                      (data.in_vivo >= threshold)][\"nucleotide\"].values\n",
    "ex_vivo_unique = data[(data.deltaSHAPE_rep1 == 0) & (data.deltaSHAPE_rep2 == 0) & \\\n",
    "                      (data.ex_vivo >= threshold)][\"nucleotide\"].values\n",
    "in_vivo_scaled_unique = data[(data.deltaSHAPE_rep1 == 0) & (data.deltaSHAPE_rep2 == 0) & \\\n",
    "                             (data.scaled_in_vivo >= threshold)][\"nucleotide\"].values\n",
    "ex_vivo_scaled_unique = data[(data.deltaSHAPE_rep1 == 0) & (data.deltaSHAPE_rep2 == 0) & \\\n",
    "                             (data.scaled_ex_vivo >= threshold)][\"nucleotide\"].values"
   ]
  },
  {
   "cell_type": "code",
   "execution_count": 17,
   "metadata": {},
   "outputs": [],
   "source": [
    "for nuc in in_vivo_unique:\n",
    "    modinfo.loc[nuc,\"diffBUM_HMM_in_vivo_unique\"] += 1\n",
    "for nuc in in_vivo_scaled_unique:\n",
    "    modinfo.loc[nuc,\"diffBUM_HMM_in_vivo_norm_unique\"] += 1\n",
    "for nuc in ex_vivo_unique:\n",
    "    modinfo.loc[nuc,\"diffBUM_HMM_ex_vivo_unique\"] += 1\n",
    "for nuc in ex_vivo_scaled_unique:\n",
    "    modinfo.loc[nuc,\"diffBUM_HMM_ex_vivo_norm_unique\"] += 1"
   ]
  },
  {
   "cell_type": "markdown",
   "metadata": {},
   "source": [
    "### Now deltaSHAPE data:"
   ]
  },
  {
   "cell_type": "code",
   "execution_count": 18,
   "metadata": {},
   "outputs": [],
   "source": [
    "in_vivo_1 = data[data.deltaSHAPE_rep1 > 0][\"nucleotide\"].values\n",
    "ex_vivo_1 = data[data.deltaSHAPE_rep1 < 0][\"nucleotide\"].values\n",
    "in_vivo_2 = data[data.deltaSHAPE_rep2 > 0][\"nucleotide\"].values\n",
    "ex_vivo_2 = data[data.deltaSHAPE_rep2 < 0][\"nucleotide\"].values"
   ]
  },
  {
   "cell_type": "code",
   "execution_count": 19,
   "metadata": {},
   "outputs": [],
   "source": [
    "for nuc in in_vivo_1:\n",
    "    modinfo.loc[nuc,\"deltaSHAPE_in_vivo_1\"] += 1\n",
    "for nuc in in_vivo_2:\n",
    "    modinfo.loc[nuc,\"deltaSHAPE_in_vivo_2\"] += 1\n",
    "for nuc in ex_vivo_1:\n",
    "    modinfo.loc[nuc,\"deltaSHAPE_ex_vivo_1\"] += 1\n",
    "for nuc in ex_vivo_2:\n",
    "    modinfo.loc[nuc,\"deltaSHAPE_ex_vivo_2\"] += 1"
   ]
  },
  {
   "cell_type": "code",
   "execution_count": 20,
   "metadata": {},
   "outputs": [
    {
     "data": {
      "text/html": [
       "<div>\n",
       "<style scoped>\n",
       "    .dataframe tbody tr th:only-of-type {\n",
       "        vertical-align: middle;\n",
       "    }\n",
       "\n",
       "    .dataframe tbody tr th {\n",
       "        vertical-align: top;\n",
       "    }\n",
       "\n",
       "    .dataframe thead th {\n",
       "        text-align: right;\n",
       "    }\n",
       "</style>\n",
       "<table border=\"1\" class=\"dataframe\">\n",
       "  <thead>\n",
       "    <tr style=\"text-align: right;\">\n",
       "      <th></th>\n",
       "      <th>Xist_sequence</th>\n",
       "      <th>diffBUM_HMM_ex_vivo_norm</th>\n",
       "      <th>diffBUM_HMM_ex_vivo</th>\n",
       "      <th>diffBUM_HMM_in_vivo_norm</th>\n",
       "      <th>diffBUM_HMM_in_vivo</th>\n",
       "      <th>diffBUM_HMM_ex_vivo_norm_unique</th>\n",
       "      <th>diffBUM_HMM_ex_vivo_unique</th>\n",
       "      <th>diffBUM_HMM_in_vivo_norm_unique</th>\n",
       "      <th>diffBUM_HMM_in_vivo_unique</th>\n",
       "      <th>deltaSHAPE_ex_vivo_1</th>\n",
       "      <th>deltaSHAPE_ex_vivo_2</th>\n",
       "      <th>deltaSHAPE_in_vivo_1</th>\n",
       "      <th>deltaSHAPE_in_vivo_2</th>\n",
       "    </tr>\n",
       "  </thead>\n",
       "  <tbody>\n",
       "    <tr>\n",
       "      <td>A</td>\n",
       "      <td>4748</td>\n",
       "      <td>576</td>\n",
       "      <td>420</td>\n",
       "      <td>117</td>\n",
       "      <td>91</td>\n",
       "      <td>501</td>\n",
       "      <td>370</td>\n",
       "      <td>94</td>\n",
       "      <td>72</td>\n",
       "      <td>117</td>\n",
       "      <td>184</td>\n",
       "      <td>95</td>\n",
       "      <td>122</td>\n",
       "    </tr>\n",
       "    <tr>\n",
       "      <td>T</td>\n",
       "      <td>5746</td>\n",
       "      <td>709</td>\n",
       "      <td>478</td>\n",
       "      <td>42</td>\n",
       "      <td>33</td>\n",
       "      <td>597</td>\n",
       "      <td>400</td>\n",
       "      <td>32</td>\n",
       "      <td>26</td>\n",
       "      <td>112</td>\n",
       "      <td>123</td>\n",
       "      <td>214</td>\n",
       "      <td>208</td>\n",
       "    </tr>\n",
       "    <tr>\n",
       "      <td>C</td>\n",
       "      <td>3875</td>\n",
       "      <td>244</td>\n",
       "      <td>137</td>\n",
       "      <td>10</td>\n",
       "      <td>6</td>\n",
       "      <td>200</td>\n",
       "      <td>110</td>\n",
       "      <td>7</td>\n",
       "      <td>4</td>\n",
       "      <td>59</td>\n",
       "      <td>65</td>\n",
       "      <td>94</td>\n",
       "      <td>128</td>\n",
       "    </tr>\n",
       "    <tr>\n",
       "      <td>G</td>\n",
       "      <td>3549</td>\n",
       "      <td>210</td>\n",
       "      <td>129</td>\n",
       "      <td>19</td>\n",
       "      <td>12</td>\n",
       "      <td>180</td>\n",
       "      <td>118</td>\n",
       "      <td>17</td>\n",
       "      <td>10</td>\n",
       "      <td>49</td>\n",
       "      <td>56</td>\n",
       "      <td>57</td>\n",
       "      <td>52</td>\n",
       "    </tr>\n",
       "  </tbody>\n",
       "</table>\n",
       "</div>"
      ],
      "text/plain": [
       "   Xist_sequence  diffBUM_HMM_ex_vivo_norm  diffBUM_HMM_ex_vivo  \\\n",
       "A           4748                       576                  420   \n",
       "T           5746                       709                  478   \n",
       "C           3875                       244                  137   \n",
       "G           3549                       210                  129   \n",
       "\n",
       "   diffBUM_HMM_in_vivo_norm  diffBUM_HMM_in_vivo  \\\n",
       "A                       117                   91   \n",
       "T                        42                   33   \n",
       "C                        10                    6   \n",
       "G                        19                   12   \n",
       "\n",
       "   diffBUM_HMM_ex_vivo_norm_unique  diffBUM_HMM_ex_vivo_unique  \\\n",
       "A                              501                         370   \n",
       "T                              597                         400   \n",
       "C                              200                         110   \n",
       "G                              180                         118   \n",
       "\n",
       "   diffBUM_HMM_in_vivo_norm_unique  diffBUM_HMM_in_vivo_unique  \\\n",
       "A                               94                          72   \n",
       "T                               32                          26   \n",
       "C                                7                           4   \n",
       "G                               17                          10   \n",
       "\n",
       "   deltaSHAPE_ex_vivo_1  deltaSHAPE_ex_vivo_2  deltaSHAPE_in_vivo_1  \\\n",
       "A                   117                   184                    95   \n",
       "T                   112                   123                   214   \n",
       "C                    59                    65                    94   \n",
       "G                    49                    56                    57   \n",
       "\n",
       "   deltaSHAPE_in_vivo_2  \n",
       "A                   122  \n",
       "T                   208  \n",
       "C                   128  \n",
       "G                    52  "
      ]
     },
     "execution_count": 20,
     "metadata": {},
     "output_type": "execute_result"
    }
   ],
   "source": [
    "modinfo"
   ]
  },
  {
   "cell_type": "markdown",
   "metadata": {},
   "source": [
    "### Now correct for total number of modifications:"
   ]
  },
  {
   "cell_type": "code",
   "execution_count": 21,
   "metadata": {},
   "outputs": [],
   "source": [
    "modinfonorm = modinfo.div(modinfo.sum(axis=0), axis=1)"
   ]
  },
  {
   "cell_type": "markdown",
   "metadata": {},
   "source": [
    "### Now check if there is a statistical significant difference between the nucleotide frequencies in each dataset using a chi-square test:"
   ]
  },
  {
   "cell_type": "code",
   "execution_count": 22,
   "metadata": {},
   "outputs": [
    {
     "data": {
      "text/html": [
       "<div>\n",
       "<style scoped>\n",
       "    .dataframe tbody tr th:only-of-type {\n",
       "        vertical-align: middle;\n",
       "    }\n",
       "\n",
       "    .dataframe tbody tr th {\n",
       "        vertical-align: top;\n",
       "    }\n",
       "\n",
       "    .dataframe thead th {\n",
       "        text-align: right;\n",
       "    }\n",
       "</style>\n",
       "<table border=\"1\" class=\"dataframe\">\n",
       "  <thead>\n",
       "    <tr style=\"text-align: right;\">\n",
       "      <th></th>\n",
       "      <th>Xist_sequence</th>\n",
       "      <th>diffBUM_HMM_ex_vivo_norm</th>\n",
       "      <th>diffBUM_HMM_ex_vivo</th>\n",
       "      <th>diffBUM_HMM_in_vivo_norm</th>\n",
       "      <th>diffBUM_HMM_in_vivo</th>\n",
       "      <th>diffBUM_HMM_ex_vivo_norm_unique</th>\n",
       "      <th>diffBUM_HMM_ex_vivo_unique</th>\n",
       "      <th>diffBUM_HMM_in_vivo_norm_unique</th>\n",
       "      <th>diffBUM_HMM_in_vivo_unique</th>\n",
       "      <th>deltaSHAPE_ex_vivo_1</th>\n",
       "      <th>deltaSHAPE_ex_vivo_2</th>\n",
       "      <th>deltaSHAPE_in_vivo_1</th>\n",
       "      <th>deltaSHAPE_in_vivo_2</th>\n",
       "    </tr>\n",
       "  </thead>\n",
       "  <tbody>\n",
       "    <tr>\n",
       "      <td>A</td>\n",
       "      <td>0.264985</td>\n",
       "      <td>0.331225</td>\n",
       "      <td>0.360825</td>\n",
       "      <td>0.622340</td>\n",
       "      <td>0.640845</td>\n",
       "      <td>0.338972</td>\n",
       "      <td>0.370741</td>\n",
       "      <td>0.626667</td>\n",
       "      <td>0.642857</td>\n",
       "      <td>0.347181</td>\n",
       "      <td>0.429907</td>\n",
       "      <td>0.206522</td>\n",
       "      <td>0.239216</td>\n",
       "    </tr>\n",
       "    <tr>\n",
       "      <td>T</td>\n",
       "      <td>0.320683</td>\n",
       "      <td>0.407706</td>\n",
       "      <td>0.410653</td>\n",
       "      <td>0.223404</td>\n",
       "      <td>0.232394</td>\n",
       "      <td>0.403924</td>\n",
       "      <td>0.400802</td>\n",
       "      <td>0.213333</td>\n",
       "      <td>0.232143</td>\n",
       "      <td>0.332344</td>\n",
       "      <td>0.287383</td>\n",
       "      <td>0.465217</td>\n",
       "      <td>0.407843</td>\n",
       "    </tr>\n",
       "    <tr>\n",
       "      <td>C</td>\n",
       "      <td>0.216263</td>\n",
       "      <td>0.140311</td>\n",
       "      <td>0.117698</td>\n",
       "      <td>0.053191</td>\n",
       "      <td>0.042254</td>\n",
       "      <td>0.135318</td>\n",
       "      <td>0.110220</td>\n",
       "      <td>0.046667</td>\n",
       "      <td>0.035714</td>\n",
       "      <td>0.175074</td>\n",
       "      <td>0.151869</td>\n",
       "      <td>0.204348</td>\n",
       "      <td>0.250980</td>\n",
       "    </tr>\n",
       "    <tr>\n",
       "      <td>G</td>\n",
       "      <td>0.198069</td>\n",
       "      <td>0.120759</td>\n",
       "      <td>0.110825</td>\n",
       "      <td>0.101064</td>\n",
       "      <td>0.084507</td>\n",
       "      <td>0.121786</td>\n",
       "      <td>0.118236</td>\n",
       "      <td>0.113333</td>\n",
       "      <td>0.089286</td>\n",
       "      <td>0.145401</td>\n",
       "      <td>0.130841</td>\n",
       "      <td>0.123913</td>\n",
       "      <td>0.101961</td>\n",
       "    </tr>\n",
       "  </tbody>\n",
       "</table>\n",
       "</div>"
      ],
      "text/plain": [
       "   Xist_sequence  diffBUM_HMM_ex_vivo_norm  diffBUM_HMM_ex_vivo  \\\n",
       "A       0.264985                  0.331225             0.360825   \n",
       "T       0.320683                  0.407706             0.410653   \n",
       "C       0.216263                  0.140311             0.117698   \n",
       "G       0.198069                  0.120759             0.110825   \n",
       "\n",
       "   diffBUM_HMM_in_vivo_norm  diffBUM_HMM_in_vivo  \\\n",
       "A                  0.622340             0.640845   \n",
       "T                  0.223404             0.232394   \n",
       "C                  0.053191             0.042254   \n",
       "G                  0.101064             0.084507   \n",
       "\n",
       "   diffBUM_HMM_ex_vivo_norm_unique  diffBUM_HMM_ex_vivo_unique  \\\n",
       "A                         0.338972                    0.370741   \n",
       "T                         0.403924                    0.400802   \n",
       "C                         0.135318                    0.110220   \n",
       "G                         0.121786                    0.118236   \n",
       "\n",
       "   diffBUM_HMM_in_vivo_norm_unique  diffBUM_HMM_in_vivo_unique  \\\n",
       "A                         0.626667                    0.642857   \n",
       "T                         0.213333                    0.232143   \n",
       "C                         0.046667                    0.035714   \n",
       "G                         0.113333                    0.089286   \n",
       "\n",
       "   deltaSHAPE_ex_vivo_1  deltaSHAPE_ex_vivo_2  deltaSHAPE_in_vivo_1  \\\n",
       "A              0.347181              0.429907              0.206522   \n",
       "T              0.332344              0.287383              0.465217   \n",
       "C              0.175074              0.151869              0.204348   \n",
       "G              0.145401              0.130841              0.123913   \n",
       "\n",
       "   deltaSHAPE_in_vivo_2  \n",
       "A              0.239216  \n",
       "T              0.407843  \n",
       "C              0.250980  \n",
       "G              0.101961  "
      ]
     },
     "execution_count": 22,
     "metadata": {},
     "output_type": "execute_result"
    }
   ],
   "source": [
    "modinfonorm.head()"
   ]
  },
  {
   "cell_type": "code",
   "execution_count": 23,
   "metadata": {},
   "outputs": [
    {
     "name": "stdout",
     "output_type": "stream",
     "text": [
      "diffBUM_HMM_ex_vivo_norm:\t0.9921921939576517\n",
      "diffBUM_HMM_ex_vivo:\t0.9861833528301358\n",
      "diffBUM_HMM_in_vivo_norm:\t0.8774512930475329\n",
      "diffBUM_HMM_in_vivo:\t0.8584003893945844\n",
      "diffBUM_HMM_ex_vivo_norm_unique:\t0.9916034877939462\n",
      "diffBUM_HMM_ex_vivo_unique:\t0.9857397075770127\n",
      "diffBUM_HMM_in_vivo_norm_unique:\t0.8734742568696059\n",
      "diffBUM_HMM_in_vivo_unique:\t0.8557288380621534\n",
      "deltaSHAPE_ex_vivo_1:\t0.99726258943411\n",
      "deltaSHAPE_ex_vivo_2:\t0.9854985448954785\n",
      "deltaSHAPE_in_vivo_1:\t0.9910509186704817\n",
      "deltaSHAPE_in_vivo_2:\t0.9942966910237633\n"
     ]
    }
   ],
   "source": [
    "for i in modinfonorm.columns[1:]:\n",
    "    f_exp = modinfonorm['Xist_sequence'].values\n",
    "    f_obs = modinfonorm[i].values\n",
    "    #print(f_exp,f_obs)\n",
    "    p_value = chisquare(f_obs,f_exp)[1]\n",
    "    print(\"%s:\\t%s\" % (i,p_value))"
   ]
  },
  {
   "cell_type": "markdown",
   "metadata": {},
   "source": [
    "### So the difference is not statistically significant"
   ]
  },
  {
   "cell_type": "code",
   "execution_count": null,
   "metadata": {},
   "outputs": [],
   "source": []
  },
  {
   "cell_type": "markdown",
   "metadata": {},
   "source": [
    "### Now making the heatmap:"
   ]
  },
  {
   "cell_type": "code",
   "execution_count": 24,
   "metadata": {},
   "outputs": [
    {
     "data": {
      "image/png": "[encoded data removed]",
      "text/plain": [
       "<Figure size 648x252 with 2 Axes>"
      ]
     },
     "metadata": {
      "needs_background": "light"
     },
     "output_type": "display_data"
    }
   ],
   "source": [
    "fig,ax = plt.subplots(figsize=[9,3.5])\n",
    "ax = sns.heatmap(modinfonorm,\\\n",
    "            cmap='Blues',\\\n",
    "            linewidths=.5,\\\n",
    "            annot=True)\n",
    "ax.set_yticklabels(modinfonorm.index,rotation=0,fontsize=14)\n",
    "\n",
    "fig.savefig(\"Nucleotide_counts.pdf\",dpi=400)"
   ]
  },
  {
   "cell_type": "code",
   "execution_count": 25,
   "metadata": {
    "scrolled": false
   },
   "outputs": [
    {
     "data": {
      "image/png": "[encoded data removed]",
      "text/plain": [
       "<Figure size 360x2520 with 13 Axes>"
      ]
     },
     "metadata": {
      "needs_background": "light"
     },
     "output_type": "display_data"
    }
   ],
   "source": [
    "numberofplots = len(modinfonorm.columns)\n",
    "fig,ax = plt.subplots(numberofplots,sharex=True,sharey=True,figsize=[5,35])\n",
    "for i in range(numberofplots):\n",
    "    sns.barplot(data=modinfonorm,x=modinfo.index,y=modinfonorm.columns[i],ax=ax[i])"
   ]
  },
  {
   "cell_type": "markdown",
   "metadata": {},
   "source": [
    "### Clearly A's and T's are highly enriched in the diffBUM-HMM data."
   ]
  },
  {
   "cell_type": "markdown",
   "metadata": {},
   "source": [
    "### Now doing Motif analyses:\n",
    "Make files for 4, 6 and 8-mers"
   ]
  },
  {
   "cell_type": "code",
   "execution_count": 26,
   "metadata": {},
   "outputs": [],
   "source": [
    "sequence = \"\".join(data.nucleotide.values)"
   ]
  },
  {
   "cell_type": "code",
   "execution_count": 27,
   "metadata": {},
   "outputs": [
    {
     "data": {
      "text/plain": [
       "'CGGCTTGCTCCAGCCATGTT'"
      ]
     },
     "execution_count": 27,
     "metadata": {},
     "output_type": "execute_result"
    }
   ],
   "source": [
    "sequence[:20]"
   ]
  },
  {
   "cell_type": "code",
   "execution_count": 28,
   "metadata": {},
   "outputs": [],
   "source": [
    "chromosomelength = len(sequence)"
   ]
  },
  {
   "cell_type": "code",
   "execution_count": 29,
   "metadata": {},
   "outputs": [
    {
     "data": {
      "text/plain": [
       "17918"
      ]
     },
     "execution_count": 29,
     "metadata": {},
     "output_type": "execute_result"
    }
   ],
   "source": [
    "chromosomelength"
   ]
  },
  {
   "cell_type": "markdown",
   "metadata": {},
   "source": [
    "### Motif analyses for difBUM_HMM and deltaSHAPE:"
   ]
  },
  {
   "cell_type": "markdown",
   "metadata": {},
   "source": [
    "### diffBUM_HMM:"
   ]
  },
  {
   "cell_type": "code",
   "execution_count": 30,
   "metadata": {},
   "outputs": [],
   "source": [
    "k_lengths = np.arange(4,9,2)\n",
    "\n",
    "ex_vivo_pos = data[data.ex_vivo >= threshold].index\n",
    "randpos = np.random.choice(np.arange(len(sequence)),len(ex_vivo_pos))\n",
    "\n",
    "for i in k_lengths:\n",
    "    outfile = open(\"diffBUM_HMM_motif_search_ex_vivo_%s_mers_results.txt\" % i,\"w\")\n",
    "    actual = getKmers(ex_vivo_pos,sequence,i)\n",
    "    random = getKmers(randpos,sequence,i)\n",
    "    scores = calcMotifZscores(actual,random)\n",
    "    for motif,score in sortbyvalue(scores):\n",
    "        outfile.write(\"%s\\t%s\\n\" % (motif,score))\n",
    "    outfile.close()\n",
    "    \n",
    "in_vivo_pos = data[data.in_vivo >= threshold].index\n",
    "randpos = np.random.choice(np.arange(len(sequence)),len(in_vivo_pos))\n",
    "\n",
    "for i in k_lengths:\n",
    "    outfile = open(\"diffBUM_HMM_motif_search_in_vivo_%s_mers_results.txt\" % i,\"w\")\n",
    "    actual = getKmers(in_vivo_pos,sequence,i)\n",
    "    random = getKmers(randpos,sequence,i)\n",
    "    scores = calcMotifZscores(actual,random)\n",
    "    for motif,score in sortbyvalue(scores):\n",
    "        outfile.write(\"%s\\t%s\\n\" % (motif,score))\n",
    "    outfile.close()"
   ]
  },
  {
   "cell_type": "markdown",
   "metadata": {},
   "source": [
    "### deltaSHAPE rep 1:"
   ]
  },
  {
   "cell_type": "code",
   "execution_count": 31,
   "metadata": {},
   "outputs": [],
   "source": [
    "k_lengths = np.arange(4,9,2)\n",
    "\n",
    "ex_vivo_pos = data[data.deltaSHAPE_rep1 > 0].index\n",
    "randpos = np.random.choice(np.arange(len(sequence)),len(ex_vivo_pos))\n",
    "\n",
    "for i in k_lengths:\n",
    "    outfile = open(\"deltaSHAPE_1_motif_search_ex_vivo_%s_mers_results.txt\" % i,\"w\")\n",
    "    actual = getKmers(ex_vivo_pos,sequence,i)\n",
    "    random = getKmers(randpos,sequence,i)\n",
    "    scores = calcMotifZscores(actual,random)\n",
    "    for motif,score in sortbyvalue(scores):\n",
    "        outfile.write(\"%s\\t%s\\n\" % (motif,score))\n",
    "    outfile.close()\n",
    "    \n",
    "in_vivo_pos = data[data.deltaSHAPE_rep1 < 0].index\n",
    "randpos = np.random.choice(np.arange(len(sequence)),len(in_vivo_pos))\n",
    "\n",
    "for i in k_lengths:\n",
    "    outfile = open(\"deltaSHAPE_1_motif_search_in_vivo_%s_mers_results.txt\" % i,\"w\")\n",
    "    actual = getKmers(in_vivo_pos,sequence,i)\n",
    "    random = getKmers(randpos,sequence,i)\n",
    "    scores = calcMotifZscores(actual,random)\n",
    "    for motif,score in sortbyvalue(scores):\n",
    "        outfile.write(\"%s\\t%s\\n\" % (motif,score))\n",
    "    outfile.close()"
   ]
  },
  {
   "cell_type": "markdown",
   "metadata": {},
   "source": [
    "### deltaSHAPE rep 2:"
   ]
  },
  {
   "cell_type": "code",
   "execution_count": 32,
   "metadata": {},
   "outputs": [],
   "source": [
    "k_lengths = np.arange(4,9,2)\n",
    "\n",
    "ex_vivo_pos = data[data.deltaSHAPE_rep1 > 0].index\n",
    "randpos = np.random.choice(np.arange(len(sequence)),len(ex_vivo_pos))\n",
    "\n",
    "for i in k_lengths:\n",
    "    outfile = open(\"deltaSHAPE_2_motif_search_ex_vivo_%s_mers_results.txt\" % i,\"w\")\n",
    "    actual = getKmers(ex_vivo_pos,sequence,i)\n",
    "    random = getKmers(randpos,sequence,i)\n",
    "    scores = calcMotifZscores(actual,random)\n",
    "    for motif,score in sortbyvalue(scores):\n",
    "        outfile.write(\"%s\\t%s\\n\" % (motif,score))\n",
    "    outfile.close()\n",
    "    \n",
    "in_vivo_pos = data[data.deltaSHAPE_rep1 < 0].index\n",
    "randpos = np.random.choice(np.arange(len(sequence)),len(in_vivo_pos))\n",
    "\n",
    "for i in k_lengths:\n",
    "    outfile = open(\"deltaSHAPE_2_motif_search_in_vivo_%s_mers_results.txt\" % i,\"w\")\n",
    "    actual = getKmers(in_vivo_pos,sequence,i)\n",
    "    random = getKmers(randpos,sequence,i)\n",
    "    scores = calcMotifZscores(actual,random)\n",
    "    for motif,score in sortbyvalue(scores):\n",
    "        outfile.write(\"%s\\t%s\\n\" % (motif,score))\n",
    "    outfile.close()"
   ]
  },
  {
   "cell_type": "markdown",
   "metadata": {},
   "source": [
    "### Plotting all the motif files:"
   ]
  },
  {
   "cell_type": "markdown",
   "metadata": {},
   "source": [
    "#### Starting with 6 and 8 mers:"
   ]
  },
  {
   "cell_type": "code",
   "execution_count": 33,
   "metadata": {},
   "outputs": [],
   "source": [
    "in_vivo = glob.glob(\"diffBUM_HMM_motif_search_in_vivo_*6_mers*\")\n",
    "in_vivo.extend(glob.glob(\"diffBUM_HMM_motif_search_in_vivo_*8_mers*\"))"
   ]
  },
  {
   "cell_type": "code",
   "execution_count": 34,
   "metadata": {},
   "outputs": [],
   "source": [
    "ex_vivo = glob.glob(\"diffBUM_HMM_motif_search_ex_vivo_*6_mers*\")\n",
    "ex_vivo.extend(glob.glob(\"diffBUM_HMM_motif_search_ex_vivo_*8_mers*\"))"
   ]
  },
  {
   "cell_type": "code",
   "execution_count": 35,
   "metadata": {},
   "outputs": [
    {
     "data": {
      "text/plain": [
       "['diffBUM_HMM_motif_search_in_vivo_6_mers_results.txt',\n",
       " 'diffBUM_HMM_motif_search_in_vivo_8_mers_results.txt']"
      ]
     },
     "execution_count": 35,
     "metadata": {},
     "output_type": "execute_result"
    }
   ],
   "source": [
    "in_vivo"
   ]
  },
  {
   "cell_type": "code",
   "execution_count": 36,
   "metadata": {},
   "outputs": [
    {
     "data": {
      "image/png": "[encoded data removed]",
      "text/plain": [
       "<Figure size 432x288 with 2 Axes>"
      ]
     },
     "metadata": {
      "needs_background": "light"
     },
     "output_type": "display_data"
    }
   ],
   "source": [
    "numberofplots = len(in_vivo)\n",
    "fig,ax = plt.subplots(numberofplots)\n",
    "for i in range(numberofplots):\n",
    "    filename = in_vivo[i]\n",
    "    motifs = pd.read_csv(filename,header=None,index_col=None,sep=\"\\t\",names=[\"Motif\",\"Z_score\"])\n",
    "    x = motifs.Z_score.values\n",
    "    y = motifs.index\n",
    "    ax[i].scatter(x,y)"
   ]
  },
  {
   "cell_type": "code",
   "execution_count": 37,
   "metadata": {},
   "outputs": [
    {
     "data": {
      "image/png": "[encoded data removed]",
      "text/plain": [
       "<Figure size 432x288 with 2 Axes>"
      ]
     },
     "metadata": {
      "needs_background": "light"
     },
     "output_type": "display_data"
    }
   ],
   "source": [
    "numberofplots = len(ex_vivo)\n",
    "fig,ax = plt.subplots(numberofplots)\n",
    "for i in range(numberofplots):\n",
    "    filename = ex_vivo[i]\n",
    "    motifs = pd.read_csv(filename,header=None,index_col=None,sep=\"\\t\",names=[\"Motif\",\"Z_score\"])\n",
    "    x = motifs.Z_score.values\n",
    "    y = motifs.index\n",
    "    ax[i].scatter(x,y)"
   ]
  },
  {
   "cell_type": "markdown",
   "metadata": {},
   "source": [
    "# Will also need to do a MEME analysis to compare with my motif search:"
   ]
  },
  {
   "cell_type": "markdown",
   "metadata": {},
   "source": [
    "### First I need to make fasta files for all the protein binding sites in Xist and find their motifs:\n",
    "I will normalize the interval size to a fixed lenght so that MEME can deal better with it."
   ]
  },
  {
   "cell_type": "code",
   "execution_count": 38,
   "metadata": {},
   "outputs": [
    {
     "data": {
      "text/plain": [
       "Index(['nucleotide', 'CELF1', 'FUS', 'HuR', 'PTBP1', 'RBFOX2', 'TARDBP',\n",
       "       'SHAPE_reactivity_ex_vivo_1', 'SHAPE_reactivity_ex_vivo_2',\n",
       "       'SHAPE_reactivity_in_cell_1', 'SHAPE_reactivity_in_cell_2',\n",
       "       'deltaSHAPE_rep1', 'deltaSHAPE_rep2', 'dStruct', 'dStruct_scaled',\n",
       "       'unmodified', 'ex_vivo', 'in_vivo', 'both', 'scaled_unmodified',\n",
       "       'scaled_ex_vivo', 'scaled_in_vivo', 'scaled_both'],\n",
       "      dtype='object')"
      ]
     },
     "execution_count": 38,
     "metadata": {},
     "output_type": "execute_result"
    }
   ],
   "source": [
    "data.columns"
   ]
  },
  {
   "cell_type": "code",
   "execution_count": 39,
   "metadata": {},
   "outputs": [],
   "source": [
    "fixedlength = 30"
   ]
  },
  {
   "cell_type": "code",
   "execution_count": 40,
   "metadata": {},
   "outputs": [],
   "source": [
    "proteins = [\"CELF1\",\"FUS\",\"HuR\",\"PTBP1\",\"RBFOX2\",\"TARDBP\"]"
   ]
  },
  {
   "cell_type": "code",
   "execution_count": 41,
   "metadata": {},
   "outputs": [
    {
     "name": "stdout",
     "output_type": "stream",
     "text": [
      "CELF1:\t21\n",
      "FUS:\t107\n",
      "HuR:\t12\n",
      "PTBP1:\t22\n",
      "RBFOX2:\t3\n",
      "TARDBP:\t17\n"
     ]
    }
   ],
   "source": [
    "proteinfastas = list()\n",
    "for protein in proteins:\n",
    "    outfilename = \"%s_Xist_RNA_binding_sites.fa\" % protein\n",
    "    outfile = open(outfilename,\"w\")\n",
    "    proteinfastas.append(outfilename)\n",
    "    indices = data[data[protein] > 0].index\n",
    "    intervals = contigousarray2Intervals(indices)\n",
    "    print(\"%s:\\t%s\" % (protein,len(intervals)))\n",
    "    count = 1\n",
    "    for (i,j) in intervals:\n",
    "        start,end = normalizeIntervalLength(i,j,chromosomelength,fixedlength)\n",
    "        sequence = data.loc[start:end+1,\"nucleotide\"].values\n",
    "        sequence = \"\".join(sequence)\n",
    "        outfile.write(\">%s_%s\\n%s\\n\" % (protein,count,sequence))\n",
    "        count += 1\n",
    "    outfile.close()\n",
    "    \n",
    "proteinfastas = \" \".join(proteinfastas)"
   ]
  },
  {
   "cell_type": "markdown",
   "metadata": {},
   "source": [
    "### Running meme on these sequences:"
   ]
  },
  {
   "cell_type": "code",
   "execution_count": null,
   "metadata": {},
   "outputs": [],
   "source": [
    "%%bash -s \"$proteinfastas\"\n",
    "\n",
    "DIR=$HOME/meme/bin\n",
    "\n",
    "for i in $1\n",
    "do\n",
    "    echo $i\n",
    "    FILE=\"$(basename -- $i)\"\n",
    "    FILE=${FILE%.fa}\n",
    "    PREFIX=MEME_\n",
    "    OUTFILE=$PREFIX$FILE\n",
    "    $DIR/meme-chip \n",
    "        -meme-minw 4 \\\n",
    "        -meme-maxw 10 \\\n",
    "        -meme-nmotifs 3 \\\n",
    "        -meme-p 8 \\\n",
    "        -meme-mod anr \\\n",
    "        -norc \\\n",
    "        -rna \\\n",
    "        -noecho \\\n",
    "        -oc $OUTFILE $i &\n",
    "done"
   ]
  },
  {
   "cell_type": "markdown",
   "metadata": {},
   "source": [
    "### Now doing it for the diffBUM_HMM and deltaSHAPE sites. Fragment sizes = fixedlength:"
   ]
  },
  {
   "cell_type": "code",
   "execution_count": 42,
   "metadata": {},
   "outputs": [],
   "source": [
    " intervallengthcounter = defaultdict(lambda: defaultdict(int))"
   ]
  },
  {
   "cell_type": "markdown",
   "metadata": {},
   "source": [
    "### diffBUM_HMM:"
   ]
  },
  {
   "cell_type": "code",
   "execution_count": 43,
   "metadata": {},
   "outputs": [
    {
     "name": "stdout",
     "output_type": "stream",
     "text": [
      "849\n",
      "1164\n",
      "127\n",
      "142\n"
     ]
    }
   ],
   "source": [
    "sequence = \"\".join(data.nucleotide.values)\n",
    "\n",
    "ex_vivo_pos = data[data.ex_vivo >= threshold].index\n",
    "outfile = open(\"diffBUM_HMM_ex_vivo_%s_mers.fa\" % fixedlength,\"w\")\n",
    "intervals = contigousarray2Intervals(ex_vivo_pos)\n",
    "\n",
    "print(len(intervals))\n",
    "print(len(ex_vivo_pos))\n",
    "\n",
    "count = 0\n",
    "\n",
    "for (i,j) in intervals:\n",
    "    length = (j-i)+1\n",
    "    intervallengthcounter[\"diffBUM_HMM_ex_vivo\"][length] += 1\n",
    "    start,end = normalizeIntervalLength(i,j,chromosomelength,fixedlength)\n",
    "    sequence = data.loc[start:end+1,\"nucleotide\"].values\n",
    "    sequence = \"\".join(sequence)\n",
    "    outfile.write(\">diffBUM_HMM_ex_vivo_%s\\n%s\\n\" % (count,sequence))\n",
    "    count += 1\n",
    "outfile.close()\n",
    "        \n",
    "in_vivo_pos = data[data.in_vivo >= threshold].index\n",
    "outfile = open(\"diffBUM_HMM_in_vivo_%s_mers.fa\" % fixedlength,\"w\")\n",
    "intervals = contigousarray2Intervals(in_vivo_pos)\n",
    "\n",
    "print(len(intervals))\n",
    "print(len(in_vivo_pos))\n",
    "\n",
    "count = 0\n",
    "\n",
    "for (i,j) in intervals:\n",
    "    length = (j-i)+1\n",
    "    intervallengthcounter[\"diffBUM_HMM_in_vivo\"][length] += 1\n",
    "    start,end = normalizeIntervalLength(i,j,chromosomelength,fixedlength)\n",
    "    sequence = data.loc[start:end+1,\"nucleotide\"].values\n",
    "    sequence = \"\".join(sequence)\n",
    "    outfile.write(\">>diffBUM_HMM_in_vivo_%s\\n%s\\n\" % (count,sequence))\n",
    "    count += 1\n",
    "outfile.close()"
   ]
  },
  {
   "cell_type": "markdown",
   "metadata": {},
   "source": [
    "### deltaSHAPE rep 1:"
   ]
  },
  {
   "cell_type": "code",
   "execution_count": 44,
   "metadata": {},
   "outputs": [
    {
     "data": {
      "text/plain": [
       "Int64Index([ 209,  210,  211,  243,  244,  245,  246,  247,  315,  316,  317,\n",
       "            2421, 2422, 2423, 4673, 4754, 4755, 4756, 4770, 4771, 4772],\n",
       "           dtype='int64')"
      ]
     },
     "execution_count": 44,
     "metadata": {},
     "output_type": "execute_result"
    }
   ],
   "source": [
    "data[data.deltaSHAPE_rep1 > 0].index[:21]"
   ]
  },
  {
   "cell_type": "code",
   "execution_count": 45,
   "metadata": {},
   "outputs": [
    {
     "name": "stdout",
     "output_type": "stream",
     "text": [
      "162\n",
      "460\n",
      "120\n",
      "337\n"
     ]
    }
   ],
   "source": [
    "sequence = \"\".join(data.nucleotide.values)\n",
    "\n",
    "ex_vivo_pos = data[data.deltaSHAPE_rep1 > 0].index\n",
    "outfile = open(\"deltaSHAPE_rep_1_ex_vivo_%s_mers.fa\" % fixedlength,\"w\")\n",
    "intervals = contigousarray2Intervals(ex_vivo_pos)\n",
    "\n",
    "print(len(intervals))\n",
    "print(len(ex_vivo_pos))\n",
    "\n",
    "count = 0\n",
    "\n",
    "for (i,j) in intervals:\n",
    "    length = (j-i)+1\n",
    "    intervallengthcounter[\"deltaSHAPE_rep1_ex_vivo\"][length] += 1\n",
    "    start,end = normalizeIntervalLength(i,j,chromosomelength,fixedlength)\n",
    "    sequence = data.loc[start:end+1,\"nucleotide\"].values\n",
    "    sequence = \"\".join(sequence)\n",
    "    outfile.write(\">deltaSHAPE_rep1_ex_vivo_%s\\n%s\\n\" % (count,sequence))\n",
    "    count += 1\n",
    "outfile.close()\n",
    "        \n",
    "in_vivo_pos = data[data.deltaSHAPE_rep1 < 0].index\n",
    "outfile = open(\"deltaSHAPE_rep_1_in_vivo_%s_mers.fa\" % fixedlength,\"w\")\n",
    "intervals = contigousarray2Intervals(in_vivo_pos)\n",
    "\n",
    "print(len(intervals))\n",
    "print(len(in_vivo_pos))\n",
    "\n",
    "count = 0\n",
    "\n",
    "for (i,j) in intervals:\n",
    "    length = (j-i)+1\n",
    "    intervallengthcounter[\"deltaSHAPE_rep1_in_vivo\"][length] += 1\n",
    "    start,end = normalizeIntervalLength(i,j,chromosomelength,fixedlength)\n",
    "    sequence = data.loc[start:end+1,\"nucleotide\"].values\n",
    "    sequence = \"\".join(sequence)\n",
    "    outfile.write(\">deltaSHAPE_rep1_in_vivo_%s\\n%s\\n\" % (count,sequence))\n",
    "    count += 1\n",
    "outfile.close()"
   ]
  },
  {
   "cell_type": "markdown",
   "metadata": {},
   "source": [
    "### deltaSHAPE rep 2:"
   ]
  },
  {
   "cell_type": "code",
   "execution_count": 46,
   "metadata": {},
   "outputs": [
    {
     "data": {
      "text/plain": [
       "Int64Index([ 209,  210,  211,  243,  244,  245,  246,  247,  315,  316,  317,\n",
       "            2421, 2422, 2423, 4673, 4754, 4755, 4756, 4770, 4771, 4772],\n",
       "           dtype='int64')"
      ]
     },
     "execution_count": 46,
     "metadata": {},
     "output_type": "execute_result"
    }
   ],
   "source": [
    "data[data.deltaSHAPE_rep1 > 0].index[:21]"
   ]
  },
  {
   "cell_type": "code",
   "execution_count": 47,
   "metadata": {},
   "outputs": [
    {
     "name": "stdout",
     "output_type": "stream",
     "text": [
      "186\n",
      "510\n",
      "166\n",
      "428\n"
     ]
    }
   ],
   "source": [
    "sequence = \"\".join(data.nucleotide.values)\n",
    "\n",
    "ex_vivo_pos = data[data.deltaSHAPE_rep2 > 0].index\n",
    "outfile = open(\"deltaSHAPE_rep_2_ex_vivo_%s_mers.fa\" % fixedlength,\"w\")\n",
    "intervals = contigousarray2Intervals(ex_vivo_pos)\n",
    "\n",
    "print(len(intervals))\n",
    "print(len(ex_vivo_pos))\n",
    "\n",
    "count = 0\n",
    "\n",
    "for (i,j) in intervals:\n",
    "    length = (j-i)+1\n",
    "    intervallengthcounter[\"deltaSHAPE_rep2_ex_vivo\"][length] += 1\n",
    "    start,end = normalizeIntervalLength(i,j,chromosomelength,fixedlength)\n",
    "    sequence = data.loc[start:end+1,\"nucleotide\"].values\n",
    "    sequence = \"\".join(sequence)\n",
    "    outfile.write(\">deltaSHAPE_rep2_ex_vivo_%s\\n%s\\n\" % (count,sequence))\n",
    "    count += 1\n",
    "outfile.close()\n",
    "        \n",
    "in_vivo_pos = data[data.deltaSHAPE_rep2 < 0].index\n",
    "outfile = open(\"deltaSHAPE_rep_2_in_vivo_%s_mers.fa\" % fixedlength,\"w\")\n",
    "intervals = contigousarray2Intervals(in_vivo_pos)\n",
    "\n",
    "print(len(intervals))\n",
    "print(len(in_vivo_pos))\n",
    "\n",
    "count = 0\n",
    "\n",
    "for (i,j) in intervals:\n",
    "    length = (j-i)+1\n",
    "    intervallengthcounter[\"deltaSHAPE_rep2_in_vivo\"][length] += 1\n",
    "    start,end = normalizeIntervalLength(i,j,chromosomelength,fixedlength)\n",
    "    sequence = data.loc[start:end+1,\"nucleotide\"].values\n",
    "    sequence = \"\".join(sequence)\n",
    "    outfile.write(\">deltaSHAPE_rep2_in_vivo_%s\\n%s\\n\" % (count,sequence))\n",
    "    count += 1\n",
    "outfile.close()"
   ]
  },
  {
   "cell_type": "code",
   "execution_count": 48,
   "metadata": {},
   "outputs": [],
   "source": [
    "kmerfasta = \" \".join(glob.glob(\"*%s_mers.fa\" % fixedlength))"
   ]
  },
  {
   "cell_type": "code",
   "execution_count": 49,
   "metadata": {},
   "outputs": [
    {
     "name": "stdout",
     "output_type": "stream",
     "text": [
      "['diffBUM_HMM_ex_vivo_30_mers.fa', 'deltaSHAPE_rep_1_in_vivo_30_mers.fa', 'deltaSHAPE_rep_2_in_vivo_30_mers.fa', 'deltaSHAPE_rep_1_ex_vivo_30_mers.fa', 'diffBUM_HMM_in_vivo_30_mers.fa', 'deltaSHAPE_rep_2_ex_vivo_30_mers.fa']\n"
     ]
    }
   ],
   "source": [
    "print(kmerfasta.split())"
   ]
  },
  {
   "cell_type": "code",
   "execution_count": null,
   "metadata": {},
   "outputs": [],
   "source": [
    "%%bash -s \"$kmerfasta\"\n",
    "\n",
    "echo $1\n",
    "\n",
    "DIR=$HOME/meme/bin\n",
    "\n",
    "for i in $1\n",
    "do\n",
    "    FILE=\"$(basename -- $i)\"\n",
    "    FILE=${FILE%.fa}\n",
    "    PREFIX=MEME_\n",
    "    OUTFILE=$PREFIX$FILE\n",
    "    $DIR/meme-chip \\\n",
    "        -meme-minw 4 \\\n",
    "        -meme-maxw 10 \\\n",
    "        -meme-nmotifs 20 \\\n",
    "        -meme-p 8 \\\n",
    "        -meme-mod anr \\\n",
    "        -norc \\\n",
    "        -rna \\\n",
    "        -noecho \\\n",
    "        -o $OUTFILE $i &\n",
    "done"
   ]
  },
  {
   "cell_type": "markdown",
   "metadata": {},
   "source": [
    "### Look at the lenghts of the intervals:"
   ]
  },
  {
   "cell_type": "code",
   "execution_count": 50,
   "metadata": {},
   "outputs": [
    {
     "data": {
      "text/plain": [
       "['diffBUM_HMM_ex_vivo',\n",
       " 'diffBUM_HMM_in_vivo',\n",
       " 'deltaSHAPE_rep1_ex_vivo',\n",
       " 'deltaSHAPE_rep1_in_vivo',\n",
       " 'deltaSHAPE_rep2_ex_vivo',\n",
       " 'deltaSHAPE_rep2_in_vivo']"
      ]
     },
     "execution_count": 50,
     "metadata": {},
     "output_type": "execute_result"
    }
   ],
   "source": [
    "list(intervallengthcounter.keys())"
   ]
  },
  {
   "cell_type": "code",
   "execution_count": 51,
   "metadata": {},
   "outputs": [
    {
     "data": {
      "text/plain": [
       "defaultdict(<function __main__.<lambda>()>,\n",
       "            {'diffBUM_HMM_ex_vivo': defaultdict(int,\n",
       "                         {1: 634, 3: 35, 2: 156, 4: 12, 5: 9, 6: 2, 8: 1}),\n",
       "             'diffBUM_HMM_in_vivo': defaultdict(int, {2: 15, 1: 112}),\n",
       "             'deltaSHAPE_rep1_ex_vivo': defaultdict(int,\n",
       "                         {3: 90, 5: 9, 1: 26, 2: 20, 4: 12, 6: 4, 7: 1}),\n",
       "             'deltaSHAPE_rep1_in_vivo': defaultdict(int,\n",
       "                         {4: 15,\n",
       "                          3: 52,\n",
       "                          2: 19,\n",
       "                          1: 25,\n",
       "                          10: 2,\n",
       "                          7: 1,\n",
       "                          5: 5,\n",
       "                          6: 1}),\n",
       "             'deltaSHAPE_rep2_ex_vivo': defaultdict(int,\n",
       "                         {1: 32,\n",
       "                          3: 105,\n",
       "                          2: 24,\n",
       "                          4: 16,\n",
       "                          5: 6,\n",
       "                          8: 1,\n",
       "                          7: 1,\n",
       "                          6: 1}),\n",
       "             'deltaSHAPE_rep2_in_vivo': defaultdict(int,\n",
       "                         {7: 2, 3: 82, 2: 29, 1: 37, 4: 8, 5: 7, 6: 1})})"
      ]
     },
     "execution_count": 51,
     "metadata": {},
     "output_type": "execute_result"
    }
   ],
   "source": [
    "intervallengthcounter"
   ]
  },
  {
   "cell_type": "code",
   "execution_count": 52,
   "metadata": {},
   "outputs": [
    {
     "data": {
      "image/png": "[encoded data removed]",
      "text/plain": [
       "<Figure size 216x720 with 6 Axes>"
      ]
     },
     "metadata": {
      "needs_background": "light"
     },
     "output_type": "display_data"
    }
   ],
   "source": [
    "numberofplots = len(intervallengthcounter.keys())\n",
    "samples = list(intervallengthcounter.keys())\n",
    "fig,ax = plt.subplots(numberofplots,figsize=[3,10],sharex=True)\n",
    "for i in range(numberofplots):\n",
    "    sample = samples[i]\n",
    "    data = intervallengthcounter[sample]\n",
    "    x = list(data.keys())\n",
    "    y = list(data.values())\n",
    "    sns.barplot(x,y,ax=ax[i])\n",
    "    ax[i].set_title(sample)\n",
    "    ax[i].set_ylabel('Counts')\n",
    "plt.tight_layout()\n",
    "fig.savefig(\"Distribution_of_stretches_of_diff_mod_nucleotides.pdf\",dpi=400)"
   ]
  },
  {
   "cell_type": "markdown",
   "metadata": {},
   "source": [
    "### Now running everything through fimo to get the coordinates for the motifs:"
   ]
  },
  {
   "cell_type": "code",
   "execution_count": null,
   "metadata": {},
   "outputs": [],
   "source": [
    "%%bash\n",
    "\n",
    "DIR=$HOME/meme/bin\n",
    "\n",
    "$DIR/fimo \\\n",
    "MEME_diffBUM_HMM_ex_vivo_30_mers/meme_out/meme.txt \\\n",
    "../../../Reference_sequences/Xist.fa \\"
   ]
  },
  {
   "cell_type": "code",
   "execution_count": null,
   "metadata": {},
   "outputs": [],
   "source": []
  }
 ],
 "metadata": {
  "kernelspec": {
   "display_name": "Python 3",
   "language": "python",
   "name": "python3"
  },
  "language_info": {
   "codemirror_mode": {
    "name": "ipython",
    "version": 3
   },
   "file_extension": ".py",
   "mimetype": "text/x-python",
   "name": "python",
   "nbconvert_exporter": "python",
   "pygments_lexer": "ipython3",
   "version": "3.7.1"
  }
 },
 "nbformat": 4,
 "nbformat_minor": 2
}
