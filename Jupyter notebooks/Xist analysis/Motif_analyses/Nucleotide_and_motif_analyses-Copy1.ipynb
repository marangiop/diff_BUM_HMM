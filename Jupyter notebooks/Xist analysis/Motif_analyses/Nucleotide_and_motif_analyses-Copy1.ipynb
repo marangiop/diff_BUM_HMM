{
 "cells": [
  {
   "cell_type": "code",
   "execution_count": 1,
   "metadata": {},
   "outputs": [
    {
     "name": "stderr",
     "output_type": "stream",
     "text": [
      "\n",
      "Bad key \"text.kerning_factor\" on line 4 in\n",
      "/anaconda3/lib/python3.7/site-packages/matplotlib/mpl-data/stylelib/_classic_test_patch.mplstyle.\n",
      "You probably need to get an updated matplotlibrc file from\n",
      "http://github.com/matplotlib/matplotlib/blob/master/matplotlibrc.template\n",
      "or from the matplotlib source distribution\n"
     ]
    }
   ],
   "source": [
    "import os\n",
    "import math\n",
    "import sys\n",
    "import glob\n",
    "import pandas as pd\n",
    "import numpy as np\n",
    "import matplotlib.pyplot as plt\n",
    "import numpy as np\n",
    "import matplotlib.pyplot as plt\n",
    "import seaborn as sns\n",
    "from scipy.special import comb\n",
    "from scipy.stats import hypergeom\n",
    "from matplotlib import rcParams\n",
    "from collections import defaultdict\n",
    "from pyCRAC.Methods import sortbyvalue,contigousarray2Intervals\n",
    "rcParams['font.family'] = 'sans-serif'\n",
    "rcParams['font.sans-serif'] = ['Arial']\n",
    "rcParams['pdf.fonttype'] = 42\n",
    "rcParams['axes.formatter.useoffset'] = False"
   ]
  },
  {
   "cell_type": "code",
   "execution_count": 2,
   "metadata": {},
   "outputs": [],
   "source": [
    "def normalizeIntervalLength(start,end,chromosomelength,length=20):\n",
    "    \"\"\" extends or trims the interval coordinates to a set length. Default = 20 bp. \"\"\"\n",
    "    newstart = int()\n",
    "    newend = int()\n",
    "    if start - length < 0: start = 1 # to make sure that the start is always a positive number \n",
    "    if end + length > chromosomelength: end = chromosomelength # to make sure that interval doesn't go beyond the chromosome boundaries.\n",
    "    actlength  = end - start\n",
    "    difference = length - actlength\n",
    "    if difference == 0:\n",
    "        return start,end\n",
    "    else:\n",
    "        newstart = round(float(start) - float(difference)/2.0)\n",
    "        if newstart < 0: newstart = 1\n",
    "        newend = round(float(end) + float(difference)/2.0)\n",
    "        if newend > chromosomelength: newend = chromosomelength\n",
    "        return int(newstart),int(newend) # convert back to integers"
   ]
  },
  {
   "cell_type": "code",
   "execution_count": 3,
   "metadata": {},
   "outputs": [],
   "source": [
    "def calcMotifZscores(actual,random):\n",
    "    \"\"\"Calculates the Z-scores for each k-mer sequence\"\"\"\n",
    "    motif_list = list()\n",
    "    z_scores = defaultdict(float)\n",
    "    totalmotifs = len(actual)\n",
    "    actualcount = defaultdict(int)\n",
    "    for i in actual:\n",
    "        actualcount[i] += 1\n",
    "    randomcount = defaultdict(int)\n",
    "    for i in random:\n",
    "        randomcount[i] += 1\n",
    "    a = set(actual)\n",
    "    b = set(random)\n",
    "    motif_list = a | b\n",
    "    for motifs in motif_list:\n",
    "        p1 = float(actualcount[motifs]) / totalmotifs\n",
    "        p2 = float(randomcount[motifs]) / totalmotifs\n",
    "        try:\n",
    "            if p1 or p2:\n",
    "                score = math.sqrt(totalmotifs) * (p1-p2) / math.sqrt(p1*(1-p1) + p2*(1-p2))\n",
    "                z_scores[motifs] = score\n",
    "        except ValueError:\n",
    "            sys.stderr.write(\"\\nValueError! Can not calculate a Z-score for the %s motif. The number of motifs (%s) is higher than the total number of sequences (%s)\\n\" % (motifs,self.__motif_count[motifs],self.total_motif_count))\n",
    "            pass\n",
    "    return z_scores"
   ]
  },
  {
   "cell_type": "code",
   "execution_count": 4,
   "metadata": {},
   "outputs": [],
   "source": [
    "def getKmers(positions,sequence,length=4):\n",
    "    assert length % 2 == 0, \"can only process k-mers with even numbers!\"\n",
    "    k_mers = list()\n",
    "    for i in positions:\n",
    "        start = int(i-(length/2))\n",
    "        end = int(i+(length/2))\n",
    "        if start < 0:\n",
    "            start = 0 ### in case the start position is a negative value\n",
    "            end = length+1\n",
    "        k_mers.append(sequence[start:end])\n",
    "    return k_mers"
   ]
  },
  {
   "cell_type": "markdown",
   "metadata": {},
   "source": [
    "### Loading the big dataframe:"
   ]
  },
  {
   "cell_type": "code",
   "execution_count": 5,
   "metadata": {},
   "outputs": [],
   "source": [
    "data = pd.read_csv('../../../New_data_table.txt',\\\n",
    "                    sep=\"\\t\",\\\n",
    "                    header=0,\\\n",
    "                    index_col=0)"
   ]
  },
  {
   "cell_type": "markdown",
   "metadata": {},
   "source": [
    "### Masking positions not considered by deltaSHAPE:"
   ]
  },
  {
   "cell_type": "code",
   "execution_count": 6,
   "metadata": {},
   "outputs": [
    {
     "name": "stdout",
     "output_type": "stream",
     "text": [
      "2517\n"
     ]
    }
   ],
   "source": [
    "positionstomask = data[(data[\"SHAPE_reactivity_ex_vivo_1\"] < -900) | \n",
    "                       (data[\"SHAPE_reactivity_ex_vivo_2\"] < -900) |\n",
    "                       (data[\"SHAPE_reactivity_in_cell_1\"] < -900) | \n",
    "                       (data[\"SHAPE_reactivity_in_cell_2\"] < -900)].index\n",
    "print(len(positionstomask))\n",
    "data.loc[positionstomask,data.columns[11:]] = np.nan"
   ]
  },
  {
   "cell_type": "code",
   "execution_count": 7,
   "metadata": {},
   "outputs": [
    {
     "data": {
      "text/plain": [
       "Index(['nucleotide', 'CELF1', 'FUS', 'HuR', 'PTBP1', 'RBFOX2', 'TARDBP',\n",
       "       'SHAPE_reactivity_ex_vivo_1', 'SHAPE_reactivity_ex_vivo_2',\n",
       "       'SHAPE_reactivity_in_cell_1', 'SHAPE_reactivity_in_cell_2',\n",
       "       'deltaSHAPE_rep1', 'deltaSHAPE_rep2', 'dStruct', 'dStruct_scaled',\n",
       "       'unmodified', 'ex_vivo', 'in_vivo', 'both', 'scaled_unmodified',\n",
       "       'scaled_ex_vivo', 'scaled_in_vivo', 'scaled_both'],\n",
       "      dtype='object')"
      ]
     },
     "execution_count": 7,
     "metadata": {},
     "output_type": "execute_result"
    }
   ],
   "source": [
    "data.columns"
   ]
  },
  {
   "cell_type": "code",
   "execution_count": 8,
   "metadata": {},
   "outputs": [
    {
     "data": {
      "text/html": [
       "<div>\n",
       "<style scoped>\n",
       "    .dataframe tbody tr th:only-of-type {\n",
       "        vertical-align: middle;\n",
       "    }\n",
       "\n",
       "    .dataframe tbody tr th {\n",
       "        vertical-align: top;\n",
       "    }\n",
       "\n",
       "    .dataframe thead th {\n",
       "        text-align: right;\n",
       "    }\n",
       "</style>\n",
       "<table border=\"1\" class=\"dataframe\">\n",
       "  <thead>\n",
       "    <tr style=\"text-align: right;\">\n",
       "      <th></th>\n",
       "      <th>nucleotide</th>\n",
       "      <th>CELF1</th>\n",
       "      <th>FUS</th>\n",
       "      <th>HuR</th>\n",
       "      <th>PTBP1</th>\n",
       "      <th>RBFOX2</th>\n",
       "      <th>TARDBP</th>\n",
       "      <th>SHAPE_reactivity_ex_vivo_1</th>\n",
       "      <th>SHAPE_reactivity_ex_vivo_2</th>\n",
       "      <th>SHAPE_reactivity_in_cell_1</th>\n",
       "      <th>...</th>\n",
       "      <th>dStruct</th>\n",
       "      <th>dStruct_scaled</th>\n",
       "      <th>unmodified</th>\n",
       "      <th>ex_vivo</th>\n",
       "      <th>in_vivo</th>\n",
       "      <th>both</th>\n",
       "      <th>scaled_unmodified</th>\n",
       "      <th>scaled_ex_vivo</th>\n",
       "      <th>scaled_in_vivo</th>\n",
       "      <th>scaled_both</th>\n",
       "    </tr>\n",
       "  </thead>\n",
       "  <tbody>\n",
       "    <tr>\n",
       "      <td>1</td>\n",
       "      <td>C</td>\n",
       "      <td>0</td>\n",
       "      <td>0</td>\n",
       "      <td>0</td>\n",
       "      <td>0</td>\n",
       "      <td>0</td>\n",
       "      <td>0</td>\n",
       "      <td>-999.0</td>\n",
       "      <td>-999.0</td>\n",
       "      <td>-999.0</td>\n",
       "      <td>...</td>\n",
       "      <td>NaN</td>\n",
       "      <td>NaN</td>\n",
       "      <td>NaN</td>\n",
       "      <td>NaN</td>\n",
       "      <td>NaN</td>\n",
       "      <td>NaN</td>\n",
       "      <td>NaN</td>\n",
       "      <td>NaN</td>\n",
       "      <td>NaN</td>\n",
       "      <td>NaN</td>\n",
       "    </tr>\n",
       "    <tr>\n",
       "      <td>2</td>\n",
       "      <td>G</td>\n",
       "      <td>0</td>\n",
       "      <td>0</td>\n",
       "      <td>0</td>\n",
       "      <td>0</td>\n",
       "      <td>0</td>\n",
       "      <td>0</td>\n",
       "      <td>-999.0</td>\n",
       "      <td>-999.0</td>\n",
       "      <td>-999.0</td>\n",
       "      <td>...</td>\n",
       "      <td>NaN</td>\n",
       "      <td>NaN</td>\n",
       "      <td>NaN</td>\n",
       "      <td>NaN</td>\n",
       "      <td>NaN</td>\n",
       "      <td>NaN</td>\n",
       "      <td>NaN</td>\n",
       "      <td>NaN</td>\n",
       "      <td>NaN</td>\n",
       "      <td>NaN</td>\n",
       "    </tr>\n",
       "    <tr>\n",
       "      <td>3</td>\n",
       "      <td>G</td>\n",
       "      <td>0</td>\n",
       "      <td>0</td>\n",
       "      <td>0</td>\n",
       "      <td>0</td>\n",
       "      <td>0</td>\n",
       "      <td>0</td>\n",
       "      <td>-999.0</td>\n",
       "      <td>-999.0</td>\n",
       "      <td>-999.0</td>\n",
       "      <td>...</td>\n",
       "      <td>NaN</td>\n",
       "      <td>NaN</td>\n",
       "      <td>NaN</td>\n",
       "      <td>NaN</td>\n",
       "      <td>NaN</td>\n",
       "      <td>NaN</td>\n",
       "      <td>NaN</td>\n",
       "      <td>NaN</td>\n",
       "      <td>NaN</td>\n",
       "      <td>NaN</td>\n",
       "    </tr>\n",
       "    <tr>\n",
       "      <td>4</td>\n",
       "      <td>C</td>\n",
       "      <td>0</td>\n",
       "      <td>0</td>\n",
       "      <td>0</td>\n",
       "      <td>0</td>\n",
       "      <td>0</td>\n",
       "      <td>0</td>\n",
       "      <td>-999.0</td>\n",
       "      <td>-999.0</td>\n",
       "      <td>-999.0</td>\n",
       "      <td>...</td>\n",
       "      <td>NaN</td>\n",
       "      <td>NaN</td>\n",
       "      <td>NaN</td>\n",
       "      <td>NaN</td>\n",
       "      <td>NaN</td>\n",
       "      <td>NaN</td>\n",
       "      <td>NaN</td>\n",
       "      <td>NaN</td>\n",
       "      <td>NaN</td>\n",
       "      <td>NaN</td>\n",
       "    </tr>\n",
       "    <tr>\n",
       "      <td>5</td>\n",
       "      <td>T</td>\n",
       "      <td>0</td>\n",
       "      <td>0</td>\n",
       "      <td>0</td>\n",
       "      <td>0</td>\n",
       "      <td>0</td>\n",
       "      <td>0</td>\n",
       "      <td>-999.0</td>\n",
       "      <td>-999.0</td>\n",
       "      <td>-999.0</td>\n",
       "      <td>...</td>\n",
       "      <td>NaN</td>\n",
       "      <td>NaN</td>\n",
       "      <td>NaN</td>\n",
       "      <td>NaN</td>\n",
       "      <td>NaN</td>\n",
       "      <td>NaN</td>\n",
       "      <td>NaN</td>\n",
       "      <td>NaN</td>\n",
       "      <td>NaN</td>\n",
       "      <td>NaN</td>\n",
       "    </tr>\n",
       "  </tbody>\n",
       "</table>\n",
       "<p>5 rows × 23 columns</p>\n",
       "</div>"
      ],
      "text/plain": [
       "  nucleotide  CELF1  FUS  HuR  PTBP1  RBFOX2  TARDBP  \\\n",
       "1          C      0    0    0      0       0       0   \n",
       "2          G      0    0    0      0       0       0   \n",
       "3          G      0    0    0      0       0       0   \n",
       "4          C      0    0    0      0       0       0   \n",
       "5          T      0    0    0      0       0       0   \n",
       "\n",
       "   SHAPE_reactivity_ex_vivo_1  SHAPE_reactivity_ex_vivo_2  \\\n",
       "1                      -999.0                      -999.0   \n",
       "2                      -999.0                      -999.0   \n",
       "3                      -999.0                      -999.0   \n",
       "4                      -999.0                      -999.0   \n",
       "5                      -999.0                      -999.0   \n",
       "\n",
       "   SHAPE_reactivity_in_cell_1  ...  dStruct  dStruct_scaled  unmodified  \\\n",
       "1                      -999.0  ...      NaN             NaN         NaN   \n",
       "2                      -999.0  ...      NaN             NaN         NaN   \n",
       "3                      -999.0  ...      NaN             NaN         NaN   \n",
       "4                      -999.0  ...      NaN             NaN         NaN   \n",
       "5                      -999.0  ...      NaN             NaN         NaN   \n",
       "\n",
       "   ex_vivo  in_vivo  both  scaled_unmodified  scaled_ex_vivo  scaled_in_vivo  \\\n",
       "1      NaN      NaN   NaN                NaN             NaN             NaN   \n",
       "2      NaN      NaN   NaN                NaN             NaN             NaN   \n",
       "3      NaN      NaN   NaN                NaN             NaN             NaN   \n",
       "4      NaN      NaN   NaN                NaN             NaN             NaN   \n",
       "5      NaN      NaN   NaN                NaN             NaN             NaN   \n",
       "\n",
       "   scaled_both  \n",
       "1          NaN  \n",
       "2          NaN  \n",
       "3          NaN  \n",
       "4          NaN  \n",
       "5          NaN  \n",
       "\n",
       "[5 rows x 23 columns]"
      ]
     },
     "execution_count": 8,
     "metadata": {},
     "output_type": "execute_result"
    }
   ],
   "source": [
    "data.head()"
   ]
  },
  {
   "cell_type": "markdown",
   "metadata": {},
   "source": [
    "### Checking what nucleotides were found to be modified in the ex_vivo and in_vivo data:"
   ]
  },
  {
   "cell_type": "code",
   "execution_count": 9,
   "metadata": {},
   "outputs": [],
   "source": [
    "samples  = ['diffBUM_HMM_ex_vivo_norm','diffBUM_HMM_ex_vivo','diffBUM_HMM_in_vivo_norm','diffBUM_HMM_in_vivo',\n",
    "            'deltaSHAPE_ex_vivo_1','deltaSHAPE_ex_vivo_2','deltaSHAPE_in_vivo_1','deltaSHAPE_in_vivo_2']\n",
    "nucleotides = [\"A\",\"T\",\"C\",\"G\"]"
   ]
  },
  {
   "cell_type": "code",
   "execution_count": 10,
   "metadata": {},
   "outputs": [],
   "source": [
    "modinfo = pd.DataFrame(0,index=nucleotides,columns=samples)"
   ]
  },
  {
   "cell_type": "markdown",
   "metadata": {},
   "source": [
    "### diffBUM_HMM:"
   ]
  },
  {
   "cell_type": "code",
   "execution_count": 11,
   "metadata": {},
   "outputs": [],
   "source": [
    "threshold = 0.95"
   ]
  },
  {
   "cell_type": "code",
   "execution_count": 12,
   "metadata": {},
   "outputs": [],
   "source": [
    "in_vivo = data[data.in_vivo >= threshold][\"nucleotide\"].values\n",
    "ex_vivo = data[data.ex_vivo >= threshold][\"nucleotide\"].values\n",
    "in_vivo_scaled = data[data.scaled_in_vivo >= threshold][\"nucleotide\"].values\n",
    "ex_vivo_scaled = data[data.scaled_ex_vivo >= threshold][\"nucleotide\"].values"
   ]
  },
  {
   "cell_type": "code",
   "execution_count": 13,
   "metadata": {},
   "outputs": [],
   "source": [
    "for nuc in in_vivo:\n",
    "    modinfo.loc[nuc,\"diffBUM_HMM_in_vivo\"] += 1\n",
    "for nuc in in_vivo_scaled:\n",
    "    modinfo.loc[nuc,\"diffBUM_HMM_in_vivo_norm\"] += 1\n",
    "for nuc in ex_vivo:\n",
    "    modinfo.loc[nuc,\"diffBUM_HMM_ex_vivo\"] += 1\n",
    "for nuc in ex_vivo_scaled:\n",
    "    modinfo.loc[nuc,\"diffBUM_HMM_ex_vivo_norm\"] += 1"
   ]
  },
  {
   "cell_type": "markdown",
   "metadata": {},
   "source": [
    "### Now deltaSHAPE data:"
   ]
  },
  {
   "cell_type": "code",
   "execution_count": 14,
   "metadata": {},
   "outputs": [],
   "source": [
    "in_vivo_1 = data[data.deltaSHAPE_rep1 > 0][\"nucleotide\"].values\n",
    "ex_vivo_1 = data[data.deltaSHAPE_rep1 < 0][\"nucleotide\"].values\n",
    "in_vivo_2 = data[data.deltaSHAPE_rep2 > 0][\"nucleotide\"].values\n",
    "ex_vivo_2 = data[data.deltaSHAPE_rep2 < 0][\"nucleotide\"].values"
   ]
  },
  {
   "cell_type": "code",
   "execution_count": 15,
   "metadata": {},
   "outputs": [],
   "source": [
    "for nuc in in_vivo_1:\n",
    "    modinfo.loc[nuc,\"deltaSHAPE_in_vivo_1\"] += 1\n",
    "for nuc in in_vivo_2:\n",
    "    modinfo.loc[nuc,\"deltaSHAPE_in_vivo_2\"] += 1\n",
    "for nuc in ex_vivo_1:\n",
    "    modinfo.loc[nuc,\"deltaSHAPE_ex_vivo_1\"] += 1\n",
    "for nuc in ex_vivo_2:\n",
    "    modinfo.loc[nuc,\"deltaSHAPE_ex_vivo_2\"] += 1"
   ]
  },
  {
   "cell_type": "code",
   "execution_count": 16,
   "metadata": {},
   "outputs": [
    {
     "data": {
      "text/html": [
       "<div>\n",
       "<style scoped>\n",
       "    .dataframe tbody tr th:only-of-type {\n",
       "        vertical-align: middle;\n",
       "    }\n",
       "\n",
       "    .dataframe tbody tr th {\n",
       "        vertical-align: top;\n",
       "    }\n",
       "\n",
       "    .dataframe thead th {\n",
       "        text-align: right;\n",
       "    }\n",
       "</style>\n",
       "<table border=\"1\" class=\"dataframe\">\n",
       "  <thead>\n",
       "    <tr style=\"text-align: right;\">\n",
       "      <th></th>\n",
       "      <th>diffBUM_HMM_ex_vivo_norm</th>\n",
       "      <th>diffBUM_HMM_ex_vivo</th>\n",
       "      <th>diffBUM_HMM_in_vivo_norm</th>\n",
       "      <th>diffBUM_HMM_in_vivo</th>\n",
       "      <th>deltaSHAPE_ex_vivo_1</th>\n",
       "      <th>deltaSHAPE_ex_vivo_2</th>\n",
       "      <th>deltaSHAPE_in_vivo_1</th>\n",
       "      <th>deltaSHAPE_in_vivo_2</th>\n",
       "    </tr>\n",
       "  </thead>\n",
       "  <tbody>\n",
       "    <tr>\n",
       "      <td>A</td>\n",
       "      <td>576</td>\n",
       "      <td>420</td>\n",
       "      <td>117</td>\n",
       "      <td>91</td>\n",
       "      <td>117</td>\n",
       "      <td>184</td>\n",
       "      <td>95</td>\n",
       "      <td>122</td>\n",
       "    </tr>\n",
       "    <tr>\n",
       "      <td>T</td>\n",
       "      <td>709</td>\n",
       "      <td>478</td>\n",
       "      <td>42</td>\n",
       "      <td>33</td>\n",
       "      <td>112</td>\n",
       "      <td>123</td>\n",
       "      <td>214</td>\n",
       "      <td>208</td>\n",
       "    </tr>\n",
       "    <tr>\n",
       "      <td>C</td>\n",
       "      <td>244</td>\n",
       "      <td>137</td>\n",
       "      <td>10</td>\n",
       "      <td>6</td>\n",
       "      <td>59</td>\n",
       "      <td>65</td>\n",
       "      <td>94</td>\n",
       "      <td>128</td>\n",
       "    </tr>\n",
       "    <tr>\n",
       "      <td>G</td>\n",
       "      <td>210</td>\n",
       "      <td>129</td>\n",
       "      <td>19</td>\n",
       "      <td>12</td>\n",
       "      <td>49</td>\n",
       "      <td>56</td>\n",
       "      <td>57</td>\n",
       "      <td>52</td>\n",
       "    </tr>\n",
       "  </tbody>\n",
       "</table>\n",
       "</div>"
      ],
      "text/plain": [
       "   diffBUM_HMM_ex_vivo_norm  diffBUM_HMM_ex_vivo  diffBUM_HMM_in_vivo_norm  \\\n",
       "A                       576                  420                       117   \n",
       "T                       709                  478                        42   \n",
       "C                       244                  137                        10   \n",
       "G                       210                  129                        19   \n",
       "\n",
       "   diffBUM_HMM_in_vivo  deltaSHAPE_ex_vivo_1  deltaSHAPE_ex_vivo_2  \\\n",
       "A                   91                   117                   184   \n",
       "T                   33                   112                   123   \n",
       "C                    6                    59                    65   \n",
       "G                   12                    49                    56   \n",
       "\n",
       "   deltaSHAPE_in_vivo_1  deltaSHAPE_in_vivo_2  \n",
       "A                    95                   122  \n",
       "T                   214                   208  \n",
       "C                    94                   128  \n",
       "G                    57                    52  "
      ]
     },
     "execution_count": 16,
     "metadata": {},
     "output_type": "execute_result"
    }
   ],
   "source": [
    "modinfo"
   ]
  },
  {
   "cell_type": "markdown",
   "metadata": {},
   "source": [
    "### Now correct for total number of modifications:"
   ]
  },
  {
   "cell_type": "code",
   "execution_count": 17,
   "metadata": {},
   "outputs": [],
   "source": [
    "modinfonorm = modinfo.div(modinfo.sum(axis=0), axis=1)"
   ]
  },
  {
   "cell_type": "code",
   "execution_count": 18,
   "metadata": {},
   "outputs": [
    {
     "data": {
      "image/png": "[encoded data removed]",
      "text/plain": [
       "<Figure size 504x252 with 2 Axes>"
      ]
     },
     "metadata": {
      "needs_background": "light"
     },
     "output_type": "display_data"
    }
   ],
   "source": [
    "fig,ax = plt.subplots(figsize=[7,3.5])\n",
    "ax = sns.heatmap(modinfonorm,\\\n",
    "            cmap='Blues',\\\n",
    "            linewidths=.5,\\\n",
    "            annot=True)\n",
    "ax.set_yticklabels(modinfonorm.index,rotation=0,fontsize=14)\n",
    "\n",
    "fig.savefig(\"Nucleotide_counts.pdf\",dpi=400)"
   ]
  },
  {
   "cell_type": "code",
   "execution_count": 19,
   "metadata": {},
   "outputs": [
    {
     "data": {
      "image/png": "[encoded data removed]",
      "text/plain": [
       "<Figure size 360x1080 with 8 Axes>"
      ]
     },
     "metadata": {
      "needs_background": "light"
     },
     "output_type": "display_data"
    }
   ],
   "source": [
    "numberofplots = len(modinfonorm.columns)\n",
    "fig,ax = plt.subplots(numberofplots,sharex=True,sharey=True,figsize=[5,15])\n",
    "for i in range(numberofplots):\n",
    "    sns.barplot(data=modinfonorm,x=modinfo.index,y=modinfonorm.columns[i],ax=ax[i])"
   ]
  },
  {
   "cell_type": "markdown",
   "metadata": {},
   "source": [
    "### Clearly A's and T's are highly enriched in the diffBUM-HMM data."
   ]
  },
  {
   "cell_type": "markdown",
   "metadata": {},
   "source": [
    "### Now doing Motif analyses:\n",
    "Make files for 4, 6 and 8-mers"
   ]
  },
  {
   "cell_type": "code",
   "execution_count": 20,
   "metadata": {},
   "outputs": [],
   "source": [
    "sequence = \"\".join(data.nucleotide.values)"
   ]
  },
  {
   "cell_type": "code",
   "execution_count": 21,
   "metadata": {},
   "outputs": [
    {
     "data": {
      "text/plain": [
       "'CGGCTTGCTCCAGCCATGTT'"
      ]
     },
     "execution_count": 21,
     "metadata": {},
     "output_type": "execute_result"
    }
   ],
   "source": [
    "sequence[:20]"
   ]
  },
  {
   "cell_type": "code",
   "execution_count": 22,
   "metadata": {},
   "outputs": [],
   "source": [
    "chromosomelength = len(sequence)"
   ]
  },
  {
   "cell_type": "code",
   "execution_count": 23,
   "metadata": {},
   "outputs": [
    {
     "data": {
      "text/plain": [
       "17918"
      ]
     },
     "execution_count": 23,
     "metadata": {},
     "output_type": "execute_result"
    }
   ],
   "source": [
    "chromosomelength"
   ]
  },
  {
   "cell_type": "markdown",
   "metadata": {},
   "source": [
    "### Motif analyses for difBUM_HMM and deltaSHAPE:"
   ]
  },
  {
   "cell_type": "markdown",
   "metadata": {},
   "source": [
    "### diffBUM_HMM:"
   ]
  },
  {
   "cell_type": "code",
   "execution_count": 24,
   "metadata": {},
   "outputs": [],
   "source": [
    "k_lengths = np.arange(4,9,2)\n",
    "\n",
    "ex_vivo_pos = data[data.ex_vivo >= threshold].index\n",
    "randpos = np.random.choice(np.arange(len(sequence)),len(ex_vivo_pos))\n",
    "\n",
    "for i in k_lengths:\n",
    "    outfile = open(\"diffBUM_HMM_motif_search_ex_vivo_%s_mers_results.txt\" % i,\"w\")\n",
    "    actual = getKmers(ex_vivo_pos,sequence,i)\n",
    "    random = getKmers(randpos,sequence,i)\n",
    "    scores = calcMotifZscores(actual,random)\n",
    "    for motif,score in sortbyvalue(scores):\n",
    "        outfile.write(\"%s\\t%s\\n\" % (motif,score))\n",
    "    outfile.close()\n",
    "    \n",
    "in_vivo_pos = data[data.in_vivo >= threshold].index\n",
    "randpos = np.random.choice(np.arange(len(sequence)),len(in_vivo_pos))\n",
    "\n",
    "for i in k_lengths:\n",
    "    outfile = open(\"diffBUM_HMM_motif_search_in_vivo_%s_mers_results.txt\" % i,\"w\")\n",
    "    actual = getKmers(in_vivo_pos,sequence,i)\n",
    "    random = getKmers(randpos,sequence,i)\n",
    "    scores = calcMotifZscores(actual,random)\n",
    "    for motif,score in sortbyvalue(scores):\n",
    "        outfile.write(\"%s\\t%s\\n\" % (motif,score))\n",
    "    outfile.close()"
   ]
  },
  {
   "cell_type": "markdown",
   "metadata": {},
   "source": [
    "### deltaSHAPE rep 1:"
   ]
  },
  {
   "cell_type": "code",
   "execution_count": 25,
   "metadata": {},
   "outputs": [],
   "source": [
    "k_lengths = np.arange(4,9,2)\n",
    "\n",
    "ex_vivo_pos = data[data.deltaSHAPE_rep1 > 0].index\n",
    "randpos = np.random.choice(np.arange(len(sequence)),len(ex_vivo_pos))\n",
    "\n",
    "for i in k_lengths:\n",
    "    outfile = open(\"deltaSHAPE_1_motif_search_ex_vivo_%s_mers_results.txt\" % i,\"w\")\n",
    "    actual = getKmers(ex_vivo_pos,sequence,i)\n",
    "    random = getKmers(randpos,sequence,i)\n",
    "    scores = calcMotifZscores(actual,random)\n",
    "    for motif,score in sortbyvalue(scores):\n",
    "        outfile.write(\"%s\\t%s\\n\" % (motif,score))\n",
    "    outfile.close()\n",
    "    \n",
    "in_vivo_pos = data[data.deltaSHAPE_rep1 < 0].index\n",
    "randpos = np.random.choice(np.arange(len(sequence)),len(in_vivo_pos))\n",
    "\n",
    "for i in k_lengths:\n",
    "    outfile = open(\"deltaSHAPE_1_motif_search_in_vivo_%s_mers_results.txt\" % i,\"w\")\n",
    "    actual = getKmers(in_vivo_pos,sequence,i)\n",
    "    random = getKmers(randpos,sequence,i)\n",
    "    scores = calcMotifZscores(actual,random)\n",
    "    for motif,score in sortbyvalue(scores):\n",
    "        outfile.write(\"%s\\t%s\\n\" % (motif,score))\n",
    "    outfile.close()"
   ]
  },
  {
   "cell_type": "markdown",
   "metadata": {},
   "source": [
    "### deltaSHAPE rep 2:"
   ]
  },
  {
   "cell_type": "code",
   "execution_count": 26,
   "metadata": {},
   "outputs": [],
   "source": [
    "k_lengths = np.arange(4,9,2)\n",
    "\n",
    "ex_vivo_pos = data[data.deltaSHAPE_rep1 > 0].index\n",
    "randpos = np.random.choice(np.arange(len(sequence)),len(ex_vivo_pos))\n",
    "\n",
    "for i in k_lengths:\n",
    "    outfile = open(\"deltaSHAPE_2_motif_search_ex_vivo_%s_mers_results.txt\" % i,\"w\")\n",
    "    actual = getKmers(ex_vivo_pos,sequence,i)\n",
    "    random = getKmers(randpos,sequence,i)\n",
    "    scores = calcMotifZscores(actual,random)\n",
    "    for motif,score in sortbyvalue(scores):\n",
    "        outfile.write(\"%s\\t%s\\n\" % (motif,score))\n",
    "    outfile.close()\n",
    "    \n",
    "in_vivo_pos = data[data.deltaSHAPE_rep1 < 0].index\n",
    "randpos = np.random.choice(np.arange(len(sequence)),len(in_vivo_pos))\n",
    "\n",
    "for i in k_lengths:\n",
    "    outfile = open(\"deltaSHAPE_2_motif_search_in_vivo_%s_mers_results.txt\" % i,\"w\")\n",
    "    actual = getKmers(in_vivo_pos,sequence,i)\n",
    "    random = getKmers(randpos,sequence,i)\n",
    "    scores = calcMotifZscores(actual,random)\n",
    "    for motif,score in sortbyvalue(scores):\n",
    "        outfile.write(\"%s\\t%s\\n\" % (motif,score))\n",
    "    outfile.close()"
   ]
  },
  {
   "cell_type": "markdown",
   "metadata": {},
   "source": [
    "### Plotting all the motif files:"
   ]
  },
  {
   "cell_type": "markdown",
   "metadata": {},
   "source": [
    "#### Starting with 6 and 8 mers:"
   ]
  },
  {
   "cell_type": "code",
   "execution_count": 27,
   "metadata": {},
   "outputs": [],
   "source": [
    "in_vivo = glob.glob(\"diffBUM_HMM_motif_search_in_vivo_*6_mers*\")\n",
    "in_vivo.extend(glob.glob(\"diffBUM_HMM_motif_search_in_vivo_*8_mers*\"))"
   ]
  },
  {
   "cell_type": "code",
   "execution_count": 28,
   "metadata": {},
   "outputs": [],
   "source": [
    "ex_vivo = glob.glob(\"diffBUM_HMM_motif_search_ex_vivo_*6_mers*\")\n",
    "ex_vivo.extend(glob.glob(\"diffBUM_HMM_motif_search_ex_vivo_*8_mers*\"))"
   ]
  },
  {
   "cell_type": "code",
   "execution_count": 29,
   "metadata": {},
   "outputs": [
    {
     "data": {
      "text/plain": [
       "['diffBUM_HMM_motif_search_in_vivo_6_mers_results.txt',\n",
       " 'diffBUM_HMM_motif_search_in_vivo_8_mers_results.txt']"
      ]
     },
     "execution_count": 29,
     "metadata": {},
     "output_type": "execute_result"
    }
   ],
   "source": [
    "in_vivo"
   ]
  },
  {
   "cell_type": "code",
   "execution_count": 30,
   "metadata": {},
   "outputs": [
    {
     "data": {
      "image/png": "[encoded data removed]",
      "text/plain": [
       "<Figure size 432x288 with 2 Axes>"
      ]
     },
     "metadata": {
      "needs_background": "light"
     },
     "output_type": "display_data"
    }
   ],
   "source": [
    "numberofplots = len(in_vivo)\n",
    "fig,ax = plt.subplots(numberofplots)\n",
    "for i in range(numberofplots):\n",
    "    filename = in_vivo[i]\n",
    "    motifs = pd.read_csv(filename,header=None,index_col=None,sep=\"\\t\",names=[\"Motif\",\"Z_score\"])\n",
    "    x = motifs.Z_score.values\n",
    "    y = motifs.index\n",
    "    ax[i].scatter(x,y)"
   ]
  },
  {
   "cell_type": "code",
   "execution_count": 31,
   "metadata": {},
   "outputs": [
    {
     "data": {
      "image/png": "[encoded data removed]",
      "text/plain": [
       "<Figure size 432x288 with 2 Axes>"
      ]
     },
     "metadata": {
      "needs_background": "light"
     },
     "output_type": "display_data"
    }
   ],
   "source": [
    "numberofplots = len(ex_vivo)\n",
    "fig,ax = plt.subplots(numberofplots)\n",
    "for i in range(numberofplots):\n",
    "    filename = ex_vivo[i]\n",
    "    motifs = pd.read_csv(filename,header=None,index_col=None,sep=\"\\t\",names=[\"Motif\",\"Z_score\"])\n",
    "    x = motifs.Z_score.values\n",
    "    y = motifs.index\n",
    "    ax[i].scatter(x,y)"
   ]
  },
  {
   "cell_type": "markdown",
   "metadata": {},
   "source": [
    "# Will also need to do a MEME analysis to compare with my motif search:"
   ]
  },
  {
   "cell_type": "markdown",
   "metadata": {},
   "source": [
    "### First I need to make fasta files for all the protein binding sites in Xist and find their motifs:\n",
    "I will normalize the interval size to a fixed lenght so that MEME can deal better with it."
   ]
  },
  {
   "cell_type": "code",
   "execution_count": 39,
   "metadata": {},
   "outputs": [],
   "source": [
    "fixedlength = 40"
   ]
  },
  {
   "cell_type": "code",
   "execution_count": 40,
   "metadata": {},
   "outputs": [],
   "source": [
    "proteins = [\"CELF1\",\"FUS\",\"HuR\",\"PTBP1\",\"RBFOX2\",\"TARDBP\"]"
   ]
  },
  {
   "cell_type": "code",
   "execution_count": 41,
   "metadata": {},
   "outputs": [],
   "source": [
    "proteinfastas = list()\n",
    "for protein in proteins:\n",
    "    outfilename = \"%s_Xist_RNA_binding_sites.fa\" % protein\n",
    "    outfile = open(outfilename,\"w\")\n",
    "    proteinfastas.append(outfilename)\n",
    "    indices = data[data[protein] > 0].index\n",
    "    intervals = contigousarray2Intervals(indices)\n",
    "    count = 1\n",
    "    for (i,j) in intervals:\n",
    "        start,end = normalizeIntervalLength(i,j,chromosomelength,fixedlength)\n",
    "        sequence = data.loc[start:end+1,\"nucleotide\"].values\n",
    "        sequence = \"\".join(sequence)\n",
    "        outfile.write(\">%s_%s\\n%s\\n\" % (protein,count,sequence))\n",
    "        count += 1\n",
    "    outfile.close()\n",
    "    \n",
    "proteinfastas = \" \".join(proteinfastas)"
   ]
  },
  {
   "cell_type": "markdown",
   "metadata": {},
   "source": [
    "### Running meme on these sequences:"
   ]
  },
  {
   "cell_type": "code",
   "execution_count": 42,
   "metadata": {},
   "outputs": [
    {
     "name": "stdout",
     "output_type": "stream",
     "text": [
      "CELF1_Xist_RNA_binding_sites.fa\n",
      "FUS_Xist_RNA_binding_sites.fa\n",
      "HuR_Xist_RNA_binding_sites.fa\n",
      "PTBP1_Xist_RNA_binding_sites.fa\n",
      "RBFOX2_Xist_RNA_binding_sites.fa\n",
      "TARDBP_Xist_RNA_binding_sites.fa\n",
      "Starting getsize: getsize MEME_CELF1_Xist_RNA_binding_sites/CELF1_Xist_RNA_binding_sites.fa 1> $metrics\n",
      "Starting getsize: getsize MEME_FUS_Xist_RNA_binding_sites/FUS_Xist_RNA_binding_sites.fa 1> $metrics\n",
      "Starting getsize: getsize MEME_PTBP1_Xist_RNA_binding_sites/PTBP1_Xist_RNA_binding_sites.fa 1> $metrics\n",
      "Starting getsize: getsize MEME_HuR_Xist_RNA_binding_sites/HuR_Xist_RNA_binding_sites.fa 1> $metrics\n",
      "Starting getsize: getsize MEME_RBFOX2_Xist_RNA_binding_sites/RBFOX2_Xist_RNA_binding_sites.fa 1> $metrics\n",
      "Starting getsize: getsize MEME_TARDBP_Xist_RNA_binding_sites/TARDBP_Xist_RNA_binding_sites.fa 1> $metrics\n",
      "getsize ran successfully in 0.013088 seconds\n",
      "Starting fasta-most: fasta-most -min 50 < MEME_CELF1_Xist_RNA_binding_sites/CELF1_Xist_RNA_binding_sites.fa 1> $metrics\n",
      "getsize ran successfully in 0.014098 seconds\n",
      "Starting fasta-most: fasta-most -min 50 < MEME_PTBP1_Xist_RNA_binding_sites/PTBP1_Xist_RNA_binding_sites.fa 1> $metrics\n",
      "getsize ran successfully in 0.013958 seconds\n",
      "getsize ran successfully in 0.018462 seconds\n",
      "Starting fasta-most: fasta-most -min 50 < MEME_HuR_Xist_RNA_binding_sites/HuR_Xist_RNA_binding_sites.fa 1> $metrics\n",
      "getsize ran successfully in 0.014126 seconds\n",
      "Starting fasta-most: fasta-most -min 50 < MEME_FUS_Xist_RNA_binding_sites/FUS_Xist_RNA_binding_sites.fa 1> $metrics\n",
      "Starting fasta-most: fasta-most -min 50 < MEME_RBFOX2_Xist_RNA_binding_sites/RBFOX2_Xist_RNA_binding_sites.fa 1> $metrics\n",
      "getsize ran successfully in 0.014458 seconds\n",
      "Starting fasta-most: fasta-most -min 50 < MEME_TARDBP_Xist_RNA_binding_sites/TARDBP_Xist_RNA_binding_sites.fa 1> $metrics\n",
      "fasta-most ran successfully in 0.068896 seconds\n",
      "Starting fasta-center: fasta-center -rna -len 100 < MEME_FUS_Xist_RNA_binding_sites/FUS_Xist_RNA_binding_sites.fa 1> MEME_FUS_Xist_RNA_binding_sites/seqs-centered\n",
      "fasta-most ran successfully in 0.079946 seconds\n",
      "Starting fasta-center: fasta-center -rna -len 100 < MEME_CELF1_Xist_RNA_binding_sites/CELF1_Xist_RNA_binding_sites.fa 1> MEME_CELF1_Xist_RNA_binding_sites/seqs-centered\n",
      "fasta-most ran successfully in 0.070009 seconds\n",
      "Starting fasta-center: fasta-center -rna -len 100 < MEME_RBFOX2_Xist_RNA_binding_sites/RBFOX2_Xist_RNA_binding_sites.fa 1> MEME_RBFOX2_Xist_RNA_binding_sites/seqs-centered\n",
      "fasta-most ran successfully in 0.073754 seconds\n",
      "Starting fasta-center: fasta-center -rna -len 100 < MEME_PTBP1_Xist_RNA_binding_sites/PTBP1_Xist_RNA_binding_sites.fa 1> MEME_PTBP1_Xist_RNA_binding_sites/seqs-centered\n",
      "fasta-most ran successfully in 0.074091 seconds\n",
      "Starting fasta-center: fasta-center -rna -len 100 < MEME_HuR_Xist_RNA_binding_sites/HuR_Xist_RNA_binding_sites.fa 1> MEME_HuR_Xist_RNA_binding_sites/seqs-centered\n",
      "fasta-most ran successfully in 0.071876 seconds\n",
      "Starting fasta-center: fasta-center -rna -len 100 < MEME_TARDBP_Xist_RNA_binding_sites/TARDBP_Xist_RNA_binding_sites.fa 1> MEME_TARDBP_Xist_RNA_binding_sites/seqs-centered\n",
      "fasta-center ran successfully in 0.081679 seconds\n",
      "Starting fasta-shuffle-letters: fasta-shuffle-letters MEME_CELF1_Xist_RNA_binding_sites/seqs-centered MEME_CELF1_Xist_RNA_binding_sites/seqs-shuffled -kmer 2 -tag -dinuc -rna -seed 1\n",
      "fasta-center ran successfully in 0.082389 seconds\n",
      "fasta-center ran successfully in 0.083063 seconds\n",
      "Starting fasta-shuffle-letters: fasta-shuffle-letters MEME_PTBP1_Xist_RNA_binding_sites/seqs-centered MEME_PTBP1_Xist_RNA_binding_sites/seqs-shuffled -kmer 2 -tag -dinuc -rna -seed 1\n",
      "Starting fasta-shuffle-letters: fasta-shuffle-letters MEME_RBFOX2_Xist_RNA_binding_sites/seqs-centered MEME_RBFOX2_Xist_RNA_binding_sites/seqs-shuffled -kmer 2 -tag -dinuc -rna -seed 1\n",
      "fasta-center ran successfully in 0.08869 seconds\n",
      "Starting fasta-shuffle-letters: fasta-shuffle-letters MEME_FUS_Xist_RNA_binding_sites/seqs-centered MEME_FUS_Xist_RNA_binding_sites/seqs-shuffled -kmer 2 -tag -dinuc -rna -seed 1\n",
      "fasta-center ran successfully in 0.082371 seconds\n",
      "Starting fasta-shuffle-letters: fasta-shuffle-letters MEME_TARDBP_Xist_RNA_binding_sites/seqs-centered MEME_TARDBP_Xist_RNA_binding_sites/seqs-shuffled -kmer 2 -tag -dinuc -rna -seed 1\n",
      "fasta-shuffle-letters ran successfully in 0.01174 seconds\n",
      "Starting fasta-get-markov: fasta-get-markov -nostatus -nosummary -rna -m 1 MEME_CELF1_Xist_RNA_binding_sites/CELF1_Xist_RNA_binding_sites.fa MEME_CELF1_Xist_RNA_binding_sites/background\n",
      "fasta-shuffle-letters ran successfully in 0.009911 seconds\n",
      "Starting fasta-get-markov: fasta-get-markov -nostatus -nosummary -rna -m 1 MEME_PTBP1_Xist_RNA_binding_sites/PTBP1_Xist_RNA_binding_sites.fa MEME_PTBP1_Xist_RNA_binding_sites/background\n",
      "fasta-shuffle-letters ran successfully in 0.009376 seconds\n",
      "fasta-center ran successfully in 0.092202 seconds\n",
      "Starting fasta-get-markov: fasta-get-markov -nostatus -nosummary -rna -m 1 MEME_RBFOX2_Xist_RNA_binding_sites/RBFOX2_Xist_RNA_binding_sites.fa MEME_RBFOX2_Xist_RNA_binding_sites/background\n",
      "Starting fasta-shuffle-letters: fasta-shuffle-letters MEME_HuR_Xist_RNA_binding_sites/seqs-centered MEME_HuR_Xist_RNA_binding_sites/seqs-shuffled -kmer 2 -tag -dinuc -rna -seed 1\n",
      "fasta-shuffle-letters ran successfully in 0.012253 seconds\n",
      "Starting fasta-get-markov: fasta-get-markov -nostatus -nosummary -rna -m 1 MEME_FUS_Xist_RNA_binding_sites/FUS_Xist_RNA_binding_sites.fa MEME_FUS_Xist_RNA_binding_sites/background\n",
      "fasta-shuffle-letters ran successfully in 0.01 seconds\n",
      "Starting fasta-get-markov: fasta-get-markov -nostatus -nosummary -rna -m 1 MEME_TARDBP_Xist_RNA_binding_sites/TARDBP_Xist_RNA_binding_sites.fa MEME_TARDBP_Xist_RNA_binding_sites/background\n",
      "fasta-get-markov ran successfully in 0.009006 seconds\n",
      "fasta-get-markov ran successfully in 0.008496 seconds\n",
      "fasta-get-markov ran successfully in 0.008008 seconds\n",
      "Starting meme: meme MEME_CELF1_Xist_RNA_binding_sites/seqs-centered -oc MEME_CELF1_Xist_RNA_binding_sites/meme_out -mod anr -nmotifs 3 -minw 4 -maxw 10 -bfile MEME_CELF1_Xist_RNA_binding_sites/background -rna -p 8 -nostatus\n",
      "fasta-shuffle-letters ran successfully in 0.009461 seconds\n",
      "Starting fasta-get-markov: fasta-get-markov -nostatus -nosummary -rna -m 1 MEME_HuR_Xist_RNA_binding_sites/HuR_Xist_RNA_binding_sites.fa MEME_HuR_Xist_RNA_binding_sites/background\n",
      "Starting meme: meme MEME_PTBP1_Xist_RNA_binding_sites/seqs-centered -oc MEME_PTBP1_Xist_RNA_binding_sites/meme_out -mod anr -nmotifs 3 -minw 4 -maxw 10 -bfile MEME_PTBP1_Xist_RNA_binding_sites/background -rna -p 8 -nostatus\n",
      "Starting meme: meme MEME_RBFOX2_Xist_RNA_binding_sites/seqs-centered -oc MEME_RBFOX2_Xist_RNA_binding_sites/meme_out -mod anr -nmotifs 3 -minw 4 -maxw 10 -bfile MEME_RBFOX2_Xist_RNA_binding_sites/background -rna -p 8 -nostatus\n",
      "fasta-get-markov ran successfully in 0.008941 seconds\n",
      "fasta-get-markov ran successfully in 0.008454 seconds\n",
      "Starting meme: meme MEME_FUS_Xist_RNA_binding_sites/seqs-centered -oc MEME_FUS_Xist_RNA_binding_sites/meme_out -mod anr -nmotifs 3 -minw 4 -maxw 10 -bfile MEME_FUS_Xist_RNA_binding_sites/background -rna -p 8 -nostatus\n",
      "Starting meme: meme MEME_TARDBP_Xist_RNA_binding_sites/seqs-centered -oc MEME_TARDBP_Xist_RNA_binding_sites/meme_out -mod anr -nmotifs 3 -minw 4 -maxw 10 -bfile MEME_TARDBP_Xist_RNA_binding_sites/background -rna -p 8 -nostatus\n",
      "fasta-get-markov ran successfully in 0.009434 seconds\n",
      "Starting meme: meme MEME_HuR_Xist_RNA_binding_sites/seqs-centered -oc MEME_HuR_Xist_RNA_binding_sites/meme_out -mod anr -nmotifs 3 -minw 4 -maxw 10 -bfile MEME_HuR_Xist_RNA_binding_sites/background -rna -p 8 -nostatus\n",
      "Option '-p' given but Parallel MEME not configured. Running Serial MEME.\n",
      "meme ran successfully in 0.554472 seconds\n",
      "Starting dreme: dreme -verbosity 1 -oc MEME_RBFOX2_Xist_RNA_binding_sites/dreme_out -png -rna -p MEME_RBFOX2_Xist_RNA_binding_sites/seqs-centered -n MEME_RBFOX2_Xist_RNA_binding_sites/seqs-shuffled\n",
      "  File \"/Users/sander/meme/bin/dreme\", line 765\n",
      "    print \"Finding secondary RE in left flank...\"\n",
      "                                                ^\n",
      "SyntaxError: Missing parentheses in call to 'print'. Did you mean print(\"Finding secondary RE in left flank...\")?\n",
      "dreme exited with error code 1\n",
      "Starting centrimo: centrimo -seqlen 0 -verbosity 1 -oc MEME_RBFOX2_Xist_RNA_binding_sites/centrimo_out -bfile MEME_RBFOX2_Xist_RNA_binding_sites/background MEME_RBFOX2_Xist_RNA_binding_sites/RBFOX2_Xist_RNA_binding_sites.fa MEME_RBFOX2_Xist_RNA_binding_sites/meme_out/meme.xml\n",
      "centrimo ran successfully in 0.026529 seconds\n",
      "Option '-p' given but Parallel MEME not configured. Running Serial MEME.\n",
      "meme ran successfully in 0.752836 seconds\n",
      "Starting meme-chip_html_to_tsv: meme-chip_html_to_tsv MEME_RBFOX2_Xist_RNA_binding_sites/meme-chip.html MEME_RBFOX2_Xist_RNA_binding_sites/summary.tsv \"meme-chip -meme-minw 4 -meme-maxw 10 -meme-nmotifs 3 -meme-p 8 -meme-mod anr -norc -rna -oc MEME_RBFOX2_Xist_RNA_binding_sites RBFOX2_Xist_RNA_binding_sites.fa\" 5.1.0 \"Fri Oct 11 15\\:53\\:28 2019 -0700\"\n",
      "Starting dreme: dreme -verbosity 1 -oc MEME_HuR_Xist_RNA_binding_sites/dreme_out -png -rna -p MEME_HuR_Xist_RNA_binding_sites/seqs-centered -n MEME_HuR_Xist_RNA_binding_sites/seqs-shuffled\n",
      "meme-chip_html_to_tsv exited with error code 2\n",
      "  File \"/Users/sander/meme/bin/dreme\", line 765\n",
      "    print \"Finding secondary RE in left flank...\"\n",
      "                                                ^\n",
      "SyntaxError: Missing parentheses in call to 'print'. Did you mean print(\"Finding secondary RE in left flank...\")?\n",
      "dreme exited with error code 1\n",
      "Starting centrimo: centrimo -seqlen 0 -verbosity 1 -oc MEME_HuR_Xist_RNA_binding_sites/centrimo_out -bfile MEME_HuR_Xist_RNA_binding_sites/background MEME_HuR_Xist_RNA_binding_sites/HuR_Xist_RNA_binding_sites.fa MEME_HuR_Xist_RNA_binding_sites/meme_out/meme.xml\n",
      "centrimo ran successfully in 0.039551 seconds\n",
      "Starting tomtom: tomtom -verbosity 1 -text -thresh 0.1 MEME_HuR_Xist_RNA_binding_sites/combined.meme MEME_HuR_Xist_RNA_binding_sites/combined.meme 1> MEME_HuR_Xist_RNA_binding_sites/motif_alignment.txt\n",
      "Option '-p' given but Parallel MEME not configured. Running Serial MEME.\n",
      "meme ran successfully in 1.027786 seconds\n",
      "tomtom ran successfully in 0.024768 seconds\n",
      "Starting spamo: spamo -verbosity 1 -oc MEME_HuR_Xist_RNA_binding_sites/spamo_out_1 -bgfile MEME_HuR_Xist_RNA_binding_sites/background -keepprimary -primary CUAUUUCUUC MEME_HuR_Xist_RNA_binding_sites/HuR_Xist_RNA_binding_sites.fa MEME_HuR_Xist_RNA_binding_sites/meme_out/meme.xml MEME_HuR_Xist_RNA_binding_sites/meme_out/meme.xml\n",
      "Starting dreme: dreme -verbosity 1 -oc MEME_TARDBP_Xist_RNA_binding_sites/dreme_out -png -rna -p MEME_TARDBP_Xist_RNA_binding_sites/seqs-centered -n MEME_TARDBP_Xist_RNA_binding_sites/seqs-shuffled\n",
      "  File \"/Users/sander/meme/bin/dreme\", line 765\n",
      "    print \"Finding secondary RE in left flank...\"\n",
      "                                                ^\n",
      "SyntaxError: Missing parentheses in call to 'print'. Did you mean print(\"Finding secondary RE in left flank...\")?\n",
      "dreme exited with error code 1\n",
      "Starting centrimo: centrimo -seqlen 0 -verbosity 1 -oc MEME_TARDBP_Xist_RNA_binding_sites/centrimo_out -bfile MEME_TARDBP_Xist_RNA_binding_sites/background MEME_TARDBP_Xist_RNA_binding_sites/TARDBP_Xist_RNA_binding_sites.fa MEME_TARDBP_Xist_RNA_binding_sites/meme_out/meme.xml\n",
      "spamo ran successfully in 0.075762 seconds\n",
      "Starting fimo: fimo --parse-genomic-coord --verbosity 1 --oc MEME_HuR_Xist_RNA_binding_sites/fimo_out_1 --bgfile MEME_HuR_Xist_RNA_binding_sites/background --motif CUAUUUCUUC MEME_HuR_Xist_RNA_binding_sites/meme_out/meme.xml MEME_HuR_Xist_RNA_binding_sites/HuR_Xist_RNA_binding_sites.fa\n",
      "centrimo ran successfully in 0.042993 seconds\n",
      "fimo ran successfully in 0.043909 seconds\n",
      "Starting meme-chip_html_to_tsv: meme-chip_html_to_tsv MEME_HuR_Xist_RNA_binding_sites/meme-chip.html MEME_HuR_Xist_RNA_binding_sites/summary.tsv \"meme-chip -meme-minw 4 -meme-maxw 10 -meme-nmotifs 3 -meme-p 8 -meme-mod anr -norc -rna -oc MEME_HuR_Xist_RNA_binding_sites HuR_Xist_RNA_binding_sites.fa\" 5.1.0 \"Fri Oct 11 15\\:53\\:28 2019 -0700\"\n",
      "meme-chip_html_to_tsv exited with error code 2\n",
      "Option '-p' given but Parallel MEME not configured. Running Serial MEME.\n",
      "meme ran successfully in 1.250329 seconds\n",
      "Starting dreme: dreme -verbosity 1 -oc MEME_CELF1_Xist_RNA_binding_sites/dreme_out -png -rna -p MEME_CELF1_Xist_RNA_binding_sites/seqs-centered -n MEME_CELF1_Xist_RNA_binding_sites/seqs-shuffled\n",
      "Option '-p' given but Parallel MEME not configured. Running Serial MEME.\n",
      "meme ran successfully in 1.292057 seconds\n",
      "Starting meme-chip_html_to_tsv: meme-chip_html_to_tsv MEME_TARDBP_Xist_RNA_binding_sites/meme-chip.html MEME_TARDBP_Xist_RNA_binding_sites/summary.tsv \"meme-chip -meme-minw 4 -meme-maxw 10 -meme-nmotifs 3 -meme-p 8 -meme-mod anr -norc -rna -oc MEME_TARDBP_Xist_RNA_binding_sites TARDBP_Xist_RNA_binding_sites.fa\" 5.1.0 \"Fri Oct 11 15\\:53\\:28 2019 -0700\"\n",
      "Starting dreme: dreme -verbosity 1 -oc MEME_PTBP1_Xist_RNA_binding_sites/dreme_out -png -rna -p MEME_PTBP1_Xist_RNA_binding_sites/seqs-centered -n MEME_PTBP1_Xist_RNA_binding_sites/seqs-shuffled\n",
      "  File \"/Users/sander/meme/bin/dreme\", line 765\n",
      "    print \"Finding secondary RE in left flank...\"\n",
      "                                                ^\n",
      "SyntaxError: Missing parentheses in call to 'print'. Did you mean print(\"Finding secondary RE in left flank...\")?\n",
      "dreme exited with error code 1\n",
      "Starting centrimo: centrimo -seqlen 0 -verbosity 1 -oc MEME_CELF1_Xist_RNA_binding_sites/centrimo_out -bfile MEME_CELF1_Xist_RNA_binding_sites/background MEME_CELF1_Xist_RNA_binding_sites/CELF1_Xist_RNA_binding_sites.fa MEME_CELF1_Xist_RNA_binding_sites/meme_out/meme.xml\n",
      "meme-chip_html_to_tsv exited with error code 2\n",
      "  File \"/Users/sander/meme/bin/dreme\", line 765\n",
      "    print \"Finding secondary RE in left flank...\"\n",
      "                                                ^\n",
      "SyntaxError: Missing parentheses in call to 'print'. Did you mean print(\"Finding secondary RE in left flank...\")?\n",
      "dreme exited with error code 1\n",
      "Starting centrimo: centrimo -seqlen 0 -verbosity 1 -oc MEME_PTBP1_Xist_RNA_binding_sites/centrimo_out -bfile MEME_PTBP1_Xist_RNA_binding_sites/background MEME_PTBP1_Xist_RNA_binding_sites/PTBP1_Xist_RNA_binding_sites.fa MEME_PTBP1_Xist_RNA_binding_sites/meme_out/meme.xml\n",
      "centrimo ran successfully in 0.046496 seconds\n",
      "centrimo ran successfully in 0.047944 seconds\n",
      "Starting tomtom: tomtom -verbosity 1 -text -thresh 0.1 MEME_CELF1_Xist_RNA_binding_sites/combined.meme MEME_CELF1_Xist_RNA_binding_sites/combined.meme 1> MEME_CELF1_Xist_RNA_binding_sites/motif_alignment.txt\n",
      "tomtom ran successfully in 0.021591 seconds\n",
      "Starting spamo: spamo -verbosity 1 -oc MEME_CELF1_Xist_RNA_binding_sites/spamo_out_1 -bgfile MEME_CELF1_Xist_RNA_binding_sites/background -keepprimary -primary UGUGUGUC MEME_CELF1_Xist_RNA_binding_sites/CELF1_Xist_RNA_binding_sites.fa MEME_CELF1_Xist_RNA_binding_sites/meme_out/meme.xml MEME_CELF1_Xist_RNA_binding_sites/meme_out/meme.xml\n",
      "Starting tomtom: tomtom -verbosity 1 -text -thresh 0.1 MEME_PTBP1_Xist_RNA_binding_sites/combined.meme MEME_PTBP1_Xist_RNA_binding_sites/combined.meme 1> MEME_PTBP1_Xist_RNA_binding_sites/motif_alignment.txt\n",
      "tomtom ran successfully in 0.016934 seconds\n",
      "Starting spamo: spamo -verbosity 1 -oc MEME_PTBP1_Xist_RNA_binding_sites/spamo_out_1 -bgfile MEME_PTBP1_Xist_RNA_binding_sites/background -keepprimary -primary GUCUAWUUCU MEME_PTBP1_Xist_RNA_binding_sites/PTBP1_Xist_RNA_binding_sites.fa MEME_PTBP1_Xist_RNA_binding_sites/meme_out/meme.xml MEME_PTBP1_Xist_RNA_binding_sites/meme_out/meme.xml\n",
      "spamo ran successfully in 0.063481 seconds\n",
      "Starting fimo: fimo --parse-genomic-coord --verbosity 1 --oc MEME_CELF1_Xist_RNA_binding_sites/fimo_out_1 --bgfile MEME_CELF1_Xist_RNA_binding_sites/background --motif UGUGUGUC MEME_CELF1_Xist_RNA_binding_sites/meme_out/meme.xml MEME_CELF1_Xist_RNA_binding_sites/CELF1_Xist_RNA_binding_sites.fa\n",
      "spamo ran successfully in 0.066414 seconds\n",
      "Starting fimo: fimo --parse-genomic-coord --verbosity 1 --oc MEME_PTBP1_Xist_RNA_binding_sites/fimo_out_1 --bgfile MEME_PTBP1_Xist_RNA_binding_sites/background --motif GUCUAWUUCU MEME_PTBP1_Xist_RNA_binding_sites/meme_out/meme.xml MEME_PTBP1_Xist_RNA_binding_sites/PTBP1_Xist_RNA_binding_sites.fa\n",
      "fimo ran successfully in 0.041929 seconds\n",
      "Starting meme-chip_html_to_tsv: meme-chip_html_to_tsv MEME_CELF1_Xist_RNA_binding_sites/meme-chip.html MEME_CELF1_Xist_RNA_binding_sites/summary.tsv \"meme-chip -meme-minw 4 -meme-maxw 10 -meme-nmotifs 3 -meme-p 8 -meme-mod anr -norc -rna -oc MEME_CELF1_Xist_RNA_binding_sites CELF1_Xist_RNA_binding_sites.fa\" 5.1.0 \"Fri Oct 11 15\\:53\\:28 2019 -0700\"\n",
      "fimo ran successfully in 0.03982 seconds\n",
      "meme-chip_html_to_tsv exited with error code 2\n",
      "Starting meme-chip_html_to_tsv: meme-chip_html_to_tsv MEME_PTBP1_Xist_RNA_binding_sites/meme-chip.html MEME_PTBP1_Xist_RNA_binding_sites/summary.tsv \"meme-chip -meme-minw 4 -meme-maxw 10 -meme-nmotifs 3 -meme-p 8 -meme-mod anr -norc -rna -oc MEME_PTBP1_Xist_RNA_binding_sites PTBP1_Xist_RNA_binding_sites.fa\" 5.1.0 \"Fri Oct 11 15\\:53\\:28 2019 -0700\"\n",
      "meme-chip_html_to_tsv exited with error code 2\n",
      "Option '-p' given but Parallel MEME not configured. Running Serial MEME.\n",
      "meme ran successfully in 17.016875 seconds\n",
      "Starting dreme: dreme -verbosity 1 -oc MEME_FUS_Xist_RNA_binding_sites/dreme_out -png -rna -p MEME_FUS_Xist_RNA_binding_sites/seqs-centered -n MEME_FUS_Xist_RNA_binding_sites/seqs-shuffled\n",
      "  File \"/Users/sander/meme/bin/dreme\", line 765\n",
      "    print \"Finding secondary RE in left flank...\"\n",
      "                                                ^\n",
      "SyntaxError: Missing parentheses in call to 'print'. Did you mean print(\"Finding secondary RE in left flank...\")?\n",
      "dreme exited with error code 1\n",
      "Starting centrimo: centrimo -seqlen 0 -verbosity 1 -oc MEME_FUS_Xist_RNA_binding_sites/centrimo_out -bfile MEME_FUS_Xist_RNA_binding_sites/background MEME_FUS_Xist_RNA_binding_sites/FUS_Xist_RNA_binding_sites.fa MEME_FUS_Xist_RNA_binding_sites/meme_out/meme.xml\n",
      "centrimo ran successfully in 0.03306 seconds\n",
      "Starting tomtom: tomtom -verbosity 1 -text -thresh 0.1 MEME_FUS_Xist_RNA_binding_sites/combined.meme MEME_FUS_Xist_RNA_binding_sites/combined.meme 1> MEME_FUS_Xist_RNA_binding_sites/motif_alignment.txt\n",
      "tomtom ran successfully in 0.01491 seconds\n",
      "Starting spamo: spamo -verbosity 1 -oc MEME_FUS_Xist_RNA_binding_sites/spamo_out_1 -bgfile MEME_FUS_Xist_RNA_binding_sites/background -keepprimary -primary YAWSACUSAG MEME_FUS_Xist_RNA_binding_sites/FUS_Xist_RNA_binding_sites.fa MEME_FUS_Xist_RNA_binding_sites/meme_out/meme.xml MEME_FUS_Xist_RNA_binding_sites/meme_out/meme.xml\n",
      "spamo ran successfully in 0.054047 seconds\n",
      "Starting fimo: fimo --parse-genomic-coord --verbosity 1 --oc MEME_FUS_Xist_RNA_binding_sites/fimo_out_1 --bgfile MEME_FUS_Xist_RNA_binding_sites/background --motif YAWSACUSAG MEME_FUS_Xist_RNA_binding_sites/meme_out/meme.xml MEME_FUS_Xist_RNA_binding_sites/FUS_Xist_RNA_binding_sites.fa\n",
      "fimo ran successfully in 0.03397 seconds\n",
      "Starting meme-chip_html_to_tsv: meme-chip_html_to_tsv MEME_FUS_Xist_RNA_binding_sites/meme-chip.html MEME_FUS_Xist_RNA_binding_sites/summary.tsv \"meme-chip -meme-minw 4 -meme-maxw 10 -meme-nmotifs 3 -meme-p 8 -meme-mod anr -norc -rna -oc MEME_FUS_Xist_RNA_binding_sites FUS_Xist_RNA_binding_sites.fa\" 5.1.0 \"Fri Oct 11 15\\:53\\:28 2019 -0700\"\n",
      "meme-chip_html_to_tsv exited with error code 2\n"
     ]
    }
   ],
   "source": [
    "%%bash -s \"$proteinfastas\"\n",
    "\n",
    "DIR=/Users/sander/meme/bin\n",
    "\n",
    "for i in $1\n",
    "do\n",
    "    echo $i\n",
    "    FILE=\"$(basename -- $i)\"\n",
    "    FILE=${FILE%.fa}\n",
    "    PREFIX=MEME_\n",
    "    OUTFILE=$PREFIX$FILE\n",
    "    $DIR/meme-chip -meme-minw 4 -meme-maxw 10 -meme-nmotifs 3 -meme-p 8 -meme-mod anr -norc -rna -oc $OUTFILE $i &\n",
    "done"
   ]
  },
  {
   "cell_type": "markdown",
   "metadata": {},
   "source": [
    "### Now doing it for the diffBUM_HMM sites. Fragment sizes = 20:"
   ]
  },
  {
   "cell_type": "markdown",
   "metadata": {},
   "source": [
    "### diffBUM_HMM:"
   ]
  },
  {
   "cell_type": "code",
   "execution_count": null,
   "metadata": {},
   "outputs": [],
   "source": [
    "k_lengths = [30,40]\n",
    "\n",
    "sequence = \"\".join(data.nucleotide.values)\n",
    "\n",
    "ex_vivo_pos = data[data.ex_vivo >= threshold].index\n",
    "\n",
    "for i in k_lengths:\n",
    "    outfile = open(\"diffBUM_HMM_ex_vivo_%s_mers.fa\" % i,\"w\")\n",
    "    actual = getKmers(ex_vivo_pos,sequence,i)\n",
    "    count = 0\n",
    "    for j in actual:\n",
    "        outfile.write(\">diffBUM_%s\\n%s\\n\" % (count,j))\n",
    "        count += 1\n",
    "    outfile.close()\n",
    "        \n",
    "in_vivo_pos = data[data.in_vivo >= threshold].index\n",
    "    \n",
    "for i in k_lengths:\n",
    "    outfile = open(\"diffBUM_HMM_in_vivo_%s_mers.fa\" % i,\"w\")\n",
    "    actual = getKmers(in_vivo_pos,sequence,i)\n",
    "    count = 0\n",
    "    for j in actual:\n",
    "        outfile.write(\">diffBUM_%s\\n%s\\n\" % (count,j))\n",
    "        count += 1\n",
    "    outfile.close()\n",
    "\n",
    "kmerfasta = \" \".join(glob.glob(\"*_mers.fa\"))"
   ]
  },
  {
   "cell_type": "code",
   "execution_count": null,
   "metadata": {},
   "outputs": [],
   "source": [
    "%%bash -s \"$kmerfasta\"\n",
    "\n",
    "DIR=/Users/sander/meme/bin\n",
    "\n",
    "for i in $1\n",
    "do\n",
    "    echo $i\n",
    "    FILE=\"$(basename -- $i)\"\n",
    "    FILE=${FILE%.fa}\n",
    "    PREFIX=MEME_\n",
    "    OUTFILE=$PREFIX$FILE\n",
    "    $DIR/meme-chip -meme-minw 4 -meme-maxw 10 -meme-nmotifs 10 -meme-p 8 -meme-mod anr -norc -rna -o $OUTFILE $i &\n",
    "done"
   ]
  },
  {
   "cell_type": "code",
   "execution_count": null,
   "metadata": {},
   "outputs": [],
   "source": []
  }
 ],
 "metadata": {
  "kernelspec": {
   "display_name": "Python 3",
   "language": "python",
   "name": "python3"
  },
  "language_info": {
   "codemirror_mode": {
    "name": "ipython",
    "version": 3
   },
   "file_extension": ".py",
   "mimetype": "text/x-python",
   "name": "python",
   "nbconvert_exporter": "python",
   "pygments_lexer": "ipython3",
   "version": "3.7.1"
  }
 },
 "nbformat": 4,
 "nbformat_minor": 2
}
