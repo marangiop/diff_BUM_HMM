{
 "cells": [
  {
   "cell_type": "code",
   "execution_count": 1,
   "metadata": {},
   "outputs": [
    {
     "name": "stderr",
     "output_type": "stream",
     "text": [
      "\n",
      "Bad key \"text.kerning_factor\" on line 4 in\n",
      "/anaconda3/lib/python3.7/site-packages/matplotlib/mpl-data/stylelib/_classic_test_patch.mplstyle.\n",
      "You probably need to get an updated matplotlibrc file from\n",
      "http://github.com/matplotlib/matplotlib/blob/master/matplotlibrc.template\n",
      "or from the matplotlib source distribution\n"
     ]
    }
   ],
   "source": [
    "import os\n",
    "import sys\n",
    "import pandas as pd\n",
    "import numpy as np\n",
    "import matplotlib.pyplot as plt\n",
    "import numpy as np\n",
    "import matplotlib.pyplot as plt\n",
    "import seaborn as sns\n",
    "from scipy.special import comb\n",
    "from scipy.stats import hypergeom\n",
    "from matplotlib import rcParams\n",
    "from collections import defaultdict\n",
    "rcParams['font.family'] = 'sans-serif'\n",
    "rcParams['font.sans-serif'] = ['Arial']\n",
    "rcParams['pdf.fonttype'] = 42\n",
    "rcParams['axes.formatter.useoffset'] = False"
   ]
  },
  {
   "cell_type": "code",
   "execution_count": 2,
   "metadata": {},
   "outputs": [],
   "source": [
    "def formatAxes(ax,text_size=10,xlim=None,xlabel=None,xticks=None,xticklabels=None,ylim=None,yticks=None,ylabel=None,yticklabels=None):\n",
    "    \"\"\" to tweak the plotting of the axes as well as the fontsize \"\"\"\n",
    "    for loc,spine in list(ax.spines.items()):\n",
    "        if loc == 'left': # settings for the y-axis\n",
    "            if yticklabels and not yticks:\n",
    "                sys.stderr.write(\"Need to provide a list wiht both y-labels and y-ticks!\")\n",
    "            if yticks:\n",
    "                ax.yaxis.set_ticks_position('left')\n",
    "                ax.yaxis.set_tick_params(direction='out')\n",
    "                spine.set_visible(True)\n",
    "                spine.set_position((\"outward\",1))\n",
    "                spine.set_smart_bounds(True)\n",
    "                ax.set_yticks(yticks)\n",
    "                if ylim:\n",
    "                    ax.set_ylim(ylim)\n",
    "                if yticklabels:\n",
    "                    ax.set_yticklabels(yticklabels,fontsize=text_size)\n",
    "            else:\n",
    "                spine.set_visible(False)\n",
    "                ax.set_yticklabels([])\n",
    "                ax.tick_params(axis='y',which='both',length=0)\n",
    "                \n",
    "            if ylabel:\n",
    "                ax.set_ylabel(ylabel,fontsize=text_size,rotation=0,labelpad=160)\n",
    "                ax.get_yaxis().set_label_coords(-0.1,0.5)\n",
    "        elif loc == 'bottom': # settings for x-axis\n",
    "            if xticks:\n",
    "                spine.set_position('zero')\n",
    "                spine.set_visible(False)\n",
    "                spine.set_smart_bounds(False)\n",
    "                ax.set_xticks(xticks)\n",
    "                ax.tick_params(axis='x',which='both',length=0)\n",
    "                if xlim:\n",
    "                    ax.set_xlim(xlim)\n",
    "                if xticklabels:\n",
    "                    ax.set_xticklabels(xticklabels,fontsize=text_size)\n",
    "            else:\n",
    "                spine.set_visible(False)\n",
    "                ax.set_xticklabels([])\n",
    "                ax.tick_params(axis='x',which='both',length=0)\n",
    "                \n",
    "            if xlabel:\n",
    "                ax.tick_params(axis='x',which='both',length=0)\n",
    "                ax.set_xlabel(xlabel,fontsize=text_size+2)\n",
    "                ax.xaxis.labelpad = 10\n",
    "        else:\n",
    "            spine.set_visible(False)\n",
    "    ax.patch.set_visible(False)"
   ]
  },
  {
   "cell_type": "code",
   "execution_count": 3,
   "metadata": {},
   "outputs": [],
   "source": [
    "## Loading the big dataframe\n",
    "alldata = pd.read_csv('../../../big_dataframe_Xist_diffBUM_HMM_scaled_dc_deltaSHAPE_corrected.txt',\\\n",
    "                      sep=\"\\t\",\\\n",
    "                      header=0,\\\n",
    "                      index_col=0)"
   ]
  },
  {
   "cell_type": "code",
   "execution_count": 4,
   "metadata": {},
   "outputs": [
    {
     "data": {
      "text/html": [
       "<div>\n",
       "<style scoped>\n",
       "    .dataframe tbody tr th:only-of-type {\n",
       "        vertical-align: middle;\n",
       "    }\n",
       "\n",
       "    .dataframe tbody tr th {\n",
       "        vertical-align: top;\n",
       "    }\n",
       "\n",
       "    .dataframe thead th {\n",
       "        text-align: right;\n",
       "    }\n",
       "</style>\n",
       "<table border=\"1\" class=\"dataframe\">\n",
       "  <thead>\n",
       "    <tr style=\"text-align: right;\">\n",
       "      <th></th>\n",
       "      <th>nucleotide_number</th>\n",
       "      <th>nucleotide_identity</th>\n",
       "      <th>deltaSHAPE_rep1</th>\n",
       "      <th>deltaSHAPE_rep2</th>\n",
       "      <th>average_deltaSHAPE</th>\n",
       "      <th>CELF1</th>\n",
       "      <th>FUS</th>\n",
       "      <th>HuR</th>\n",
       "      <th>PTBP1</th>\n",
       "      <th>RBFOX2</th>\n",
       "      <th>TARDBP</th>\n",
       "      <th>diffBUMHMM_in_cell</th>\n",
       "      <th>diffBUMHMM_ex_vivo</th>\n",
       "      <th>dStruct_DDR</th>\n",
       "    </tr>\n",
       "  </thead>\n",
       "  <tbody>\n",
       "    <tr>\n",
       "      <td>0</td>\n",
       "      <td>1</td>\n",
       "      <td>C</td>\n",
       "      <td>0.0</td>\n",
       "      <td>0.0</td>\n",
       "      <td>0.0</td>\n",
       "      <td>0</td>\n",
       "      <td>0</td>\n",
       "      <td>0</td>\n",
       "      <td>0</td>\n",
       "      <td>0</td>\n",
       "      <td>0</td>\n",
       "      <td>1.693237e-14</td>\n",
       "      <td>1.790644e-20</td>\n",
       "      <td>0</td>\n",
       "    </tr>\n",
       "    <tr>\n",
       "      <td>1</td>\n",
       "      <td>2</td>\n",
       "      <td>G</td>\n",
       "      <td>0.0</td>\n",
       "      <td>0.0</td>\n",
       "      <td>0.0</td>\n",
       "      <td>0</td>\n",
       "      <td>0</td>\n",
       "      <td>0</td>\n",
       "      <td>0</td>\n",
       "      <td>0</td>\n",
       "      <td>0</td>\n",
       "      <td>6.789051e-03</td>\n",
       "      <td>6.823904e-03</td>\n",
       "      <td>0</td>\n",
       "    </tr>\n",
       "    <tr>\n",
       "      <td>2</td>\n",
       "      <td>3</td>\n",
       "      <td>G</td>\n",
       "      <td>0.0</td>\n",
       "      <td>0.0</td>\n",
       "      <td>0.0</td>\n",
       "      <td>0</td>\n",
       "      <td>0</td>\n",
       "      <td>0</td>\n",
       "      <td>0</td>\n",
       "      <td>0</td>\n",
       "      <td>0</td>\n",
       "      <td>9.031615e-03</td>\n",
       "      <td>9.110841e-03</td>\n",
       "      <td>0</td>\n",
       "    </tr>\n",
       "    <tr>\n",
       "      <td>3</td>\n",
       "      <td>4</td>\n",
       "      <td>C</td>\n",
       "      <td>0.0</td>\n",
       "      <td>0.0</td>\n",
       "      <td>0.0</td>\n",
       "      <td>0</td>\n",
       "      <td>0</td>\n",
       "      <td>0</td>\n",
       "      <td>0</td>\n",
       "      <td>0</td>\n",
       "      <td>0</td>\n",
       "      <td>6.793530e-03</td>\n",
       "      <td>6.927069e-03</td>\n",
       "      <td>0</td>\n",
       "    </tr>\n",
       "    <tr>\n",
       "      <td>4</td>\n",
       "      <td>5</td>\n",
       "      <td>T</td>\n",
       "      <td>0.0</td>\n",
       "      <td>0.0</td>\n",
       "      <td>0.0</td>\n",
       "      <td>0</td>\n",
       "      <td>0</td>\n",
       "      <td>0</td>\n",
       "      <td>0</td>\n",
       "      <td>0</td>\n",
       "      <td>0</td>\n",
       "      <td>1.128597e-08</td>\n",
       "      <td>5.186918e-06</td>\n",
       "      <td>0</td>\n",
       "    </tr>\n",
       "  </tbody>\n",
       "</table>\n",
       "</div>"
      ],
      "text/plain": [
       "   nucleotide_number nucleotide_identity  deltaSHAPE_rep1  deltaSHAPE_rep2  \\\n",
       "0                  1                   C              0.0              0.0   \n",
       "1                  2                   G              0.0              0.0   \n",
       "2                  3                   G              0.0              0.0   \n",
       "3                  4                   C              0.0              0.0   \n",
       "4                  5                   T              0.0              0.0   \n",
       "\n",
       "   average_deltaSHAPE  CELF1  FUS  HuR  PTBP1  RBFOX2  TARDBP  \\\n",
       "0                 0.0      0    0    0      0       0       0   \n",
       "1                 0.0      0    0    0      0       0       0   \n",
       "2                 0.0      0    0    0      0       0       0   \n",
       "3                 0.0      0    0    0      0       0       0   \n",
       "4                 0.0      0    0    0      0       0       0   \n",
       "\n",
       "   diffBUMHMM_in_cell  diffBUMHMM_ex_vivo  dStruct_DDR  \n",
       "0        1.693237e-14        1.790644e-20            0  \n",
       "1        6.789051e-03        6.823904e-03            0  \n",
       "2        9.031615e-03        9.110841e-03            0  \n",
       "3        6.793530e-03        6.927069e-03            0  \n",
       "4        1.128597e-08        5.186918e-06            0  "
      ]
     },
     "execution_count": 4,
     "metadata": {},
     "output_type": "execute_result"
    }
   ],
   "source": [
    "alldata.head()"
   ]
  },
  {
   "cell_type": "markdown",
   "metadata": {},
   "source": [
    "### Count number of DRNs in diffBUM_HMM data:"
   ]
  },
  {
   "cell_type": "code",
   "execution_count": 5,
   "metadata": {},
   "outputs": [
    {
     "name": "stdout",
     "output_type": "stream",
     "text": [
      "ex_vivo\t 1739\n",
      "in_vivo\t 188\n"
     ]
    }
   ],
   "source": [
    "threshold = 0.95\n",
    "\n",
    "num_diff_nucl_ex_vivo = len(alldata[alldata.diffBUMHMM_ex_vivo >= threshold].index)\n",
    "num_diff_nucl_in_cell = len(alldata[alldata.diffBUMHMM_in_cell >= threshold].index)\n",
    "\n",
    "print(\"ex_vivo\\t\",num_diff_nucl_ex_vivo)\n",
    "print(\"in_vivo\\t\",num_diff_nucl_in_cell)"
   ]
  },
  {
   "cell_type": "markdown",
   "metadata": {},
   "source": [
    "### Count number of DRNs in deltaSHAPE data:"
   ]
  },
  {
   "cell_type": "code",
   "execution_count": 6,
   "metadata": {},
   "outputs": [
    {
     "name": "stdout",
     "output_type": "stream",
     "text": [
      "ex_vivo\t 461\n",
      "in_vivo\t 337\n"
     ]
    }
   ],
   "source": [
    "num_diff_nucl_ex_vivo_deltaSHAPE_1 = len(alldata[alldata.deltaSHAPE_rep1 > 0].index)\n",
    "num_diff_nucl_in_cell_deltaSHAPE_1 = len(alldata[alldata.deltaSHAPE_rep1 < 0].index)\n",
    "        \n",
    "print(\"ex_vivo\\t\",num_diff_nucl_ex_vivo_deltaSHAPE_1)\n",
    "print(\"in_vivo\\t\",num_diff_nucl_in_cell_deltaSHAPE_1)"
   ]
  },
  {
   "cell_type": "code",
   "execution_count": 7,
   "metadata": {},
   "outputs": [
    {
     "name": "stdout",
     "output_type": "stream",
     "text": [
      "ex_vivo\t 511\n",
      "in_vivo\t 430\n"
     ]
    }
   ],
   "source": [
    "num_diff_nucl_ex_vivo_deltaSHAPE_2 = len(alldata[alldata.deltaSHAPE_rep2 > 0].index)\n",
    "num_diff_nucl_in_cell_deltaSHAPE_2 = len(alldata[alldata.deltaSHAPE_rep2 < 0].index)\n",
    "        \n",
    "print(\"ex_vivo\\t\",num_diff_nucl_ex_vivo_deltaSHAPE_2)\n",
    "print(\"in_vivo\\t\",num_diff_nucl_in_cell_deltaSHAPE_2)"
   ]
  },
  {
   "cell_type": "markdown",
   "metadata": {},
   "source": [
    "### How many binding sites for each protein were found that overlapped with modified nucleotides in the ex vivo data?"
   ]
  },
  {
   "cell_type": "code",
   "execution_count": 8,
   "metadata": {},
   "outputs": [],
   "source": [
    "morereactive_ex_vivo = alldata[alldata.diffBUMHMM_ex_vivo > threshold]\n",
    "morereactive_in_cell = alldata[alldata.diffBUMHMM_in_cell > threshold]\n",
    "\n",
    "morereactive_ex_vivo_deltaSHAPE_1 = alldata[alldata.deltaSHAPE_rep1 > 0]\n",
    "morereactive_in_cell_deltaSHAPE_1 = alldata[alldata.deltaSHAPE_rep1 < 0]\n",
    "\n",
    "morereactive_ex_vivo_deltaSHAPE_2 = alldata[alldata.deltaSHAPE_rep2 > 0]\n",
    "morereactive_in_cell_deltaSHAPE_2 = alldata[alldata.deltaSHAPE_rep2 < 0]\n",
    "\n",
    "proteins = alldata.columns[5:11]"
   ]
  },
  {
   "cell_type": "code",
   "execution_count": 9,
   "metadata": {},
   "outputs": [
    {
     "data": {
      "text/plain": [
       "Index(['CELF1', 'FUS', 'HuR', 'PTBP1', 'RBFOX2', 'TARDBP'], dtype='object')"
      ]
     },
     "execution_count": 9,
     "metadata": {},
     "output_type": "execute_result"
    }
   ],
   "source": [
    "proteins"
   ]
  },
  {
   "cell_type": "code",
   "execution_count": 10,
   "metadata": {},
   "outputs": [
    {
     "name": "stdout",
     "output_type": "stream",
     "text": [
      "diffBUM-HMM:\n",
      "{'CELF1': 60, 'FUS': 375, 'HuR': 96, 'PTBP1': 53, 'RBFOX2': 2, 'TARDBP': 58}\n",
      "{'CELF1': 11, 'FUS': 33, 'HuR': 17, 'PTBP1': 10, 'RBFOX2': 2, 'TARDBP': 2}\n",
      "\n",
      "deltaSHAPE replicates:\n",
      "{'CELF1': 68, 'FUS': 66, 'HuR': 129, 'PTBP1': 71, 'RBFOX2': 0, 'TARDBP': 3}\n",
      "{'CELF1': 15, 'FUS': 97, 'HuR': 15, 'PTBP1': 11, 'RBFOX2': 0, 'TARDBP': 4}\n",
      "{'CELF1': 54, 'FUS': 124, 'HuR': 74, 'PTBP1': 48, 'RBFOX2': 3, 'TARDBP': 5}\n",
      "{'CELF1': 10, 'FUS': 120, 'HuR': 19, 'PTBP1': 9, 'RBFOX2': 0, 'TARDBP': 12}\n"
     ]
    }
   ],
   "source": [
    "dict_total_binding_sites_differential_exvivo = {}\n",
    "dict_total_binding_sites_differential_incell = {}\n",
    "\n",
    "dict_total_binding_sites_differential_exvivo_deltaSHAPE_1 = {}\n",
    "dict_total_binding_sites_differential_incell_deltaSHAPE_1 = {}\n",
    "\n",
    "dict_total_binding_sites_differential_exvivo_deltaSHAPE_2 = {}\n",
    "dict_total_binding_sites_differential_incell_deltaSHAPE_2 = {}\n",
    "\n",
    "for protein in proteins:\n",
    "    dict_total_binding_sites_differential_exvivo[protein] = morereactive_ex_vivo[protein].sum()\n",
    "    dict_total_binding_sites_differential_exvivo_deltaSHAPE_1[protein] = morereactive_ex_vivo_deltaSHAPE_1[protein].sum()\n",
    "    dict_total_binding_sites_differential_exvivo_deltaSHAPE_2[protein] = morereactive_ex_vivo_deltaSHAPE_2[protein].sum()\n",
    "\n",
    "    \n",
    "for protein in proteins:\n",
    "    dict_total_binding_sites_differential_incell[protein] = morereactive_in_cell[protein].sum()\n",
    "    dict_total_binding_sites_differential_incell_deltaSHAPE_1[protein] = morereactive_in_cell_deltaSHAPE_1[protein].sum()\n",
    "    dict_total_binding_sites_differential_incell_deltaSHAPE_2[protein] = morereactive_in_cell_deltaSHAPE_2[protein].sum()\n",
    "\n",
    "print(\"diffBUM-HMM:\")\n",
    "print(dict_total_binding_sites_differential_exvivo)\n",
    "print(dict_total_binding_sites_differential_incell)\n",
    "print(\"\\ndeltaSHAPE replicates:\")\n",
    "print(dict_total_binding_sites_differential_exvivo_deltaSHAPE_1)\n",
    "print(dict_total_binding_sites_differential_incell_deltaSHAPE_1)\n",
    "print(dict_total_binding_sites_differential_exvivo_deltaSHAPE_2)\n",
    "print(dict_total_binding_sites_differential_incell_deltaSHAPE_2)"
   ]
  },
  {
   "cell_type": "code",
   "execution_count": 11,
   "metadata": {},
   "outputs": [],
   "source": [
    "##IN CELL"
   ]
  },
  {
   "cell_type": "code",
   "execution_count": 12,
   "metadata": {},
   "outputs": [],
   "source": [
    "morereactive_in_cell = alldata[alldata.diffBUMHMM_in_cell > threshold]\n",
    "proteins = alldata.columns[5:11]"
   ]
  },
  {
   "cell_type": "code",
   "execution_count": 13,
   "metadata": {},
   "outputs": [
    {
     "name": "stdout",
     "output_type": "stream",
     "text": [
      "CELF1\ttotal_count:\t11\n",
      "FUS\ttotal_count:\t33\n",
      "HuR\ttotal_count:\t17\n",
      "PTBP1\ttotal_count:\t10\n",
      "RBFOX2\ttotal_count:\t2\n",
      "TARDBP\ttotal_count:\t2\n"
     ]
    }
   ],
   "source": [
    "for protein in proteins:\n",
    "    print(\"%s\\ttotal_count:\\t%s\" % (protein,morereactive_in_cell[protein].sum()))"
   ]
  },
  {
   "cell_type": "code",
   "execution_count": 14,
   "metadata": {},
   "outputs": [
    {
     "name": "stdout",
     "output_type": "stream",
     "text": [
      "{'CELF1': 781, 'FUS': 3587, 'HuR': 1137, 'PTBP1': 582, 'RBFOX2': 63, 'TARDBP': 517}\n"
     ]
    }
   ],
   "source": [
    "#COUNTING UP TOTAL NUMBER OF PROTEIN BINDING SITES, EXCLUDING REGIONS NOT USED BY DIFFBUMHM\n",
    "\n",
    "dict_total_binding_sites={}\n",
    "for protein in proteins:\n",
    "    dict_total_binding_sites[protein]=alldata[protein].sum()\n",
    "    \n",
    "print(dict_total_binding_sites)"
   ]
  },
  {
   "cell_type": "markdown",
   "metadata": {},
   "source": [
    "### diffBUM_HMM individual sites:"
   ]
  },
  {
   "cell_type": "code",
   "execution_count": 15,
   "metadata": {},
   "outputs": [
    {
     "name": "stdout",
     "output_type": "stream",
     "text": [
      "         ex vivo   in vivo\n",
      "CELF1   0.007137       NaN\n",
      "FUS     0.005981       NaN\n",
      "HuR     0.013913  0.036064\n",
      "PTBP1        NaN  0.043407\n",
      "RBFOX2  0.036147       NaN\n",
      "TARDBP  0.028987       NaN\n"
     ]
    },
    {
     "data": {
      "image/png": "[encoded data removed]",
      "text/plain": [
       "<Figure size 216x360 with 2 Axes>"
      ]
     },
     "metadata": {
      "needs_background": "light"
     },
     "output_type": "display_data"
    }
   ],
   "source": [
    "'''\n",
    "Written by Sander\n",
    "“M\" would be total number of Xist nucleotides.\n",
    "“n” would in your case be total number of nucleotides that are part of an RNA-binding site (i.e. FUS, etc).\n",
    "“x” would be the total number of differentially modified nucleotides in ex vivo that overlap with the RNA-binding site.\n",
    "“N” would be the total number of differentially modified nucleotides in ex vivo.\n",
    "'''\n",
    "diffbumhmmpvalues = defaultdict(lambda: defaultdict(float))\n",
    "\n",
    "#Length Xist\n",
    "M = 17918\n",
    "\n",
    "for protein in proteins:\n",
    "    n = int(dict_total_binding_sites[protein])\n",
    "    \n",
    "    #EXVIVO\n",
    "    N = num_diff_nucl_ex_vivo\n",
    "    x = dict_total_binding_sites_differential_exvivo[protein]\n",
    "    hpd = hypergeom(M, n, N)\n",
    "    p_value = hpd.pmf(x)\n",
    "    diffbumhmmpvalues[\"ex vivo\"][protein] = p_value\n",
    "    \n",
    "    #INCELL\n",
    "    N = num_diff_nucl_in_cell\n",
    "    x = dict_total_binding_sites_differential_incell[protein]\n",
    "    hpd = hypergeom(M, n, N)\n",
    "    p_value = hpd.pmf(x)\n",
    "    diffbumhmmpvalues[\"in vivo\"][protein] = p_value\n",
    "\n",
    "output = pd.DataFrame.from_dict(diffbumhmmpvalues,orient='columns')\n",
    "output = output.mask(output > 0.05)\n",
    "print(output)\n",
    "output = output.apply(np.log10)*-1\n",
    "\n",
    "\n",
    "fig,ax = plt.subplots(figsize=[3,5])\n",
    "mask = output.isnull()\n",
    "ax = sns.heatmap(output,cmap=\"Blues\",linewidths=.5,mask=mask,cbar_kws={'label':'-log10(p-value)'})\n",
    "ax.set_facecolor(\"lightgrey\")\n",
    "ax.set_yticklabels(ax.get_yticklabels(),rotation=None,horizontalalignment='right')\n",
    "\n",
    "fig.savefig(\"difBUM_HMM_protein_enrichment_pvalues.pdf\",dpi=400)"
   ]
  },
  {
   "cell_type": "markdown",
   "metadata": {},
   "source": [
    "### deltaSHAPE individual sites:\n",
    "Replicate 1:"
   ]
  },
  {
   "cell_type": "code",
   "execution_count": 16,
   "metadata": {},
   "outputs": [
    {
     "name": "stdout",
     "output_type": "stream",
     "text": [
      "             ex vivo   in vivo\n",
      "CELF1   4.659887e-19       NaN\n",
      "FUS     2.953739e-04  0.000026\n",
      "HuR     1.762840e-49  0.033446\n",
      "PTBP1   1.582172e-28       NaN\n",
      "RBFOX2           NaN       NaN\n",
      "TARDBP  5.268647e-04  0.020726\n"
     ]
    },
    {
     "data": {
      "image/png": "[encoded data removed]",
      "text/plain": [
       "<Figure size 216x360 with 2 Axes>"
      ]
     },
     "metadata": {
      "needs_background": "light"
     },
     "output_type": "display_data"
    }
   ],
   "source": [
    "'''\n",
    "Written by Sander\n",
    "“M\" would be total number of Xist nucleotides.\n",
    "“n” would in your case be total number of nucleotides that are part of an RNA-binding site (i.e. FUS, etc).\n",
    "“x” would be the total number of differentially modified nucleotides in ex vivo that overlap with the RNA-binding site.\n",
    "“N” would be the total number of differentially modified nucleotides in ex vivo.\n",
    "'''\n",
    "deltashapepvalues = defaultdict(lambda: defaultdict(float))\n",
    "\n",
    "#Length Xist\n",
    "M = 17918\n",
    "\n",
    "for protein in proteins:\n",
    "    n = int(dict_total_binding_sites[protein])\n",
    "    \n",
    "    #EXVIVO\n",
    "    N = num_diff_nucl_ex_vivo_deltaSHAPE_1\n",
    "    x = dict_total_binding_sites_differential_exvivo_deltaSHAPE_1[protein]\n",
    "    hpd = hypergeom(M, n, N)\n",
    "    p_value = hpd.pmf(x)\n",
    "    deltashapepvalues[\"ex vivo\"][protein] = p_value\n",
    "\n",
    "    #INCELL\n",
    "    N = num_diff_nucl_in_cell_deltaSHAPE_1\n",
    "    x = dict_total_binding_sites_differential_incell_deltaSHAPE_1[protein]\n",
    "    hpd = hypergeom(M, n, N)\n",
    "    p_value = hpd.pmf(x)\n",
    "    deltashapepvalues[\"in vivo\"][protein] = p_value\n",
    "\n",
    "output = pd.DataFrame.from_dict(deltashapepvalues,orient='columns')\n",
    "output = output.mask(output > 0.05)\n",
    "print(output)\n",
    "output = output.apply(np.log10)*-1\n",
    "\n",
    "fig,ax = plt.subplots(figsize=[3,5])\n",
    "mask = output.isnull()\n",
    "ax = sns.heatmap(output,cmap=\"Blues\",linewidths=.5,mask=mask,cbar_kws={'label':'-log10(p-value)'})\n",
    "ax.set_facecolor(\"lightgrey\")\n",
    "ax.set_yticklabels(ax.get_yticklabels(),rotation=None,horizontalalignment='right')\n",
    "\n",
    "fig.savefig(\"deltaSHAPE_protein_enrichment_pvalues_rep1.pdf\",dpi=400)"
   ]
  },
  {
   "cell_type": "markdown",
   "metadata": {},
   "source": [
    "### deltaSHAPE individual sites:\n",
    "Replicate 2:"
   ]
  },
  {
   "cell_type": "code",
   "execution_count": 17,
   "metadata": {},
   "outputs": [
    {
     "name": "stdout",
     "output_type": "stream",
     "text": [
      "             ex vivo       in vivo\n",
      "CELF1   1.068833e-03           NaN\n",
      "FUS     1.743807e-55  1.866926e-39\n",
      "HuR     1.887126e-05  1.392266e-02\n",
      "PTBP1   2.836442e-02           NaN\n",
      "RBFOX2           NaN           NaN\n",
      "TARDBP  2.671906e-17  5.301973e-03\n"
     ]
    },
    {
     "data": {
      "image/png": "[encoded data removed]",
      "text/plain": [
       "<Figure size 216x360 with 2 Axes>"
      ]
     },
     "metadata": {
      "needs_background": "light"
     },
     "output_type": "display_data"
    }
   ],
   "source": [
    "'''\n",
    "Written by Sander\n",
    "“M\" would be total number of Xist nucleotides.\n",
    "“n” would in your case be total number of nucleotides that are part of an RNA-binding site (i.e. FUS, etc).\n",
    "“x” would be the total number of differentially modified nucleotides in ex vivo that overlap with the RNA-binding site.\n",
    "“N” would be the total number of differentially modified nucleotides in ex vivo.\n",
    "'''\n",
    "deltashapepvalues = defaultdict(lambda: defaultdict(float))\n",
    "\n",
    "#Length Xist\n",
    "M = 17918\n",
    "\n",
    "for protein in proteins:\n",
    "    n = int(dict_total_binding_sites[protein])\n",
    "    \n",
    "    #EXVIVO\n",
    "    N = num_diff_nucl_ex_vivo\n",
    "    x = dict_total_binding_sites_differential_exvivo_deltaSHAPE_2[protein]\n",
    "    hpd = hypergeom(M, n, N)\n",
    "    p_value = hpd.pmf(x)\n",
    "    deltashapepvalues[\"ex vivo\"][protein] = p_value\n",
    "\n",
    "    #INCELL\n",
    "    N = num_diff_nucl_in_cell\n",
    "    x = dict_total_binding_sites_differential_incell_deltaSHAPE_2[protein]\n",
    "    hpd = hypergeom(M, n, N)\n",
    "    p_value = hpd.pmf(x)\n",
    "    deltashapepvalues[\"in vivo\"][protein] = p_value\n",
    "\n",
    "output = pd.DataFrame.from_dict(deltashapepvalues,orient='columns')\n",
    "output = output.mask(output > 0.05)\n",
    "print(output)\n",
    "output = output.apply(np.log10)*-1\n",
    "\n",
    "\n",
    "fig,ax = plt.subplots(figsize=[3,5])\n",
    "mask = output.isnull()\n",
    "ax = sns.heatmap(output,cmap=\"Blues\",linewidths=.5,mask=mask,cbar_kws={'label':'-log10(p-value)'})\n",
    "ax.set_facecolor(\"lightgrey\")\n",
    "ax.set_yticklabels(ax.get_yticklabels(),rotation=None,horizontalalignment='right')\n",
    "\n",
    "fig.savefig(\"deltaSHAPE_protein_enrichment_pvalues_rep2.pdf\",dpi=400)"
   ]
  },
  {
   "cell_type": "markdown",
   "metadata": {},
   "source": [
    "### All sites diffBUM_HMM"
   ]
  },
  {
   "cell_type": "code",
   "execution_count": 18,
   "metadata": {},
   "outputs": [
    {
     "name": "stdout",
     "output_type": "stream",
     "text": [
      "ex_vivo\t0.020579798541598422\n",
      "in_cell\t0.04461663691643808\n"
     ]
    }
   ],
   "source": [
    "'''\n",
    "Written by Sander\n",
    "“M\" would be total number of Xist nucleotides.\n",
    "“n” would in your case be total number of nucleotides that are part of an RNA-binding site (i.e. FUS, etc).\n",
    "“x” would be the total number of differentially modified nucleotides in ex vivo that overlap with the RNA-binding site.\n",
    "“N” would be the total number of differentially modified nucleotides in ex vivo.\n",
    "'''\n",
    "\n",
    "totals_binding_sites = 0\n",
    "totals_binding_sites_differential_exvivo = 0\n",
    "totals_binding_sites_differential_incell = 0\n",
    "\n",
    "for protein in proteins:\n",
    "    totals_binding_sites += int(dict_total_binding_sites[protein])\n",
    "    totals_binding_sites_differential_exvivo += dict_total_binding_sites_differential_exvivo[protein]\n",
    "    totals_binding_sites_differential_incell += dict_total_binding_sites_differential_incell[protein]\n",
    "    \n",
    "M = 17918\n",
    "#EXVIVO\n",
    "N = num_diff_nucl_ex_vivo\n",
    "n = totals_binding_sites\n",
    "x = totals_binding_sites_differential_exvivo\n",
    "\n",
    "hpd = hypergeom(M, n, N)\n",
    "p_value = hpd.pmf(x)\n",
    "print('ex_vivo\\t%s' % p_value)\n",
    "\n",
    "#INCELL\n",
    "N = num_diff_nucl_in_cell\n",
    "n = totals_binding_sites\n",
    "x = totals_binding_sites_differential_incell \n",
    "\n",
    "hpd = hypergeom(M, n, N)\n",
    "p_value = hpd.pmf(x)\n",
    "print('in_cell\\t%s' % p_value)"
   ]
  },
  {
   "cell_type": "markdown",
   "metadata": {},
   "source": [
    "### All sites deltaSHAPE\n",
    "Replicate 1:"
   ]
  },
  {
   "cell_type": "code",
   "execution_count": 19,
   "metadata": {},
   "outputs": [
    {
     "name": "stdout",
     "output_type": "stream",
     "text": [
      "ex_vivo\t9.62451731417996e-57\n",
      "in_cell\t0.007662965280640086\n"
     ]
    }
   ],
   "source": [
    "totals_binding_sites = 0\n",
    "totals_binding_sites_differential_exvivo = 0\n",
    "totals_binding_sites_differential_incell = 0\n",
    "\n",
    "for protein in proteins:\n",
    "    totals_binding_sites += int(dict_total_binding_sites[protein])\n",
    "    totals_binding_sites_differential_exvivo += dict_total_binding_sites_differential_exvivo_deltaSHAPE_1[protein]\n",
    "    totals_binding_sites_differential_incell += dict_total_binding_sites_differential_incell_deltaSHAPE_1[protein]\n",
    "    \n",
    "M = 17918\n",
    "#EXVIVO\n",
    "N = num_diff_nucl_ex_vivo_deltaSHAPE_1\n",
    "n = totals_binding_sites\n",
    "x = totals_binding_sites_differential_exvivo\n",
    "\n",
    "hpd = hypergeom(M, n, N)\n",
    "p_value = hpd.pmf(x)\n",
    "print('ex_vivo\\t%s' % p_value)\n",
    "\n",
    "#INCELL\n",
    "N = num_diff_nucl_in_cell_deltaSHAPE_1\n",
    "n = totals_binding_sites\n",
    "x = totals_binding_sites_differential_incell \n",
    "\n",
    "hpd = hypergeom(M, n, N)\n",
    "p_value = hpd.pmf(x)\n",
    "print('in_cell\\t%s' % p_value)"
   ]
  },
  {
   "cell_type": "markdown",
   "metadata": {},
   "source": [
    "### All sites deltaSHAPE\n",
    "Replicate 2:"
   ]
  },
  {
   "cell_type": "code",
   "execution_count": 20,
   "metadata": {},
   "outputs": [
    {
     "name": "stdout",
     "output_type": "stream",
     "text": [
      "ex_vivo\t4.574976063858384e-27\n",
      "in_cell\t0.02399805049151254\n"
     ]
    }
   ],
   "source": [
    "totals_binding_sites = 0\n",
    "totals_binding_sites_differential_exvivo = 0\n",
    "totals_binding_sites_differential_incell = 0\n",
    "\n",
    "for protein in proteins:\n",
    "    totals_binding_sites += int(dict_total_binding_sites[protein])\n",
    "    totals_binding_sites_differential_exvivo += dict_total_binding_sites_differential_exvivo_deltaSHAPE_2[protein]\n",
    "    totals_binding_sites_differential_incell += dict_total_binding_sites_differential_incell_deltaSHAPE_2[protein]\n",
    "    \n",
    "M = 17918\n",
    "#EXVIVO\n",
    "N = num_diff_nucl_ex_vivo_deltaSHAPE_2\n",
    "n = totals_binding_sites\n",
    "x = totals_binding_sites_differential_exvivo\n",
    "\n",
    "hpd = hypergeom(M, n, N)\n",
    "p_value = hpd.pmf(x)\n",
    "print('ex_vivo\\t%s' % p_value)\n",
    "\n",
    "#INCELL\n",
    "N = num_diff_nucl_in_cell_deltaSHAPE_2\n",
    "n = totals_binding_sites\n",
    "x = totals_binding_sites_differential_incell \n",
    "\n",
    "hpd = hypergeom(M, n, N)\n",
    "p_value = hpd.pmf(x)\n",
    "print('in_cell\\t%s' % p_value)"
   ]
  },
  {
   "cell_type": "code",
   "execution_count": 21,
   "metadata": {},
   "outputs": [
    {
     "name": "stdout",
     "output_type": "stream",
     "text": [
      "6667\n",
      "1739\n",
      "308\n"
     ]
    }
   ],
   "source": [
    "print(totals_binding_sites)\n",
    "print(num_diff_nucl_ex_vivo)\n",
    "print(totals_binding_sites_differential_exvivo)"
   ]
  },
  {
   "cell_type": "code",
   "execution_count": 22,
   "metadata": {},
   "outputs": [
    {
     "name": "stdout",
     "output_type": "stream",
     "text": [
      "6667\n",
      "461\n",
      "308\n"
     ]
    }
   ],
   "source": [
    "print(totals_binding_sites)\n",
    "print(num_diff_nucl_ex_vivo_deltaSHAPE_1)\n",
    "print(totals_binding_sites_differential_exvivo)"
   ]
  },
  {
   "cell_type": "code",
   "execution_count": null,
   "metadata": {},
   "outputs": [],
   "source": []
  },
  {
   "cell_type": "code",
   "execution_count": null,
   "metadata": {},
   "outputs": [],
   "source": []
  }
 ],
 "metadata": {
  "kernelspec": {
   "display_name": "Python 3",
   "language": "python",
   "name": "python3"
  },
  "language_info": {
   "codemirror_mode": {
    "name": "ipython",
    "version": 3
   },
   "file_extension": ".py",
   "mimetype": "text/x-python",
   "name": "python",
   "nbconvert_exporter": "python",
   "pygments_lexer": "ipython3",
   "version": "3.7.1"
  }
 },
 "nbformat": 4,
 "nbformat_minor": 2
}
