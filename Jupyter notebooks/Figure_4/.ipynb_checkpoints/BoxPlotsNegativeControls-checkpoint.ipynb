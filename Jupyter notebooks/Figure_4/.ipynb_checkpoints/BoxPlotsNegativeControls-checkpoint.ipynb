{
 "cells": [
  {
   "cell_type": "code",
   "execution_count": 24,
   "metadata": {},
   "outputs": [],
   "source": [
    "import os\n",
    "import sys\n",
    "import pandas as pd\n",
    "import numpy as np\n",
    "import matplotlib.pyplot as plt\n",
    "import seaborn as sns\n",
    "sns.set()\n",
    "import itertools\n",
    "from matplotlib import rcParams\n",
    "from collections import defaultdict\n",
    "rcParams['font.family'] = 'sans-serif'\n",
    "rcParams['font.sans-serif'] = ['Arial']\n",
    "rcParams['pdf.fonttype'] = 42\n",
    "rcParams['axes.formatter.useoffset'] = False"
   ]
  },
  {
   "cell_type": "markdown",
   "metadata": {},
   "source": [
    "### Loading datasets:"
   ]
  },
  {
   "cell_type": "code",
   "execution_count": 2,
   "metadata": {},
   "outputs": [],
   "source": [
    "fiveeight = pd.read_csv(\"../../Analysis/diffBUM-HMM/5.8S_negative_control_test_identical_conditions_diff_BUM_HMM_analysed.txt\",\\\n",
    "                       sep=\"\\t\",\\\n",
    "                       index_col=0,\n",
    "                       header=0)\n",
    "five = pd.read_csv(\"../../Analysis/diffBUM-HMM/5S_negative_control_test_identical_conditions_diff_BUM_HMM_analysed.txt\",\\\n",
    "                       sep=\"\\t\",\\\n",
    "                       index_col=0,\n",
    "                       header=0)\n",
    "twentyfive = pd.read_csv(\"../../Analysis/diffBUM-HMM/25S_negative_control_test_identical_conditions_diff_BUM_HMM_analysed.txt\",\\\n",
    "                       sep=\"\\t\",\\\n",
    "                       index_col=0,\n",
    "                       header=0)\n",
    "eighteen = pd.read_csv(\"../../Analysis/diffBUM-HMM/18S_negative_control_test_identical_conditions_diff_BUM_HMM_analysed.txt\",\\\n",
    "                       sep=\"\\t\",\\\n",
    "                       index_col=0,\n",
    "                       header=0)"
   ]
  },
  {
   "cell_type": "code",
   "execution_count": 67,
   "metadata": {},
   "outputs": [],
   "source": [
    "%%bash \n",
    "\n",
    "open -e \"../../Analysis/diffBUM-HMM/18S_negative_control_test_identical_conditions_diff_BUM_HMM_analysed.txt\""
   ]
  },
  {
   "cell_type": "markdown",
   "metadata": {},
   "source": [
    "### Dropping positions with insufficient coverage:"
   ]
  },
  {
   "cell_type": "code",
   "execution_count": 68,
   "metadata": {},
   "outputs": [],
   "source": [
    "position = fiveeight[fiveeight == -999].dropna().index\n",
    "fiveeight.drop(position,inplace=True)\n",
    "position = five[five == -999].dropna().index\n",
    "five.drop(position,inplace=True)\n",
    "position = eighteen[eighteen == -999].dropna().index\n",
    "eighteen.drop(position,inplace=True)\n",
    "position = twentyfive[twentyfive == -999].dropna().index\n",
    "twentyfive.drop(position,inplace=True)\n",
    "\n",
    "### Only the last position had a -999 in the datasets."
   ]
  },
  {
   "cell_type": "code",
   "execution_count": 4,
   "metadata": {},
   "outputs": [
    {
     "data": {
      "text/html": [
       "<div>\n",
       "<style scoped>\n",
       "    .dataframe tbody tr th:only-of-type {\n",
       "        vertical-align: middle;\n",
       "    }\n",
       "\n",
       "    .dataframe tbody tr th {\n",
       "        vertical-align: top;\n",
       "    }\n",
       "\n",
       "    .dataframe thead th {\n",
       "        text-align: right;\n",
       "    }\n",
       "</style>\n",
       "<table border=\"1\" class=\"dataframe\">\n",
       "  <thead>\n",
       "    <tr style=\"text-align: right;\">\n",
       "      <th></th>\n",
       "      <th>UU</th>\n",
       "      <th>UM</th>\n",
       "      <th>MU</th>\n",
       "      <th>MM</th>\n",
       "    </tr>\n",
       "  </thead>\n",
       "  <tbody>\n",
       "    <tr>\n",
       "      <td>1</td>\n",
       "      <td>1.0</td>\n",
       "      <td>1.678309e-34</td>\n",
       "      <td>1.678309e-34</td>\n",
       "      <td>2.816721e-68</td>\n",
       "    </tr>\n",
       "    <tr>\n",
       "      <td>2</td>\n",
       "      <td>1.0</td>\n",
       "      <td>2.699683e-11</td>\n",
       "      <td>2.699683e-11</td>\n",
       "      <td>7.288288e-22</td>\n",
       "    </tr>\n",
       "    <tr>\n",
       "      <td>3</td>\n",
       "      <td>1.0</td>\n",
       "      <td>1.647115e-22</td>\n",
       "      <td>1.647115e-22</td>\n",
       "      <td>2.712988e-44</td>\n",
       "    </tr>\n",
       "    <tr>\n",
       "      <td>4</td>\n",
       "      <td>1.0</td>\n",
       "      <td>1.879406e-32</td>\n",
       "      <td>1.879406e-32</td>\n",
       "      <td>3.532169e-64</td>\n",
       "    </tr>\n",
       "    <tr>\n",
       "      <td>5</td>\n",
       "      <td>1.0</td>\n",
       "      <td>4.654247e-24</td>\n",
       "      <td>4.654247e-24</td>\n",
       "      <td>2.166201e-47</td>\n",
       "    </tr>\n",
       "  </tbody>\n",
       "</table>\n",
       "</div>"
      ],
      "text/plain": [
       "    UU            UM            MU            MM\n",
       "1  1.0  1.678309e-34  1.678309e-34  2.816721e-68\n",
       "2  1.0  2.699683e-11  2.699683e-11  7.288288e-22\n",
       "3  1.0  1.647115e-22  1.647115e-22  2.712988e-44\n",
       "4  1.0  1.879406e-32  1.879406e-32  3.532169e-64\n",
       "5  1.0  4.654247e-24  4.654247e-24  2.166201e-47"
      ]
     },
     "execution_count": 4,
     "metadata": {},
     "output_type": "execute_result"
    }
   ],
   "source": [
    "fiveeight.head()"
   ]
  },
  {
   "cell_type": "markdown",
   "metadata": {},
   "source": [
    "### Something is wrong. The UM and MU collumns have the same values!\n",
    "Waiting for a fix"
   ]
  },
  {
   "cell_type": "markdown",
   "metadata": {},
   "source": [
    "### Making violinplots:"
   ]
  },
  {
   "cell_type": "markdown",
   "metadata": {},
   "source": [
    "#### Gathering all the data from the UM and MU columns that have the posteriors for being differentially modified:"
   ]
  },
  {
   "cell_type": "code",
   "execution_count": 5,
   "metadata": {},
   "outputs": [],
   "source": [
    "_fiveeight = list(itertools.chain.from_iterable(fiveeight[[\"UM\",\"MU\"]].values))\n",
    "_five = list(itertools.chain.from_iterable(five[[\"UM\",\"MU\"]].values))\n",
    "_twentyfive = list(itertools.chain.from_iterable(twentyfive[[\"UM\",\"MU\"]].values))\n",
    "_eighteen = list(itertools.chain.from_iterable(eighteen[[\"UM\",\"MU\"]].values))"
   ]
  },
  {
   "cell_type": "code",
   "execution_count": 6,
   "metadata": {},
   "outputs": [
    {
     "data": {
      "text/html": [
       "<div>\n",
       "<style scoped>\n",
       "    .dataframe tbody tr th:only-of-type {\n",
       "        vertical-align: middle;\n",
       "    }\n",
       "\n",
       "    .dataframe tbody tr th {\n",
       "        vertical-align: top;\n",
       "    }\n",
       "\n",
       "    .dataframe thead th {\n",
       "        text-align: right;\n",
       "    }\n",
       "</style>\n",
       "<table border=\"1\" class=\"dataframe\">\n",
       "  <thead>\n",
       "    <tr style=\"text-align: right;\">\n",
       "      <th></th>\n",
       "      <th>UU</th>\n",
       "      <th>UM</th>\n",
       "      <th>MU</th>\n",
       "      <th>MM</th>\n",
       "    </tr>\n",
       "  </thead>\n",
       "  <tbody>\n",
       "    <tr>\n",
       "      <td>1</td>\n",
       "      <td>1.000000</td>\n",
       "      <td>1.678309e-34</td>\n",
       "      <td>1.678309e-34</td>\n",
       "      <td>2.816721e-68</td>\n",
       "    </tr>\n",
       "    <tr>\n",
       "      <td>2</td>\n",
       "      <td>1.000000</td>\n",
       "      <td>2.699683e-11</td>\n",
       "      <td>2.699683e-11</td>\n",
       "      <td>7.288288e-22</td>\n",
       "    </tr>\n",
       "    <tr>\n",
       "      <td>3</td>\n",
       "      <td>1.000000</td>\n",
       "      <td>1.647115e-22</td>\n",
       "      <td>1.647115e-22</td>\n",
       "      <td>2.712988e-44</td>\n",
       "    </tr>\n",
       "    <tr>\n",
       "      <td>4</td>\n",
       "      <td>1.000000</td>\n",
       "      <td>1.879406e-32</td>\n",
       "      <td>1.879406e-32</td>\n",
       "      <td>3.532169e-64</td>\n",
       "    </tr>\n",
       "    <tr>\n",
       "      <td>5</td>\n",
       "      <td>1.000000</td>\n",
       "      <td>4.654247e-24</td>\n",
       "      <td>4.654247e-24</td>\n",
       "      <td>2.166201e-47</td>\n",
       "    </tr>\n",
       "    <tr>\n",
       "      <td>6</td>\n",
       "      <td>1.000000</td>\n",
       "      <td>2.401017e-14</td>\n",
       "      <td>2.401017e-14</td>\n",
       "      <td>5.764884e-28</td>\n",
       "    </tr>\n",
       "    <tr>\n",
       "      <td>7</td>\n",
       "      <td>0.999999</td>\n",
       "      <td>3.115782e-07</td>\n",
       "      <td>3.115782e-07</td>\n",
       "      <td>9.708104e-14</td>\n",
       "    </tr>\n",
       "    <tr>\n",
       "      <td>8</td>\n",
       "      <td>1.000000</td>\n",
       "      <td>3.736168e-12</td>\n",
       "      <td>3.736168e-12</td>\n",
       "      <td>1.395895e-23</td>\n",
       "    </tr>\n",
       "    <tr>\n",
       "      <td>9</td>\n",
       "      <td>1.000000</td>\n",
       "      <td>4.472711e-14</td>\n",
       "      <td>4.472711e-14</td>\n",
       "      <td>2.000514e-27</td>\n",
       "    </tr>\n",
       "    <tr>\n",
       "      <td>10</td>\n",
       "      <td>1.000000</td>\n",
       "      <td>1.333472e-22</td>\n",
       "      <td>1.333472e-22</td>\n",
       "      <td>1.778149e-44</td>\n",
       "    </tr>\n",
       "  </tbody>\n",
       "</table>\n",
       "</div>"
      ],
      "text/plain": [
       "          UU            UM            MU            MM\n",
       "1   1.000000  1.678309e-34  1.678309e-34  2.816721e-68\n",
       "2   1.000000  2.699683e-11  2.699683e-11  7.288288e-22\n",
       "3   1.000000  1.647115e-22  1.647115e-22  2.712988e-44\n",
       "4   1.000000  1.879406e-32  1.879406e-32  3.532169e-64\n",
       "5   1.000000  4.654247e-24  4.654247e-24  2.166201e-47\n",
       "6   1.000000  2.401017e-14  2.401017e-14  5.764884e-28\n",
       "7   0.999999  3.115782e-07  3.115782e-07  9.708104e-14\n",
       "8   1.000000  3.736168e-12  3.736168e-12  1.395895e-23\n",
       "9   1.000000  4.472711e-14  4.472711e-14  2.000514e-27\n",
       "10  1.000000  1.333472e-22  1.333472e-22  1.778149e-44"
      ]
     },
     "execution_count": 6,
     "metadata": {},
     "output_type": "execute_result"
    }
   ],
   "source": [
    "fiveeight[:10]"
   ]
  },
  {
   "cell_type": "code",
   "execution_count": 7,
   "metadata": {},
   "outputs": [
    {
     "data": {
      "text/html": [
       "<div>\n",
       "<style scoped>\n",
       "    .dataframe tbody tr th:only-of-type {\n",
       "        vertical-align: middle;\n",
       "    }\n",
       "\n",
       "    .dataframe tbody tr th {\n",
       "        vertical-align: top;\n",
       "    }\n",
       "\n",
       "    .dataframe thead th {\n",
       "        text-align: right;\n",
       "    }\n",
       "</style>\n",
       "<table border=\"1\" class=\"dataframe\">\n",
       "  <thead>\n",
       "    <tr style=\"text-align: right;\">\n",
       "      <th></th>\n",
       "      <th>UU</th>\n",
       "      <th>UM</th>\n",
       "      <th>MU</th>\n",
       "      <th>MM</th>\n",
       "    </tr>\n",
       "  </thead>\n",
       "  <tbody>\n",
       "    <tr>\n",
       "      <td>1</td>\n",
       "      <td>1.000000e+00</td>\n",
       "      <td>1.841495e-18</td>\n",
       "      <td>1.841495e-18</td>\n",
       "      <td>3.391105e-36</td>\n",
       "    </tr>\n",
       "    <tr>\n",
       "      <td>2</td>\n",
       "      <td>1.000000e+00</td>\n",
       "      <td>4.451579e-14</td>\n",
       "      <td>4.451579e-14</td>\n",
       "      <td>1.981656e-27</td>\n",
       "    </tr>\n",
       "    <tr>\n",
       "      <td>3</td>\n",
       "      <td>1.000000e+00</td>\n",
       "      <td>7.231953e-22</td>\n",
       "      <td>7.231953e-22</td>\n",
       "      <td>5.230114e-43</td>\n",
       "    </tr>\n",
       "    <tr>\n",
       "      <td>4</td>\n",
       "      <td>1.000000e+00</td>\n",
       "      <td>4.439537e-17</td>\n",
       "      <td>4.439537e-17</td>\n",
       "      <td>1.970948e-33</td>\n",
       "    </tr>\n",
       "    <tr>\n",
       "      <td>5</td>\n",
       "      <td>1.000000e+00</td>\n",
       "      <td>1.880042e-38</td>\n",
       "      <td>1.880042e-38</td>\n",
       "      <td>3.534559e-76</td>\n",
       "    </tr>\n",
       "    <tr>\n",
       "      <td>6</td>\n",
       "      <td>1.000000e+00</td>\n",
       "      <td>1.935268e-11</td>\n",
       "      <td>1.935268e-11</td>\n",
       "      <td>3.745262e-22</td>\n",
       "    </tr>\n",
       "    <tr>\n",
       "      <td>7</td>\n",
       "      <td>1.000000e+00</td>\n",
       "      <td>3.116479e-21</td>\n",
       "      <td>3.116479e-21</td>\n",
       "      <td>9.712441e-42</td>\n",
       "    </tr>\n",
       "    <tr>\n",
       "      <td>8</td>\n",
       "      <td>5.843202e-09</td>\n",
       "      <td>7.643500e-05</td>\n",
       "      <td>7.643500e-05</td>\n",
       "      <td>9.998471e-01</td>\n",
       "    </tr>\n",
       "    <tr>\n",
       "      <td>9</td>\n",
       "      <td>3.881934e-19</td>\n",
       "      <td>6.230517e-10</td>\n",
       "      <td>6.230517e-10</td>\n",
       "      <td>1.000000e+00</td>\n",
       "    </tr>\n",
       "    <tr>\n",
       "      <td>10</td>\n",
       "      <td>1.030573e-13</td>\n",
       "      <td>3.210253e-07</td>\n",
       "      <td>3.210253e-07</td>\n",
       "      <td>9.999994e-01</td>\n",
       "    </tr>\n",
       "  </tbody>\n",
       "</table>\n",
       "</div>"
      ],
      "text/plain": [
       "              UU            UM            MU            MM\n",
       "1   1.000000e+00  1.841495e-18  1.841495e-18  3.391105e-36\n",
       "2   1.000000e+00  4.451579e-14  4.451579e-14  1.981656e-27\n",
       "3   1.000000e+00  7.231953e-22  7.231953e-22  5.230114e-43\n",
       "4   1.000000e+00  4.439537e-17  4.439537e-17  1.970948e-33\n",
       "5   1.000000e+00  1.880042e-38  1.880042e-38  3.534559e-76\n",
       "6   1.000000e+00  1.935268e-11  1.935268e-11  3.745262e-22\n",
       "7   1.000000e+00  3.116479e-21  3.116479e-21  9.712441e-42\n",
       "8   5.843202e-09  7.643500e-05  7.643500e-05  9.998471e-01\n",
       "9   3.881934e-19  6.230517e-10  6.230517e-10  1.000000e+00\n",
       "10  1.030573e-13  3.210253e-07  3.210253e-07  9.999994e-01"
      ]
     },
     "execution_count": 7,
     "metadata": {},
     "output_type": "execute_result"
    }
   ],
   "source": [
    "eighteen[:10]"
   ]
  },
  {
   "cell_type": "code",
   "execution_count": 27,
   "metadata": {},
   "outputs": [],
   "source": [
    "_fiveeightMM = list(itertools.chain.from_iterable(fiveeight[[\"MM\"]].values))\n",
    "_fiveMM = list(itertools.chain.from_iterable(five[[\"MM\"]].values))\n",
    "_twentyfiveMM = list(itertools.chain.from_iterable(twentyfive[[\"MM\"]].values))\n",
    "_eighteenMM = list(itertools.chain.from_iterable(eighteen[[\"MM\"]].values))"
   ]
  },
  {
   "cell_type": "markdown",
   "metadata": {},
   "source": [
    "### Putting it in a dataframe, 25S first:"
   ]
  },
  {
   "cell_type": "code",
   "execution_count": 37,
   "metadata": {},
   "outputs": [],
   "source": [
    "index = np.arange(0,len(_twentyfive))\n",
    "values = pd.DataFrame(np.nan,index=index,columns=[\"5SMM\",\"5.8SMM\",\"18SMM\",\"25SMM\",\"5S\",\"5.8S\",\"18S\",\"25S\"])"
   ]
  },
  {
   "cell_type": "code",
   "execution_count": 38,
   "metadata": {},
   "outputs": [],
   "source": [
    "length = len(_five)-1\n",
    "values.loc[0:length,\"5S\"] = _five\n",
    "\n",
    "length = len(_fiveeight)-1\n",
    "values.loc[0:length,\"5.8S\"] = _fiveeight\n",
    "\n",
    "length = len(_eighteen)-1\n",
    "values.loc[0:length,\"18S\"] = _eighteen\n",
    "\n",
    "length = len(_twentyfive)-1\n",
    "values.loc[0:length,\"25S\"] = _twentyfive\n",
    "\n",
    "length = len(_fiveMM)-1\n",
    "values.loc[0:length,\"5SMM\"] = _fiveMM\n",
    "\n",
    "length = len(_fiveeightMM)-1\n",
    "values.loc[0:length,\"5.8SMM\"] = _fiveeightMM\n",
    "\n",
    "length = len(_eighteenMM)-1\n",
    "values.loc[0:length,\"18SMM\"] = _eighteenMM\n",
    "\n",
    "length = len(_twentyfiveMM)-1\n",
    "values.loc[0:length,\"25SMM\"] = _twentyfiveMM"
   ]
  },
  {
   "cell_type": "code",
   "execution_count": 39,
   "metadata": {},
   "outputs": [
    {
     "data": {
      "text/html": [
       "<div>\n",
       "<style scoped>\n",
       "    .dataframe tbody tr th:only-of-type {\n",
       "        vertical-align: middle;\n",
       "    }\n",
       "\n",
       "    .dataframe tbody tr th {\n",
       "        vertical-align: top;\n",
       "    }\n",
       "\n",
       "    .dataframe thead th {\n",
       "        text-align: right;\n",
       "    }\n",
       "</style>\n",
       "<table border=\"1\" class=\"dataframe\">\n",
       "  <thead>\n",
       "    <tr style=\"text-align: right;\">\n",
       "      <th></th>\n",
       "      <th>5SMM</th>\n",
       "      <th>5.8SMM</th>\n",
       "      <th>18SMM</th>\n",
       "      <th>25SMM</th>\n",
       "      <th>5S</th>\n",
       "      <th>5.8S</th>\n",
       "      <th>18S</th>\n",
       "      <th>25S</th>\n",
       "    </tr>\n",
       "  </thead>\n",
       "  <tbody>\n",
       "    <tr>\n",
       "      <td>0</td>\n",
       "      <td>9.960776e-01</td>\n",
       "      <td>2.816721e-68</td>\n",
       "      <td>3.391105e-36</td>\n",
       "      <td>1.024406e-10</td>\n",
       "      <td>0.001959</td>\n",
       "      <td>1.678309e-34</td>\n",
       "      <td>1.841495e-18</td>\n",
       "      <td>0.000010</td>\n",
       "    </tr>\n",
       "    <tr>\n",
       "      <td>1</td>\n",
       "      <td>9.999878e-01</td>\n",
       "      <td>7.288288e-22</td>\n",
       "      <td>1.981656e-27</td>\n",
       "      <td>2.933843e-01</td>\n",
       "      <td>0.001959</td>\n",
       "      <td>1.678309e-34</td>\n",
       "      <td>1.841495e-18</td>\n",
       "      <td>0.000010</td>\n",
       "    </tr>\n",
       "    <tr>\n",
       "      <td>2</td>\n",
       "      <td>7.136658e-03</td>\n",
       "      <td>2.712988e-44</td>\n",
       "      <td>5.230114e-43</td>\n",
       "      <td>9.884765e-01</td>\n",
       "      <td>0.000006</td>\n",
       "      <td>2.699683e-11</td>\n",
       "      <td>4.451579e-14</td>\n",
       "      <td>0.248265</td>\n",
       "    </tr>\n",
       "    <tr>\n",
       "      <td>3</td>\n",
       "      <td>4.628988e-34</td>\n",
       "      <td>3.532169e-64</td>\n",
       "      <td>1.970948e-33</td>\n",
       "      <td>1.000000e+00</td>\n",
       "      <td>0.000006</td>\n",
       "      <td>2.699683e-11</td>\n",
       "      <td>4.451579e-14</td>\n",
       "      <td>0.248265</td>\n",
       "    </tr>\n",
       "    <tr>\n",
       "      <td>4</td>\n",
       "      <td>3.819163e-59</td>\n",
       "      <td>2.166201e-47</td>\n",
       "      <td>3.534559e-76</td>\n",
       "      <td>1.000000e+00</td>\n",
       "      <td>0.077342</td>\n",
       "      <td>1.647115e-22</td>\n",
       "      <td>7.231953e-22</td>\n",
       "      <td>0.005745</td>\n",
       "    </tr>\n",
       "  </tbody>\n",
       "</table>\n",
       "</div>"
      ],
      "text/plain": [
       "           5SMM        5.8SMM         18SMM         25SMM        5S  \\\n",
       "0  9.960776e-01  2.816721e-68  3.391105e-36  1.024406e-10  0.001959   \n",
       "1  9.999878e-01  7.288288e-22  1.981656e-27  2.933843e-01  0.001959   \n",
       "2  7.136658e-03  2.712988e-44  5.230114e-43  9.884765e-01  0.000006   \n",
       "3  4.628988e-34  3.532169e-64  1.970948e-33  1.000000e+00  0.000006   \n",
       "4  3.819163e-59  2.166201e-47  3.534559e-76  1.000000e+00  0.077342   \n",
       "\n",
       "           5.8S           18S       25S  \n",
       "0  1.678309e-34  1.841495e-18  0.000010  \n",
       "1  1.678309e-34  1.841495e-18  0.000010  \n",
       "2  2.699683e-11  4.451579e-14  0.248265  \n",
       "3  2.699683e-11  4.451579e-14  0.248265  \n",
       "4  1.647115e-22  7.231953e-22  0.005745  "
      ]
     },
     "execution_count": 39,
     "metadata": {},
     "output_type": "execute_result"
    }
   ],
   "source": [
    "values.head()"
   ]
  },
  {
   "cell_type": "markdown",
   "metadata": {},
   "source": [
    "### Making plots:"
   ]
  },
  {
   "cell_type": "code",
   "execution_count": 40,
   "metadata": {},
   "outputs": [
    {
     "data": {
      "text/plain": [
       "array([0. , 0.1, 0.2, 0.3, 0.4, 0.5, 0.6, 0.7, 0.8, 0.9])"
      ]
     },
     "execution_count": 40,
     "metadata": {},
     "output_type": "execute_result"
    }
   ],
   "source": [
    "np.arange(0.0,1.0,0.1)"
   ]
  },
  {
   "cell_type": "code",
   "execution_count": 62,
   "metadata": {},
   "outputs": [
    {
     "data": {
      "image/png": "[encoded data removed]",
      "text/plain": [
       "<Figure size 432x288 with 1 Axes>"
      ]
     },
     "metadata": {},
     "output_type": "display_data"
    }
   ],
   "source": [
    "fig,ax = plt.subplots()\n",
    "ax = sns.boxplot(data=values)\n",
    "ylabels = [0,0.2,0.4,0.6,0.8,1.0]\n",
    "ax.set_yticks(ylabels)\n",
    "ax.set_yticklabels(ylabels)\n",
    "fig.savefig(\"diffBUM_HMM_output_control_samples.pdf\",dpi=400)"
   ]
  },
  {
   "cell_type": "markdown",
   "metadata": {},
   "source": [
    "### Check if anything at all was modified in 5.8S and whether it makes sense with the structure!"
   ]
  },
  {
   "cell_type": "markdown",
   "metadata": {},
   "source": [
    "#### Making 5.8S MM output file:"
   ]
  },
  {
   "cell_type": "code",
   "execution_count": 59,
   "metadata": {},
   "outputs": [],
   "source": [
    "fiveeight[\"MM\"].to_csv(\"5.8S_MM_values.txt\",sep=\"\\t\",header=False)\n",
    "eighteen[\"MM\"].to_csv(\"18S_MM_values.txt\",sep=\"\\t\",header=False)"
   ]
  },
  {
   "cell_type": "code",
   "execution_count": 60,
   "metadata": {},
   "outputs": [
    {
     "name": "stderr",
     "output_type": "stream",
     "text": [
      "\n",
      "Bad key \"text.kerning_factor\" on line 4 in\n",
      "/anaconda3/lib/python3.7/site-packages/matplotlib/mpl-data/stylelib/_classic_test_patch.mplstyle.\n",
      "You probably need to get an updated matplotlibrc file from\n",
      "http://github.com/matplotlib/matplotlib/blob/master/matplotlibrc.template\n",
      "or from the matplotlib source distribution\n"
     ]
    }
   ],
   "source": [
    "%%bash\n",
    "\n",
    "DIR=../../Scripts\n",
    "\n",
    "python $DIR/colorStructureFile.py \\\n",
    "-f \"../../Secondary structure diagrams/5.8S.svg\" \\\n",
    "-d \"5.8S_MM_values.txt\" \\\n",
    "-c BUM_HMM \\\n",
    "-o \"5.8S_MM_values.svg\""
   ]
  },
  {
   "cell_type": "code",
   "execution_count": 61,
   "metadata": {},
   "outputs": [
    {
     "name": "stderr",
     "output_type": "stream",
     "text": [
      "\n",
      "Bad key \"text.kerning_factor\" on line 4 in\n",
      "/anaconda3/lib/python3.7/site-packages/matplotlib/mpl-data/stylelib/_classic_test_patch.mplstyle.\n",
      "You probably need to get an updated matplotlibrc file from\n",
      "http://github.com/matplotlib/matplotlib/blob/master/matplotlibrc.template\n",
      "or from the matplotlib source distribution\n"
     ]
    }
   ],
   "source": [
    "%%bash\n",
    "\n",
    "DIR=../../Scripts\n",
    "\n",
    "python $DIR/colorStructureFile.py \\\n",
    "-f \"../../Secondary structure diagrams/S_cerevisiae.svg\" \\\n",
    "-d \"18S_MM_values.txt\" \\\n",
    "-c BUM_HMM \\\n",
    "-o \"18S_MM_values.svg\""
   ]
  },
  {
   "cell_type": "markdown",
   "metadata": {},
   "source": [
    "### The control dataset is a DMS Structure-Seq dataset. So the expectation would be that mostly A's and C's would be called modified by difBUM_HMM. Check this!!!!:"
   ]
  },
  {
   "cell_type": "code",
   "execution_count": 71,
   "metadata": {},
   "outputs": [],
   "source": [
    "refseq = \"\".join([i.strip() for i in open(\"../../Reference_sequences/18S_refseq.txt\",\"r\").readlines()])"
   ]
  },
  {
   "cell_type": "code",
   "execution_count": 72,
   "metadata": {},
   "outputs": [
    {
     "data": {
      "text/plain": [
       "'TATCTGGTTG'"
      ]
     },
     "execution_count": 72,
     "metadata": {},
     "output_type": "execute_result"
    }
   ],
   "source": [
    "refseq[:10]"
   ]
  },
  {
   "cell_type": "code",
   "execution_count": 73,
   "metadata": {},
   "outputs": [
    {
     "data": {
      "text/plain": [
       "1800"
      ]
     },
     "execution_count": 73,
     "metadata": {},
     "output_type": "execute_result"
    }
   ],
   "source": [
    "len(refseq)"
   ]
  },
  {
   "cell_type": "code",
   "execution_count": 75,
   "metadata": {},
   "outputs": [],
   "source": [
    "significant = eighteen[eighteen.MM >= 0.95].index"
   ]
  },
  {
   "cell_type": "code",
   "execution_count": 77,
   "metadata": {},
   "outputs": [],
   "source": [
    "nucdict = defaultdict(int)\n",
    "for pos in significant:\n",
    "    nuc = refseq[pos-1] ### index is 1-based, sequence is 0-based so subtract 1\n",
    "    nucdict[nuc] += 1"
   ]
  },
  {
   "cell_type": "code",
   "execution_count": 78,
   "metadata": {},
   "outputs": [
    {
     "data": {
      "text/plain": [
       "defaultdict(int, {'T': 35, 'G': 17, 'A': 154, 'C': 47})"
      ]
     },
     "execution_count": 78,
     "metadata": {},
     "output_type": "execute_result"
    }
   ],
   "source": [
    "nucdict"
   ]
  },
  {
   "cell_type": "code",
   "execution_count": 87,
   "metadata": {},
   "outputs": [
    {
     "data": {
      "image/png": "[encoded data removed]",
      "text/plain": [
       "<Figure size 432x288 with 1 Axes>"
      ]
     },
     "metadata": {},
     "output_type": "display_data"
    }
   ],
   "source": [
    "fig,ax = plt.subplots()\n",
    "x = np.arange(len(nucdict.keys()))\n",
    "y = nucdict.values()\n",
    "ax.bar(x,y)\n",
    "ax.set_xticks([0,1,2,3])\n",
    "ax.set_xticklabels([\"T\",\"G\",\"A\",\"C\"],fontsize=18)\n",
    "ax.set_ylabel(\"Nucleotide Count\",fontsize=14)\n",
    "ax.set_xlabel(\"Nucleotide\",fontsize=14)\n",
    "fig.savefig(\"18S_rRNA_control_MM_nucleotide_counts.pdf\",dpi=400)"
   ]
  },
  {
   "cell_type": "code",
   "execution_count": null,
   "metadata": {},
   "outputs": [],
   "source": []
  },
  {
   "cell_type": "code",
   "execution_count": null,
   "metadata": {},
   "outputs": [],
   "source": []
  },
  {
   "cell_type": "code",
   "execution_count": null,
   "metadata": {},
   "outputs": [],
   "source": []
  }
 ],
 "metadata": {
  "kernelspec": {
   "display_name": "Python 3",
   "language": "python",
   "name": "python3"
  },
  "language_info": {
   "codemirror_mode": {
    "name": "ipython",
    "version": 3
   },
   "file_extension": ".py",
   "mimetype": "text/x-python",
   "name": "python",
   "nbconvert_exporter": "python",
   "pygments_lexer": "ipython3",
   "version": "3.7.1"
  }
 },
 "nbformat": 4,
 "nbformat_minor": 2
}
