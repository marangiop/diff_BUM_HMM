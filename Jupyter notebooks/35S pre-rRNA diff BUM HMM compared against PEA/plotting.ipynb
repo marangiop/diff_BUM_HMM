{
 "cells": [
  {
   "cell_type": "code",
   "execution_count": 1,
   "metadata": {},
   "outputs": [],
   "source": [
    "import sys\n",
    "import pandas as pd\n",
    "import numpy as np\n",
    "import matplotlib.pyplot as plt\n",
    "from matplotlib import rcParams\n",
    "rcParams['font.family'] = 'sans-serif'\n",
    "rcParams['font.sans-serif'] = ['Arial']"
   ]
  },
  {
   "cell_type": "code",
   "execution_count": 2,
   "metadata": {},
   "outputs": [
    {
     "data": {
      "text/plain": [
       "<bound method NDFrame.head of                UM             MU\n",
       "270  1.610805e-11   1.586054e-07\n",
       "271  1.407343e-13   6.084909e-21\n",
       "272  1.036717e-11   6.032699e-26\n",
       "273  3.946810e-28   6.876148e-57\n",
       "274  3.802900e-28   3.491450e-58\n",
       "275  8.958519e-11   1.066627e-60\n",
       "276  6.808013e-22   8.155365e-57\n",
       "277  1.119753e-20   9.716468e-61\n",
       "278  1.371585e-34   9.562209e-53\n",
       "279  6.115684e-23   2.781670e-34\n",
       "280  1.497805e-05   1.718540e-14\n",
       "281  9.950746e-01   5.251767e-38\n",
       "282  9.985545e-01   6.929247e-60\n",
       "283  2.849179e-27   3.764359e-70\n",
       "284  8.166069e-78  7.261607e-116\n",
       "285  4.790286e-26   6.240554e-69\n",
       "286  7.401482e-10   1.628728e-29\n",
       "287  1.026336e-20   5.443082e-40\n",
       "288  1.591416e-26   5.581048e-60\n",
       "289  5.968215e-37   4.064507e-64\n",
       "290  6.578168e-35   1.148222e-35\n",
       "291  3.681830e-33   3.883102e-56\n",
       "292  4.257704e-22   5.232182e-58\n",
       "293  3.540301e-61   1.774854e-83\n",
       "294  5.816544e-47   5.966831e-76\n",
       "295  1.480093e-22   1.369877e-47\n",
       "296  3.429197e-94  1.073187e-130\n",
       "297  1.198197e-20   2.266247e-46\n",
       "298  8.058807e-16   2.676470e-41\n",
       "299  1.707711e-07   5.113787e-37\n",
       "..            ...            ...\n",
       "326  5.637020e-15   1.574678e-46\n",
       "327  1.123086e-01   3.993138e-07\n",
       "328  9.999764e-01   9.005116e-24\n",
       "329  4.743206e-14   7.421309e-28\n",
       "330  1.076626e-42   2.268350e-41\n",
       "331  2.028295e-15   3.575253e-44\n",
       "332  3.479297e-03   3.819411e-22\n",
       "333  1.064841e-24   2.735635e-22\n",
       "334  5.445336e-15   9.164096e-18\n",
       "335  1.069537e-21   1.077824e-23\n",
       "336  2.368961e-09   8.949067e-35\n",
       "337  9.050874e-13   1.350942e-33\n",
       "338  2.397905e-02   2.877287e-06\n",
       "339  1.670460e-05   5.957973e-05\n",
       "340  9.295406e-06   2.031703e-03\n",
       "341  8.182796e-15   2.062810e-02\n",
       "342  7.850632e-29   1.211121e-11\n",
       "343  8.509545e-56   1.555533e-50\n",
       "344  1.830660e-55   1.053315e-47\n",
       "345  2.072056e-40   3.633703e-27\n",
       "346  5.998696e-39   1.339887e-24\n",
       "347  6.651093e-21   1.290452e-19\n",
       "348  3.022513e-11   3.029117e-16\n",
       "349  3.138362e-20   3.530147e-35\n",
       "350  7.214224e-24   1.831592e-27\n",
       "351  2.334063e-16   1.441920e-27\n",
       "352  8.773244e-04   1.168653e-09\n",
       "353  1.283004e-02   1.610274e-06\n",
       "354  1.263522e-03   1.688856e-03\n",
       "355  1.186766e-13   3.343183e-13\n",
       "\n",
       "[86 rows x 2 columns]>"
      ]
     },
     "execution_count": 2,
     "metadata": {},
     "output_type": "execute_result"
    }
   ],
   "source": [
    "#Getting region 270-355 for DIFF BUM HMM OUTPUT \n",
    "\n",
    "df_diff_bumhmm_output = pd.read_csv('C:/Users/maran/Desktop/diff_BUM_HMM_Project/Github/diff_BUM_HMM/35S_diffBUM_HMM_WT_vs_Erb1_diff_BUM_HMM_analysed.txt', sep=\"\\t\", header=0)\n",
    "df_diff_bumhmm_output = df_diff_bumhmm_output.iloc [269:355, 1:3]\n",
    "\n",
    "#df_diff_bumhmm_output= df_diff_bumhmm_output.iloc[0:10, :]\n",
    "\n",
    "df_diff_bumhmm_output.head"
   ]
  },
  {
   "cell_type": "code",
   "execution_count": 3,
   "metadata": {},
   "outputs": [
    {
     "data": {
      "text/plain": [
       "<bound method NDFrame.head of      positions  deltaErb    delta5\n",
       "269        270  0.000000  0.000000\n",
       "270        271  0.000000  0.000000\n",
       "271        272  0.251014  0.000000\n",
       "272        273  0.000000  0.000000\n",
       "273        274  0.000000  0.000000\n",
       "274        275  0.000000  0.000000\n",
       "275        276  0.451733  0.276446\n",
       "276        277  0.479568  0.351000\n",
       "277        278  0.000000  0.000000\n",
       "278        279  0.000000  0.000000\n",
       "279        280  0.000000  0.000000\n",
       "280        281  0.339467  0.313167\n",
       "281        282  0.396604  0.000000\n",
       "282        283  0.762305  0.275519\n",
       "283        284  0.000000  0.000000\n",
       "284        285  0.000000  0.000000\n",
       "285        286  0.000000  0.000000\n",
       "286        287  0.000000  0.000000\n",
       "287        288  0.000000  0.000000\n",
       "288        289  0.000000  0.000000\n",
       "289        290  0.000000  0.000000\n",
       "290        291  0.000000  0.000000\n",
       "291        292  0.000000  0.000000\n",
       "292        293  0.000000  0.000000\n",
       "293        294  0.000000  0.000000\n",
       "294        295  0.000000  0.000000\n",
       "295        296  0.000000  0.000000\n",
       "296        297  0.000000  0.000000\n",
       "297        298  0.000000  0.000000\n",
       "298        299  0.000000  0.000000\n",
       "..         ...       ...       ...\n",
       "325        326  0.452185  0.600889\n",
       "326        327  0.278879  0.280699\n",
       "327        328  1.026756  0.807905\n",
       "328        329  0.630525  0.501358\n",
       "329        330  0.000000  0.310479\n",
       "330        331  0.849085  1.397671\n",
       "331        332  0.571927  0.447733\n",
       "332        333  0.000000  0.000000\n",
       "333        334  0.558295  0.409315\n",
       "334        335  0.865589  0.612618\n",
       "335        336  0.828570  0.580983\n",
       "336        337  0.187893  0.000000\n",
       "337        338  0.427850  0.313123\n",
       "338        339  1.371210  1.056056\n",
       "339        340  0.548048  0.562355\n",
       "340        341  1.988862  1.924500\n",
       "341        342  0.615616  1.164011\n",
       "342        343  0.000000  0.000000\n",
       "343        344  0.000000  0.000000\n",
       "344        345  0.000000  0.000000\n",
       "345        346  0.000000  0.000000\n",
       "346        347  0.000000  0.000000\n",
       "347        348  0.000000  0.000000\n",
       "348        349  0.310946  0.000000\n",
       "349        350  0.000000  0.000000\n",
       "350        351  0.284771  0.000000\n",
       "351        352  0.000000  0.000000\n",
       "352        353  0.000000  0.000000\n",
       "353        354  0.386099  0.000000\n",
       "354        355  0.473661  0.576938\n",
       "\n",
       "[86 rows x 3 columns]>"
      ]
     },
     "execution_count": 3,
     "metadata": {},
     "output_type": "execute_result"
    }
   ],
   "source": [
    "#Getting region 270-355 FOR PEA DATA\n",
    "\n",
    "df_pea_output = pd.read_csv('C:/Users/maran/Desktop/diff_BUM_HMM_Project/Github/diff_BUM_HMM/Data/35S_pre_rRNA_PEA_data.txt', sep=\"\\t\", header=0)\n",
    "df_pea_output = df_pea_output.iloc[269:355, :]\n",
    "\n",
    "#df_pea_output = df_pea_output.iloc[0:10, :]\n",
    "df_pea_output.head\n",
    "\n"
   ]
  },
  {
   "cell_type": "code",
   "execution_count": 4,
   "metadata": {},
   "outputs": [
    {
     "data": {
      "text/plain": [
       "<bound method NDFrame.head of            deltaErb    delta5            UM             MU\n",
       "positions                                                 \n",
       "270        0.000000  0.000000  1.610805e-11   1.586054e-07\n",
       "271        0.000000  0.000000  1.407343e-13   6.084909e-21\n",
       "272        0.251014  0.000000  1.036717e-11   6.032699e-26\n",
       "273        0.000000  0.000000  3.946810e-28   6.876148e-57\n",
       "274        0.000000  0.000000  3.802900e-28   3.491450e-58\n",
       "275        0.000000  0.000000  8.958519e-11   1.066627e-60\n",
       "276        0.451733  0.276446  6.808013e-22   8.155365e-57\n",
       "277        0.479568  0.351000  1.119753e-20   9.716468e-61\n",
       "278        0.000000  0.000000  1.371585e-34   9.562209e-53\n",
       "279        0.000000  0.000000  6.115684e-23   2.781670e-34\n",
       "280        0.000000  0.000000  1.497805e-05   1.718540e-14\n",
       "281        0.339467  0.313167  9.950746e-01   5.251767e-38\n",
       "282        0.396604  0.000000  9.985545e-01   6.929247e-60\n",
       "283        0.762305  0.275519  2.849179e-27   3.764359e-70\n",
       "284        0.000000  0.000000  8.166069e-78  7.261607e-116\n",
       "285        0.000000  0.000000  4.790286e-26   6.240554e-69\n",
       "286        0.000000  0.000000  7.401482e-10   1.628728e-29\n",
       "287        0.000000  0.000000  1.026336e-20   5.443082e-40\n",
       "288        0.000000  0.000000  1.591416e-26   5.581048e-60\n",
       "289        0.000000  0.000000  5.968215e-37   4.064507e-64\n",
       "290        0.000000  0.000000  6.578168e-35   1.148222e-35\n",
       "291        0.000000  0.000000  3.681830e-33   3.883102e-56\n",
       "292        0.000000  0.000000  4.257704e-22   5.232182e-58\n",
       "293        0.000000  0.000000  3.540301e-61   1.774854e-83\n",
       "294        0.000000  0.000000  5.816544e-47   5.966831e-76\n",
       "295        0.000000  0.000000  1.480093e-22   1.369877e-47\n",
       "296        0.000000  0.000000  3.429197e-94  1.073187e-130\n",
       "297        0.000000  0.000000  1.198197e-20   2.266247e-46\n",
       "298        0.000000  0.000000  8.058807e-16   2.676470e-41\n",
       "299        0.000000  0.000000  1.707711e-07   5.113787e-37\n",
       "...             ...       ...           ...            ...\n",
       "326        0.452185  0.600889  5.637020e-15   1.574678e-46\n",
       "327        0.278879  0.280699  1.123086e-01   3.993138e-07\n",
       "328        1.026756  0.807905  9.999764e-01   9.005116e-24\n",
       "329        0.630525  0.501358  4.743206e-14   7.421309e-28\n",
       "330        0.000000  0.310479  1.076626e-42   2.268350e-41\n",
       "331        0.849085  1.397671  2.028295e-15   3.575253e-44\n",
       "332        0.571927  0.447733  3.479297e-03   3.819411e-22\n",
       "333        0.000000  0.000000  1.064841e-24   2.735635e-22\n",
       "334        0.558295  0.409315  5.445336e-15   9.164096e-18\n",
       "335        0.865589  0.612618  1.069537e-21   1.077824e-23\n",
       "336        0.828570  0.580983  2.368961e-09   8.949067e-35\n",
       "337        0.187893  0.000000  9.050874e-13   1.350942e-33\n",
       "338        0.427850  0.313123  2.397905e-02   2.877287e-06\n",
       "339        1.371210  1.056056  1.670460e-05   5.957973e-05\n",
       "340        0.548048  0.562355  9.295406e-06   2.031703e-03\n",
       "341        1.988862  1.924500  8.182796e-15   2.062810e-02\n",
       "342        0.615616  1.164011  7.850632e-29   1.211121e-11\n",
       "343        0.000000  0.000000  8.509545e-56   1.555533e-50\n",
       "344        0.000000  0.000000  1.830660e-55   1.053315e-47\n",
       "345        0.000000  0.000000  2.072056e-40   3.633703e-27\n",
       "346        0.000000  0.000000  5.998696e-39   1.339887e-24\n",
       "347        0.000000  0.000000  6.651093e-21   1.290452e-19\n",
       "348        0.000000  0.000000  3.022513e-11   3.029117e-16\n",
       "349        0.310946  0.000000  3.138362e-20   3.530147e-35\n",
       "350        0.000000  0.000000  7.214224e-24   1.831592e-27\n",
       "351        0.284771  0.000000  2.334063e-16   1.441920e-27\n",
       "352        0.000000  0.000000  8.773244e-04   1.168653e-09\n",
       "353        0.000000  0.000000  1.283004e-02   1.610274e-06\n",
       "354        0.386099  0.000000  1.263522e-03   1.688856e-03\n",
       "355        0.473661  0.576938  1.186766e-13   3.343183e-13\n",
       "\n",
       "[86 rows x 4 columns]>"
      ]
     },
     "execution_count": 4,
     "metadata": {},
     "output_type": "execute_result"
    }
   ],
   "source": [
    "#MERGING THE DATAFRAMES \n",
    "new_df = df_pea_output.set_index('positions').join(df_diff_bumhmm_output)\n",
    "new_df.head"
   ]
  },
  {
   "cell_type": "code",
   "execution_count": 5,
   "metadata": {},
   "outputs": [],
   "source": [
    "#THRESHOLDING DIFF BUM HMM OUTPUT\n",
    "new_df['UM'] = [0 if x<0.95 else x for x in new_df['UM']]\n",
    "new_df['MU'] = [0 if x<0.95 else x for x in new_df['MU']]"
   ]
  },
  {
   "cell_type": "code",
   "execution_count": 6,
   "metadata": {},
   "outputs": [],
   "source": [
    "#print(new_df.columns)\n",
    "new_df = new_df[['MU', 'UM','delta5','deltaErb']]\n",
    "#print(new_df.columns)\n",
    "\n",
    "new_df.columns = ['more flexible in delta5 - DIFF BUM HMM', 'more flexible in Erb1 - DIFF BUM HMM','delta5 - PEA', 'Erb1 - PEA'  ]\n",
    "#print(new_df.columns)"
   ]
  },
  {
   "cell_type": "code",
   "execution_count": 7,
   "metadata": {},
   "outputs": [
    {
     "name": "stdout",
     "output_type": "stream",
     "text": [
      "Index(['more flexible in delta5 - DIFF BUM HMM',\n",
      "       'more flexible in Erb1 - DIFF BUM HMM', 'delta5 - PEA', 'Erb1 - PEA'],\n",
      "      dtype='object')\n"
     ]
    }
   ],
   "source": [
    "print(new_df.columns)"
   ]
  },
  {
   "cell_type": "code",
   "execution_count": 8,
   "metadata": {},
   "outputs": [],
   "source": [
    "with open('C:/Users/maran/Desktop/diff_BUM_HMM_Project/Github/diff_BUM_HMM/Reference sequences/35S pre-rRNA_refseq.seq', 'r') as file:\n",
    "    ref_sequence = file.read().replace('\\n', '')\n",
    "#print(ref_sequence)\n",
    "\n",
    "subsequence= []\n",
    "for i in ref_sequence[269:355]: \n",
    "    subsequence.append(i)\n",
    "    \n",
    "#column_values = pd.Series(mylist)\n",
    "#Then use the insert function to add the column. This function has the advantage to let you choose in which position you want to place the column. In the following example we will position the new column in the first position from left (by setting loc=0)\n",
    "#column_values = pd.Series(subsequence)\n",
    "#column_values = column_values.reset_index()\n",
    "new_df.insert(loc=4, column='nucleotide', value=subsequence)\n",
    "#print(column_values)\n"
   ]
  },
  {
   "cell_type": "code",
   "execution_count": 9,
   "metadata": {},
   "outputs": [
    {
     "data": {
      "image/png": "[encoded data removed]",
      "text/plain": [
       "<Figure size 1440x720 with 4 Axes>"
      ]
     },
     "metadata": {
      "needs_background": "light"
     },
     "output_type": "display_data"
    }
   ],
   "source": [
    "fig,ax = plt.subplots(4,sharex=True,figsize=[20,10])\n",
    "x = new_df.index\n",
    "for i in range(4):\n",
    "    column = new_df.columns[i]\n",
    "    y = new_df[column]\n",
    "    ax[i].bar(x,y)\n",
    "    ax[i].set_xticklabels(x,fontsize=16)\n",
    "    miny = 0\n",
    "    maxy = 3\n",
    "    yticks = np.arange(miny,maxy+1,1)\n",
    "    ax[i].set_yticklabels(yticks,fontsize=16)\n",
    "    xticks = np.arange(min(x),max(x)+1)\n",
    "    ax[i].set_xticks(xticks)\n",
    "    nucleotides = new_df['nucleotide']\n",
    "    ax[i].set_xticklabels(nucleotides)\n",
    "    ax[i].legend([column])\n",
    "fig.savefig(\"diff_BUM_HMM_vs_PEA_plot_270_355.pdf\",dpi=400)   "
   ]
  },
  {
   "cell_type": "code",
   "execution_count": null,
   "metadata": {},
   "outputs": [],
   "source": [
    "\n"
   ]
  },
  {
   "cell_type": "code",
   "execution_count": null,
   "metadata": {},
   "outputs": [],
   "source": []
  },
  {
   "cell_type": "code",
   "execution_count": 10,
   "metadata": {},
   "outputs": [
    {
     "data": {
      "text/plain": [
       "<bound method NDFrame.head of                 UM            MU\n",
       "370   5.095208e-14  2.141657e-17\n",
       "371   9.073893e-23  4.445520e-29\n",
       "372   7.884467e-36  4.866210e-30\n",
       "373   4.084045e-72  4.382681e-52\n",
       "374   4.295276e-59  2.586848e-41\n",
       "375   3.595528e-65  1.805399e-52\n",
       "376  4.990138e-105  2.623042e-80\n",
       "377   1.802541e-51  2.999490e-53\n",
       "378   5.671276e-65  7.538067e-50\n",
       "379   2.701896e-14  6.918073e-11\n",
       "380   9.937746e-32  3.113985e-20\n",
       "381   4.106143e-23  2.995389e-14\n",
       "382   2.432438e-12  1.482121e-07\n",
       "383   1.890507e-20  2.381992e-16\n",
       "384   3.193935e-10  6.871806e-10\n",
       "385   3.875090e-11  1.596933e-16\n",
       "386   1.219403e-07  5.536761e-12\n",
       "387   6.093322e-44  1.017272e-21\n",
       "388   1.805399e-52  2.901752e-43\n",
       "389   7.061153e-49  2.559090e-34\n",
       "390   1.618796e-32  3.425156e-19\n",
       "391   5.833180e-31  4.122550e-37\n",
       "392   1.703457e-04  1.848477e-12\n",
       "393   1.191247e-51  7.353021e-34\n",
       "394   1.161088e-26  3.222501e-06\n",
       "395   4.693303e-24  9.392637e-14\n",
       "396   6.090991e-07  1.928883e-05\n",
       "397   8.169958e-09  9.937750e-01\n",
       "398   1.911826e-51  8.687530e-53\n",
       "399   5.801363e-38  9.366737e-52\n",
       "..             ...           ...\n",
       "471   1.287995e-26  6.876160e-75\n",
       "472   9.999997e-01  4.225376e-21\n",
       "473   1.000000e+00  7.217627e-17\n",
       "474   1.929894e-01  1.041113e-09\n",
       "475   1.000000e+00  3.056906e-18\n",
       "476   9.999608e-01  1.249597e-13\n",
       "477   9.999295e-01  5.762315e-22\n",
       "478   9.999886e-01  5.069134e-12\n",
       "479   7.554403e-04  1.648652e-12\n",
       "480   9.407302e-26  1.745931e-20\n",
       "481   1.833248e-35  3.029411e-30\n",
       "482   7.622690e-05  1.546075e-03\n",
       "483   5.020796e-08  2.070980e-03\n",
       "484   2.964254e-06  5.598923e-02\n",
       "485   4.623581e-20  2.867845e-05\n",
       "486   9.598834e-07  8.804266e-01\n",
       "487   4.414068e-07  1.755760e-03\n",
       "488   2.171636e-07  7.913342e-06\n",
       "489   3.869247e-11  3.019460e-06\n",
       "490   3.419799e-21  1.604655e-05\n",
       "491   3.786729e-09  4.778158e-01\n",
       "492   2.584851e-08  3.500544e-10\n",
       "493   1.307799e-04  9.640283e-01\n",
       "494   9.695913e-36  1.154471e-09\n",
       "495   9.663734e-33  1.972032e-23\n",
       "496   2.333310e-23  2.875762e-30\n",
       "497   2.566885e-28  2.136609e-22\n",
       "498   3.064362e-30  2.670660e-26\n",
       "499   1.237366e-47  4.311362e-35\n",
       "500   1.130394e-46  2.269842e-32\n",
       "\n",
       "[131 rows x 2 columns]>"
      ]
     },
     "execution_count": 10,
     "metadata": {},
     "output_type": "execute_result"
    }
   ],
   "source": [
    "#Getting region 370-500 for DIFF BUM HMM OUTPUT \n",
    "\n",
    "df_diff_bumhmm_output = pd.read_csv('C:/Users/maran/Desktop/diff_BUM_HMM_Project/Github/diff_BUM_HMM/35S_diffBUM_HMM_WT_vs_Erb1_diff_BUM_HMM_analysed.txt', sep=\"\\t\", header=0)\n",
    "df_diff_bumhmm_output = df_diff_bumhmm_output.iloc [369:500, 1:3]\n",
    "\n",
    "#df_diff_bumhmm_output= df_diff_bumhmm_output.iloc[0:10, :]\n",
    "\n",
    "df_diff_bumhmm_output.head"
   ]
  },
  {
   "cell_type": "code",
   "execution_count": 11,
   "metadata": {},
   "outputs": [
    {
     "data": {
      "text/plain": [
       "<bound method NDFrame.head of      positions  deltaErb    delta5\n",
       "369        370  0.000000  0.000000\n",
       "370        371  0.000000  0.000000\n",
       "371        372  0.000000  0.000000\n",
       "372        373  0.000000  0.000000\n",
       "373        374  0.000000  0.000000\n",
       "374        375  0.000000  0.000000\n",
       "375        376  0.000000  0.000000\n",
       "376        377  0.000000  0.000000\n",
       "377        378  0.000000  0.000000\n",
       "378        379  0.000000  0.000000\n",
       "379        380  0.000000  0.000000\n",
       "380        381  0.000000  0.000000\n",
       "381        382  0.325647  0.322743\n",
       "382        383  0.000000  0.000000\n",
       "383        384  0.000000  0.000000\n",
       "384        385  0.000000  0.000000\n",
       "385        386  0.000000  0.000000\n",
       "386        387  0.000000  0.000000\n",
       "387        388  0.000000  0.000000\n",
       "388        389  0.000000  0.000000\n",
       "389        390  0.000000  0.000000\n",
       "390        391  0.000000  0.000000\n",
       "391        392  0.309052  0.000000\n",
       "392        393  0.000000  0.000000\n",
       "393        394  0.000000  0.290721\n",
       "394        395  0.000000  0.262954\n",
       "395        396  0.640433  0.989984\n",
       "396        397  0.000000  0.389374\n",
       "397        398  0.000000  0.000000\n",
       "398        399  0.000000  0.000000\n",
       "..         ...       ...       ...\n",
       "470        471  0.549541  0.259114\n",
       "471        472  1.040949  0.405170\n",
       "472        473  1.148574  0.469447\n",
       "473        474  1.301928  0.514079\n",
       "474        475  1.110133  0.366436\n",
       "475        476  0.854667  0.392208\n",
       "476        477  0.625320  0.273308\n",
       "477        478  0.718086  0.309258\n",
       "478        479  0.000000  0.000000\n",
       "479        480  0.000000  0.000000\n",
       "480        481  0.370552  0.484043\n",
       "481        482  0.804347  0.728434\n",
       "482        483  0.407951  0.605692\n",
       "483        484  0.525832  0.969184\n",
       "484        485  0.000000  0.254795\n",
       "485        486  0.820811  1.458995\n",
       "486        487  1.257353  2.038779\n",
       "487        488  1.257656  1.785754\n",
       "488        489  0.490784  0.639531\n",
       "489        490  0.000000  0.295156\n",
       "490        491  0.902176  1.062552\n",
       "491        492  1.265385  1.278419\n",
       "492        493  0.766828  0.663980\n",
       "493        494  0.000000  0.000000\n",
       "494        495  0.000000  0.000000\n",
       "495        496  0.293768  0.000000\n",
       "496        497  0.000000  0.000000\n",
       "497        498  0.272513  0.000000\n",
       "498        499  0.260559  0.000000\n",
       "499        500  0.255729  0.000000\n",
       "\n",
       "[131 rows x 3 columns]>"
      ]
     },
     "execution_count": 11,
     "metadata": {},
     "output_type": "execute_result"
    }
   ],
   "source": [
    "#Getting region 370-500 FOR PEA DATA\n",
    "\n",
    "df_pea_output = pd.read_csv('C:/Users/maran/Desktop/diff_BUM_HMM_Project/Github/diff_BUM_HMM/Data/35S_pre_rRNA_PEA_data.txt', sep=\"\\t\", header=0)\n",
    "df_pea_output = df_pea_output.iloc[369:500, :]\n",
    "\n",
    "#df_pea_output = df_pea_output.iloc[0:10, :]\n",
    "df_pea_output.head"
   ]
  },
  {
   "cell_type": "code",
   "execution_count": 12,
   "metadata": {},
   "outputs": [
    {
     "data": {
      "text/plain": [
       "<bound method NDFrame.head of            deltaErb    delta5             UM            MU\n",
       "positions                                                 \n",
       "370        0.000000  0.000000   5.095208e-14  2.141657e-17\n",
       "371        0.000000  0.000000   9.073893e-23  4.445520e-29\n",
       "372        0.000000  0.000000   7.884467e-36  4.866210e-30\n",
       "373        0.000000  0.000000   4.084045e-72  4.382681e-52\n",
       "374        0.000000  0.000000   4.295276e-59  2.586848e-41\n",
       "375        0.000000  0.000000   3.595528e-65  1.805399e-52\n",
       "376        0.000000  0.000000  4.990138e-105  2.623042e-80\n",
       "377        0.000000  0.000000   1.802541e-51  2.999490e-53\n",
       "378        0.000000  0.000000   5.671276e-65  7.538067e-50\n",
       "379        0.000000  0.000000   2.701896e-14  6.918073e-11\n",
       "380        0.000000  0.000000   9.937746e-32  3.113985e-20\n",
       "381        0.000000  0.000000   4.106143e-23  2.995389e-14\n",
       "382        0.325647  0.322743   2.432438e-12  1.482121e-07\n",
       "383        0.000000  0.000000   1.890507e-20  2.381992e-16\n",
       "384        0.000000  0.000000   3.193935e-10  6.871806e-10\n",
       "385        0.000000  0.000000   3.875090e-11  1.596933e-16\n",
       "386        0.000000  0.000000   1.219403e-07  5.536761e-12\n",
       "387        0.000000  0.000000   6.093322e-44  1.017272e-21\n",
       "388        0.000000  0.000000   1.805399e-52  2.901752e-43\n",
       "389        0.000000  0.000000   7.061153e-49  2.559090e-34\n",
       "390        0.000000  0.000000   1.618796e-32  3.425156e-19\n",
       "391        0.000000  0.000000   5.833180e-31  4.122550e-37\n",
       "392        0.309052  0.000000   1.703457e-04  1.848477e-12\n",
       "393        0.000000  0.000000   1.191247e-51  7.353021e-34\n",
       "394        0.000000  0.290721   1.161088e-26  3.222501e-06\n",
       "395        0.000000  0.262954   4.693303e-24  9.392637e-14\n",
       "396        0.640433  0.989984   6.090991e-07  1.928883e-05\n",
       "397        0.000000  0.389374   8.169958e-09  9.937750e-01\n",
       "398        0.000000  0.000000   1.911826e-51  8.687530e-53\n",
       "399        0.000000  0.000000   5.801363e-38  9.366737e-52\n",
       "...             ...       ...            ...           ...\n",
       "471        0.549541  0.259114   1.287995e-26  6.876160e-75\n",
       "472        1.040949  0.405170   9.999997e-01  4.225376e-21\n",
       "473        1.148574  0.469447   1.000000e+00  7.217627e-17\n",
       "474        1.301928  0.514079   1.929894e-01  1.041113e-09\n",
       "475        1.110133  0.366436   1.000000e+00  3.056906e-18\n",
       "476        0.854667  0.392208   9.999608e-01  1.249597e-13\n",
       "477        0.625320  0.273308   9.999295e-01  5.762315e-22\n",
       "478        0.718086  0.309258   9.999886e-01  5.069134e-12\n",
       "479        0.000000  0.000000   7.554403e-04  1.648652e-12\n",
       "480        0.000000  0.000000   9.407302e-26  1.745931e-20\n",
       "481        0.370552  0.484043   1.833248e-35  3.029411e-30\n",
       "482        0.804347  0.728434   7.622690e-05  1.546075e-03\n",
       "483        0.407951  0.605692   5.020796e-08  2.070980e-03\n",
       "484        0.525832  0.969184   2.964254e-06  5.598923e-02\n",
       "485        0.000000  0.254795   4.623581e-20  2.867845e-05\n",
       "486        0.820811  1.458995   9.598834e-07  8.804266e-01\n",
       "487        1.257353  2.038779   4.414068e-07  1.755760e-03\n",
       "488        1.257656  1.785754   2.171636e-07  7.913342e-06\n",
       "489        0.490784  0.639531   3.869247e-11  3.019460e-06\n",
       "490        0.000000  0.295156   3.419799e-21  1.604655e-05\n",
       "491        0.902176  1.062552   3.786729e-09  4.778158e-01\n",
       "492        1.265385  1.278419   2.584851e-08  3.500544e-10\n",
       "493        0.766828  0.663980   1.307799e-04  9.640283e-01\n",
       "494        0.000000  0.000000   9.695913e-36  1.154471e-09\n",
       "495        0.000000  0.000000   9.663734e-33  1.972032e-23\n",
       "496        0.293768  0.000000   2.333310e-23  2.875762e-30\n",
       "497        0.000000  0.000000   2.566885e-28  2.136609e-22\n",
       "498        0.272513  0.000000   3.064362e-30  2.670660e-26\n",
       "499        0.260559  0.000000   1.237366e-47  4.311362e-35\n",
       "500        0.255729  0.000000   1.130394e-46  2.269842e-32\n",
       "\n",
       "[131 rows x 4 columns]>"
      ]
     },
     "execution_count": 12,
     "metadata": {},
     "output_type": "execute_result"
    }
   ],
   "source": [
    "#MERGING THE DATAFRAMES \n",
    "new_df = df_pea_output.set_index('positions').join(df_diff_bumhmm_output)\n",
    "new_df.head"
   ]
  },
  {
   "cell_type": "code",
   "execution_count": 13,
   "metadata": {},
   "outputs": [],
   "source": [
    "#THRESHOLDING DIFF BUM HMM OUTPUT\n",
    "new_df['UM'] = [0 if x<0.95 else x for x in new_df['UM']]\n",
    "new_df['MU'] = [0 if x<0.95 else x for x in new_df['MU']]"
   ]
  },
  {
   "cell_type": "code",
   "execution_count": 14,
   "metadata": {},
   "outputs": [],
   "source": [
    "#print(new_df.columns)\n",
    "new_df = new_df[['MU', 'UM','delta5','deltaErb']]\n",
    "#print(new_df.columns)\n",
    "\n",
    "new_df.columns = ['more flexible in delta5 - DIFF BUM HMM', 'more flexible in Erb1 - DIFF BUM HMM','delta5 - PEA', 'Erb1 - PEA'  ]\n",
    "#print(new_df.columns)"
   ]
  },
  {
   "cell_type": "code",
   "execution_count": 15,
   "metadata": {},
   "outputs": [],
   "source": [
    "with open('C:/Users/maran/Desktop/diff_BUM_HMM_Project/Github/diff_BUM_HMM/Reference sequences/35S pre-rRNA_refseq.seq', 'r') as file:\n",
    "    ref_sequence = file.read().replace('\\n', '')\n",
    "#print(ref_sequence)\n",
    "\n",
    "subsequence= []\n",
    "for i in ref_sequence[369:500]: \n",
    "    subsequence.append(i)\n",
    "    \n",
    "#column_values = pd.Series(mylist)\n",
    "#Then use the insert function to add the column. This function has the advantage to let you choose in which position you want to place the column. In the following example we will position the new column in the first position from left (by setting loc=0)\n",
    "#column_values = pd.Series(subsequence)\n",
    "#column_values = column_values.reset_index()\n",
    "new_df.insert(loc=4, column='nucleotide', value=subsequence)\n",
    "#print(column_values)\n"
   ]
  },
  {
   "cell_type": "code",
   "execution_count": 17,
   "metadata": {},
   "outputs": [
    {
     "data": {
      "image/png": "[encoded data removed]",
      "text/plain": [
       "<Figure size 1440x720 with 4 Axes>"
      ]
     },
     "metadata": {
      "needs_background": "light"
     },
     "output_type": "display_data"
    }
   ],
   "source": [
    "fig,ax = plt.subplots(4,sharex=True,figsize=[20,10])\n",
    "x = new_df.index\n",
    "for i in range(4):\n",
    "    column = new_df.columns[i]\n",
    "    y = new_df[column]\n",
    "    ax[i].bar(x,y)\n",
    "    ax[i].set_xticklabels(x,fontsize=16)\n",
    "    miny = 0\n",
    "    maxy = 3\n",
    "    yticks = np.arange(miny,maxy+1,1)\n",
    "    ax[i].set_yticklabels(yticks,fontsize=16)\n",
    "    xticks = np.arange(min(x),max(x)+1)\n",
    "    ax[i].set_xticks(xticks)\n",
    "    nucleotides = new_df['nucleotide']\n",
    "    ax[i].set_xticklabels(nucleotides)\n",
    "    ax[i].legend([column])\n",
    "fig.savefig(\"diff_BUM_HMM_vs_PEA_plot_370_500.pdf\",dpi=400) "
   ]
  }
 ],
 "metadata": {
  "kernelspec": {
   "display_name": "Python 3",
   "language": "python",
   "name": "python3"
  },
  "language_info": {
   "codemirror_mode": {
    "name": "ipython",
    "version": 3
   },
   "file_extension": ".py",
   "mimetype": "text/x-python",
   "name": "python",
   "nbconvert_exporter": "python",
   "pygments_lexer": "ipython3",
   "version": "3.7.1"
  }
 },
 "nbformat": 4,
 "nbformat_minor": 2
}
