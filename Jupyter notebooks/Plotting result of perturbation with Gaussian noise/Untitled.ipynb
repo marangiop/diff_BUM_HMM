{
 "cells": [
  {
   "cell_type": "code",
   "execution_count": 1,
   "metadata": {},
   "outputs": [],
   "source": [
    "import matplotlib.pyplot as plt\n",
    "import pandas as pd\n",
    "\n"
   ]
  },
  {
   "cell_type": "code",
   "execution_count": 2,
   "metadata": {},
   "outputs": [],
   "source": [
    "df_gaussian_noise = pd.read_csv('C:/Users/maran/Desktop/diff_BUM_HMM_Project/Github/diff_BUM_HMM/Xist_in vivo_vs_ex vivo_diff_BUM_HMM_analysed_gaussian_noise.txt', sep=\"\\t\", header=0)\n",
    "df_gaussian_noise= df_gaussian_noise.rename_axis('nt').reset_index()"
   ]
  },
  {
   "cell_type": "code",
   "execution_count": 3,
   "metadata": {},
   "outputs": [],
   "source": [
    "df = pd.read_csv('C:/Users/maran/Desktop/diff_BUM_HMM_Project/Github/diff_BUM_HMM/Xist_in vivo_vs_ex vivo_diff_BUM_HMM_analysed.txt', sep=\"\\t\", header=0)\n",
    "df= df.rename_axis('nt').reset_index()"
   ]
  },
  {
   "cell_type": "code",
   "execution_count": 22,
   "metadata": {},
   "outputs": [
    {
     "data": {
      "text/html": [
       "<div>\n",
       "<style scoped>\n",
       "    .dataframe tbody tr th:only-of-type {\n",
       "        vertical-align: middle;\n",
       "    }\n",
       "\n",
       "    .dataframe tbody tr th {\n",
       "        vertical-align: top;\n",
       "    }\n",
       "\n",
       "    .dataframe thead th {\n",
       "        text-align: right;\n",
       "    }\n",
       "</style>\n",
       "<table border=\"1\" class=\"dataframe\">\n",
       "  <thead>\n",
       "    <tr style=\"text-align: right;\">\n",
       "      <th></th>\n",
       "      <th>nt</th>\n",
       "      <th>UU</th>\n",
       "      <th>UM</th>\n",
       "      <th>MU</th>\n",
       "      <th>MM</th>\n",
       "    </tr>\n",
       "  </thead>\n",
       "  <tbody>\n",
       "    <tr>\n",
       "      <th>0</th>\n",
       "      <td>1</td>\n",
       "      <td>1.000000</td>\n",
       "      <td>1.841733e-19</td>\n",
       "      <td>2.356596e-19</td>\n",
       "      <td>-6.474361e-38</td>\n",
       "    </tr>\n",
       "    <tr>\n",
       "      <th>1</th>\n",
       "      <td>2</td>\n",
       "      <td>1.000000</td>\n",
       "      <td>1.294869e-22</td>\n",
       "      <td>1.021211e-20</td>\n",
       "      <td>-5.431096e-43</td>\n",
       "    </tr>\n",
       "    <tr>\n",
       "      <th>2</th>\n",
       "      <td>3</td>\n",
       "      <td>0.982270</td>\n",
       "      <td>1.027352e-02</td>\n",
       "      <td>7.480844e-03</td>\n",
       "      <td>-2.388650e-05</td>\n",
       "    </tr>\n",
       "    <tr>\n",
       "      <th>3</th>\n",
       "      <td>4</td>\n",
       "      <td>0.971898</td>\n",
       "      <td>1.631821e-02</td>\n",
       "      <td>1.179220e-02</td>\n",
       "      <td>-8.425615e-06</td>\n",
       "    </tr>\n",
       "    <tr>\n",
       "      <th>4</th>\n",
       "      <td>5</td>\n",
       "      <td>0.968490</td>\n",
       "      <td>1.831030e-02</td>\n",
       "      <td>1.319850e-02</td>\n",
       "      <td>1.650581e-06</td>\n",
       "    </tr>\n",
       "  </tbody>\n",
       "</table>\n",
       "</div>"
      ],
      "text/plain": [
       "   nt        UU            UM            MU            MM\n",
       "0   1  1.000000  1.841733e-19  2.356596e-19 -6.474361e-38\n",
       "1   2  1.000000  1.294869e-22  1.021211e-20 -5.431096e-43\n",
       "2   3  0.982270  1.027352e-02  7.480844e-03 -2.388650e-05\n",
       "3   4  0.971898  1.631821e-02  1.179220e-02 -8.425615e-06\n",
       "4   5  0.968490  1.831030e-02  1.319850e-02  1.650581e-06"
      ]
     },
     "execution_count": 22,
     "metadata": {},
     "output_type": "execute_result"
    }
   ],
   "source": [
    "df_gaussian_noise.head()"
   ]
  },
  {
   "cell_type": "code",
   "execution_count": 5,
   "metadata": {},
   "outputs": [
    {
     "data": {
      "text/html": [
       "<div>\n",
       "<style scoped>\n",
       "    .dataframe tbody tr th:only-of-type {\n",
       "        vertical-align: middle;\n",
       "    }\n",
       "\n",
       "    .dataframe tbody tr th {\n",
       "        vertical-align: top;\n",
       "    }\n",
       "\n",
       "    .dataframe thead th {\n",
       "        text-align: right;\n",
       "    }\n",
       "</style>\n",
       "<table border=\"1\" class=\"dataframe\">\n",
       "  <thead>\n",
       "    <tr style=\"text-align: right;\">\n",
       "      <th></th>\n",
       "      <th>nt</th>\n",
       "      <th>UU</th>\n",
       "      <th>UM</th>\n",
       "      <th>MU</th>\n",
       "      <th>MM</th>\n",
       "    </tr>\n",
       "  </thead>\n",
       "  <tbody>\n",
       "    <tr>\n",
       "      <th>0</th>\n",
       "      <td>1</td>\n",
       "      <td>1.000000</td>\n",
       "      <td>1.730969e-19</td>\n",
       "      <td>2.618215e-19</td>\n",
       "      <td>4.532049e-38</td>\n",
       "    </tr>\n",
       "    <tr>\n",
       "      <th>1</th>\n",
       "      <td>2</td>\n",
       "      <td>1.000000</td>\n",
       "      <td>1.175259e-22</td>\n",
       "      <td>1.289124e-20</td>\n",
       "      <td>1.515055e-42</td>\n",
       "    </tr>\n",
       "    <tr>\n",
       "      <th>2</th>\n",
       "      <td>3</td>\n",
       "      <td>0.981318</td>\n",
       "      <td>9.296459e-03</td>\n",
       "      <td>9.297449e-03</td>\n",
       "      <td>8.807884e-05</td>\n",
       "    </tr>\n",
       "    <tr>\n",
       "      <th>3</th>\n",
       "      <td>4</td>\n",
       "      <td>0.970303</td>\n",
       "      <td>1.473528e-02</td>\n",
       "      <td>1.473758e-02</td>\n",
       "      <td>2.238087e-04</td>\n",
       "    </tr>\n",
       "    <tr>\n",
       "      <th>4</th>\n",
       "      <td>5</td>\n",
       "      <td>0.966666</td>\n",
       "      <td>1.652369e-02</td>\n",
       "      <td>1.652765e-02</td>\n",
       "      <td>2.825151e-04</td>\n",
       "    </tr>\n",
       "  </tbody>\n",
       "</table>\n",
       "</div>"
      ],
      "text/plain": [
       "   nt        UU            UM            MU            MM\n",
       "0   1  1.000000  1.730969e-19  2.618215e-19  4.532049e-38\n",
       "1   2  1.000000  1.175259e-22  1.289124e-20  1.515055e-42\n",
       "2   3  0.981318  9.296459e-03  9.297449e-03  8.807884e-05\n",
       "3   4  0.970303  1.473528e-02  1.473758e-02  2.238087e-04\n",
       "4   5  0.966666  1.652369e-02  1.652765e-02  2.825151e-04"
      ]
     },
     "execution_count": 5,
     "metadata": {},
     "output_type": "execute_result"
    }
   ],
   "source": [
    "df.head()\n"
   ]
  },
  {
   "cell_type": "code",
   "execution_count": 14,
   "metadata": {},
   "outputs": [],
   "source": [
    "\n",
    "output= df_gaussian_noise[['UM']].sub(df['UM'], axis=0)\n",
    "output['nt'] = df['nt']\n",
    "#output= df_gaussian_noise[['MU']].sub(df['MU'], axis=0)"
   ]
  },
  {
   "cell_type": "code",
   "execution_count": 19,
   "metadata": {},
   "outputs": [
    {
     "data": {
      "text/plain": [
       "UM       16.878746\n",
       "nt    17762.000000\n",
       "dtype: float64"
      ]
     },
     "execution_count": 19,
     "metadata": {},
     "output_type": "execute_result"
    }
   ],
   "source": [
    "output\n",
    "output.max()"
   ]
  },
  {
   "cell_type": "code",
   "execution_count": 16,
   "metadata": {},
   "outputs": [
    {
     "data": {
      "image/png": "[encoded data removed]",
      "text/plain": [
       "<Figure size 432x288 with 1 Axes>"
      ]
     },
     "metadata": {
      "needs_background": "light"
     },
     "output_type": "display_data"
    }
   ],
   "source": [
    "#Difference in output posterior probability for UM after applying Gaussian noise to transition matrix \n",
    "\n",
    "ax1 = output.plot.scatter(x='nt', y='UM', c='DarkBlue')"
   ]
  },
  {
   "cell_type": "code",
   "execution_count": 17,
   "metadata": {},
   "outputs": [
    {
     "data": {
      "image/png": "[encoded data removed]",
      "text/plain": [
       "<Figure size 432x288 with 1 Axes>"
      ]
     },
     "metadata": {
      "needs_background": "light"
     },
     "output_type": "display_data"
    }
   ],
   "source": [
    "#Difference in output posterior probability for MU after applying Gaussian noise to transition matrix \n",
    "\n",
    "output_2= df_gaussian_noise[['MU']].sub(df['MU'], axis=0)\n",
    "output_2['nt'] = df['nt']\n",
    "ax2 = output_2.plot.scatter(x='nt', y='MU', c='DarkBlue')\n",
    "#output= df_gaussian_noise[['MU']].sub(df['MU'], axis=0)"
   ]
  },
  {
   "cell_type": "code",
   "execution_count": 26,
   "metadata": {},
   "outputs": [
    {
     "data": {
      "image/png": "[encoded data removed]",
      "text/plain": [
       "<Figure size 432x288 with 1 Axes>"
      ]
     },
     "metadata": {
      "needs_background": "light"
     },
     "output_type": "display_data"
    }
   ],
   "source": [
    "#Difference in output posterior probability for UU after applying Gaussian noise to transition matrix \n",
    "\n",
    "output_3 = df_gaussian_noise[['UU']].sub(df['UU'], axis=0)\n",
    "output_3['nt'] = df['nt']\n",
    "ax3 = output_3.plot.scatter(x='nt', y='UU', c='DarkBlue')\n",
    "#output= df_gaussian_noise[['MU']].sub(df['MU'], axis=0)"
   ]
  },
  {
   "cell_type": "code",
   "execution_count": 28,
   "metadata": {},
   "outputs": [
    {
     "data": {
      "image/png": "[encoded data removed]",
      "text/plain": [
       "<Figure size 432x288 with 1 Axes>"
      ]
     },
     "metadata": {
      "needs_background": "light"
     },
     "output_type": "display_data"
    }
   ],
   "source": [
    "#Difference in output posterior probability for MM after applying Gaussian noise to transition matrix \n",
    "\n",
    "output_4 = df_gaussian_noise[['MM']].sub(df['MM'], axis=0)\n",
    "output_4['nt'] = df['nt']\n",
    "ax4 = output_4.plot.scatter(x='nt', y='MM', c='DarkBlue')\n",
    "#output= df_gaussian_noise[['MU']].sub(df['MU'], axis=0)"
   ]
  }
 ],
 "metadata": {
  "kernelspec": {
   "display_name": "Python 3",
   "language": "python",
   "name": "python3"
  },
  "language_info": {
   "codemirror_mode": {
    "name": "ipython",
    "version": 3
   },
   "file_extension": ".py",
   "mimetype": "text/x-python",
   "name": "python",
   "nbconvert_exporter": "python",
   "pygments_lexer": "ipython3",
   "version": "3.7.1"
  }
 },
 "nbformat": 4,
 "nbformat_minor": 2
}
