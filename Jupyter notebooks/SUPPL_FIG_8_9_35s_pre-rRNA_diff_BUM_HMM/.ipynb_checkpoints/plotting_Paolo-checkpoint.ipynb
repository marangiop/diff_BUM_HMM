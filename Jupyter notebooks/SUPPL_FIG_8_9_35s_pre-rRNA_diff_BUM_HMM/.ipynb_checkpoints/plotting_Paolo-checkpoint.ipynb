{
 "cells": [
  {
   "cell_type": "code",
   "execution_count": 1,
   "metadata": {},
   "outputs": [
    {
     "name": "stdout",
     "output_type": "stream",
     "text": [
      "3.7.3\n"
     ]
    }
   ],
   "source": [
    "#FIRST 700 NT\n",
    "\n",
    "import matplotlib.pyplot as plt\n",
    "import pandas as pd\n",
    "from platform import python_version\n",
    "\n",
    "print(python_version())"
   ]
  },
  {
   "cell_type": "code",
   "execution_count": 2,
   "metadata": {},
   "outputs": [],
   "source": [
    "df = pd.read_csv('C:/Users/maran/Desktop/diff_BUM_HMM_Project/Github/diff_BUM_HMM/35S_diffBUM_HMM_WT_vs_Erb1_stretches_finaltrans.txt', sep=\"\\t\", header=0, index_col=0, nrows=700)\n",
    "#df = pd.read_csv('C:/Users/maran/Desktop/diff_BUM_HMM_Project/Github/diff_BUM_HMM/35S_diffBUM_HMM_WT_vs_Erb1_stretches_finaltrans.txt', sep=\"\\t\", header=0)\n"
   ]
  },
  {
   "cell_type": "code",
   "execution_count": 3,
   "metadata": {},
   "outputs": [
    {
     "name": "stdout",
     "output_type": "stream",
     "text": [
      "Index(['UU', 'UM', 'MU', 'MM'], dtype='object')\n",
      "Index(['delta5', 'Erb1'], dtype='object')\n"
     ]
    }
   ],
   "source": [
    "print(df.columns)\n",
    "df1 = df[['UM','MU']]\n",
    "df1.columns = ['delta5', 'Erb1']\n",
    "print(df1.columns)"
   ]
  },
  {
   "cell_type": "code",
   "execution_count": 4,
   "metadata": {},
   "outputs": [
    {
     "name": "stdout",
     "output_type": "stream",
     "text": [
      "<bound method NDFrame.head of             delta5           Erb1\n",
      "1     4.266924e-21   3.750536e-25\n",
      "2     4.503509e-28   5.135967e-30\n",
      "3     6.985186e-25   2.027740e-27\n",
      "4     1.859237e-41   2.117164e-50\n",
      "5     4.163330e-13   1.314801e-19\n",
      "6     2.348193e-05   4.760386e-12\n",
      "7     3.096116e-08   8.428579e-15\n",
      "8     8.700794e-04   2.642523e-09\n",
      "9     1.000623e-22   2.352481e-33\n",
      "10    3.271726e-33   8.956394e-41\n",
      "11    1.369803e-13   1.254472e-11\n",
      "12    3.409310e-14   3.967610e-22\n",
      "13    2.346736e-02   1.565623e-05\n",
      "14    3.496586e-02   1.330184e-02\n",
      "15    1.251239e-20   1.902043e-30\n",
      "16    9.077656e-25   1.098584e-23\n",
      "17    1.494118e-28   3.872083e-32\n",
      "18    3.841929e-62   1.238697e-76\n",
      "19    2.721313e-69   6.666535e-85\n",
      "20   1.903587e-110   2.901752e-97\n",
      "21    3.799388e-27   4.757688e-34\n",
      "22    4.377222e-47   9.095601e-63\n",
      "23    3.148182e-81   9.366737e-70\n",
      "24    3.673689e-56   5.211288e-69\n",
      "25    6.817870e-01   9.848918e-05\n",
      "26    3.412999e-14   1.192334e-38\n",
      "27    3.832456e-28   5.056422e-43\n",
      "28    1.473295e-11   1.089865e-25\n",
      "29    1.278653e-12   6.002894e-24\n",
      "30    5.300090e-01   2.097650e-02\n",
      "..             ...            ...\n",
      "671   1.631993e-35   9.039361e-10\n",
      "672  4.093883e-118   6.053189e-97\n",
      "673   5.884496e-91   3.181325e-47\n",
      "674   1.073187e-62   4.990138e-55\n",
      "675  4.990138e-123   1.747592e-97\n",
      "676  3.099826e-113   6.876148e-75\n",
      "677   7.273121e-99   1.038781e-62\n",
      "678  3.099826e-113   1.106931e-84\n",
      "679   2.013075e-91   1.638518e-46\n",
      "680   2.219592e-29   5.709786e-20\n",
      "681   1.986128e-75   6.310024e-39\n",
      "682  1.056703e-126  7.374885e-120\n",
      "683  2.770083e-139  2.770083e-139\n",
      "684  2.813295e-125  2.813295e-125\n",
      "685  7.261607e-134  7.261607e-134\n",
      "686  2.770083e-139  2.770083e-139\n",
      "687   4.359312e-91   1.933282e-78\n",
      "688  1.933282e-114  7.374885e-120\n",
      "689  1.200936e-104  1.073187e-112\n",
      "690  1.933282e-114  2.813295e-125\n",
      "691   3.882720e-60   2.917238e-74\n",
      "692   1.221604e-37   2.629898e-54\n",
      "693   1.599238e-23   1.242019e-22\n",
      "694   9.753800e-28   7.427263e-16\n",
      "695  1.903587e-128  7.261610e-134\n",
      "696   6.781266e-72   8.832314e-74\n",
      "697   1.037581e-52   3.227767e-90\n",
      "698   2.333310e-41   1.580969e-30\n",
      "699   3.790126e-22   5.142393e-27\n",
      "700   1.471715e-14   4.582765e-33\n",
      "\n",
      "[700 rows x 2 columns]>\n"
     ]
    }
   ],
   "source": [
    "print(df1.head)"
   ]
  },
  {
   "cell_type": "code",
   "execution_count": 5,
   "metadata": {},
   "outputs": [],
   "source": [
    "df1= df1.rename_axis('nt').reset_index()\n",
    "\n",
    "#df1['nt'] = df1.index\n",
    "\n",
    "\n",
    "#dfToListdelta5 = df1['filtereddelta5'].tolist()\n",
    "#dfToListerb1 = df1['filteredErb1'].tolist()\n",
    "\n",
    "#delta5 is UM, but corresponds to values in column 'More Flexible in delta Erb1' in Toby's dissertation \n",
    "\n",
    "#for index, i in enumerate(dfToListdelta5):\n",
    "#    if i < 0.0:\n",
    "#        print(i, index)\n",
    "#print(dfToListdelta5)\n",
    "#print(dfToListerb1)\n",
    "\n",
    "\n",
    "#print df[['filteredUM','filteredMU']]\n",
    "\n",
    "#df1['filteredErb1']=df1['filteredErb1']*-1\n",
    "#df1['Erb1']=df1['Erb1']*-1"
   ]
  },
  {
   "cell_type": "code",
   "execution_count": 6,
   "metadata": {},
   "outputs": [
    {
     "name": "stdout",
     "output_type": "stream",
     "text": [
      "<bound method NDFrame.head of       nt         delta5           Erb1\n",
      "0      1   4.266924e-21   3.750536e-25\n",
      "1      2   4.503509e-28   5.135967e-30\n",
      "2      3   6.985186e-25   2.027740e-27\n",
      "3      4   1.859237e-41   2.117164e-50\n",
      "4      5   4.163330e-13   1.314801e-19\n",
      "5      6   2.348193e-05   4.760386e-12\n",
      "6      7   3.096116e-08   8.428579e-15\n",
      "7      8   8.700794e-04   2.642523e-09\n",
      "8      9   1.000623e-22   2.352481e-33\n",
      "9     10   3.271726e-33   8.956394e-41\n",
      "10    11   1.369803e-13   1.254472e-11\n",
      "11    12   3.409310e-14   3.967610e-22\n",
      "12    13   2.346736e-02   1.565623e-05\n",
      "13    14   3.496586e-02   1.330184e-02\n",
      "14    15   1.251239e-20   1.902043e-30\n",
      "15    16   9.077656e-25   1.098584e-23\n",
      "16    17   1.494118e-28   3.872083e-32\n",
      "17    18   3.841929e-62   1.238697e-76\n",
      "18    19   2.721313e-69   6.666535e-85\n",
      "19    20  1.903587e-110   2.901752e-97\n",
      "20    21   3.799388e-27   4.757688e-34\n",
      "21    22   4.377222e-47   9.095601e-63\n",
      "22    23   3.148182e-81   9.366737e-70\n",
      "23    24   3.673689e-56   5.211288e-69\n",
      "24    25   6.817870e-01   9.848918e-05\n",
      "25    26   3.412999e-14   1.192334e-38\n",
      "26    27   3.832456e-28   5.056422e-43\n",
      "27    28   1.473295e-11   1.089865e-25\n",
      "28    29   1.278653e-12   6.002894e-24\n",
      "29    30   5.300090e-01   2.097650e-02\n",
      "..   ...            ...            ...\n",
      "670  671   1.631993e-35   9.039361e-10\n",
      "671  672  4.093883e-118   6.053189e-97\n",
      "672  673   5.884496e-91   3.181325e-47\n",
      "673  674   1.073187e-62   4.990138e-55\n",
      "674  675  4.990138e-123   1.747592e-97\n",
      "675  676  3.099826e-113   6.876148e-75\n",
      "676  677   7.273121e-99   1.038781e-62\n",
      "677  678  3.099826e-113   1.106931e-84\n",
      "678  679   2.013075e-91   1.638518e-46\n",
      "679  680   2.219592e-29   5.709786e-20\n",
      "680  681   1.986128e-75   6.310024e-39\n",
      "681  682  1.056703e-126  7.374885e-120\n",
      "682  683  2.770083e-139  2.770083e-139\n",
      "683  684  2.813295e-125  2.813295e-125\n",
      "684  685  7.261607e-134  7.261607e-134\n",
      "685  686  2.770083e-139  2.770083e-139\n",
      "686  687   4.359312e-91   1.933282e-78\n",
      "687  688  1.933282e-114  7.374885e-120\n",
      "688  689  1.200936e-104  1.073187e-112\n",
      "689  690  1.933282e-114  2.813295e-125\n",
      "690  691   3.882720e-60   2.917238e-74\n",
      "691  692   1.221604e-37   2.629898e-54\n",
      "692  693   1.599238e-23   1.242019e-22\n",
      "693  694   9.753800e-28   7.427263e-16\n",
      "694  695  1.903587e-128  7.261610e-134\n",
      "695  696   6.781266e-72   8.832314e-74\n",
      "696  697   1.037581e-52   3.227767e-90\n",
      "697  698   2.333310e-41   1.580969e-30\n",
      "698  699   3.790126e-22   5.142393e-27\n",
      "699  700   1.471715e-14   4.582765e-33\n",
      "\n",
      "[700 rows x 3 columns]>\n"
     ]
    }
   ],
   "source": [
    "#df1= df1.rename_axis('nt').reset_index()\n",
    "print(df1.head)"
   ]
  },
  {
   "cell_type": "code",
   "execution_count": 7,
   "metadata": {},
   "outputs": [],
   "source": [
    "df1['filtereddelta5'] = [0 if x<0.95 else x for x in df1['delta5']]"
   ]
  },
  {
   "cell_type": "code",
   "execution_count": 8,
   "metadata": {},
   "outputs": [],
   "source": [
    "df1['filteredErb1'] = [0 if x<0.95 else x for x in df1['Erb1']]\n",
    "#df1['filteredErb1'] = df1['filteredErb1'].apply(lambda x: x*-1)\n"
   ]
  },
  {
   "cell_type": "code",
   "execution_count": 9,
   "metadata": {},
   "outputs": [],
   "source": [
    "#PAOLO'S WAY\n",
    "df1['filtereddelta5'] = df1['filtereddelta5'].apply(lambda x: x*-1)\n",
    "\n",
    "#TOBY'S WAY\n",
    "#df1['filteredErb1']=df1['filteredErb1'].apply(lambda x: x*-1)\n"
   ]
  },
  {
   "cell_type": "code",
   "execution_count": 10,
   "metadata": {},
   "outputs": [
    {
     "data": {
      "image/png": "[encoded data removed]",
      "text/plain": [
       "<Figure size 432x288 with 1 Axes>"
      ]
     },
     "metadata": {
      "needs_background": "light"
     },
     "output_type": "display_data"
    }
   ],
   "source": [
    "fig,ax = plt.subplots()\n",
    "plotfilteredUM = ax.bar(df1['nt'], df1['filtereddelta5'])\n",
    "plotfilteredMU = ax.bar(df1['nt'], df1['filteredErb1'])\n",
    "ax.set_xlabel('Nucleotide position')\n",
    "ax.set_ylabel('Posterior probabilities')\n",
    "ax.set_title('Yeast 35S pre-rRNA delta5 vs. Erb1 - 5ETS - Paolo')\n",
    "#ax.spines['bottom'].set_position(('data', 0))\n",
    "ax.legend((plotfilteredUM, plotfilteredMU), ('More Flexible in delta5', 'More Flexible in Erb1'), loc=1, fontsize = 5)\n",
    "fig.savefig(\"BUM_HMM output - Yeast 35S pre-rRNA delta5 vs. Erb1_first 700 nt.pdf\", dpi= 300)"
   ]
  },
  {
   "cell_type": "code",
   "execution_count": 11,
   "metadata": {},
   "outputs": [],
   "source": [
    "#ENTIRE MOLECULE\n",
    "\n",
    "\n",
    "\n",
    "df_entire_molecule = pd.read_csv('C:/Users/maran/Desktop/diff_BUM_HMM_Project/Github/diff_BUM_HMM/35S_diffBUM_HMM_WT_vs_Erb1_stretches_finaltrans.txt', sep=\"\\t\", header=0, index_col=0)"
   ]
  },
  {
   "cell_type": "code",
   "execution_count": 12,
   "metadata": {},
   "outputs": [
    {
     "name": "stdout",
     "output_type": "stream",
     "text": [
      "Index(['UU', 'UM', 'MU', 'MM'], dtype='object')\n",
      "Index(['delta5', 'Erb1'], dtype='object')\n"
     ]
    }
   ],
   "source": [
    "print(df_entire_molecule.columns)\n",
    "df_entire_molecule_new = df_entire_molecule[['UM','MU']]\n",
    "df_entire_molecule_new.columns = ['delta5', 'Erb1']\n",
    "print(df_entire_molecule_new.columns)"
   ]
  },
  {
   "cell_type": "code",
   "execution_count": 13,
   "metadata": {},
   "outputs": [
    {
     "name": "stdout",
     "output_type": "stream",
     "text": [
      "<bound method NDFrame.head of         nt         delta5          Erb1\n",
      "0        1   4.266924e-21  3.750536e-25\n",
      "1        2   4.503509e-28  5.135967e-30\n",
      "2        3   6.985186e-25  2.027740e-27\n",
      "3        4   1.859237e-41  2.117164e-50\n",
      "4        5   4.163330e-13  1.314801e-19\n",
      "5        6   2.348193e-05  4.760386e-12\n",
      "6        7   3.096116e-08  8.428579e-15\n",
      "7        8   8.700794e-04  2.642523e-09\n",
      "8        9   1.000623e-22  2.352481e-33\n",
      "9       10   3.271726e-33  8.956394e-41\n",
      "10      11   1.369803e-13  1.254472e-11\n",
      "11      12   3.409310e-14  3.967610e-22\n",
      "12      13   2.346736e-02  1.565623e-05\n",
      "13      14   3.496586e-02  1.330184e-02\n",
      "14      15   1.251239e-20  1.902043e-30\n",
      "15      16   9.077656e-25  1.098584e-23\n",
      "16      17   1.494118e-28  3.872083e-32\n",
      "17      18   3.841929e-62  1.238697e-76\n",
      "18      19   2.721313e-69  6.666535e-85\n",
      "19      20  1.903587e-110  2.901752e-97\n",
      "20      21   3.799388e-27  4.757688e-34\n",
      "21      22   4.377222e-47  9.095601e-63\n",
      "22      23   3.148182e-81  9.366737e-70\n",
      "23      24   3.673689e-56  5.211288e-69\n",
      "24      25   6.817870e-01  9.848918e-05\n",
      "25      26   3.412999e-14  1.192334e-38\n",
      "26      27   3.832456e-28  5.056422e-43\n",
      "27      28   1.473295e-11  1.089865e-25\n",
      "28      29   1.278653e-12  6.002894e-24\n",
      "29      30   5.300090e-01  2.097650e-02\n",
      "...    ...            ...           ...\n",
      "6567  6568   3.719030e-04  1.147779e-14\n",
      "6568  6569   2.444124e-05  1.148362e-05\n",
      "6569  6570   6.548315e-38  6.222667e-37\n",
      "6570  6571   2.754800e-03  2.754800e-03\n",
      "6571  6572   4.174482e-20  3.608178e-49\n",
      "6572  6573   6.806720e-02  2.512440e-04\n",
      "6573  6574   3.054321e-02  1.120579e-02\n",
      "6574  6575   3.129473e-02  1.735851e-02\n",
      "6575  6576   2.990737e-02  2.031686e-02\n",
      "6576  6577   2.632948e-02  2.016452e-02\n",
      "6577  6578   2.037393e-02  1.686044e-02\n",
      "6578  6579   1.173229e-02  1.023384e-02\n",
      "6579  6580   9.222411e-24  7.124085e-31\n",
      "6580  6581   2.754907e-03  2.754800e-03\n",
      "6581  6582   1.104108e-11  4.007680e-16\n",
      "6582  6583   5.951093e-12  1.226933e-18\n",
      "6583  6584   1.831681e-22  2.575151e-27\n",
      "6584  6585   3.675773e-20  1.061377e-20\n",
      "6585  6586   1.259043e-06  2.997948e-08\n",
      "6586  6587   5.052864e-03  5.004642e-03\n",
      "6587  6588   5.022848e-03  5.000019e-03\n",
      "6588  6589   4.321940e-10  2.196396e-16\n",
      "6589  6590   4.997939e-03  4.996298e-03\n",
      "6590  6591   4.997034e-03  4.996302e-03\n",
      "6591  6592   1.577803e-20  4.177539e-24\n",
      "6592  6593   2.754800e-03  2.754800e-03\n",
      "6593  6594   1.926493e-22  1.136333e-23\n",
      "6594  6595   3.604281e-02  3.604281e-02\n",
      "6595  6596   7.984375e-02  7.984375e-02\n",
      "6596  6597  -9.990000e+02 -9.990000e+02\n",
      "\n",
      "[6597 rows x 3 columns]>\n"
     ]
    }
   ],
   "source": [
    "df_entire_molecule_new= df_entire_molecule_new.rename_axis('nt').reset_index()\n",
    "print(df_entire_molecule_new.head)"
   ]
  },
  {
   "cell_type": "code",
   "execution_count": 14,
   "metadata": {},
   "outputs": [],
   "source": [
    "\n",
    "df_entire_molecule_new['filtereddelta5'] = [0 if x<0.95 else x for x in df_entire_molecule_new['delta5']]\n",
    "\n",
    "\n"
   ]
  },
  {
   "cell_type": "code",
   "execution_count": 15,
   "metadata": {},
   "outputs": [],
   "source": [
    "\n",
    "#df_entire_molecule_new_again = df_entire_molecule_new.copy()\n",
    "\n",
    "#df_entire_molecule_new_again.apply(lambda x, y: x.where(x > 0, y), y=df['A'])\n",
    "\n"
   ]
  },
  {
   "cell_type": "code",
   "execution_count": 16,
   "metadata": {},
   "outputs": [],
   "source": [
    "df_entire_molecule_new['filteredErb1'] = [0 if x<0.95 else x for x in df_entire_molecule_new['Erb1']]\n",
    "#df1['filteredErb1'] = df1['filteredErb1'].apply(lambda x: x*-1)"
   ]
  },
  {
   "cell_type": "code",
   "execution_count": 17,
   "metadata": {},
   "outputs": [],
   "source": [
    "df_entire_molecule_new['filtereddelta5'] = df_entire_molecule_new['filtereddelta5'].apply(lambda x: x*-1)\n",
    "#print(df1.head)"
   ]
  },
  {
   "cell_type": "code",
   "execution_count": 18,
   "metadata": {},
   "outputs": [
    {
     "data": {
      "image/png": "[encoded data removed]",
      "text/plain": [
       "<Figure size 432x288 with 1 Axes>"
      ]
     },
     "metadata": {
      "needs_background": "light"
     },
     "output_type": "display_data"
    }
   ],
   "source": [
    "fig,ax = plt.subplots()\n",
    "plotfilteredUM = ax.bar(df_entire_molecule_new['nt'], df_entire_molecule_new['filtereddelta5'])\n",
    "plotfilteredMU = ax.bar(df_entire_molecule_new['nt'], df_entire_molecule_new['filteredErb1'])\n",
    "ax.set_xlabel('Nucleotide position')\n",
    "ax.set_ylabel('Posterior probabilities')\n",
    "ax.set_title('Yeast 35S pre-rRNA delta5 vs. Erb1 - entire molecule')\n",
    "#ax.spines['bottom'].set_position(('data', 0))\n",
    "ax.legend((plotfilteredUM, plotfilteredMU), ('More Flexible in delta5', 'More Flexible in Erb1'), loc=1, fontsize = 5)\n",
    "fig.savefig(\"BUM_HMM output - Yeast 35S pre-rRNA delta5 vs. Erb1_first entire molecule.pdf\", dpi= 300)\n",
    "\n",
    "#NEED TO ADD EXTRA 0s at the end \n"
   ]
  }
 ],
 "metadata": {
  "kernelspec": {
   "display_name": "'Python Interactive'",
   "language": "python",
   "name": "47af8fab-843a-43d9-9502-6069f6d2629b"
  },
  "language_info": {
   "codemirror_mode": {
    "name": "ipython",
    "version": 3
   },
   "file_extension": ".py",
   "mimetype": "text/x-python",
   "name": "python",
   "nbconvert_exporter": "python",
   "pygments_lexer": "ipython3",
   "version": "3.7.3"
  }
 },
 "nbformat": 4,
 "nbformat_minor": 2
}
