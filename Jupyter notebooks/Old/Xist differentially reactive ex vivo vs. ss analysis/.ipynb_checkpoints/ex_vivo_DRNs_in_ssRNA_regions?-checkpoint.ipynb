{
 "cells": [
  {
   "cell_type": "code",
   "execution_count": 175,
   "metadata": {},
   "outputs": [],
   "source": [
    "import pandas as pd"
   ]
  },
  {
   "cell_type": "code",
   "execution_count": 178,
   "metadata": {},
   "outputs": [],
   "source": [
    "##import Xist connectivity file (to filter out base-paired positions in Xist), \n",
    "# SHAPE reactivities and diffBUM_HMM p-values (to filter out positions excluded from analysis),\n",
    "# deltaSHAPE values and diffBUM_HMM ex vivo posteriors\n",
    "connectivity_file = pd.read_excel(\"Xist info.xlsx\", sep = '\\t', header = 0, sheet_name = \"Xist connectivity file\", index_col = 0)\n",
    "#print(connectivity_file)\n",
    "\n",
    "SHAPE_all = pd.read_excel(\"Xist info.xlsx\", sep = '\\t', header = 0, sheet_name = \"Xist SHAPE reactivity\", index_col = 0)\n",
    "#print(SHAPE_all)\n",
    "\n",
    "p_vals_all = pd.read_excel(\"Xist info.xlsx\", sep = '\\t', header = 0, sheet_name = 'Xist p-values', index_col = 0)\n",
    "#print(p_vals_all)\n",
    "\n",
    "deltaSHAPE1 = pd.read_excel(\"Xist info.xlsx\", sep = '\\t', header = 0, sheet_name = 'deltaSHAPE 1 and 2', index_col = 0, usecols = [0,1])\n",
    "deltaSHAPE2 = pd.read_excel(\"Xist info.xlsx\", sep = '\\t', header = 0, sheet_name = 'deltaSHAPE 1 and 2', index_col = 0, usecols = [0,2])\n",
    "#print(deltaSHAPE1)\n",
    "#print(deltaSHAPE2)\n",
    "\n",
    "Xist_posteriors_ex_vivo = pd.read_excel(\"Xist info.xlsx\", sep = '\\t', header = 0, sheet_name = 'Xist posteriors', index_col = 0)\n",
    "normalized_posteriors_ex_vivo = Xist_posteriors_ex_vivo[['scaled_ex_vivo']]\n",
    "not_scaled_posteriors_ex_vivo = Xist_posteriors_ex_vivo[['ex_vivo_not_scaled']]\n",
    "#print(Xist_posteriors_ex_vivo)\n",
    "#print(normalized_posteriors_ex_vivo)\n",
    "#print(not_scaled_posteriors_ex_vivo)"
   ]
  },
  {
   "cell_type": "code",
   "execution_count": 186,
   "metadata": {},
   "outputs": [
    {
     "name": "stdout",
     "output_type": "stream",
     "text": [
      "According to the max free energy model, there are 9756 single-stranded positions in Xist, which is 54.45 % of the entire Xist molecule.\n"
     ]
    }
   ],
   "source": [
    "##exclude invalid positions: i.e.positions are base-paired, have no SHAPE reactivity available (-999), \n",
    "# and excluded from diffBUM_HMM analysis\n",
    "# get the indexes of the single-stranded positions, as well as positions with valid SHAPE and diffBUM_HMM data\n",
    "\n",
    "all_ss_positions = connectivity_file[connectivity_file['base which n is base-paired to']==0] #0 refers to the positions that are not base-paired\n",
    "#print (all_ss_positions.index)\n",
    "print(\"According to the max free energy model, there are\", len(all_ss_positions.index), \n",
    "      \"single-stranded positions in Xist, which is\", round(((len(all_ss_positions.index))/len(connectivity_file))*100, 2), \n",
    "      \"% of the entire Xist molecule.\")\n",
    "\n",
    "SHAPE_real_positions = SHAPE_all.loc[(SHAPE_all['SHAPE_reactivity_ex_vivo_1'] != -999) & (SHAPE_all['SHAPE_reactivity_ex_vivo_2'] != -999) & (SHAPE_all['SHAPE_reactivity_in_cell_1'] != -999) & (SHAPE_all['SHAPE_reactivity_in_cell_2'] != -999)]\n",
    "#print(SHAPE_real_positions.index)\n",
    "\n",
    "diffBH_real_positions = p_vals_all.dropna(thresh = 4) #positions excluded from diffBUM_HMM analysis have 4 NaN p-values\n",
    "#print (diffBH_real_positions.index)\n"
   ]
  },
  {
   "cell_type": "code",
   "execution_count": 189,
   "metadata": {},
   "outputs": [
    {
     "name": "stdout",
     "output_type": "stream",
     "text": [
      "There are 14985 valid positions with both SHAPE reactivity values and diffBUM_HMM posteriors.\n",
      "Amongst those 8220 ( 54.85 %) positions are also single-stranded.\n"
     ]
    }
   ],
   "source": [
    "##get the representative list of positions that have both valid SHAPE reactivity and diffBUM_HMM output\n",
    "valid_positions = SHAPE_real_positions.index.intersection(diffBH_real_positions.index)\n",
    "print(\"There are\", len(valid_positions), \"valid positions with both SHAPE reactivity values and diffBUM_HMM posteriors.\") \n",
    "\n",
    "## find the list of valid positions that are also single stranded\n",
    "valid_ss_positions = valid_positions.intersection(all_ss_positions.index)\n",
    "print(\"Amongst those\", len(valid_ss_positions), \"(\", round((len(valid_ss_positions)/len(valid_positions))*100, 2), \n",
    "      \"%)\", \"positions are also single-stranded.\")"
   ]
  },
  {
   "cell_type": "code",
   "execution_count": 191,
   "metadata": {},
   "outputs": [
    {
     "name": "stdout",
     "output_type": "stream",
     "text": [
      "For replicate 1, deltaSHAPE indicates that there are 461 positions that are more reactive ex vivo, amongst which 366 ( 79.39 %) are also single-stranded.\n",
      "For replicate 2, deltaSHAPE indicates that there are 511 positions that are more reactive ex vivo, amongst which 395 ( 77.3 %) are also single-stranded.\n"
     ]
    }
   ],
   "source": [
    "#find the list of positions in the Xist replicates that are deemed more reactive ex vivo (>0) by deltaSHAPE,\n",
    "#then see how many of them are also single-stranded\n",
    "deltaSHAPE_rep1_ex_vivo = deltaSHAPE1[deltaSHAPE1['deltaSHAPE_1']>0]\n",
    "ss_deltaSHAPE1 = deltaSHAPE_rep1_ex_vivo.index.intersection(valid_ss_positions)\n",
    "print(\"For replicate 1, deltaSHAPE indicates that there are\", (len(deltaSHAPE_rep1_ex_vivo)), \n",
    "     \"positions that are more reactive ex vivo, amongst which\", len(ss_deltaSHAPE1), \n",
    "      \"(\", round(((len(ss_deltaSHAPE1)/len(deltaSHAPE_rep1_ex_vivo))*100),2), \"%) are also single-stranded.\")\n",
    "\n",
    "deltaSHAPE_rep2_ex_vivo = deltaSHAPE2[deltaSHAPE2['deltaSHAPE_2']>0] \n",
    "ss_deltaSHAPE2 = deltaSHAPE_rep2_ex_vivo.index.intersection(valid_ss_positions)\n",
    "print(\"For replicate 2, deltaSHAPE indicates that there are\", (len(deltaSHAPE_rep2_ex_vivo)), \n",
    "     \"positions that are more reactive ex vivo, amongst which\", len(ss_deltaSHAPE2), \n",
    "      \"(\", round(((len(ss_deltaSHAPE2)/len(deltaSHAPE_rep2_ex_vivo))*100),2), \"%) are also single-stranded.\")"
   ]
  },
  {
   "cell_type": "code",
   "execution_count": 193,
   "metadata": {},
   "outputs": [
    {
     "name": "stdout",
     "output_type": "stream",
     "text": [
      "diffBUM_HMM on non-scaled data: predicted that there are 1168 positions that are more reactive ex vivo, amongst which 1003 ( 85.87 %) are also single-stranded.\n",
      "diffBUM_HMM on normalized data: predicted that there are 1739 positions that are more reactive ex vivo, amongst which 1442 ( 82.92 %) are also single-stranded.\n"
     ]
    }
   ],
   "source": [
    "##find the list of positions that are deemed more reactive ex vivo (>0.95) by diffBUM_HMM,\n",
    "#then see how many are also single-stranded\n",
    "\n",
    "not_scaled_pos_95 = not_scaled_posteriors_ex_vivo[not_scaled_posteriors_ex_vivo['ex_vivo_not_scaled']>0.95]\n",
    "ss_not_scaled_pos_95 = not_scaled_pos_95.index.intersection(valid_ss_positions)\n",
    "print(\"diffBUM_HMM on non-scaled data: predicted that there are\", (len(not_scaled_pos_95)), \n",
    "     \"positions that are more reactive ex vivo, amongst which\", len(ss_not_scaled_pos_95), \n",
    "      \"(\", round(((len(ss_not_scaled_pos_95)/len(not_scaled_pos_95))*100),2), \"%) are also single-stranded.\")\n",
    "\n",
    "normalized_pos_95 = normalized_posteriors_ex_vivo[normalized_posteriors_ex_vivo['scaled_ex_vivo']>0.95]\n",
    "ss_normalized_pos_95 = normalized_pos_95.index.intersection(valid_ss_positions)\n",
    "print(\"diffBUM_HMM on normalized data: predicted that there are\", (len(normalized_pos_95)), \n",
    "     \"positions that are more reactive ex vivo, amongst which\", len(ss_normalized_pos_95), \n",
    "      \"(\", round(((len(ss_normalized_pos_95)/len(normalized_pos_95))*100),2), \"%) are also single-stranded.\")"
   ]
  },
  {
   "cell_type": "code",
   "execution_count": 194,
   "metadata": {},
   "outputs": [
    {
     "name": "stdout",
     "output_type": "stream",
     "text": [
      "Int64Index([   87,    88,    89,    90,    91,    92,    93,   103,   104,\n",
      "              105,\n",
      "            ...\n",
      "            17787, 17788, 17789, 17790, 17791, 17792, 17793, 17794, 17795,\n",
      "            17796],\n",
      "           dtype='int64', name='base number (n)', length=8220)\n",
      "Int64Index([  209,   210,   211,   243,   244,   245,   246,   247,   315,\n",
      "              316,\n",
      "            ...\n",
      "            16811, 16812, 16923, 17092, 17182, 17247, 17304, 17551, 17552,\n",
      "            17553],\n",
      "           dtype='int64', name='base number (n)', length=366)\n",
      "Int64Index([  247,   315,   316,   317,  4689,  4692,  4693,  4694,  4700,\n",
      "             4701,\n",
      "            ...\n",
      "            17314, 17335, 17336, 17337, 17338, 17641, 17642, 17643, 17645,\n",
      "            17647],\n",
      "           dtype='int64', name='base number (n)', length=395)\n",
      "Int64Index([  122,   152,   157,   213,   214,   215,   219,   220,   288,\n",
      "              317,\n",
      "            ...\n",
      "            17644, 17645, 17647, 17649, 17695, 17705, 17746, 17748, 17751,\n",
      "            17776],\n",
      "           dtype='int64', name='base number (n)', length=1003)\n",
      "Int64Index([  150,   152,   157,   159,   211,   213,   214,   219,   248,\n",
      "              261,\n",
      "            ...\n",
      "            17728, 17729, 17744, 17746, 17748, 17749, 17751, 17776, 17777,\n",
      "            17779],\n",
      "           dtype='int64', name='base number (n)', length=1442)\n"
     ]
    }
   ],
   "source": [
    "#lists of useful positions for making figure\n",
    "print(valid_ss_positions)\n",
    "print(ss_deltaSHAPE1)\n",
    "print(ss_deltaSHAPE2)\n",
    "print(ss_not_scaled_pos_95)\n",
    "print(ss_normalized_pos_95)"
   ]
  },
  {
   "cell_type": "code",
   "execution_count": null,
   "metadata": {},
   "outputs": [],
   "source": []
  }
 ],
 "metadata": {
  "kernelspec": {
   "display_name": "Python 3",
   "language": "python",
   "name": "python3"
  },
  "language_info": {
   "codemirror_mode": {
    "name": "ipython",
    "version": 3
   },
   "file_extension": ".py",
   "mimetype": "text/x-python",
   "name": "python",
   "nbconvert_exporter": "python",
   "pygments_lexer": "ipython3",
   "version": "3.7.4"
  }
 },
 "nbformat": 4,
 "nbformat_minor": 2
}
