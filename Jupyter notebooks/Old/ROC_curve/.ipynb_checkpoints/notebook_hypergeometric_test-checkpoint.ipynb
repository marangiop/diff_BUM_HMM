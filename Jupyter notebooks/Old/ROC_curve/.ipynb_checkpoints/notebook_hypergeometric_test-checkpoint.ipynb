{
 "cells": [
  {
   "cell_type": "code",
   "execution_count": 1,
   "metadata": {},
   "outputs": [],
   "source": [
    "import os\n",
    "import sys\n",
    "import pandas as pd\n",
    "import numpy as np\n",
    "import matplotlib.pyplot as plt\n",
    "import numpy as np\n",
    "import matplotlib.pyplot as plt\n",
    "import seaborn as sns\n",
    "from scipy.special import comb\n",
    "from scipy.stats import hypergeom\n",
    "from matplotlib import rcParams\n",
    "from collections import defaultdict\n",
    "rcParams['font.family'] = 'sans-serif'\n",
    "rcParams['font.sans-serif'] = ['Arial']\n",
    "rcParams['pdf.fonttype'] = 42\n",
    "rcParams['axes.formatter.useoffset'] = False"
   ]
  },
  {
   "cell_type": "code",
   "execution_count": 2,
   "metadata": {},
   "outputs": [],
   "source": [
    "def formatAxes(ax,text_size=10,xlim=None,xlabel=None,xticks=None,xticklabels=None,ylim=None,yticks=None,ylabel=None,yticklabels=None):\n",
    "    \"\"\" to tweak the plotting of the axes as well as the fontsize \"\"\"\n",
    "    for loc,spine in list(ax.spines.items()):\n",
    "        if loc == 'left': # settings for the y-axis\n",
    "            if yticklabels and not yticks:\n",
    "                sys.stderr.write(\"Need to provide a list wiht both y-labels and y-ticks!\")\n",
    "            if yticks:\n",
    "                ax.yaxis.set_ticks_position('left')\n",
    "                ax.yaxis.set_tick_params(direction='out')\n",
    "                spine.set_visible(True)\n",
    "                spine.set_position((\"outward\",1))\n",
    "                spine.set_smart_bounds(True)\n",
    "                ax.set_yticks(yticks)\n",
    "                if ylim:\n",
    "                    ax.set_ylim(ylim)\n",
    "                if yticklabels:\n",
    "                    ax.set_yticklabels(yticklabels,fontsize=text_size)\n",
    "            else:\n",
    "                spine.set_visible(False)\n",
    "                ax.set_yticklabels([])\n",
    "                ax.tick_params(axis='y',which='both',length=0)\n",
    "                \n",
    "            if ylabel:\n",
    "                ax.set_ylabel(ylabel,fontsize=text_size,rotation=0,labelpad=160)\n",
    "                ax.get_yaxis().set_label_coords(-0.1,0.5)\n",
    "        elif loc == 'bottom': # settings for x-axis\n",
    "            if xticks:\n",
    "                spine.set_position('zero')\n",
    "                spine.set_visible(False)\n",
    "                spine.set_smart_bounds(False)\n",
    "                ax.set_xticks(xticks)\n",
    "                ax.tick_params(axis='x',which='both',length=0)\n",
    "                if xlim:\n",
    "                    ax.set_xlim(xlim)\n",
    "                if xticklabels:\n",
    "                    ax.set_xticklabels(xticklabels,fontsize=text_size)\n",
    "            else:\n",
    "                spine.set_visible(False)\n",
    "                ax.set_xticklabels([])\n",
    "                ax.tick_params(axis='x',which='both',length=0)\n",
    "                \n",
    "            if xlabel:\n",
    "                ax.tick_params(axis='x',which='both',length=0)\n",
    "                ax.set_xlabel(xlabel,fontsize=text_size+2)\n",
    "                ax.xaxis.labelpad = 10\n",
    "        else:\n",
    "            spine.set_visible(False)\n",
    "    ax.patch.set_visible(False)"
   ]
  },
  {
   "cell_type": "markdown",
   "metadata": {},
   "source": [
    "### Loading the big dataframe:"
   ]
  },
  {
   "cell_type": "code",
   "execution_count": 3,
   "metadata": {},
   "outputs": [],
   "source": [
    "alldata = pd.read_csv('../../../New_data_table.txt',\\\n",
    "                      sep=\"\\t\",\\\n",
    "                      header=0,\\\n",
    "                      index_col=0)"
   ]
  },
  {
   "cell_type": "markdown",
   "metadata": {},
   "source": [
    "### Masking positions not considered by deltaSHAPE:"
   ]
  },
  {
   "cell_type": "markdown",
   "metadata": {},
   "source": [
    "### ROC "
   ]
  },
  {
   "cell_type": "code",
   "execution_count": 4,
   "metadata": {},
   "outputs": [],
   "source": [
    "\n",
    "#SETTING NUCLEOTIDES TO ZERO IF FALLING IN REGIONS NOT USED BY DIFFBUM HMM\n",
    "proteins = [\"CELF1\",\"FUS\",\"HuR\",\"PTBP1\",\"RBFOX2\",\"TARDBP\"]\n",
    "\n",
    "\n",
    "for index, row in alldata.iterrows():\n",
    "    if index>=1 and index<=78 or index>=2451 and index<=2599 or index>=2500 and index<=4500 or index>=17801 and index<=17918:\n",
    "        for protein in proteins:\n",
    "            row[protein]=0\n",
    "\n",
    "\n"
   ]
  },
  {
   "cell_type": "code",
   "execution_count": 5,
   "metadata": {},
   "outputs": [],
   "source": [
    "del protein"
   ]
  },
  {
   "cell_type": "code",
   "execution_count": 12,
   "metadata": {},
   "outputs": [
    {
     "name": "stdout",
     "output_type": "stream",
     "text": [
      "TP{'CELF1': 47, 'FUS': 306, 'HuR': 76, 'PTBP1': 35, 'RBFOX2': 3, 'TARDBP': 48}\n",
      "FN{'CELF1': 755, 'FUS': 3388, 'HuR': 1073, 'PTBP1': 569, 'RBFOX2': 63, 'TARDBP': 486}\n",
      "FP{'CELF1': 1264, 'FUS': 1005, 'HuR': 1235, 'PTBP1': 1276, 'RBFOX2': 1308, 'TARDBP': 1263}\n",
      "TN{'CELF1': 15852, 'FUS': 13219, 'HuR': 15534, 'PTBP1': 16038, 'RBFOX2': 16544, 'TARDBP': 16121}\n",
      "TPR {'CELF1': 0.05860349127182045, 'FUS': 0.0828370330265295, 'HuR': 0.06614447345517842, 'PTBP1': 0.057947019867549666, 'RBFOX2': 0.045454545454545456, 'TARDBP': 0.0898876404494382}\n",
      "FPR {'CELF1': 0.07384903014723067, 'FUS': 0.07065523059617548, 'HuR': 0.07364780249269486, 'PTBP1': 0.07369758576874205, 'RBFOX2': 0.07326910150123235, 'TARDBP': 0.07265301426599172}\n"
     ]
    }
   ],
   "source": [
    "#FOR ROC we need to plot true positive rate and false positive rate\n",
    "\n",
    "#QUESTION: should I use SCALED or NOT scaled EX VIVO and IN VIVO?  \n",
    "\n",
    "\n",
    "threshold=0.95\n",
    "dict_false_positives={}\n",
    "dict_true_positives={}\n",
    "dict_false_negatives={}\n",
    "dict_true_negatives={}\n",
    "\n",
    "for protein in proteins:\n",
    "    dict_false_positives[protein]= 0\n",
    "    dict_true_positives[protein]= 0\n",
    "    dict_false_negatives[protein]= 0\n",
    "    dict_true_negatives[protein]= 0\n",
    "\n",
    "del protein\n",
    "\n",
    "\n",
    "for protein in proteins:\n",
    "\n",
    "    #for index, row in CELF1.iterrows():\n",
    "    protein_actual_pos=alldata[alldata[protein] == 1]\n",
    "    protein_actual_neg=alldata[alldata[protein] == 0]\n",
    "    \n",
    "\n",
    "    \n",
    "    \n",
    "    for index, row in protein_actual_pos.iterrows():\n",
    "\n",
    "        #TP is a position that has binding site for a given protein  as indicated by CLIPD, \n",
    "        #and for which diffBUM-HMM predicts a differential reactive nucleotide either ex vivo or in vivo\n",
    "        if row['ex_vivo'] >= threshold or row['in_vivo'] >= threshold:\n",
    "            dict_true_positives[protein]= dict_true_positives[protein]+1\n",
    "\n",
    "        #FN is a position that has binding site for a given protein as indicated by CLIPD,\n",
    "        #and for which diffBUM-HMM does NOT predict a differential reactive nucleotide either ex vivo or in vivo\n",
    "        else:\n",
    "            dict_false_negatives[protein]= dict_false_negatives[protein]+1\n",
    "\n",
    "    for index, row in protein_actual_neg.iterrows():\n",
    "        \n",
    "      \n",
    "    \n",
    "        if row['ex_vivo'] >= threshold or row['in_vivo'] >= threshold:\n",
    "             #FP is a position that has NO binding site for a given protein as indicated by CLIPD,\n",
    "     #and for which diffBUM-HMM predicts a differential reactive nucleotide either ex vivo or in vivo \n",
    "            dict_false_positives[protein]= dict_false_positives[protein]+1\n",
    "        \n",
    "        else:\n",
    "            #TN is a position that has NO binding site for a given protein as indicated by CLIPD,\n",
    "     #and for which diffBUM-HMM does NOT predicts a differential reactive nucleotide either ex vivo or in vivo \n",
    "            dict_true_negatives[protein]= dict_true_negatives[protein]+1\n",
    "\n",
    "print('TP' +str(dict_true_positives))\n",
    "print('FN' +str(dict_false_negatives))\n",
    "print('FP'+ str(dict_false_positives))\n",
    "print('TN' + str(dict_true_negatives))\n",
    "\n",
    "del protein\n",
    "\n",
    "#TPR = TP/(TP+FN)\n",
    "#FPR = FP/(FP+TN)\n",
    "\n",
    "dict_false_positive_rate={}\n",
    "dict_true_positive_rate={}\n",
    "\n",
    "for protein in proteins:\n",
    "    dict_false_positive_rate[protein]= 0\n",
    "    dict_true_positive_rate[protein]= 0\n",
    "\n",
    "del protein\n",
    "\n",
    "for protein in proteins:\n",
    "    \n",
    "    dict_true_positive_rate[protein]=dict_true_positives[protein]/(dict_true_positives[protein]+dict_false_negatives[protein])\n",
    "    dict_false_positive_rate[protein]= dict_false_positives[protein]/(dict_false_positives[protein]+dict_true_negatives[protein])\n",
    "\n",
    "\n",
    "print('TPR ' + str(dict_true_positive_rate))\n",
    "print('FPR ' + str(dict_false_positive_rate))\n",
    "   \n"
   ]
  }
 ],
 "metadata": {
  "kernelspec": {
   "display_name": "Python 3",
   "language": "python",
   "name": "python3"
  },
  "language_info": {
   "codemirror_mode": {
    "name": "ipython",
    "version": 3
   },
   "file_extension": ".py",
   "mimetype": "text/x-python",
   "name": "python",
   "nbconvert_exporter": "python",
   "pygments_lexer": "ipython3",
   "version": "3.7.1"
  }
 },
 "nbformat": 4,
 "nbformat_minor": 2
}
