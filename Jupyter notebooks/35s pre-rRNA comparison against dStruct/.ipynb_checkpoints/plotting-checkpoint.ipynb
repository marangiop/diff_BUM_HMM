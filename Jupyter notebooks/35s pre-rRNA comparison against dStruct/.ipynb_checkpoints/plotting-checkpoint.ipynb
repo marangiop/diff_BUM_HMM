{
 "cells": [
  {
   "cell_type": "code",
   "execution_count": 1,
   "metadata": {},
   "outputs": [],
   "source": [
    "import sys\n",
    "import pandas as pd\n",
    "import numpy as np\n",
    "import matplotlib.pyplot as plt\n",
    "from matplotlib import rcParams\n",
    "rcParams['font.family'] = 'sans-serif'\n",
    "rcParams['font.sans-serif'] = ['Arial']"
   ]
  },
  {
   "cell_type": "code",
   "execution_count": 2,
   "metadata": {},
   "outputs": [
    {
     "data": {
      "text/plain": [
       "<bound method NDFrame.head of                UM            MU\n",
       "463  1.192554e-06  2.162469e-07\n",
       "464  9.097981e-03  2.540272e-04\n",
       "465  1.966507e-07  1.006612e-08\n",
       "466  8.402390e-08  3.265770e-08\n",
       "467  1.747170e-07  2.944266e-06\n",
       "468  3.310783e-07  2.541317e-06\n",
       "469  1.991120e-36  9.707091e-47\n",
       "470  6.964975e-01  8.525482e-32\n",
       "471  1.287995e-26  6.876160e-75\n",
       "472  9.999997e-01  4.225376e-21\n",
       "473  1.000000e+00  7.217627e-17\n",
       "474  1.929894e-01  1.041113e-09\n",
       "475  1.000000e+00  3.056906e-18\n",
       "476  9.999608e-01  1.249597e-13\n",
       "477  9.999295e-01  5.762315e-22\n",
       "478  9.999886e-01  5.069134e-12>"
      ]
     },
     "execution_count": 2,
     "metadata": {},
     "output_type": "execute_result"
    }
   ],
   "source": [
    "\n",
    "#Getting region 463-478 for DIFF BUM HMM OUTPUT \n",
    "df_diff_bumhmm_output = pd.read_csv('C:/Users/maran/Desktop/diff_BUM_HMM_Project/Github/diff_BUM_HMM/35S_diffBUM_HMM_WT_vs_Erb1_diff_BUM_HMM_analysed.txt', sep=\"\\t\", header=0)\n",
    "df_diff_bumhmm_output = df_diff_bumhmm_output.iloc [462:478, 1:3]\n",
    "\n",
    "#df_diff_bumhmm_output= df_diff_bumhmm_output.iloc[0:10, :]\n",
    "\n",
    "df_diff_bumhmm_output.head"
   ]
  }
 ],
 "metadata": {
  "kernelspec": {
   "display_name": "Python 3",
   "language": "python",
   "name": "python3"
  },
  "language_info": {
   "codemirror_mode": {
    "name": "ipython",
    "version": 3
   },
   "file_extension": ".py",
   "mimetype": "text/x-python",
   "name": "python",
   "nbconvert_exporter": "python",
   "pygments_lexer": "ipython3",
   "version": "3.7.1"
  }
 },
 "nbformat": 4,
 "nbformat_minor": 2
}
