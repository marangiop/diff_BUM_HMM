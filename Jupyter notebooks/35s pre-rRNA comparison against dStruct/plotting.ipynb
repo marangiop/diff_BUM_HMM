{
 "cells": [
  {
   "cell_type": "code",
   "execution_count": 1,
   "metadata": {},
   "outputs": [],
   "source": [
    "import sys\n",
    "import pandas as pd\n",
    "import numpy as np\n",
    "import matplotlib.pyplot as plt\n",
    "from matplotlib import rcParams\n",
    "rcParams['font.family'] = 'sans-serif'\n",
    "rcParams['font.sans-serif'] = ['Arial']"
   ]
  },
  {
   "cell_type": "code",
   "execution_count": null,
   "metadata": {},
   "outputs": [],
   "source": [
    "#Getting region 463-478 for DIFF BUM HMM OUTPUT \n",
    "df_diff_bumhmm_output = pd.read_csv('C:/Users/maran/Desktop/diff_BUM_HMM_Project/Github/diff_BUM_HMM/35S_diffBUM_HMM_WT_vs_Erb1_diff_BUM_HMM_analysed.txt', sep=\"\\t\", header=0)\n",
    "df_diff_bumhmm_output = df_diff_bumhmm_output.iloc [462:478, 1:3]\n",
    "\n",
    "#df_diff_bumhmm_output= df_diff_bumhmm_output.iloc[0:10, :]\n",
    "\n",
    "df_diff_bumhmm_output.head"
   ]
  },
  {
   "cell_type": "code",
   "execution_count": null,
   "metadata": {},
   "outputs": [],
   "source": [
    "#Getting region 270-355 FOR dStruct analysis\n",
    "\n",
    "df_pea_output = pd.read_csv('C:/Users/maran/Desktop/diff_BUM_HMM_Project/Github/diff_BUM_HMM/output_dStruct_35S.txt', sep=\"\\t\", header=0)\n",
    "df_pea_output = df_pea_output.iloc[462:478, 1:3]\n",
    "df_pea_output= df_pea_output.rename_axis('positions').reset_index()\n",
    "#df_pea_output = df_pea_output.iloc[0:10, :]\n",
    "df_pea_output.head\n"
   ]
  },
  {
   "cell_type": "code",
   "execution_count": null,
   "metadata": {},
   "outputs": [],
   "source": [
    "new_df = df_pea_output.set_index('positions').join(df_diff_bumhmm_output)\n",
    "new_df.head"
   ]
  },
  {
   "cell_type": "code",
   "execution_count": null,
   "metadata": {},
   "outputs": [],
   "source": [
    "#THRESHOLDING DIFF BUM HMM OUTPUT\n",
    "new_df['UM'] = [0 if x<0.1 else x for x in new_df['UM']]\n",
    "new_df['MU'] = [0 if x<0.1 else x for x in new_df['MU']]"
   ]
  },
  {
   "cell_type": "code",
   "execution_count": null,
   "metadata": {},
   "outputs": [],
   "source": [
    "#print(new_df.columns)\n",
    "new_df = new_df[['MU', 'UM','A2','B1']]\n",
    "#print(new_df.columns)\n",
    "\n",
    "new_df.columns = ['more flexible in delta5 - DIFF BUM HMM', 'more flexible in Erb1 - DIFF BUM HMM','delta5 - dStruct', 'Erb1 - dStruct'  ]\n",
    "#print(new_df.columns)"
   ]
  },
  {
   "cell_type": "code",
   "execution_count": null,
   "metadata": {},
   "outputs": [],
   "source": [
    "new_df.head"
   ]
  },
  {
   "cell_type": "code",
   "execution_count": null,
   "metadata": {},
   "outputs": [],
   "source": [
    "with open('C:/Users/maran/Desktop/diff_BUM_HMM_Project/Github/diff_BUM_HMM/Reference sequences/35S pre-rRNA_refseq.seq', 'r') as file:\n",
    "    ref_sequence = file.read().replace('\\n', '')\n",
    "\n",
    "subsequence= []\n",
    "for i in ref_sequence[462:478]: \n",
    "    subsequence.append(i)\n",
    "    \n",
    "new_df.insert(loc=4, column='nucleotide', value=subsequence)\n",
    "\n"
   ]
  },
  {
   "cell_type": "code",
   "execution_count": null,
   "metadata": {},
   "outputs": [],
   "source": [
    "from matplotlib.ticker import LinearLocator\n",
    "\n",
    "fig,ax = plt.subplots(4,sharex=True,figsize=[40,10])\n",
    "x = new_df.index\n",
    "\n",
    "for i in range(4):\n",
    "    print(i)\n",
    "    if i == 0:\n",
    "        \n",
    "        ax[i].get_yaxis().set_major_locator(LinearLocator(numticks=5))\n",
    "        column = new_df.columns[i]\n",
    "        y = new_df[column]\n",
    "        print(y)\n",
    "        ax[i].bar(x,y)\n",
    "        ax[i].set_xticklabels(x,fontsize=16)\n",
    "        miny = 0\n",
    "        maxy = 1\n",
    "        yticks = np.arange(miny,maxy+1,0.25)\n",
    "        ax[i].set_yticklabels(yticks,fontsize=16)\n",
    "        xticks = np.arange(min(x),max(x)+1)\n",
    "        ax[i].set_xticks(xticks)\n",
    "        nucleotides = new_df['nucleotide']\n",
    "        ax[i].set_xticklabels(nucleotides)\n",
    "        ax[i].legend([column], fontsize=15)\n",
    "        ax[i].set_ylabel('diffBUM-HMM posterior probability', rotation=0, fontsize=20, labelpad=160)\n",
    "    \n",
    "    elif i == 1:\n",
    "        ax[i].get_yaxis().set_major_locator(LinearLocator(numticks=5))\n",
    "        column = new_df.columns[i]\n",
    "        y = new_df[column]\n",
    "        ax[i].bar(x,y)\n",
    "        ax[i].set_xticklabels(x,fontsize=16)\n",
    "        miny = 0\n",
    "        maxy = 1\n",
    "        yticks = np.arange(miny,maxy+1,0.25)\n",
    "        ax[i].set_yticklabels(yticks,fontsize=16)\n",
    "        xticks = np.arange(min(x),max(x)+1)\n",
    "        ax[i].set_xticks(xticks)\n",
    "        nucleotides = new_df['nucleotide']\n",
    "        ax[i].set_xticklabels(nucleotides)\n",
    "        ax[i].legend([column], fontsize=15)\n",
    "        ax[i].set_ylabel('diffBUM-HMM posterior probability', rotation=0, fontsize=20, labelpad=160)\n",
    "        \n",
    "    elif i == 2:\n",
    "        ax[i].get_yaxis().set_major_locator(LinearLocator(numticks=5))\n",
    "        column = new_df.columns[i]\n",
    "        y = new_df[column]\n",
    "        ax[i].bar(x,y)\n",
    "        ax[i].set_xticklabels(x,fontsize=16)\n",
    "        #miny = 0\n",
    "        #maxy = 1.85\n",
    "        #yticks = np.arange(miny,maxy+1,0.25)\n",
    "        yticks = [0.0, 0.45,0.90,1.35,1.80]\n",
    "        ax[i].set_yticklabels(yticks,fontsize=16)\n",
    "        xticks = np.arange(min(x),max(x)+1)\n",
    "        ax[i].set_xticks(xticks)\n",
    "        nucleotides = new_df['nucleotide']\n",
    "        ax[i].set_xticklabels(nucleotides)\n",
    "        ax[i].legend([column], fontsize=15)\n",
    "        ax[i].set_ylabel('dStruct reactivity', rotation=0, fontsize=20, labelpad=100)\n",
    "    \n",
    "    elif i == 3:\n",
    "        ax[i].get_yaxis().set_major_locator(LinearLocator(numticks=5))\n",
    "        column = new_df.columns[i]\n",
    "        y = new_df[column]\n",
    "        ax[i].bar(x,y)\n",
    "        ax[i].set_xticklabels(x,fontsize=16)\n",
    "        #miny = 0\n",
    "        #maxy = 2\n",
    "        #yticks = np.arange(miny,maxy+1,0.5)\n",
    "        yticks = [0.0, 0.35,0.70,1.05,1.40]\n",
    "        ax[i].set_yticklabels(yticks,fontsize=16)\n",
    "        xticks = np.arange(min(x),max(x)+1)\n",
    "        ax[i].set_xticks(xticks)\n",
    "        nucleotides = new_df['nucleotide']\n",
    "        ax[i].set_xticklabels(nucleotides)\n",
    "        ax[i].legend([column], fontsize=15)\n",
    "        ax[i].set_ylabel('dStruct reactivity', rotation=0, fontsize=20, labelpad=100)\n",
    "        ax[i].set_xlabel('Nucleotide (positions 463-478)', fontsize=20)\n",
    "\n",
    "\n",
    "fig.savefig(\"diff_BUM_HMM_vs_dStruct_plot_463_478_threshold__0_10.pdf\",dpi=400)   "
   ]
  },
  {
   "cell_type": "code",
   "execution_count": null,
   "metadata": {},
   "outputs": [],
   "source": []
  },
  {
   "cell_type": "code",
   "execution_count": 2,
   "metadata": {},
   "outputs": [
    {
     "data": {
      "text/plain": [
       "<bound method NDFrame.head of                 UM            MU\n",
       "2453  9.999985e-01  5.338122e-13\n",
       "2454  2.250831e-05  1.282069e-09\n",
       "2455  2.012784e-09  7.422770e-10\n",
       "2456  1.197916e-07  5.587280e-08\n",
       "2457  7.743780e-14  4.157008e-58\n",
       "2458  1.373164e-02  1.417819e-07\n",
       "2459  9.999996e-01  8.062083e-15\n",
       "2460  9.999998e-01  1.526688e-15\n",
       "2461  5.534128e-01  1.522266e-08\n",
       "2462  9.534635e-01  3.689236e-07\n",
       "2463  2.879200e-01  1.662452e-15>"
      ]
     },
     "execution_count": 2,
     "metadata": {},
     "output_type": "execute_result"
    }
   ],
   "source": [
    "#Getting region 2453-2463 for DIFF BUM HMM OUTPUT \n",
    "df_diff_bumhmm_output = pd.read_csv('C:/Users/maran/Desktop/diff_BUM_HMM_Project/Github/diff_BUM_HMM/35S_diffBUM_HMM_WT_vs_Erb1_diff_BUM_HMM_analysed.txt', sep=\"\\t\", header=0)\n",
    "df_diff_bumhmm_output = df_diff_bumhmm_output.iloc [2452:2463, 1:3]\n",
    "\n",
    "#df_diff_bumhmm_output= df_diff_bumhmm_output.iloc[0:10, :]\n",
    "\n",
    "df_diff_bumhmm_output.head"
   ]
  },
  {
   "cell_type": "code",
   "execution_count": 3,
   "metadata": {},
   "outputs": [
    {
     "data": {
      "text/plain": [
       "<bound method NDFrame.head of     positions        A2        B1\n",
       "0        2453  0.064586  0.651792\n",
       "1        2454  0.502840  2.784255\n",
       "2        2455  0.705714  2.658357\n",
       "3        2456  0.556058  2.236010\n",
       "4        2457  0.000000  0.382789\n",
       "5        2458  0.196682  0.964443\n",
       "6        2459  0.152811  1.638087\n",
       "7        2460  0.526702  2.830499\n",
       "8        2461  1.778731  3.973530\n",
       "9        2462  1.535468  2.198137\n",
       "10       2463  0.175083  0.709611>"
      ]
     },
     "execution_count": 3,
     "metadata": {},
     "output_type": "execute_result"
    }
   ],
   "source": [
    "#Getting region 2453-2463 FOR dStruct analysis\n",
    "\n",
    "df_pea_output = pd.read_csv('C:/Users/maran/Desktop/diff_BUM_HMM_Project/Github/diff_BUM_HMM/output_dStruct_35S.txt', sep=\"\\t\", header=0)\n",
    "df_pea_output = df_pea_output.iloc[2452:2463, 1:3]\n",
    "df_pea_output= df_pea_output.rename_axis('positions').reset_index()\n",
    "#df_pea_output = df_pea_output.iloc[0:10, :]\n",
    "df_pea_output.head\n"
   ]
  },
  {
   "cell_type": "code",
   "execution_count": 4,
   "metadata": {},
   "outputs": [
    {
     "data": {
      "text/plain": [
       "<bound method NDFrame.head of                  A2        B1            UM            MU\n",
       "positions                                                \n",
       "2453       0.064586  0.651792  9.999985e-01  5.338122e-13\n",
       "2454       0.502840  2.784255  2.250831e-05  1.282069e-09\n",
       "2455       0.705714  2.658357  2.012784e-09  7.422770e-10\n",
       "2456       0.556058  2.236010  1.197916e-07  5.587280e-08\n",
       "2457       0.000000  0.382789  7.743780e-14  4.157008e-58\n",
       "2458       0.196682  0.964443  1.373164e-02  1.417819e-07\n",
       "2459       0.152811  1.638087  9.999996e-01  8.062083e-15\n",
       "2460       0.526702  2.830499  9.999998e-01  1.526688e-15\n",
       "2461       1.778731  3.973530  5.534128e-01  1.522266e-08\n",
       "2462       1.535468  2.198137  9.534635e-01  3.689236e-07\n",
       "2463       0.175083  0.709611  2.879200e-01  1.662452e-15>"
      ]
     },
     "execution_count": 4,
     "metadata": {},
     "output_type": "execute_result"
    }
   ],
   "source": [
    "new_df = df_pea_output.set_index('positions').join(df_diff_bumhmm_output)\n",
    "new_df.head"
   ]
  },
  {
   "cell_type": "code",
   "execution_count": 5,
   "metadata": {},
   "outputs": [],
   "source": [
    "#THRESHOLDING DIFF BUM HMM OUTPUT\n",
    "new_df['UM'] = [0 if x<0.10 else x for x in new_df['UM']]\n",
    "new_df['MU'] = [0 if x<0.10 else x for x in new_df['MU']]"
   ]
  },
  {
   "cell_type": "code",
   "execution_count": 6,
   "metadata": {},
   "outputs": [],
   "source": [
    "#print(new_df.columns)\n",
    "new_df = new_df[['MU', 'UM','A2','B1']]\n",
    "#print(new_df.columns)\n",
    "\n",
    "new_df.columns = ['more flexible in delta5 - DIFF BUM HMM', 'more flexible in Erb1 - DIFF BUM HMM','delta5 - dStruct', 'Erb1 - dStruct'  ]\n",
    "#print(new_df.columns)"
   ]
  },
  {
   "cell_type": "code",
   "execution_count": 7,
   "metadata": {},
   "outputs": [],
   "source": [
    "with open('C:/Users/maran/Desktop/diff_BUM_HMM_Project/Github/diff_BUM_HMM/Reference sequences/35S pre-rRNA_refseq.seq', 'r') as file:\n",
    "    ref_sequence = file.read().replace('\\n', '')\n",
    "\n",
    "subsequence= []\n",
    "for i in ref_sequence[2452:2463]: \n",
    "    subsequence.append(i)\n",
    "    \n",
    "new_df.insert(loc=4, column='nucleotide', value=subsequence)\n",
    "\n"
   ]
  },
  {
   "cell_type": "code",
   "execution_count": 8,
   "metadata": {},
   "outputs": [
    {
     "name": "stdout",
     "output_type": "stream",
     "text": [
      "0\n",
      "1\n",
      "2\n",
      "3\n"
     ]
    },
    {
     "data": {
      "image/png": "[encoded data removed]",
      "text/plain": [
       "<Figure size 2880x720 with 4 Axes>"
      ]
     },
     "metadata": {
      "needs_background": "light"
     },
     "output_type": "display_data"
    }
   ],
   "source": [
    "from matplotlib.ticker import LinearLocator\n",
    "\n",
    "fig,ax = plt.subplots(4,sharex=True,figsize=[40,10])\n",
    "x = new_df.index\n",
    "\n",
    "for i in range(4):\n",
    "    print(i)\n",
    "    if i == 0:\n",
    "        ax[i].get_yaxis().set_major_locator(LinearLocator(numticks=5))\n",
    "        column = new_df.columns[i]\n",
    "        y = new_df[column]\n",
    "        ax[i].bar(x,y)\n",
    "        ax[i].set_xticklabels(x,fontsize=16)\n",
    "        miny = 0\n",
    "        maxy = 1\n",
    "        yticks = np.arange(miny,maxy+1,0.25)\n",
    "        ax[i].set_yticklabels(yticks,fontsize=16)\n",
    "        xticks = np.arange(min(x),max(x)+1)\n",
    "        ax[i].set_xticks(xticks)\n",
    "        nucleotides = new_df['nucleotide']\n",
    "        ax[i].set_xticklabels(nucleotides)\n",
    "        ax[i].legend([column], fontsize=15)\n",
    "        ax[i].set_ylabel('diffBUM-HMM posterior probability', rotation=0, fontsize=20, labelpad=160)\n",
    "    \n",
    "    elif i == 1:\n",
    "        ax[i].get_yaxis().set_major_locator(LinearLocator(numticks=5))\n",
    "        column = new_df.columns[i]\n",
    "        y = new_df[column]\n",
    "        ax[i].bar(x,y)\n",
    "        ax[i].set_xticklabels(x,fontsize=16)\n",
    "        miny = 0\n",
    "        maxy = 1\n",
    "        yticks = np.arange(miny,maxy+1,0.25)\n",
    "        ax[i].set_yticklabels(yticks,fontsize=16)\n",
    "        xticks = np.arange(min(x),max(x)+1)\n",
    "        ax[i].set_xticks(xticks)\n",
    "        nucleotides = new_df['nucleotide']\n",
    "        ax[i].set_xticklabels(nucleotides)\n",
    "        ax[i].legend([column], fontsize=12)\n",
    "        ax[i].set_ylabel('diffBUM-HMM posterior probability', rotation=0, fontsize=20, labelpad=160)\n",
    "        \n",
    "    elif i == 2:\n",
    "        ax[i].get_yaxis().set_major_locator(LinearLocator(numticks=5))\n",
    "        column = new_df.columns[i]\n",
    "        y = new_df[column]\n",
    "        ax[i].bar(x,y)\n",
    "        ax[i].set_xticklabels(x,fontsize=16)\n",
    "        #miny = 0\n",
    "        #maxy = 1.85\n",
    "        #yticks = np.arange(miny,maxy+1,0.25)\n",
    "        yticks = [0.0, 0.45,0.90,1.35,1.80]\n",
    "        ax[i].set_yticklabels(yticks,fontsize=16)\n",
    "        xticks = np.arange(min(x),max(x)+1)\n",
    "        ax[i].set_xticks(xticks)\n",
    "        nucleotides = new_df['nucleotide']\n",
    "        ax[i].set_xticklabels(nucleotides)\n",
    "        ax[i].legend([column], fontsize=15)\n",
    "        ax[i].set_ylabel('dStruct reactivity', rotation=0, fontsize=20, labelpad=100)\n",
    "    \n",
    "    elif i == 3:\n",
    "        ax[i].get_yaxis().set_major_locator(LinearLocator(numticks=5))\n",
    "        column = new_df.columns[i]\n",
    "        y = new_df[column]\n",
    "        ax[i].bar(x,y)\n",
    "        ax[i].set_xticklabels(x,fontsize=16)\n",
    "        #miny = 0\n",
    "        #maxy = 2\n",
    "        #yticks = np.arange(miny,maxy+1,0.5)\n",
    "        yticks = [0.0, 0.9,1.8,2.7,3.60]\n",
    "        ax[i].set_yticklabels(yticks,fontsize=16)\n",
    "        xticks = np.arange(min(x),max(x)+1)\n",
    "        ax[i].set_xticks(xticks)\n",
    "        nucleotides = new_df['nucleotide']\n",
    "        ax[i].set_xticklabels(nucleotides)\n",
    "        ax[i].legend([column], fontsize=15)\n",
    "        ax[i].set_ylabel('dStruct reactivity', rotation=0, fontsize=20, labelpad=100)\n",
    "        ax[i].set_xlabel('Nucleotide (positions 2453-2463)', fontsize=20)\n",
    "\n",
    "\n",
    "fig.savefig(\"diff_BUM_HMM_vs_dStruct_plot_2453_2463_0_10_threshold.pdf\",dpi=400)   "
   ]
  }
 ],
 "metadata": {
  "kernelspec": {
   "display_name": "Python 3",
   "language": "python",
   "name": "python3"
  },
  "language_info": {
   "codemirror_mode": {
    "name": "ipython",
    "version": 3
   },
   "file_extension": ".py",
   "mimetype": "text/x-python",
   "name": "python",
   "nbconvert_exporter": "python",
   "pygments_lexer": "ipython3",
   "version": "3.7.1"
  }
 },
 "nbformat": 4,
 "nbformat_minor": 2
}
