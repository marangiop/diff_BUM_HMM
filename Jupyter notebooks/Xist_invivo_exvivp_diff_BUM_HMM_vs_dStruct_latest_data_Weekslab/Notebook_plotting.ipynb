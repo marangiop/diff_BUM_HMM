{
 "cells": [
  {
   "cell_type": "code",
   "execution_count": 1,
   "metadata": {},
   "outputs": [],
   "source": [
    "import sys\n",
    "import pandas as pd\n",
    "import numpy as np\n",
    "import matplotlib.pyplot as plt\n",
    "from matplotlib import rcParams\n",
    "rcParams['font.family'] = 'sans-serif'\n",
    "rcParams['font.sans-serif'] = ['Arial']"
   ]
  },
  {
   "cell_type": "code",
   "execution_count": 2,
   "metadata": {},
   "outputs": [],
   "source": [
    "#REGIONS OF INTEREST BASED ON dStruct\n",
    "#Start\tStop\tpval\tFDR\n",
    "#1113\t1132\t0.000604629516601562\t0.381496031628333\n",
    "#9889\t9902\t0.0008544921875\t0.381496031628333\n",
    "#10051\t10061\t0.0009765625\t0.381496031628333\n",
    "#16082\t16098\t0.00014495849609375\t0.317024230957031\n",
    "#17031\t17047\t0.00104662834465935\t0.381496031628333\n",
    "#17741\t17751\t0.0009765625\t0.381496031628333"
   ]
  },
  {
   "cell_type": "code",
   "execution_count": 3,
   "metadata": {},
   "outputs": [
    {
     "data": {
      "text/plain": [
       "<bound method NDFrame.head of                  UM            MU\n",
       "16082  2.015341e-11  2.778370e-22\n",
       "16083  1.809466e-30  7.090855e-35\n",
       "16084  9.309652e-14  1.503866e-16\n",
       "16085  9.144186e-40  6.062040e-28\n",
       "16086  8.960614e-28  9.753335e-29\n",
       "16087  5.205579e-36  8.845232e-29\n",
       "16088  5.405124e-29  1.033709e-40\n",
       "16089  2.433699e-28  7.344147e-29\n",
       "16090  7.941859e-22  5.659064e-18\n",
       "16091  1.283024e-14  1.748755e-15\n",
       "16092  2.283159e-39  9.398121e-34\n",
       "16093  1.140692e-08  5.845161e-10\n",
       "16094  3.034225e-16  1.747166e-23\n",
       "16095  1.975800e-44  6.608289e-34\n",
       "16096  4.596604e-27  5.249467e-31\n",
       "16097  1.786026e-27  2.508572e-30\n",
       "16098  1.692743e-40  5.958146e-20>"
      ]
     },
     "execution_count": 3,
     "metadata": {},
     "output_type": "execute_result"
    }
   ],
   "source": [
    "#Getting region 16082\t16098 for DIFF BUM HMM OUTPUT \n",
    "df_diff_bumhmm_output = pd.read_csv('C:/Users/maran/Desktop/diff_BUM_HMM_Project/Github/diff_BUM_HMM/Xist_in vivo_vs_ex vivo_new_data_october_diff_BUM_HMM_analysed.txt', sep=\"\\t\", header=0)\n",
    "df_diff_bumhmm_output = df_diff_bumhmm_output.iloc [16081:16098, 1:3]\n",
    "\n",
    "#df_diff_bumhmm_output= df_diff_bumhmm_output.iloc[0:10, :]\n",
    "\n",
    "df_diff_bumhmm_output.head"
   ]
  },
  {
   "cell_type": "code",
   "execution_count": 4,
   "metadata": {},
   "outputs": [
    {
     "data": {
      "text/plain": [
       "<bound method NDFrame.head of     positions        A2        B1\n",
       "0       16082  0.000000  0.104781\n",
       "1       16083  1.333134  0.866639\n",
       "2       16084  0.524476  0.289116\n",
       "3       16085  0.000000  0.072807\n",
       "4       16086  0.000000  0.181925\n",
       "5       16087  0.159078  0.130052\n",
       "6       16088  0.043348  0.227361\n",
       "7       16089  0.000000  0.263776\n",
       "8       16090  0.086021  0.422255\n",
       "9       16091  0.224042  0.031939\n",
       "10      16092  0.766678  0.757222\n",
       "11      16093  0.855428  0.024680\n",
       "12      16094  0.000000  0.152060\n",
       "13      16095  0.265450  0.618169\n",
       "14      16096  3.019725  1.667177\n",
       "15      16097  0.154910  0.065857\n",
       "16      16098  0.270982  0.372445>"
      ]
     },
     "execution_count": 4,
     "metadata": {},
     "output_type": "execute_result"
    }
   ],
   "source": [
    "#Getting region 16082\t16098 FOR dStruct analysis\n",
    "\n",
    "df_pea_output = pd.read_csv('C:/Users/maran/Desktop/diff_BUM_HMM_Project/Github/diff_BUM_HMM/output_dStruct_Xist_new_data_reac_table.txt', sep=\"\\t\", header=0)\n",
    "df_pea_output = df_pea_output.iloc[16081:16098, 1:3]\n",
    "df_pea_output= df_pea_output.rename_axis('positions').reset_index()\n",
    "#df_pea_output = df_pea_output.iloc[0:10, :]\n",
    "df_pea_output.head"
   ]
  },
  {
   "cell_type": "code",
   "execution_count": 5,
   "metadata": {},
   "outputs": [
    {
     "data": {
      "text/plain": [
       "<bound method NDFrame.head of                  A2        B1            UM            MU\n",
       "positions                                                \n",
       "16082      0.000000  0.104781  2.015341e-11  2.778370e-22\n",
       "16083      1.333134  0.866639  1.809466e-30  7.090855e-35\n",
       "16084      0.524476  0.289116  9.309652e-14  1.503866e-16\n",
       "16085      0.000000  0.072807  9.144186e-40  6.062040e-28\n",
       "16086      0.000000  0.181925  8.960614e-28  9.753335e-29\n",
       "16087      0.159078  0.130052  5.205579e-36  8.845232e-29\n",
       "16088      0.043348  0.227361  5.405124e-29  1.033709e-40\n",
       "16089      0.000000  0.263776  2.433699e-28  7.344147e-29\n",
       "16090      0.086021  0.422255  7.941859e-22  5.659064e-18\n",
       "16091      0.224042  0.031939  1.283024e-14  1.748755e-15\n",
       "16092      0.766678  0.757222  2.283159e-39  9.398121e-34\n",
       "16093      0.855428  0.024680  1.140692e-08  5.845161e-10\n",
       "16094      0.000000  0.152060  3.034225e-16  1.747166e-23\n",
       "16095      0.265450  0.618169  1.975800e-44  6.608289e-34\n",
       "16096      3.019725  1.667177  4.596604e-27  5.249467e-31\n",
       "16097      0.154910  0.065857  1.786026e-27  2.508572e-30\n",
       "16098      0.270982  0.372445  1.692743e-40  5.958146e-20>"
      ]
     },
     "execution_count": 5,
     "metadata": {},
     "output_type": "execute_result"
    }
   ],
   "source": [
    "new_df = df_pea_output.set_index('positions').join(df_diff_bumhmm_output)\n",
    "new_df.head"
   ]
  },
  {
   "cell_type": "code",
   "execution_count": 6,
   "metadata": {},
   "outputs": [],
   "source": [
    "#THRESHOLDING DIFF BUM HMM OUTPUT\n",
    "new_df['UM'] = [0 if x<0.1 else x for x in new_df['UM']]\n",
    "new_df['MU'] = [0 if x<0.1 else x for x in new_df['MU']]"
   ]
  },
  {
   "cell_type": "code",
   "execution_count": 7,
   "metadata": {},
   "outputs": [],
   "source": [
    "#print(new_df.columns)\n",
    "new_df = new_df[['MU', 'UM','A2','B1']]\n",
    "#print(new_df.columns)\n",
    "\n",
    "new_df.columns = ['more flexible in cell - DIFF BUM HMM', 'more flexible ex vivo - DIFF BUM HMM','in cell - dStruct', 'ex vivo - dStruct'  ]\n",
    "#print(new_df.columns)"
   ]
  },
  {
   "cell_type": "code",
   "execution_count": 8,
   "metadata": {},
   "outputs": [],
   "source": [
    "with open('C:/Users/maran/Desktop/diff_BUM_HMM_Project/Github/diff_BUM_HMM/Reference sequences/Xist.seq', 'r') as file:\n",
    "    ref_sequence = file.read().replace('\\n', '')\n",
    "\n",
    "subsequence= []\n",
    "for i in ref_sequence[16081:16098]: \n",
    "    subsequence.append(i)\n",
    "    \n",
    "new_df.insert(loc=4, column='nucleotide', value=subsequence)\n"
   ]
  },
  {
   "cell_type": "code",
   "execution_count": null,
   "metadata": {},
   "outputs": [],
   "source": [
    "\n",
    "\n"
   ]
  },
  {
   "cell_type": "code",
   "execution_count": 19,
   "metadata": {},
   "outputs": [
    {
     "name": "stdout",
     "output_type": "stream",
     "text": [
      "0\n",
      "positions\n",
      "16082    0\n",
      "16083    0\n",
      "16084    0\n",
      "16085    0\n",
      "16086    0\n",
      "16087    0\n",
      "16088    0\n",
      "16089    0\n",
      "16090    0\n",
      "16091    0\n",
      "16092    0\n",
      "16093    0\n",
      "16094    0\n",
      "16095    0\n",
      "16096    0\n",
      "16097    0\n",
      "16098    0\n",
      "Name: more flexible in cell - DIFF BUM HMM, dtype: int64\n",
      "1\n",
      "positions\n",
      "16082    0\n",
      "16083    0\n",
      "16084    0\n",
      "16085    0\n",
      "16086    0\n",
      "16087    0\n",
      "16088    0\n",
      "16089    0\n",
      "16090    0\n",
      "16091    0\n",
      "16092    0\n",
      "16093    0\n",
      "16094    0\n",
      "16095    0\n",
      "16096    0\n",
      "16097    0\n",
      "16098    0\n",
      "Name: more flexible ex vivo - DIFF BUM HMM, dtype: int64\n",
      "2\n",
      "positions\n",
      "16082    0.000000\n",
      "16083    1.333134\n",
      "16084    0.524476\n",
      "16085    0.000000\n",
      "16086    0.000000\n",
      "16087    0.159078\n",
      "16088    0.043348\n",
      "16089    0.000000\n",
      "16090    0.086021\n",
      "16091    0.224042\n",
      "16092    0.766678\n",
      "16093    0.855428\n",
      "16094    0.000000\n",
      "16095    0.265450\n",
      "16096    3.019725\n",
      "16097    0.154910\n",
      "16098    0.270982\n",
      "Name: in cell - dStruct, dtype: float64\n",
      "3\n",
      "Before normalization\n",
      "positions\n",
      "16082    0.104781\n",
      "16083    0.866639\n",
      "16084    0.289116\n",
      "16085    0.072807\n",
      "16086    0.181925\n",
      "16087    0.130052\n",
      "16088    0.227361\n",
      "16089    0.263776\n",
      "16090    0.422255\n",
      "16091    0.031939\n",
      "16092    0.757222\n",
      "16093    0.024680\n",
      "16094    0.152060\n",
      "16095    0.618169\n",
      "16096    1.667177\n",
      "16097    0.065857\n",
      "16098    0.372445\n",
      "Name: ex vivo - dStruct, dtype: float64\n"
     ]
    },
    {
     "data": {
      "image/png": "[encoded data removed]",
      "text/plain": [
       "<Figure size 2880x720 with 4 Axes>"
      ]
     },
     "metadata": {
      "needs_background": "light"
     },
     "output_type": "display_data"
    }
   ],
   "source": [
    "from matplotlib.ticker import LinearLocator\n",
    "\n",
    "fig,ax = plt.subplots(4,sharex=True,figsize=[40,10])\n",
    "x = new_df.index\n",
    "\n",
    "for i in range(4):\n",
    "    print(i)\n",
    "    if i == 0:\n",
    "        \n",
    "        ax[i].get_yaxis().set_major_locator(LinearLocator(numticks=5))\n",
    "        column = new_df.columns[i]\n",
    "        y = new_df[column]\n",
    "        print(y)\n",
    "        ax[i].bar(x,y)\n",
    "        ax[i].set_xticklabels(x,fontsize=16)\n",
    "        miny = 0\n",
    "        maxy = 1\n",
    "        yticks = np.arange(miny,maxy+1,0.25)\n",
    "        ax[i].set_yticklabels(yticks,fontsize=16)\n",
    "        xticks = np.arange(min(x),max(x)+1)\n",
    "        ax[i].set_xticks(xticks)\n",
    "        nucleotides = new_df['nucleotide']\n",
    "        ax[i].set_xticklabels(nucleotides)\n",
    "        ax[i].legend([column], fontsize=15)\n",
    "        ax[i].set_ylabel('diffBUM-HMM posterior probability', rotation=0, fontsize=20, labelpad=160)\n",
    "    \n",
    "    elif i == 1:\n",
    "        ax[i].get_yaxis().set_major_locator(LinearLocator(numticks=5))\n",
    "        column = new_df.columns[i]\n",
    "        y = new_df[column]\n",
    "        print(y)\n",
    "        ax[i].bar(x,y)\n",
    "        ax[i].set_xticklabels(x,fontsize=16)\n",
    "        miny = 0\n",
    "        maxy = 1\n",
    "        yticks = np.arange(miny,maxy+1,0.25)\n",
    "        ax[i].set_yticklabels(yticks,fontsize=16)\n",
    "        xticks = np.arange(min(x),max(x)+1)\n",
    "        ax[i].set_xticks(xticks)\n",
    "        nucleotides = new_df['nucleotide']\n",
    "        ax[i].set_xticklabels(nucleotides)\n",
    "        ax[i].legend([column], fontsize=15)\n",
    "        ax[i].set_ylabel('diffBUM-HMM posterior probability', rotation=0, fontsize=20, labelpad=160)\n",
    "        \n",
    "    elif i == 2:\n",
    "        ax[i].get_yaxis().set_major_locator(LinearLocator(numticks=5))\n",
    "        column = new_df.columns[i]\n",
    "        y = new_df[column]\n",
    "        print(y)\n",
    "        ax[i].bar(x,y)\n",
    "        ax[i].set_xticklabels(x,fontsize=16)\n",
    "        #miny = 0\n",
    "        #maxy = 3\n",
    "        #yticks = np.arange(miny,maxy+1,0.25)\n",
    "        \n",
    "        yticks = [0.0, 0.75,1.5,2.25,3.0]\n",
    "        \n",
    "        ax[i].set_yticklabels(yticks,fontsize=16)\n",
    "        xticks = np.arange(min(x),max(x)+1)\n",
    "        ax[i].set_xticks(xticks)\n",
    "        nucleotides = new_df['nucleotide']\n",
    "        ax[i].set_xticklabels(nucleotides)\n",
    "        ax[i].legend([column], fontsize=15)\n",
    "        ax[i].set_ylabel('dStruct reactivity', rotation=0, fontsize=20, labelpad=100)\n",
    "    \n",
    "    elif i == 3:\n",
    "        ax[i].get_yaxis().set_major_locator(LinearLocator(numticks=5))\n",
    "        column = new_df.columns[i]\n",
    "        y = new_df[column]\n",
    "        print('Before normalization')\n",
    "        print(y)\n",
    "        ax[i].bar(x,y)\n",
    "        ax[i].set_xticklabels(x,fontsize=16)\n",
    "   \n",
    "        #This allows to normalize the plot in the same range as the one above \n",
    "    \n",
    "        ax[i].set_ylim([0, 3.019725])\n",
    "\n",
    "        ax[i].set_yticklabels(yticks,fontsize=16)\n",
    "        xticks = np.arange(min(x),max(x)+1)\n",
    "        ax[i].set_xticks(xticks)\n",
    "        nucleotides = new_df['nucleotide']\n",
    "        ax[i].set_xticklabels(nucleotides)\n",
    "        ax[i].legend([column], fontsize=15)\n",
    "        ax[i].set_ylabel('dStruct reactivity', rotation=0, fontsize=20, labelpad=100)\n",
    "        ax[i].set_xlabel('Nucleotide (positions 16082-16098)', fontsize=20)\n",
    "\n",
    "\n",
    "fig.savefig(\"diff_BUM_HMM_vs_dStruct_plot_Xist_16082_16098_threshold_0_10.pdf\",dpi=400)   "
   ]
  }
 ],
 "metadata": {
  "kernelspec": {
   "display_name": "Python 3",
   "language": "python",
   "name": "python3"
  },
  "language_info": {
   "codemirror_mode": {
    "name": "ipython",
    "version": 3
   },
   "file_extension": ".py",
   "mimetype": "text/x-python",
   "name": "python",
   "nbconvert_exporter": "python",
   "pygments_lexer": "ipython3",
   "version": "3.7.1"
  }
 },
 "nbformat": 4,
 "nbformat_minor": 2
}
